{
 "cells": [
  {
   "cell_type": "markdown",
   "metadata": {},
   "source": [
    "# Setting up"
   ]
  },
  {
   "cell_type": "code",
   "execution_count": 1,
   "metadata": {
    "ExecuteTime": {
     "end_time": "2019-09-15T06:00:22.143522Z",
     "start_time": "2019-09-15T06:00:19.968525Z"
    }
   },
   "outputs": [],
   "source": [
    "import pandas as pd\n",
    "import numpy as np\n",
    "import matplotlib.pyplot as plt\n",
    "import seaborn as sns\n",
    "# from fastai import *\n",
    "# from fastai.tabular import *\n",
    "from sklearn.ensemble import RandomForestRegressor\n",
    "from rolling import RollingWindowSplit\n",
    "from sklearn.metrics import r2_score as r2d2\n",
    "from joblib import dump, load\n",
    "\n",
    "%matplotlib inline\n",
    "sns.set(style = \"whitegrid\")\n",
    "pd.set_option('display.max_columns', 500)\n",
    "pd.set_option('display.max_rows', 100)"
   ]
  },
  {
   "cell_type": "code",
   "execution_count": null,
   "metadata": {},
   "outputs": [],
   "source": [
    "# %%time\n",
    "# path = 'D://Coding//XTX Forecasting Challenge//data-training.csv'\n",
    "# df = pd.read_csv(path)"
   ]
  },
  {
   "cell_type": "code",
   "execution_count": null,
   "metadata": {
    "ExecuteTime": {
     "end_time": "2019-09-13T15:53:03.140457Z",
     "start_time": "2019-09-13T15:52:55.951312Z"
    }
   },
   "outputs": [],
   "source": [
    "path = 'D://Coding//XTX Forecasting Challenge//data-training.file'\n",
    "df = pd.read_feather(path, use_threads=8)\n",
    "df = df.astype('float32')"
   ]
  },
  {
   "cell_type": "markdown",
   "metadata": {},
   "source": [
    "# Exploratory Data Analysis"
   ]
  },
  {
   "cell_type": "code",
   "execution_count": null,
   "metadata": {
    "ExecuteTime": {
     "end_time": "2019-09-14T03:56:30.259562Z",
     "start_time": "2019-09-14T03:56:30.254563Z"
    }
   },
   "outputs": [],
   "source": [
    "# # Figuring out what [y] is\n",
    "# # y(t) is midRate(t+87) - midRate(t), clipped to (-5.5)\n",
    "# df['expectedY'] = df.midRate.diff(87).shift(-87).clip(-5,5)"
   ]
  },
  {
   "cell_type": "markdown",
   "metadata": {},
   "source": [
    "# Feature engineering"
   ]
  },
  {
   "cell_type": "markdown",
   "metadata": {},
   "source": [
    "### Basics"
   ]
  },
  {
   "cell_type": "code",
   "execution_count": null,
   "metadata": {
    "ExecuteTime": {
     "end_time": "2019-09-15T03:22:24.598915Z",
     "start_time": "2019-09-15T03:22:24.592910Z"
    }
   },
   "outputs": [],
   "source": [
    "bidSizeList = ['bidSize' + str(i) for i in range(0,15)]\n",
    "askSizeList = ['askSize' + str(i) for i in range(0,15)]\n",
    "bidRateList = ['bidRate' + str(i) for i in range(0,15)]\n",
    "askRateList = ['askRate' + str(i) for i in range(0,15)]"
   ]
  },
  {
   "cell_type": "code",
   "execution_count": null,
   "metadata": {
    "ExecuteTime": {
     "end_time": "2019-09-12T10:20:31.718546Z",
     "start_time": "2019-09-12T10:20:31.136524Z"
    }
   },
   "outputs": [],
   "source": [
    "df.fillna(0, inplace=True)\n",
    "df['spread'] = df.askRate0 - df.bidRate0\n",
    "df['midRate'] = (df.askRate0 + df.bidRate0) / 2\n",
    "\n",
    "df['totalBidVol1'] = df.bidSize0 + df.bidSize1\n",
    "df['totalAskVol1'] = df.askSize0 + df.askSize1\n",
    "for i in range(2,15):\n",
    "    df['totalBidVol' + str(i)] = df['totalBidVol' + str(i-1)] + df['bidSize' + str(i)]\n",
    "    df['totalAskVol' + str(i)] = df['totalAskVol' + str(i-1)] + df['askSize' + str(i)]\n",
    "for i in range(1,15):\n",
    "    df['bidAskRatio' + str(i)] = df['totalBidVol' + str(i)] / df['totalAskVol' + str(i)]\n",
    "df['totalAvailVol'] = df.totalBidVol14 + df.totalAskVol14"
   ]
  },
  {
   "cell_type": "code",
   "execution_count": null,
   "metadata": {
    "ExecuteTime": {
     "end_time": "2019-09-12T10:20:40.573451Z",
     "start_time": "2019-09-12T10:20:34.278453Z"
    }
   },
   "outputs": [],
   "source": [
    "df['vwaBid'] = np.einsum('ij,ji->i', df[bidRateList], df[bidSizeList].T) / df[bidSizeList].sum(axis=1)\n",
    "df['vwaAsk'] = np.einsum('ij,ji->i', df[askRateList], df[askSizeList].T) / df[askSizeList].sum(axis=1)\n",
    "df['vwaBidDMid'] = df.midRate - df.vwaBid\n",
    "df['vwaAskDMid'] = df.vwaAsk - df.midRate\n",
    "df['diff_vwaBidAskDMid'] = df.vwaAskDMid - df.vwaBidDMid"
   ]
  },
  {
   "cell_type": "markdown",
   "metadata": {},
   "source": [
    "# Ideas from papers"
   ]
  },
  {
   "cell_type": "code",
   "execution_count": null,
   "metadata": {
    "ExecuteTime": {
     "end_time": "2019-09-12T10:20:45.643265Z",
     "start_time": "2019-09-12T10:20:45.607265Z"
    }
   },
   "outputs": [],
   "source": [
    "# Volume Order Imbalance\n",
    "b1, a1 = (df.bidRate0 < df.bidRate0.shift(-1)), (df.askRate0 < df.askRate0.shift(-1))\n",
    "b2, a2 = (df.bidRate0 == df.bidRate0.shift(-1)), (df.askRate0 == df.askRate0.shift(-1))\n",
    "valsB, valsA = [0, (df.bidSize0 - df.bidSize0.shift(-1))], [0, (df.askSize0 - df.askSize0.shift(-1))]\n",
    "defaultB, defaultA = df.bidSize0, df.askSize0\n",
    "df['deltaVBid'] = np.select([b1,b2], valsB, default=defaultB)\n",
    "df['deltaVAsk'] = np.select([a1,a2], valsA, default=defaultA)\n",
    "df['VOI'] = df.deltaVBid - df.deltaVAsk\n",
    "\n",
    "# Order Imbalance Ratio: when OIR is small, suggests that signal from VOI is weak\n",
    "df['OIR'] = (df.bidSize0 - df.askSize0)/(df.bidSize0 + df.askSize0)"
   ]
  },
  {
   "cell_type": "code",
   "execution_count": null,
   "metadata": {
    "ExecuteTime": {
     "end_time": "2019-09-12T10:20:49.824610Z",
     "start_time": "2019-09-12T10:20:47.151601Z"
    }
   },
   "outputs": [],
   "source": [
    "df.to_feather('intermediate.file')"
   ]
  },
  {
   "cell_type": "code",
   "execution_count": null,
   "metadata": {
    "ExecuteTime": {
     "end_time": "2019-09-15T05:20:46.033167Z",
     "start_time": "2019-09-15T05:20:39.601799Z"
    }
   },
   "outputs": [],
   "source": [
    "df = pd.read_feather('intermediate.file')"
   ]
  },
  {
   "cell_type": "markdown",
   "metadata": {},
   "source": [
    "# TA"
   ]
  },
  {
   "cell_type": "markdown",
   "metadata": {},
   "source": [
    "#### Manual time features"
   ]
  },
  {
   "cell_type": "code",
   "execution_count": null,
   "metadata": {
    "ExecuteTime": {
     "end_time": "2019-09-15T05:20:55.458965Z",
     "start_time": "2019-09-15T05:20:49.052459Z"
    },
    "scrolled": true
   },
   "outputs": [],
   "source": [
    "# adding time-related features\n",
    "lags = [*np.arange(1,10), *np.arange(10,100,10), *np.arange(100,1000,100)]\n",
    "def addTimeFeatures(i):\n",
    "    df['daskRate' + str(i)] = df.askRate0.diff(i)\n",
    "    df['dbidRate' + str(i)] = df.bidRate0.diff(i)\n",
    "for i in lags:\n",
    "    addTimeFeatures(i)\n",
    "df.fillna(0, inplace=True)"
   ]
  },
  {
   "cell_type": "markdown",
   "metadata": {},
   "source": [
    "#### Tick chart version with ffill"
   ]
  },
  {
   "cell_type": "code",
   "execution_count": null,
   "metadata": {
    "ExecuteTime": {
     "end_time": "2019-09-15T05:20:55.921966Z",
     "start_time": "2019-09-15T05:20:55.461967Z"
    }
   },
   "outputs": [],
   "source": [
    "df['time'] = pd.date_range(start='1/1/1970', periods=2999999, freq='T')\n",
    "df.set_index('time', inplace=True)\n",
    "df_ask = df.askRate0.resample('15Min').ohlc()\n",
    "df_ask['vol'] = df.askSize0.resample('15Min').mean()"
   ]
  },
  {
   "cell_type": "code",
   "execution_count": null,
   "metadata": {
    "ExecuteTime": {
     "end_time": "2019-09-15T05:09:23.064743Z",
     "start_time": "2019-09-15T05:04:28.194915Z"
    }
   },
   "outputs": [],
   "source": [
    "# takes 5 min\n",
    "df_ask_ta = ta.add_all_ta_features(df_ask, \"open\", \"high\", \"low\", \"close\", \"vol\", fillna=True)"
   ]
  },
  {
   "cell_type": "code",
   "execution_count": null,
   "metadata": {
    "ExecuteTime": {
     "end_time": "2019-09-15T05:21:05.808532Z",
     "start_time": "2019-09-15T05:21:05.527535Z"
    }
   },
   "outputs": [],
   "source": [
    "df_ask_ta = load('df_ask_ta.joblib')"
   ]
  },
  {
   "cell_type": "code",
   "execution_count": null,
   "metadata": {
    "ExecuteTime": {
     "end_time": "2019-09-15T05:21:37.299205Z",
     "start_time": "2019-09-15T05:21:11.568679Z"
    }
   },
   "outputs": [],
   "source": [
    "# takes 30s\n",
    "new_df = df.join(df_ask_ta).ffill()"
   ]
  },
  {
   "cell_type": "code",
   "execution_count": null,
   "metadata": {
    "ExecuteTime": {
     "end_time": "2019-09-15T05:26:45.714567Z",
     "start_time": "2019-09-15T05:26:15.852858Z"
    }
   },
   "outputs": [],
   "source": [
    "new_df = new_df.astype('float32')"
   ]
  },
  {
   "cell_type": "code",
   "execution_count": null,
   "metadata": {
    "ExecuteTime": {
     "end_time": "2019-09-15T05:36:46.814351Z",
     "start_time": "2019-09-15T05:36:31.237735Z"
    }
   },
   "outputs": [],
   "source": [
    "# dump(new_df, 'new_df.joblib')\n",
    "new_df = load('new_df.joblib')"
   ]
  },
  {
   "cell_type": "markdown",
   "metadata": {},
   "source": [
    "# Feature Selection"
   ]
  },
  {
   "cell_type": "code",
   "execution_count": null,
   "metadata": {
    "ExecuteTime": {
     "end_time": "2019-09-15T05:37:39.618879Z",
     "start_time": "2019-09-15T05:36:51.348462Z"
    }
   },
   "outputs": [],
   "source": [
    "# takes 40s\n",
    "X = new_df.drop('y', axis=1).values\n",
    "y = new_df.y.values\n",
    "\n",
    "# standardise\n",
    "from sklearn.preprocessing import StandardScaler\n",
    "scaler = StandardScaler()\n",
    "scaler.fit(X)\n",
    "X_scaled = scaler.transform(X)"
   ]
  },
  {
   "cell_type": "code",
   "execution_count": null,
   "metadata": {
    "ExecuteTime": {
     "end_time": "2019-09-15T05:38:53.716568Z",
     "start_time": "2019-09-15T05:37:39.633877Z"
    }
   },
   "outputs": [],
   "source": [
    "# pca takes 1 min\n",
    "from sklearn.decomposition import PCA\n",
    "pca = PCA(n_components=50)\n",
    "X_pca = pca.fit_transform(X_scaled)"
   ]
  },
  {
   "cell_type": "code",
   "execution_count": 2,
   "metadata": {
    "ExecuteTime": {
     "end_time": "2019-09-15T06:00:35.875370Z",
     "start_time": "2019-09-15T06:00:34.334567Z"
    }
   },
   "outputs": [],
   "source": [
    "# dump(X_pca, 'X_pca.joblib')\n",
    "# dump(y, 'y.joblib')\n",
    "X_pca = load('X_pca.joblib')\n",
    "y = load('y.joblib')"
   ]
  },
  {
   "cell_type": "code",
   "execution_count": 4,
   "metadata": {
    "ExecuteTime": {
     "end_time": "2019-09-15T06:00:51.539564Z",
     "start_time": "2019-09-15T06:00:51.536553Z"
    }
   },
   "outputs": [],
   "source": [
    "# print(pca.explained_variance_ratio_)"
   ]
  },
  {
   "cell_type": "code",
   "execution_count": null,
   "metadata": {},
   "outputs": [],
   "source": [
    "# drop original features, only use if not using pca\n",
    "df.drop(df.columns[:60], axis=1, inplace=True)"
   ]
  },
  {
   "cell_type": "markdown",
   "metadata": {},
   "source": [
    "# Cross-validation"
   ]
  },
  {
   "cell_type": "markdown",
   "metadata": {},
   "source": [
    "# Lasso"
   ]
  },
  {
   "cell_type": "code",
   "execution_count": 5,
   "metadata": {
    "ExecuteTime": {
     "end_time": "2019-09-15T06:00:54.757292Z",
     "start_time": "2019-09-15T06:00:54.753291Z"
    }
   },
   "outputs": [],
   "source": [
    "rlcv = RollingWindowSplit(n_splits=5, compatible=True)"
   ]
  },
  {
   "cell_type": "code",
   "execution_count": null,
   "metadata": {
    "ExecuteTime": {
     "end_time": "2019-09-15T05:39:58.942889Z",
     "start_time": "2019-09-15T05:39:16.097972Z"
    }
   },
   "outputs": [],
   "source": [
    "# takes at least 1 min on pca variables\n",
    "from sklearn.linear_model import LassoLarsCV\n",
    "lasso = LassoLarsCV(cv=rlcv, n_jobs=-1).fit(X_pca, y)"
   ]
  },
  {
   "cell_type": "code",
   "execution_count": null,
   "metadata": {},
   "outputs": [],
   "source": [
    "# actually the lasso above has seen the entire dataset...."
   ]
  },
  {
   "cell_type": "code",
   "execution_count": 6,
   "metadata": {
    "ExecuteTime": {
     "end_time": "2019-09-15T06:01:07.075011Z",
     "start_time": "2019-09-15T06:01:07.065011Z"
    }
   },
   "outputs": [],
   "source": [
    "# dump(lasso, 'lassocv.joblib')\n",
    "lasso = load('lassocv.joblib')"
   ]
  },
  {
   "cell_type": "code",
   "execution_count": null,
   "metadata": {},
   "outputs": [],
   "source": [
    "# create a new estimator that takes the lasso predictions and passes it through a sigmoid\n",
    "lasso_sigmoid = "
   ]
  },
  {
   "cell_type": "code",
   "execution_count": null,
   "metadata": {
    "ExecuteTime": {
     "end_time": "2019-09-15T05:51:22.601689Z",
     "start_time": "2019-09-15T05:51:22.143509Z"
    }
   },
   "outputs": [],
   "source": [
    "for inc, (train_index, valid_index) in enumerate(rlcv.split(X), 1):\n",
    "    x_train, x_valid = X_pca[train_index], X_pca[valid_index]\n",
    "    y_train, y_valid = y[train_index], y[valid_index]\n",
    "    print(\"TRAIN:\", (train_index[0], train_index[-1]),\n",
    "          \"VALID:\", (valid_index[0], valid_index[-1]),\n",
    "          \"SIZES:\", (len(x_train), len(x_valid)))\n",
    "    if inc: break"
   ]
  },
  {
   "cell_type": "code",
   "execution_count": 34,
   "metadata": {
    "ExecuteTime": {
     "end_time": "2019-09-15T06:24:35.971825Z",
     "start_time": "2019-09-15T06:24:35.960829Z"
    }
   },
   "outputs": [],
   "source": [
    "def rlcvscore(model):\n",
    "    cvtrain, cvvalid, cvvalidsig = [], [], []\n",
    "    for inc, (train_index, valid_index) in enumerate(rlcv.split(X_pca), 1):\n",
    "        x_train, x_valid = X_pca[train_index], X_pca[valid_index]\n",
    "        y_train, y_valid = y[train_index], y[valid_index]\n",
    "        cvtrain.append(model.score(x_train, y_train))\n",
    "        cvvalid.append(model.score(x_valid, y_valid))\n",
    "        sigmoid = (1/(1+np.exp(-0.22*model.predict(x_valid)))-0.5)*20  \n",
    "        cvvalidsig.append(r2d2(y_valid, sigmoid))\n",
    "    print(f'{np.array(cvtrain).round(4)}')\n",
    "    print(f'{np.array(cvvalid).round(4)}')\n",
    "    print(f'{np.array(cvvalidsig).round(4)}')\n",
    "    print(f'{np.mean(cvtrain):.4f}, {np.mean(cvvalid):.4f}, {np.mean(cvvalidsig):.4f}')"
   ]
  },
  {
   "cell_type": "code",
   "execution_count": 35,
   "metadata": {
    "ExecuteTime": {
     "end_time": "2019-09-15T06:24:40.938724Z",
     "start_time": "2019-09-15T06:24:36.865209Z"
    }
   },
   "outputs": [
    {
     "name": "stdout",
     "output_type": "stream",
     "text": [
      "[0.0347 0.0419 0.0459 0.0444 0.0424]\n",
      "[0.0419 0.0459 0.0444 0.0424 0.0423]\n",
      "[0.0437 0.0481 0.0464 0.0439 0.0432]\n",
      "0.0418, 0.0434, 0.0450\n"
     ]
    }
   ],
   "source": [
    "rlcvscore(lasso)"
   ]
  },
  {
   "cell_type": "code",
   "execution_count": null,
   "metadata": {
    "ExecuteTime": {
     "end_time": "2019-09-15T05:59:31.740319Z",
     "start_time": "2019-09-15T05:59:31.737316Z"
    }
   },
   "outputs": [],
   "source": [
    "# dump(lasso, f'lasso_rlcv_114ft_0.0175_0.0187.joblib')\n",
    "# lasso = load('lasso_rlcv_114ft_0.0175_0.0187.joblib') "
   ]
  },
  {
   "cell_type": "markdown",
   "metadata": {},
   "source": [
    "# RF"
   ]
  },
  {
   "cell_type": "code",
   "execution_count": null,
   "metadata": {
    "ExecuteTime": {
     "end_time": "2019-09-15T02:41:51.898791Z",
     "start_time": "2019-09-15T02:41:46.090168Z"
    }
   },
   "outputs": [],
   "source": [
    "rf_model = RandomForestRegressor(n_estimators=10, max_depth=6, min_samples_split=1000, min_samples_leaf=1000,\n",
    "                                 max_features='auto', n_jobs=-1, random_state=41)"
   ]
  },
  {
   "cell_type": "code",
   "execution_count": null,
   "metadata": {
    "ExecuteTime": {
     "end_time": "2019-09-15T02:41:51.898791Z",
     "start_time": "2019-09-15T02:41:46.090168Z"
    }
   },
   "outputs": [],
   "source": [
    "rf_model.fit(x_train, y_train);"
   ]
  },
  {
   "cell_type": "code",
   "execution_count": null,
   "metadata": {
    "ExecuteTime": {
     "end_time": "2019-09-15T02:23:41.727016Z",
     "start_time": "2019-09-15T02:23:36.056348Z"
    }
   },
   "outputs": [],
   "source": [
    "rlcvscore(rf_model) # realistic cv"
   ]
  },
  {
   "cell_type": "code",
   "execution_count": null,
   "metadata": {
    "ExecuteTime": {
     "end_time": "2019-09-15T02:29:21.674236Z",
     "start_time": "2019-09-15T02:29:20.651235Z"
    }
   },
   "outputs": [],
   "source": [
    "a = df.drop('y', axis=1).columns[indices]"
   ]
  },
  {
   "cell_type": "code",
   "execution_count": null,
   "metadata": {
    "ExecuteTime": {
     "end_time": "2019-09-15T02:42:44.365273Z",
     "start_time": "2019-09-15T02:42:43.164275Z"
    }
   },
   "outputs": [],
   "source": [
    "# create X with important variables only\n",
    "X = df.drop('y', axis=1)[a[:20]].values\n",
    "y = df.y.values"
   ]
  },
  {
   "cell_type": "code",
   "execution_count": null,
   "metadata": {
    "ExecuteTime": {
     "end_time": "2019-09-15T02:47:05.341074Z",
     "start_time": "2019-09-15T02:47:05.336062Z"
    }
   },
   "outputs": [],
   "source": [
    "rf_model = RandomForestRegressor(n_estimators=10, max_depth=2, min_samples_split=2, min_samples_leaf=5000,\n",
    "                                 max_features='auto', n_jobs=-1, random_state=41)\n",
    "rf_model.fit(x_train, y_train);"
   ]
  },
  {
   "cell_type": "code",
   "execution_count": null,
   "metadata": {
    "ExecuteTime": {
     "end_time": "2019-09-15T02:47:12.600562Z",
     "start_time": "2019-09-15T02:47:10.741562Z"
    }
   },
   "outputs": [],
   "source": [
    "rlcvscore(rf_model) #n_est 10, depth 2, samples_split 2, samples_leaf 1000, 30 most importantvariables"
   ]
  },
  {
   "cell_type": "code",
   "execution_count": null,
   "metadata": {
    "ExecuteTime": {
     "end_time": "2019-09-15T02:24:45.787782Z",
     "start_time": "2019-09-15T02:24:41.788297Z"
    },
    "scrolled": true
   },
   "outputs": [],
   "source": [
    "importances = rf_model.feature_importances_\n",
    "std = np.std([tree.feature_importances_ for tree in rf_model.estimators_],\n",
    "             axis=0)\n",
    "indices = np.argsort(importances)[::-1]\n",
    "# Plot the feature importances of the forest\n",
    "plt.figure(figsize=(15,8))\n",
    "plt.title(\"Feature importances\")\n",
    "plt.bar(range(X.shape[1]), importances[indices],\n",
    "       color=\"r\", yerr=std[indices], align=\"center\")\n",
    "plt.xticks(range(X.shape[1]), indices)\n",
    "plt.xlim([-1, X.shape[1]])\n",
    "plt.show()"
   ]
  },
  {
   "cell_type": "code",
   "execution_count": null,
   "metadata": {},
   "outputs": [],
   "source": [
    "# save model\n",
    "dump(rf, 'model.joblib')"
   ]
  },
  {
   "cell_type": "code",
   "execution_count": null,
   "metadata": {},
   "outputs": [],
   "source": [
    "# load model\n",
    "rf2 = load('model.joblib')"
   ]
  },
  {
   "cell_type": "markdown",
   "metadata": {},
   "source": [
    "# Fast.ai"
   ]
  },
  {
   "cell_type": "code",
   "execution_count": null,
   "metadata": {
    "ExecuteTime": {
     "end_time": "2019-09-13T08:34:27.199966Z",
     "start_time": "2019-09-13T08:34:27.194964Z"
    }
   },
   "outputs": [],
   "source": [
    "dep_var = 'y'\n",
    "procs = [FillMissing, Normalize]"
   ]
  },
  {
   "cell_type": "code",
   "execution_count": null,
   "metadata": {
    "ExecuteTime": {
     "end_time": "2019-09-13T08:34:46.357867Z",
     "start_time": "2019-09-13T08:34:29.653867Z"
    }
   },
   "outputs": [],
   "source": [
    "path = f'D:\\Coding\\XTX Forecasting Challenge'\n",
    "data = TabularDataBunch.from_df(path = path, df = df[:int(5e5)], dep_var = 'y', procs=procs,\n",
    "                                 valid_idx = list(range(int(4e5),int(5e5))))"
   ]
  },
  {
   "cell_type": "code",
   "execution_count": null,
   "metadata": {
    "ExecuteTime": {
     "end_time": "2019-09-13T08:26:47.618579Z",
     "start_time": "2019-09-13T08:26:17.525620Z"
    }
   },
   "outputs": [],
   "source": [
    "data.show_batch(rows=10)"
   ]
  },
  {
   "cell_type": "code",
   "execution_count": null,
   "metadata": {
    "ExecuteTime": {
     "end_time": "2019-09-13T06:27:39.484687Z",
     "start_time": "2019-09-13T06:27:21.410885Z"
    }
   },
   "outputs": [],
   "source": [
    "# data = (TabularList.from_df(df[:int(5e5)], cont_names=df.columns, procs=procs)\n",
    "#                            .split_by_idx(list(range(int(0.8*5e5),int(5e5))))\n",
    "#                            .label_from_df(cols=dep_var, label_cls=FloatList)\n",
    "#                            .databunch())"
   ]
  },
  {
   "cell_type": "code",
   "execution_count": null,
   "metadata": {
    "ExecuteTime": {
     "end_time": "2019-09-13T08:50:44.246393Z",
     "start_time": "2019-09-13T08:50:44.024206Z"
    }
   },
   "outputs": [],
   "source": [
    "learn = tabular_learner(data, layers=[500,200], metrics=r2_score, ps=[0.001,0.01], emb_drop=0.04)"
   ]
  },
  {
   "cell_type": "code",
   "execution_count": null,
   "metadata": {
    "ExecuteTime": {
     "end_time": "2019-09-13T08:50:45.534954Z",
     "start_time": "2019-09-13T08:50:45.527952Z"
    }
   },
   "outputs": [],
   "source": [
    "learn.model"
   ]
  },
  {
   "cell_type": "code",
   "execution_count": null,
   "metadata": {
    "ExecuteTime": {
     "end_time": "2019-09-13T08:37:03.605733Z",
     "start_time": "2019-09-13T08:36:35.900238Z"
    }
   },
   "outputs": [],
   "source": [
    "learn.lr_find(end_lr=1e1)"
   ]
  },
  {
   "cell_type": "code",
   "execution_count": null,
   "metadata": {
    "ExecuteTime": {
     "end_time": "2019-09-13T08:37:04.843812Z",
     "start_time": "2019-09-13T08:37:03.608733Z"
    }
   },
   "outputs": [],
   "source": [
    "learn.recorder.plot()"
   ]
  },
  {
   "cell_type": "code",
   "execution_count": null,
   "metadata": {},
   "outputs": [],
   "source": [
    "# model above has already diverged, we will restart."
   ]
  },
  {
   "cell_type": "code",
   "execution_count": null,
   "metadata": {
    "ExecuteTime": {
     "end_time": "2019-09-13T09:03:36.738452Z",
     "start_time": "2019-09-13T08:50:49.724470Z"
    }
   },
   "outputs": [],
   "source": [
    "learn.fit_one_cycle(3, 1e-4, wd=0.1)"
   ]
  },
  {
   "cell_type": "code",
   "execution_count": null,
   "metadata": {
    "ExecuteTime": {
     "end_time": "2019-09-13T08:41:02.673928Z",
     "start_time": "2019-09-13T08:41:01.868908Z"
    }
   },
   "outputs": [],
   "source": [
    "learn.recorder.plot_lr(show_moms=True)"
   ]
  },
  {
   "cell_type": "code",
   "execution_count": null,
   "metadata": {
    "ExecuteTime": {
     "end_time": "2019-09-13T09:04:03.690828Z",
     "start_time": "2019-09-13T09:04:03.447302Z"
    }
   },
   "outputs": [],
   "source": [
    "learn.save('new_fastai')"
   ]
  },
  {
   "cell_type": "code",
   "execution_count": null,
   "metadata": {
    "ExecuteTime": {
     "end_time": "2019-09-13T09:04:07.023062Z",
     "start_time": "2019-09-13T09:04:06.385055Z"
    }
   },
   "outputs": [],
   "source": [
    "learn.recorder.plot_losses()"
   ]
  },
  {
   "cell_type": "code",
   "execution_count": null,
   "metadata": {
    "ExecuteTime": {
     "end_time": "2019-09-13T09:05:00.282946Z",
     "start_time": "2019-09-13T09:05:00.098945Z"
    }
   },
   "outputs": [],
   "source": [
    "learn.predict(df.iloc[int(8.1e5)])"
   ]
  },
  {
   "cell_type": "code",
   "execution_count": null,
   "metadata": {
    "ExecuteTime": {
     "end_time": "2019-09-13T09:05:02.937494Z",
     "start_time": "2019-09-13T09:05:02.932488Z"
    }
   },
   "outputs": [],
   "source": [
    "df.y.iloc[int(8.1e5)]"
   ]
  },
  {
   "cell_type": "code",
   "execution_count": null,
   "metadata": {
    "ExecuteTime": {
     "end_time": "2019-09-13T09:05:38.921082Z",
     "start_time": "2019-09-13T09:05:08.529113Z"
    }
   },
   "outputs": [],
   "source": [
    "preds = learn.get_preds()"
   ]
  }
 ],
 "metadata": {
  "kernelspec": {
   "display_name": "Python 3",
   "language": "python",
   "name": "python3"
  },
  "language_info": {
   "codemirror_mode": {
    "name": "ipython",
    "version": 3
   },
   "file_extension": ".py",
   "mimetype": "text/x-python",
   "name": "python",
   "nbconvert_exporter": "python",
   "pygments_lexer": "ipython3",
   "version": "3.6.9"
  }
 },
 "nbformat": 4,
 "nbformat_minor": 2
}
