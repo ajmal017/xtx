{
 "cells": [
  {
   "cell_type": "markdown",
   "metadata": {},
   "source": [
    "# Setting up"
   ]
  },
  {
   "cell_type": "code",
   "execution_count": 2,
   "metadata": {},
   "outputs": [],
   "source": [
    "import pandas as pd\n",
    "import numpy as np\n",
    "import matplotlib.pyplot as plt\n",
    "import seaborn as sns\n",
    "import talib\n",
    "\n",
    "%matplotlib inline\n",
    "sns.set(style = \"whitegrid\")\n",
    "pd.set_option('display.max_columns', 500)"
   ]
  },
  {
   "cell_type": "code",
   "execution_count": null,
   "metadata": {},
   "outputs": [],
   "source": [
    "# %%time\n",
    "# path = 'D://Coding//XTX Forecasting Challenge//data-training.csv'\n",
    "# df = pd.read_csv(path)"
   ]
  },
  {
   "cell_type": "code",
   "execution_count": 112,
   "metadata": {},
   "outputs": [
    {
     "name": "stderr",
     "output_type": "stream",
     "text": [
      "C:\\Users\\Tym\\Anaconda3\\envs\\xtx\\lib\\site-packages\\pyarrow\\pandas_compat.py:752: FutureWarning: .labels was deprecated in version 0.24.0. Use .codes instead.\n",
      "  labels, = index.labels\n"
     ]
    },
    {
     "name": "stdout",
     "output_type": "stream",
     "text": [
      "Wall time: 6.98 s\n"
     ]
    }
   ],
   "source": [
    "%%time\n",
    "path = 'D://Coding//XTX Forecasting Challenge//data-training.file'\n",
    "df = pd.read_feather(path, use_threads=8)\n",
    "df = df.astype('float32')"
   ]
  },
  {
   "cell_type": "markdown",
   "metadata": {},
   "source": [
    "# Exploratory Data Analysis"
   ]
  },
  {
   "cell_type": "code",
   "execution_count": null,
   "metadata": {},
   "outputs": [],
   "source": [
    "# # Plot of [y] distribution\n",
    "# fig, ax = plt.subplots(figsize=(15,8))\n",
    "# sns.kdeplot(df.y, bw=0.01)"
   ]
  },
  {
   "cell_type": "code",
   "execution_count": 4,
   "metadata": {},
   "outputs": [
    {
     "name": "stdout",
     "output_type": "stream",
     "text": [
      "Wall time: 419 ms\n"
     ]
    }
   ],
   "source": [
    "%%time\n",
    "# Some feature engineering\n",
    "df.fillna(0, inplace=True)\n",
    "df['spread'] = df.askRate0 - df.bidRate0\n",
    "df['midRate'] = (df.askRate0 + df.bidRate0) / 2\n",
    "# df['expectedY'] = df.midRate.diff(87).shift(-87).clip(-5,5)"
   ]
  },
  {
   "cell_type": "code",
   "execution_count": 5,
   "metadata": {},
   "outputs": [],
   "source": [
    "# # Figuring out what [y] is\n",
    "# # y(t) is midRate(t+87) - midRate(t), clipped to (-5.5)\n",
    "# sum(df.y == df.expectedY)\n",
    "# df.loc[df.y != df.expectedY]\n",
    "\n",
    "# fig, ax = plt.subplots(figsize=(15,8))\n",
    "# i = 500\n",
    "# shift = 87\n",
    "# # plt.plot(df.index[0:i], df.midRate[0:i].diff(shift).shift(-shift+14))\n",
    "# plt.plot(df.index[-i:], df.midRate[-i:].diff(shift).shift(-shift))\n",
    "# plt.plot(df.index[-i:], df.y[-i:])\n",
    "# plt.legend(('midRate', 'y'))"
   ]
  },
  {
   "cell_type": "markdown",
   "metadata": {},
   "source": [
    "# Feature engineering"
   ]
  },
  {
   "cell_type": "markdown",
   "metadata": {},
   "source": [
    "### Basics"
   ]
  },
  {
   "cell_type": "code",
   "execution_count": 6,
   "metadata": {},
   "outputs": [],
   "source": [
    "bidSizeList = ['bidSize' + str(i) for i in range(0,15)]\n",
    "askSizeList = ['askSize' + str(i) for i in range(0,15)]\n",
    "bidRateList = ['bidRate' + str(i) for i in range(0,15)]\n",
    "askRateList = ['askRate' + str(i) for i in range(0,15)]"
   ]
  },
  {
   "cell_type": "code",
   "execution_count": 7,
   "metadata": {},
   "outputs": [
    {
     "name": "stdout",
     "output_type": "stream",
     "text": [
      "Wall time: 626 ms\n"
     ]
    }
   ],
   "source": [
    "%%time\n",
    "df['totalBidVol1'] = df.bidSize0 + df.bidSize1\n",
    "for i in range(2,15):\n",
    "    df['totalBidVol' + str(i)] = df['totalBidVol' + str(i-1)] + df['bidSize' + str(i)]\n",
    "\n",
    "df['totalAskVol1'] = df.askSize0 + df.askSize1\n",
    "for i in range(2,15):\n",
    "    df['totalAskVol' + str(i)] = df['totalAskVol' + str(i-1)] + df['askSize' + str(i)]\n",
    "    \n",
    "for i in range(1,15):\n",
    "    df['bidAskRatio' + str(i)] = df['totalBidVol' + str(i)] / df['totalAskVol' + str(i)]\n",
    "\n",
    "df['totalAvailVol'] = df.totalBidVol14 + df.totalAskVol14"
   ]
  },
  {
   "cell_type": "code",
   "execution_count": 8,
   "metadata": {},
   "outputs": [
    {
     "name": "stdout",
     "output_type": "stream",
     "text": [
      "Wall time: 5.96 s\n"
     ]
    }
   ],
   "source": [
    "%%time\n",
    "df['vwaBid'] = np.einsum('ij,ji->i', df[bidRateList], df[bidSizeList].T) / df[bidSizeList].sum(axis=1)\n",
    "df['vwaAsk'] = np.einsum('ij,ji->i', df[askRateList], df[askSizeList].T) / df[askSizeList].sum(axis=1)\n",
    "df['vwaBidDMid'] = df.midRate - df.vwaBid\n",
    "df['vwaAskDMid'] = df.vwaAsk - df.midRate\n",
    "df['diff_vwaBidAskDMid'] = df.vwaAskDMid - df.vwaBidDMid"
   ]
  },
  {
   "cell_type": "markdown",
   "metadata": {},
   "source": [
    "# Ideas from papers"
   ]
  },
  {
   "cell_type": "code",
   "execution_count": 9,
   "metadata": {},
   "outputs": [
    {
     "name": "stdout",
     "output_type": "stream",
     "text": [
      "Wall time: 243 ms\n"
     ]
    }
   ],
   "source": [
    "%%time\n",
    "# Volume Order Imbalance\n",
    "# I still disagree with cancelled orders..\n",
    "b1, a1 = (df.bidRate0 < df.bidRate0.shift(-1)), (df.askRate0 < df.askRate0.shift(-1))\n",
    "b2, a2 = (df.bidRate0 == df.bidRate0.shift(-1)), (df.askRate0 == df.askRate0.shift(-1))\n",
    "valsB, valsA = [0, (df.bidSize0 - df.bidSize0.shift(-1))], [0, (df.askSize0 - df.askSize0.shift(-1))]\n",
    "defaultB, defaultA = df.bidSize0, df.askSize0\n",
    "\n",
    "df['deltaVBid'] = np.select([b1,b2], valsB, default=defaultB)\n",
    "df['deltaVAsk'] = np.select([a1,a2], valsA, default=defaultA)\n",
    "df['VOI'] = df.deltaVBid - df.deltaVAsk"
   ]
  },
  {
   "cell_type": "code",
   "execution_count": 10,
   "metadata": {},
   "outputs": [
    {
     "name": "stdout",
     "output_type": "stream",
     "text": [
      "Wall time: 41 ms\n"
     ]
    }
   ],
   "source": [
    "%%time\n",
    "# Order Imbalance Ratio\n",
    "df['OIR'] = (df.bidSize0 - df.askSize0)/(df.bidSize0 + df.askSize0)\n",
    "\n",
    "# when OIR is small, suggests that signal from VOI is weak"
   ]
  },
  {
   "cell_type": "markdown",
   "metadata": {},
   "source": [
    "# TA"
   ]
  },
  {
   "cell_type": "code",
   "execution_count": 11,
   "metadata": {},
   "outputs": [
    {
     "name": "stdout",
     "output_type": "stream",
     "text": [
      "Wall time: 1.22 s\n"
     ]
    }
   ],
   "source": [
    "%%time\n",
    "overlapList = [talib.DEMA, talib.EMA, talib.HT_TRENDLINE, talib.KAMA, talib.MA,\n",
    "               talib.SMA, talib.T3, talib.TEMA, talib.TRIMA, talib.WMA]\n",
    "for func in overlapList:\n",
    "    df[str(func.__name__)] = func(df.midRate)"
   ]
  },
  {
   "cell_type": "code",
   "execution_count": 12,
   "metadata": {},
   "outputs": [
    {
     "name": "stdout",
     "output_type": "stream",
     "text": [
      "Wall time: 724 ms\n"
     ]
    }
   ],
   "source": [
    "%%time\n",
    "momentumList = [talib.APO, talib.CMO, talib.MOM, talib.PPO, talib.ROC, talib.ROCR,\n",
    "                talib.RSI, talib.TRIX]\n",
    "for func in momentumList:\n",
    "    df[str(func.__name__)] = func(df.midRate)"
   ]
  },
  {
   "cell_type": "code",
   "execution_count": 13,
   "metadata": {},
   "outputs": [
    {
     "name": "stdout",
     "output_type": "stream",
     "text": [
      "Wall time: 105 ms\n"
     ]
    }
   ],
   "source": [
    "%%time\n",
    "# not true OBV\n",
    "volumeIndicatorList = [talib.OBV]\n",
    "for func in volumeIndicatorList:\n",
    "    df[str(func.__name__)] = func(df.midRate, df.totalAvailVol)"
   ]
  },
  {
   "cell_type": "code",
   "execution_count": 14,
   "metadata": {},
   "outputs": [
    {
     "name": "stdout",
     "output_type": "stream",
     "text": [
      "Wall time: 5.15 s\n"
     ]
    }
   ],
   "source": [
    "%%time\n",
    "cycleIndicatorList = [talib.HT_DCPERIOD, talib.HT_DCPHASE, talib.HT_TRENDMODE]\n",
    "for func in cycleIndicatorList:\n",
    "    df[str(func.__name__)] = func(df.midRate)"
   ]
  },
  {
   "cell_type": "code",
   "execution_count": 15,
   "metadata": {},
   "outputs": [
    {
     "name": "stdout",
     "output_type": "stream",
     "text": [
      "Wall time: 566 ms\n"
     ]
    }
   ],
   "source": [
    "%%time\n",
    "statisticList = [talib.LINEARREG, talib.LINEARREG_SLOPE, talib.STDDEV, talib.TSF]\n",
    "for func in statisticList:\n",
    "    df[str(func.__name__)] = func(df.midRate)"
   ]
  },
  {
   "cell_type": "code",
   "execution_count": 16,
   "metadata": {},
   "outputs": [
    {
     "name": "stdout",
     "output_type": "stream",
     "text": [
      "Wall time: 156 ms\n"
     ]
    }
   ],
   "source": [
    "%%time\n",
    "mathOpList = [talib.MAX, talib.MIN]\n",
    "for func in mathOpList:\n",
    "    df[str(func.__name__)] = func(df.midRate)"
   ]
  },
  {
   "cell_type": "code",
   "execution_count": 17,
   "metadata": {},
   "outputs": [],
   "source": [
    "df.fillna(0, inplace=True)"
   ]
  },
  {
   "cell_type": "code",
   "execution_count": 18,
   "metadata": {},
   "outputs": [
    {
     "name": "stdout",
     "output_type": "stream",
     "text": [
      "Wall time: 6.22 s\n"
     ]
    }
   ],
   "source": [
    "%time df.to_feather('intermediate.file')"
   ]
  },
  {
   "cell_type": "code",
   "execution_count": 124,
   "metadata": {},
   "outputs": [
    {
     "name": "stdout",
     "output_type": "stream",
     "text": [
      "Wall time: 13.5 s\n"
     ]
    }
   ],
   "source": [
    "%time df = pd.read_feather('intermediate.file')"
   ]
  },
  {
   "cell_type": "code",
   "execution_count": 125,
   "metadata": {},
   "outputs": [],
   "source": [
    "# drop original features\n",
    "df.drop(df.columns[:60], axis=1, inplace=True)"
   ]
  },
  {
   "cell_type": "markdown",
   "metadata": {},
   "source": [
    "# Feature Selection"
   ]
  },
  {
   "cell_type": "code",
   "execution_count": null,
   "metadata": {},
   "outputs": [],
   "source": [
    "# try PCA"
   ]
  },
  {
   "cell_type": "code",
   "execution_count": null,
   "metadata": {},
   "outputs": [],
   "source": []
  },
  {
   "cell_type": "code",
   "execution_count": null,
   "metadata": {},
   "outputs": [],
   "source": []
  },
  {
   "cell_type": "code",
   "execution_count": null,
   "metadata": {},
   "outputs": [],
   "source": []
  },
  {
   "cell_type": "code",
   "execution_count": null,
   "metadata": {},
   "outputs": [],
   "source": []
  },
  {
   "cell_type": "code",
   "execution_count": null,
   "metadata": {},
   "outputs": [],
   "source": []
  },
  {
   "cell_type": "code",
   "execution_count": null,
   "metadata": {},
   "outputs": [],
   "source": []
  },
  {
   "cell_type": "markdown",
   "metadata": {},
   "source": [
    "# Cross-validation"
   ]
  },
  {
   "cell_type": "code",
   "execution_count": 19,
   "metadata": {},
   "outputs": [],
   "source": [
    "from sklearn.preprocessing import LabelBinarizer\n",
    "from sklearn.ensemble import RandomForestRegressor\n",
    "from sklearn.model_selection import RandomizedSearchCV\n",
    "from rolling import RollingWindowSplit"
   ]
  },
  {
   "cell_type": "code",
   "execution_count": 157,
   "metadata": {},
   "outputs": [
    {
     "name": "stdout",
     "output_type": "stream",
     "text": [
      "Wall time: 2.7 s\n"
     ]
    }
   ],
   "source": [
    "%%time\n",
    "# for regression\n",
    "# X = df.drop('y', axis=1).values\n",
    "X = df.drop('y', axis=1).iloc[:,indices[:50]].values\n",
    "y = df.y.values"
   ]
  },
  {
   "cell_type": "code",
   "execution_count": 148,
   "metadata": {},
   "outputs": [
    {
     "name": "stdout",
     "output_type": "stream",
     "text": [
      "Wall time: 3.5 s\n"
     ]
    }
   ],
   "source": [
    "%%time\n",
    "# for classification (one-vs-rest)\n",
    "# X = df.drop('y', axis=1).values\n",
    "X = df.drop('y', axis=1).iloc[:,indices[:50]].values\n",
    "# trying with less features\n",
    "# X = df.drop('y', axis=1).iloc[:,indices[:50]].values\n",
    "y = (df.y.values*100).astype(int)"
   ]
  },
  {
   "cell_type": "code",
   "execution_count": 158,
   "metadata": {},
   "outputs": [
    {
     "name": "stdout",
     "output_type": "stream",
     "text": [
      "TRAIN: (2, 428572) VALID: (428573, 857143) SIZES: (428571, 428571)\n",
      "TRAIN: (428573, 857143) VALID: (857144, 1285714) SIZES: (428571, 428571)\n",
      "TRAIN: (857144, 1285714) VALID: (1285715, 1714285) SIZES: (428571, 428571)\n",
      "TRAIN: (1285715, 1714285) VALID: (1714286, 2142856) SIZES: (428571, 428571)\n",
      "TRAIN: (1714286, 2142856) VALID: (2142857, 2571427) SIZES: (428571, 428571)\n"
     ]
    }
   ],
   "source": [
    "rlcv = RollingWindowSplit(n_splits=5, compatible=True)\n",
    "for inc, (train_index, valid_index) in enumerate(rlcv.split(X), 1):\n",
    "    x_train, x_valid = X[train_index], X[valid_index]\n",
    "    y_train, y_valid = y[train_index], y[valid_index]\n",
    "    print(\"TRAIN:\", (train_index[0], train_index[-1]),\n",
    "          \"VALID:\", (valid_index[0], valid_index[-1]),\n",
    "          \"SIZES:\", (len(x_train), len(x_valid)))"
   ]
  },
  {
   "cell_type": "code",
   "execution_count": null,
   "metadata": {},
   "outputs": [
    {
     "name": "stderr",
     "output_type": "stream",
     "text": [
      "C:\\Users\\Tym\\Anaconda3\\envs\\xtx\\lib\\site-packages\\sklearn\\ensemble\\forest.py:245: FutureWarning: The default value of n_estimators will change from 10 in version 0.20 to 100 in 0.22.\n",
      "  \"10 in version 0.20 to 100 in 0.22.\", FutureWarning)\n"
     ]
    }
   ],
   "source": [
    "%%time\n",
    "# from sklearn.ensemble import RandomForestClassifier\n",
    "# from sklearn.ensemble import RandomForestRegressor\n",
    "# rf = RandomForestClassifier(n_jobs=-1).fit(x_train, y_train)\n",
    "rf = RandomForestRegressor(n_jobs=-1).fit(x_train, y_train)"
   ]
  },
  {
   "cell_type": "code",
   "execution_count": 131,
   "metadata": {
    "scrolled": true
   },
   "outputs": [
    {
     "name": "stdout",
     "output_type": "stream",
     "text": [
      "Feature ranking:\n",
      "1. feature 71 (0.027240)\n",
      "2. feature 73 (0.022178)\n",
      "3. feature 55 (0.021845)\n",
      "4. feature 72 (0.021807)\n",
      "5. feature 65 (0.021400)\n",
      "6. feature 70 (0.021236)\n",
      "7. feature 54 (0.019967)\n",
      "8. feature 61 (0.019112)\n",
      "9. feature 48 (0.017944)\n",
      "10. feature 47 (0.017574)\n",
      "11. feature 49 (0.017048)\n",
      "12. feature 57 (0.016597)\n",
      "13. feature 74 (0.015908)\n",
      "14. feature 62 (0.015399)\n",
      "15. feature 44 (0.015322)\n",
      "16. feature 45 (0.015223)\n",
      "17. feature 46 (0.015022)\n",
      "18. feature 56 (0.014858)\n",
      "19. feature 63 (0.014550)\n",
      "20. feature 59 (0.014423)\n",
      "21. feature 58 (0.014258)\n",
      "22. feature 0 (0.014204)\n",
      "23. feature 42 (0.014005)\n",
      "24. feature 41 (0.013888)\n",
      "25. feature 43 (0.013873)\n",
      "26. feature 29 (0.013247)\n",
      "27. feature 40 (0.013133)\n",
      "28. feature 39 (0.013009)\n",
      "29. feature 38 (0.012710)\n",
      "30. feature 28 (0.012641)\n",
      "31. feature 26 (0.012641)\n",
      "32. feature 35 (0.012520)\n",
      "33. feature 36 (0.012496)\n",
      "34. feature 37 (0.012465)\n",
      "35. feature 30 (0.012428)\n",
      "36. feature 27 (0.012393)\n",
      "37. feature 14 (0.012375)\n",
      "38. feature 34 (0.012330)\n",
      "39. feature 15 (0.012244)\n",
      "40. feature 25 (0.012235)\n",
      "41. feature 22 (0.012218)\n",
      "42. feature 24 (0.012218)\n",
      "43. feature 33 (0.012211)\n",
      "44. feature 23 (0.012136)\n",
      "45. feature 60 (0.012100)\n",
      "46. feature 67 (0.012016)\n",
      "47. feature 31 (0.011948)\n",
      "48. feature 32 (0.011903)\n",
      "49. feature 21 (0.011850)\n",
      "50. feature 53 (0.011579)\n",
      "51. feature 19 (0.011560)\n",
      "52. feature 13 (0.011422)\n",
      "53. feature 20 (0.011404)\n",
      "54. feature 64 (0.011348)\n",
      "55. feature 10 (0.011136)\n",
      "56. feature 12 (0.011008)\n",
      "57. feature 18 (0.010881)\n",
      "58. feature 11 (0.010873)\n",
      "59. feature 17 (0.010836)\n",
      "60. feature 9 (0.010817)\n",
      "61. feature 16 (0.010716)\n",
      "62. feature 2 (0.010572)\n",
      "63. feature 7 (0.010508)\n",
      "64. feature 5 (0.010439)\n",
      "65. feature 3 (0.010317)\n",
      "66. feature 4 (0.010272)\n",
      "67. feature 6 (0.010261)\n",
      "68. feature 8 (0.010213)\n",
      "69. feature 79 (0.009333)\n",
      "70. feature 76 (0.008775)\n",
      "71. feature 77 (0.007614)\n",
      "72. feature 81 (0.005641)\n",
      "73. feature 80 (0.005567)\n",
      "74. feature 68 (0.004540)\n",
      "75. feature 1 (0.003680)\n",
      "76. feature 69 (0.003560)\n",
      "77. feature 66 (0.002991)\n",
      "78. feature 78 (0.002602)\n",
      "79. feature 52 (0.002201)\n",
      "80. feature 75 (0.002143)\n",
      "81. feature 51 (0.001469)\n",
      "82. feature 50 (0.001374)\n"
     ]
    },
    {
     "data": {
      "image/png": "[encoded data removed]",
      "text/plain": [
       "<Figure size 1080x576 with 1 Axes>"
      ]
     },
     "metadata": {},
     "output_type": "display_data"
    }
   ],
   "source": [
    "importances = rf.feature_importances_\n",
    "std = np.std([tree.feature_importances_ for tree in rf.estimators_],\n",
    "             axis=0)\n",
    "indices = np.argsort(importances)[::-1]\n",
    "\n",
    "# Print the feature ranking\n",
    "print(\"Feature ranking:\")\n",
    "\n",
    "for f in range(X.shape[1]):\n",
    "    print(\"%d. feature %d (%f)\" % (f + 1, indices[f], importances[indices[f]]))\n",
    "\n",
    "# Plot the feature importances of the forest\n",
    "plt.figure(figsize=(15,8))\n",
    "plt.title(\"Feature importances\")\n",
    "plt.bar(range(X.shape[1]), importances[indices],\n",
    "       color=\"r\", yerr=std[indices], align=\"center\")\n",
    "plt.xticks(range(X.shape[1]), indices)\n",
    "plt.xlim([-1, X.shape[1]])\n",
    "plt.show()"
   ]
  },
  {
   "cell_type": "code",
   "execution_count": null,
   "metadata": {},
   "outputs": [],
   "source": [
    "# in-sample\n",
    "rf.score(x_train, y_train)"
   ]
  },
  {
   "cell_type": "code",
   "execution_count": null,
   "metadata": {},
   "outputs": [],
   "source": [
    "# out-of-sample\n",
    "rf.score(x_valid, y_valid)"
   ]
  },
  {
   "cell_type": "code",
   "execution_count": 89,
   "metadata": {},
   "outputs": [],
   "source": [
    "# do some rounding of continuous values\n",
    "def rounding(number):\n",
    "    return np.round(number * 4, decimals=0) / 4\n",
    "rpredictions = rounding(predictions)"
   ]
  },
  {
   "cell_type": "code",
   "execution_count": null,
   "metadata": {},
   "outputs": [],
   "source": [
    "predictions = rf.predict(x_valid)"
   ]
  },
  {
   "cell_type": "code",
   "execution_count": null,
   "metadata": {},
   "outputs": [],
   "source": [
    "from sklearn.metrics import r2_score\n",
    "r2_score(y_valid, predictions/100)"
   ]
  },
  {
   "cell_type": "code",
   "execution_count": null,
   "metadata": {},
   "outputs": [],
   "source": [
    "plt.subplots(figsize=(15,8))\n",
    "plt.plot((y_valid/100)[:1000])\n",
    "plt.plot((predictions/100)[:1000])"
   ]
  },
  {
   "cell_type": "code",
   "execution_count": null,
   "metadata": {},
   "outputs": [],
   "source": [
    "# out-of-sample\n",
    "rf.score(x_valid, y_valid)"
   ]
  },
  {
   "cell_type": "code",
   "execution_count": null,
   "metadata": {},
   "outputs": [],
   "source": [
    "# out-of-sample\n",
    "rf.score(x_valid, y_valid)"
   ]
  },
  {
   "cell_type": "code",
   "execution_count": null,
   "metadata": {},
   "outputs": [],
   "source": [
    "dump(importances, 'importances.joblib')"
   ]
  },
  {
   "cell_type": "code",
   "execution_count": null,
   "metadata": {},
   "outputs": [],
   "source": [
    "importances = load('importances.joblib')"
   ]
  },
  {
   "cell_type": "code",
   "execution_count": null,
   "metadata": {},
   "outputs": [],
   "source": [
    "# save model\n",
    "from joblib import dump, load\n",
    "dump(rf, 'model.joblib')"
   ]
  },
  {
   "cell_type": "code",
   "execution_count": null,
   "metadata": {},
   "outputs": [],
   "source": [
    "# load model\n",
    "rf2 = load('model.joblib')\n",
    "rf2.score(x_valid, y_valid)"
   ]
  },
  {
   "cell_type": "code",
   "execution_count": null,
   "metadata": {},
   "outputs": [],
   "source": []
  },
  {
   "cell_type": "code",
   "execution_count": null,
   "metadata": {},
   "outputs": [],
   "source": []
  }
 ],
 "metadata": {
  "kernelspec": {
   "display_name": "Python 3",
   "language": "python",
   "name": "python3"
  },
  "language_info": {
   "codemirror_mode": {
    "name": "ipython",
    "version": 3
   },
   "file_extension": ".py",
   "mimetype": "text/x-python",
   "name": "python",
   "nbconvert_exporter": "python",
   "pygments_lexer": "ipython3",
   "version": "3.6.9"
  }
 },
 "nbformat": 4,
 "nbformat_minor": 2
}
