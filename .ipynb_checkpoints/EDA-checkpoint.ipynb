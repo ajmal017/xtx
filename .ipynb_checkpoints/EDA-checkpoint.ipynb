{
 "cells": [
  {
   "cell_type": "markdown",
   "metadata": {},
   "source": [
    "# Setting up"
   ]
  },
  {
   "cell_type": "code",
   "execution_count": 33,
   "metadata": {
    "ExecuteTime": {
     "end_time": "2019-09-14T02:44:55.997497Z",
     "start_time": "2019-09-14T02:44:55.983490Z"
    }
   },
   "outputs": [],
   "source": [
    "import pandas as pd\n",
    "import numpy as np\n",
    "import matplotlib.pyplot as plt\n",
    "import seaborn as sns\n",
    "from fastai import *\n",
    "from fastai.tabular import *\n",
    "\n",
    "%matplotlib inline\n",
    "sns.set(style = \"whitegrid\")\n",
    "pd.set_option('display.max_columns', 500)"
   ]
  },
  {
   "cell_type": "code",
   "execution_count": null,
   "metadata": {},
   "outputs": [],
   "source": [
    "# %%time\n",
    "# path = 'D://Coding//XTX Forecasting Challenge//data-training.csv'\n",
    "# df = pd.read_csv(path)"
   ]
  },
  {
   "cell_type": "code",
   "execution_count": 5,
   "metadata": {
    "ExecuteTime": {
     "end_time": "2019-09-13T15:53:03.140457Z",
     "start_time": "2019-09-13T15:52:55.951312Z"
    }
   },
   "outputs": [
    {
     "name": "stdout",
     "output_type": "stream",
     "text": [
      "Wall time: 7.18 s\n"
     ]
    }
   ],
   "source": [
    "%%time\n",
    "path = 'D://Coding//XTX Forecasting Challenge//data-training.file'\n",
    "df = pd.read_feather(path, use_threads=8)\n",
    "df = df.astype('float32')"
   ]
  },
  {
   "cell_type": "code",
   "execution_count": 6,
   "metadata": {
    "ExecuteTime": {
     "end_time": "2019-09-13T15:53:03.152452Z",
     "start_time": "2019-09-13T15:53:03.143452Z"
    }
   },
   "outputs": [
    {
     "data": {
      "text/plain": [
       "Index(['askRate0', 'askRate1', 'askRate2', 'askRate3', 'askRate4', 'askRate5',\n",
       "       'askRate6', 'askRate7', 'askRate8', 'askRate9', 'askRate10',\n",
       "       'askRate11', 'askRate12', 'askRate13', 'askRate14', 'askSize0',\n",
       "       'askSize1', 'askSize2', 'askSize3', 'askSize4', 'askSize5', 'askSize6',\n",
       "       'askSize7', 'askSize8', 'askSize9', 'askSize10', 'askSize11',\n",
       "       'askSize12', 'askSize13', 'askSize14', 'bidRate0', 'bidRate1',\n",
       "       'bidRate2', 'bidRate3', 'bidRate4', 'bidRate5', 'bidRate6', 'bidRate7',\n",
       "       'bidRate8', 'bidRate9', 'bidRate10', 'bidRate11', 'bidRate12',\n",
       "       'bidRate13', 'bidRate14', 'bidSize0', 'bidSize1', 'bidSize2',\n",
       "       'bidSize3', 'bidSize4', 'bidSize5', 'bidSize6', 'bidSize7', 'bidSize8',\n",
       "       'bidSize9', 'bidSize10', 'bidSize11', 'bidSize12', 'bidSize13',\n",
       "       'bidSize14', 'y'],\n",
       "      dtype='object')"
      ]
     },
     "execution_count": 6,
     "metadata": {},
     "output_type": "execute_result"
    }
   ],
   "source": [
    "df.columns"
   ]
  },
  {
   "cell_type": "markdown",
   "metadata": {},
   "source": [
    "# Exploratory Data Analysis"
   ]
  },
  {
   "cell_type": "code",
   "execution_count": null,
   "metadata": {},
   "outputs": [],
   "source": [
    "# # Plot of [y] distribution\n",
    "# fig, ax = plt.subplots(figsize=(15,8))\n",
    "# sns.kdeplot(df.y, bw=0.01)"
   ]
  },
  {
   "cell_type": "code",
   "execution_count": null,
   "metadata": {
    "ExecuteTime": {
     "end_time": "2019-09-12T10:20:19.885549Z",
     "start_time": "2019-09-12T10:20:19.357550Z"
    }
   },
   "outputs": [],
   "source": [
    "# Some feature engineering\n",
    "df.fillna(0, inplace=True)\n",
    "df['spread'] = df.askRate0 - df.bidRate0\n",
    "df['midRate'] = (df.askRate0 + df.bidRate0) / 2\n",
    "# df['expectedY'] = df.midRate.diff(87).shift(-87).clip(-5,5)"
   ]
  },
  {
   "cell_type": "code",
   "execution_count": null,
   "metadata": {},
   "outputs": [],
   "source": [
    "# # Figuring out what [y] is\n",
    "# # y(t) is midRate(t+87) - midRate(t), clipped to (-5.5)\n",
    "# sum(df.y == df.expectedY)\n",
    "# df.loc[df.y != df.expectedY]\n",
    "\n",
    "# fig, ax = plt.subplots(figsize=(15,8))\n",
    "# i = 500\n",
    "# shift = 87\n",
    "# # plt.plot(df.index[0:i], df.midRate[0:i].diff(shift).shift(-shift+14))\n",
    "# plt.plot(df.index[-i:], df.midRate[-i:].diff(shift).shift(-shift))\n",
    "# plt.plot(df.index[-i:], df.y[-i:])\n",
    "# plt.legend(('midRate', 'y'))"
   ]
  },
  {
   "cell_type": "markdown",
   "metadata": {},
   "source": [
    "# Feature engineering"
   ]
  },
  {
   "cell_type": "markdown",
   "metadata": {},
   "source": [
    "### Basics"
   ]
  },
  {
   "cell_type": "code",
   "execution_count": 1,
   "metadata": {
    "ExecuteTime": {
     "end_time": "2019-09-13T15:52:29.178160Z",
     "start_time": "2019-09-13T15:52:29.170157Z"
    }
   },
   "outputs": [],
   "source": [
    "bidSizeList = ['bidSize' + str(i) for i in range(0,15)]\n",
    "askSizeList = ['askSize' + str(i) for i in range(0,15)]\n",
    "bidRateList = ['bidRate' + str(i) for i in range(0,15)]\n",
    "askRateList = ['askRate' + str(i) for i in range(0,15)]"
   ]
  },
  {
   "cell_type": "code",
   "execution_count": null,
   "metadata": {
    "ExecuteTime": {
     "end_time": "2019-09-12T10:20:31.718546Z",
     "start_time": "2019-09-12T10:20:31.136524Z"
    }
   },
   "outputs": [],
   "source": [
    "df['totalBidVol1'] = df.bidSize0 + df.bidSize1\n",
    "for i in range(2,15):\n",
    "    df['totalBidVol' + str(i)] = df['totalBidVol' + str(i-1)] + df['bidSize' + str(i)]\n",
    "\n",
    "df['totalAskVol1'] = df.askSize0 + df.askSize1\n",
    "for i in range(2,15):\n",
    "    df['totalAskVol' + str(i)] = df['totalAskVol' + str(i-1)] + df['askSize' + str(i)]\n",
    "    \n",
    "for i in range(1,15):\n",
    "    df['bidAskRatio' + str(i)] = df['totalBidVol' + str(i)] / df['totalAskVol' + str(i)]\n",
    "\n",
    "df['totalAvailVol'] = df.totalBidVol14 + df.totalAskVol14"
   ]
  },
  {
   "cell_type": "code",
   "execution_count": null,
   "metadata": {
    "ExecuteTime": {
     "end_time": "2019-09-12T10:20:40.573451Z",
     "start_time": "2019-09-12T10:20:34.278453Z"
    }
   },
   "outputs": [],
   "source": [
    "df['vwaBid'] = np.einsum('ij,ji->i', df[bidRateList], df[bidSizeList].T) / df[bidSizeList].sum(axis=1)\n",
    "df['vwaAsk'] = np.einsum('ij,ji->i', df[askRateList], df[askSizeList].T) / df[askSizeList].sum(axis=1)\n",
    "df['vwaBidDMid'] = df.midRate - df.vwaBid\n",
    "df['vwaAskDMid'] = df.vwaAsk - df.midRate\n",
    "df['diff_vwaBidAskDMid'] = df.vwaAskDMid - df.vwaBidDMid"
   ]
  },
  {
   "cell_type": "markdown",
   "metadata": {},
   "source": [
    "# Ideas from papers"
   ]
  },
  {
   "cell_type": "code",
   "execution_count": null,
   "metadata": {
    "ExecuteTime": {
     "end_time": "2019-09-12T10:20:45.643265Z",
     "start_time": "2019-09-12T10:20:45.607265Z"
    }
   },
   "outputs": [],
   "source": [
    "# Volume Order Imbalance\n",
    "# I still disagree with cancelled orders..\n",
    "b1, a1 = (df.bidRate0 < df.bidRate0.shift(-1)), (df.askRate0 < df.askRate0.shift(-1))\n",
    "b2, a2 = (df.bidRate0 == df.bidRate0.shift(-1)), (df.askRate0 == df.askRate0.shift(-1))\n",
    "valsB, valsA = [0, (df.bidSize0 - df.bidSize0.shift(-1))], [0, (df.askSize0 - df.askSize0.shift(-1))]\n",
    "defaultB, defaultA = df.bidSize0, df.askSize0\n",
    "\n",
    "df['deltaVBid'] = np.select([b1,b2], valsB, default=defaultB)\n",
    "df['deltaVAsk'] = np.select([a1,a2], valsA, default=defaultA)\n",
    "df['VOI'] = df.deltaVBid - df.deltaVAsk\n",
    "\n",
    "# Order Imbalance Ratio: when OIR is small, suggests that signal from VOI is weak\n",
    "df['OIR'] = (df.bidSize0 - df.askSize0)/(df.bidSize0 + df.askSize0)"
   ]
  },
  {
   "cell_type": "code",
   "execution_count": null,
   "metadata": {
    "ExecuteTime": {
     "end_time": "2019-09-12T10:20:49.824610Z",
     "start_time": "2019-09-12T10:20:47.151601Z"
    }
   },
   "outputs": [],
   "source": [
    "df.to_feather('intermediate.file')"
   ]
  },
  {
   "cell_type": "code",
   "execution_count": null,
   "metadata": {},
   "outputs": [],
   "source": [
    "# drop original features\n",
    "df.drop(df.columns[:60], axis=1, inplace=True)"
   ]
  },
  {
   "cell_type": "code",
   "execution_count": 2,
   "metadata": {
    "ExecuteTime": {
     "end_time": "2019-09-14T02:22:48.026800Z",
     "start_time": "2019-09-14T02:22:41.950259Z"
    }
   },
   "outputs": [],
   "source": [
    "df = pd.read_feather('intermediate.file')"
   ]
  },
  {
   "cell_type": "markdown",
   "metadata": {},
   "source": [
    "# Fast.ai"
   ]
  },
  {
   "cell_type": "code",
   "execution_count": 3,
   "metadata": {
    "ExecuteTime": {
     "end_time": "2019-09-13T08:34:27.199966Z",
     "start_time": "2019-09-13T08:34:27.194964Z"
    }
   },
   "outputs": [],
   "source": [
    "dep_var = 'y'\n",
    "procs = [FillMissing, Normalize]"
   ]
  },
  {
   "cell_type": "code",
   "execution_count": 4,
   "metadata": {
    "ExecuteTime": {
     "end_time": "2019-09-13T08:34:46.357867Z",
     "start_time": "2019-09-13T08:34:29.653867Z"
    }
   },
   "outputs": [],
   "source": [
    "path = f'D:\\Coding\\XTX Forecasting Challenge'\n",
    "data = TabularDataBunch.from_df(path = path, df = df[:int(5e5)], dep_var = 'y', procs=procs,\n",
    "                                 valid_idx = list(range(int(4e5),int(5e5))))"
   ]
  },
  {
   "cell_type": "code",
   "execution_count": null,
   "metadata": {
    "ExecuteTime": {
     "end_time": "2019-09-13T08:26:47.618579Z",
     "start_time": "2019-09-13T08:26:17.525620Z"
    }
   },
   "outputs": [],
   "source": [
    "data.show_batch(rows=10)"
   ]
  },
  {
   "cell_type": "code",
   "execution_count": null,
   "metadata": {
    "ExecuteTime": {
     "end_time": "2019-09-13T06:27:39.484687Z",
     "start_time": "2019-09-13T06:27:21.410885Z"
    }
   },
   "outputs": [],
   "source": [
    "# data = (TabularList.from_df(df[:int(5e5)], cont_names=df.columns, procs=procs)\n",
    "#                            .split_by_idx(list(range(int(0.8*5e5),int(5e5))))\n",
    "#                            .label_from_df(cols=dep_var, label_cls=FloatList)\n",
    "#                            .databunch())"
   ]
  },
  {
   "cell_type": "code",
   "execution_count": 29,
   "metadata": {
    "ExecuteTime": {
     "end_time": "2019-09-13T08:50:44.246393Z",
     "start_time": "2019-09-13T08:50:44.024206Z"
    }
   },
   "outputs": [],
   "source": [
    "learn = tabular_learner(data, layers=[500,200], metrics=r2_score, ps=[0.001,0.01], emb_drop=0.04)"
   ]
  },
  {
   "cell_type": "code",
   "execution_count": 30,
   "metadata": {
    "ExecuteTime": {
     "end_time": "2019-09-13T08:50:45.534954Z",
     "start_time": "2019-09-13T08:50:45.527952Z"
    }
   },
   "outputs": [
    {
     "data": {
      "text/plain": [
       "TabularModel(\n",
       "  (embeds): ModuleList()\n",
       "  (emb_drop): Dropout(p=0.04, inplace=False)\n",
       "  (bn_cont): BatchNorm1d(114, eps=1e-05, momentum=0.1, affine=True, track_running_stats=True)\n",
       "  (layers): Sequential(\n",
       "    (0): Linear(in_features=114, out_features=500, bias=True)\n",
       "    (1): ReLU(inplace=True)\n",
       "    (2): BatchNorm1d(500, eps=1e-05, momentum=0.1, affine=True, track_running_stats=True)\n",
       "    (3): Dropout(p=0.001, inplace=False)\n",
       "    (4): Linear(in_features=500, out_features=200, bias=True)\n",
       "    (5): ReLU(inplace=True)\n",
       "    (6): BatchNorm1d(200, eps=1e-05, momentum=0.1, affine=True, track_running_stats=True)\n",
       "    (7): Dropout(p=0.01, inplace=False)\n",
       "    (8): Linear(in_features=200, out_features=1, bias=True)\n",
       "  )\n",
       ")"
      ]
     },
     "execution_count": 30,
     "metadata": {},
     "output_type": "execute_result"
    }
   ],
   "source": [
    "learn.model"
   ]
  },
  {
   "cell_type": "code",
   "execution_count": 11,
   "metadata": {
    "ExecuteTime": {
     "end_time": "2019-09-13T08:37:03.605733Z",
     "start_time": "2019-09-13T08:36:35.900238Z"
    }
   },
   "outputs": [
    {
     "data": {
      "text/html": [],
      "text/plain": [
       "<IPython.core.display.HTML object>"
      ]
     },
     "metadata": {},
     "output_type": "display_data"
    },
    {
     "name": "stdout",
     "output_type": "stream",
     "text": [
      "LR Finder is complete, type {learner_name}.recorder.plot() to see the graph.\n"
     ]
    }
   ],
   "source": [
    "learn.lr_find(end_lr=1e1)"
   ]
  },
  {
   "cell_type": "code",
   "execution_count": 12,
   "metadata": {
    "ExecuteTime": {
     "end_time": "2019-09-13T08:37:04.843812Z",
     "start_time": "2019-09-13T08:37:03.608733Z"
    }
   },
   "outputs": [
    {
     "data": {
      "image/png": "[encoded data removed]",
      "text/plain": [
       "<Figure size 432x288 with 1 Axes>"
      ]
     },
     "metadata": {},
     "output_type": "display_data"
    }
   ],
   "source": [
    "learn.recorder.plot()"
   ]
  },
  {
   "cell_type": "code",
   "execution_count": null,
   "metadata": {},
   "outputs": [],
   "source": [
    "# model above has already diverged, we will restart."
   ]
  },
  {
   "cell_type": "code",
   "execution_count": 31,
   "metadata": {
    "ExecuteTime": {
     "end_time": "2019-09-13T09:03:36.738452Z",
     "start_time": "2019-09-13T08:50:49.724470Z"
    }
   },
   "outputs": [
    {
     "data": {
      "text/html": [
       "<table border=\"1\" class=\"dataframe\">\n",
       "  <thead>\n",
       "    <tr style=\"text-align: left;\">\n",
       "      <th>epoch</th>\n",
       "      <th>train_loss</th>\n",
       "      <th>valid_loss</th>\n",
       "      <th>r2_score</th>\n",
       "      <th>time</th>\n",
       "    </tr>\n",
       "  </thead>\n",
       "  <tbody>\n",
       "    <tr>\n",
       "      <td>0</td>\n",
       "      <td>0.568406</td>\n",
       "      <td>0.641813</td>\n",
       "      <td>-inf</td>\n",
       "      <td>04:21</td>\n",
       "    </tr>\n",
       "    <tr>\n",
       "      <td>1</td>\n",
       "      <td>0.488415</td>\n",
       "      <td>0.786832</td>\n",
       "      <td>-inf</td>\n",
       "      <td>04:18</td>\n",
       "    </tr>\n",
       "    <tr>\n",
       "      <td>2</td>\n",
       "      <td>0.479876</td>\n",
       "      <td>0.695911</td>\n",
       "      <td>-inf</td>\n",
       "      <td>04:06</td>\n",
       "    </tr>\n",
       "  </tbody>\n",
       "</table>"
      ],
      "text/plain": [
       "<IPython.core.display.HTML object>"
      ]
     },
     "metadata": {},
     "output_type": "display_data"
    }
   ],
   "source": [
    "learn.fit_one_cycle(3, 1e-4, wd=0.1)"
   ]
  },
  {
   "cell_type": "code",
   "execution_count": 14,
   "metadata": {
    "ExecuteTime": {
     "end_time": "2019-09-13T08:41:02.673928Z",
     "start_time": "2019-09-13T08:41:01.868908Z"
    }
   },
   "outputs": [
    {
     "data": {
      "image/png": "[encoded data removed]",
      "text/plain": [
       "<Figure size 864x288 with 2 Axes>"
      ]
     },
     "metadata": {},
     "output_type": "display_data"
    }
   ],
   "source": [
    "learn.recorder.plot_lr(show_moms=True)"
   ]
  },
  {
   "cell_type": "code",
   "execution_count": 32,
   "metadata": {
    "ExecuteTime": {
     "end_time": "2019-09-13T09:04:03.690828Z",
     "start_time": "2019-09-13T09:04:03.447302Z"
    }
   },
   "outputs": [],
   "source": [
    "learn.save('new_fastai')"
   ]
  },
  {
   "cell_type": "code",
   "execution_count": 33,
   "metadata": {
    "ExecuteTime": {
     "end_time": "2019-09-13T09:04:07.023062Z",
     "start_time": "2019-09-13T09:04:06.385055Z"
    }
   },
   "outputs": [
    {
     "data": {
      "image/png": "[encoded data removed]",
      "text/plain": [
       "<Figure size 432x288 with 1 Axes>"
      ]
     },
     "metadata": {},
     "output_type": "display_data"
    }
   ],
   "source": [
    "learn.recorder.plot_losses()"
   ]
  },
  {
   "cell_type": "code",
   "execution_count": 38,
   "metadata": {
    "ExecuteTime": {
     "end_time": "2019-09-13T09:05:00.282946Z",
     "start_time": "2019-09-13T09:05:00.098945Z"
    }
   },
   "outputs": [
    {
     "data": {
      "text/plain": [
       "(FloatItem [0.449099], tensor([0.4491]), tensor([0.4491]))"
      ]
     },
     "execution_count": 38,
     "metadata": {},
     "output_type": "execute_result"
    }
   ],
   "source": [
    "learn.predict(df.iloc[int(8.1e5)])"
   ]
  },
  {
   "cell_type": "code",
   "execution_count": 39,
   "metadata": {
    "ExecuteTime": {
     "end_time": "2019-09-13T09:05:02.937494Z",
     "start_time": "2019-09-13T09:05:02.932488Z"
    }
   },
   "outputs": [
    {
     "data": {
      "text/plain": [
       "0.25"
      ]
     },
     "execution_count": 39,
     "metadata": {},
     "output_type": "execute_result"
    }
   ],
   "source": [
    "df.y.iloc[int(8.1e5)]"
   ]
  },
  {
   "cell_type": "code",
   "execution_count": 40,
   "metadata": {
    "ExecuteTime": {
     "end_time": "2019-09-13T09:05:38.921082Z",
     "start_time": "2019-09-13T09:05:08.529113Z"
    }
   },
   "outputs": [],
   "source": [
    "preds = learn.get_preds()"
   ]
  },
  {
   "cell_type": "markdown",
   "metadata": {},
   "source": [
    "# TA"
   ]
  },
  {
   "cell_type": "code",
   "execution_count": null,
   "metadata": {
    "ExecuteTime": {
     "end_time": "2019-09-12T15:21:47.040152Z",
     "start_time": "2019-09-12T15:21:45.439153Z"
    },
    "scrolled": true
   },
   "outputs": [],
   "source": [
    "# Rolling ohlc\n",
    "df_ask = df.askRate0.to_frame()\n",
    "df_ask['openAsk'] = df_ask.askRate0.shift(15-1)\n",
    "df_ask['highAsk'] = df_ask.askRate0.rolling(window=15).max().fillna(0)\n",
    "df_ask['lowAsk'] = df_ask.askRate0.rolling(window=15).min().fillna(0)\n",
    "df_ask = df_ask[['openAsk','highAsk','lowAsk','askRate0']].join(df.askSize0)\n",
    "\n",
    "df_bid = df.bidRate0.to_frame()\n",
    "df_bid['openBid'] = df_bid.bidRate0.shift(15-1)\n",
    "df_bid['highBid'] = df_bid.bidRate0.rolling(window=15).max().fillna(0)\n",
    "df_bid['lowBid'] = df_bid.bidRate0.rolling(window=15).min().fillna(0)\n",
    "df_bid = df_bid[['openBid','highBid','lowBid','bidRate0']].join(df.bidSize0)"
   ]
  },
  {
   "cell_type": "code",
   "execution_count": null,
   "metadata": {
    "ExecuteTime": {
     "end_time": "2019-09-12T15:28:19.436501Z",
     "start_time": "2019-09-12T15:22:43.519599Z"
    }
   },
   "outputs": [],
   "source": [
    "import ta\n",
    "df_ask_ta = ta.add_all_ta_features(df_ask, \"openAsk\", \"highAsk\", \"lowAsk\", \"askRate0\", \"askSize0\", fillna=True)\n"
   ]
  },
  {
   "cell_type": "code",
   "execution_count": null,
   "metadata": {},
   "outputs": [],
   "source": [
    "df_bid_ta = ta.add_all_ta_features(df_ask, \"openBid\", \"highBid\", \"lowBid\", \"askRate0\", \"bidRate0\", fillna=True)"
   ]
  },
  {
   "cell_type": "markdown",
   "metadata": {},
   "source": [
    "# Feature Selection"
   ]
  },
  {
   "cell_type": "code",
   "execution_count": 3,
   "metadata": {
    "ExecuteTime": {
     "end_time": "2019-09-14T02:22:54.512802Z",
     "start_time": "2019-09-14T02:22:53.369844Z"
    }
   },
   "outputs": [
    {
     "name": "stdout",
     "output_type": "stream",
     "text": [
      "Wall time: 1.13 s\n"
     ]
    }
   ],
   "source": [
    "%%time\n",
    "X = df.drop('y', axis=1).values\n",
    "# X = df.drop('y', axis=1).iloc[:,indices[:50]].values\n",
    "y = df.y.values"
   ]
  },
  {
   "cell_type": "code",
   "execution_count": 55,
   "metadata": {
    "ExecuteTime": {
     "end_time": "2019-09-13T14:48:44.264193Z",
     "start_time": "2019-09-13T14:47:55.721005Z"
    }
   },
   "outputs": [],
   "source": [
    "# normalise\n",
    "from sklearn.preprocessing import StandardScaler\n",
    "scaler = StandardScaler()\n",
    "X_scaled = scaler.fit_transform(X)\n",
    "\n",
    "# pca\n",
    "from sklearn.decomposition import PCA\n",
    "pca = PCA(n_components=30)\n",
    "X_pca = pca.fit_transform(X_scaled)"
   ]
  },
  {
   "cell_type": "markdown",
   "metadata": {},
   "source": [
    "# Cross-validation"
   ]
  },
  {
   "cell_type": "code",
   "execution_count": 16,
   "metadata": {
    "ExecuteTime": {
     "end_time": "2019-09-13T15:58:22.368381Z",
     "start_time": "2019-09-13T15:58:21.107380Z"
    }
   },
   "outputs": [
    {
     "name": "stdout",
     "output_type": "stream",
     "text": [
      "Wall time: 1.25 s\n"
     ]
    }
   ],
   "source": [
    "%%time\n",
    "# for regression\n",
    "X = df.drop('y', axis=1).values\n",
    "# X = df.drop('y', axis=1).iloc[:,indices[:50]].values\n",
    "y = df.y.values"
   ]
  },
  {
   "cell_type": "code",
   "execution_count": 108,
   "metadata": {
    "ExecuteTime": {
     "end_time": "2019-09-14T03:14:03.785660Z",
     "start_time": "2019-09-14T03:13:59.293849Z"
    }
   },
   "outputs": [
    {
     "name": "stdout",
     "output_type": "stream",
     "text": [
      "TRAIN: (2, 428572) VALID: (428573, 857143) SIZES: (428571, 428571)\n",
      "TRAIN: (428573, 857143) VALID: (857144, 1285714) SIZES: (428571, 428571)\n",
      "TRAIN: (857144, 1285714) VALID: (1285715, 1714285) SIZES: (428571, 428571)\n",
      "TRAIN: (1285715, 1714285) VALID: (1714286, 2142856) SIZES: (428571, 428571)\n",
      "TRAIN: (1714286, 2142856) VALID: (2142857, 2571427) SIZES: (428571, 428571)\n"
     ]
    }
   ],
   "source": [
    "from sklearn.preprocessing import LabelBinarizer\n",
    "from sklearn.ensemble import RandomForestRegressor\n",
    "from sklearn.ensemble import RandomForestClassifier\n",
    "from sklearn.model_selection import RandomizedSearchCV\n",
    "from rolling import RollingWindowSplit\n",
    "\n",
    "rlcv = RollingWindowSplit(n_splits=5, compatible=True)\n",
    "for inc, (train_index, valid_index) in enumerate(rlcv.split(X), 1):\n",
    "    x_train, x_valid = X[train_index], X[valid_index]\n",
    "    y_train, y_valid = y[train_index], y[valid_index]\n",
    "    print(\"TRAIN:\", (train_index[0], train_index[-1]),\n",
    "          \"VALID:\", (valid_index[0], valid_index[-1]),\n",
    "          \"SIZES:\", (len(x_train), len(x_valid)))\n",
    "    \n",
    "lasso = LassoLarsCV(cv=rlcv, n_jobs=-1).fit(X, y)"
   ]
  },
  {
   "cell_type": "code",
   "execution_count": 57,
   "metadata": {
    "ExecuteTime": {
     "end_time": "2019-09-13T14:48:45.018194Z",
     "start_time": "2019-09-13T14:48:44.991191Z"
    }
   },
   "outputs": [
    {
     "name": "stdout",
     "output_type": "stream",
     "text": [
      "[0.339363 0.148498 0.112511 0.038578 0.030945 0.02155  0.02029  0.019281 0.018302 0.0176   0.015209 0.014452 0.01338\n",
      " 0.011426 0.009937 0.00914  0.00901  0.008673 0.008383 0.008    0.007726 0.007239 0.007173 0.00712  0.006848 0.006796\n",
      " 0.006497 0.006261 0.006212 0.006134]\n"
     ]
    }
   ],
   "source": [
    "print(pca.explained_variance_ratio_)"
   ]
  },
  {
   "cell_type": "markdown",
   "metadata": {},
   "source": [
    "# Lasso"
   ]
  },
  {
   "cell_type": "code",
   "execution_count": null,
   "metadata": {
    "ExecuteTime": {
     "end_time": "2019-09-12T14:22:16.648196Z",
     "start_time": "2019-09-12T14:20:46.926739Z"
    }
   },
   "outputs": [],
   "source": [
    "# LASSO regression\n",
    "from sklearn.linear_model import LassoLarsCV\n",
    "lasso = LassoLarsCV(cv=rlcv, n_jobs=-1).fit(X, y)\n",
    "print(f'{lasso.score(x_train, y_train):.3f}, {lasso.score(x_valid, y_valid):.3f}')"
   ]
  },
  {
   "cell_type": "code",
   "execution_count": null,
   "metadata": {
    "ExecuteTime": {
     "end_time": "2019-09-14T03:14:03.785660Z",
     "start_time": "2019-09-14T03:13:59.293849Z"
    }
   },
   "outputs": [],
   "source": [
    "from sklearn.preprocessing import LabelBinarizer\n",
    "from sklearn.ensemble import RandomForestRegressor\n",
    "from sklearn.ensemble import RandomForestClassifier\n",
    "from sklearn.model_selection import RandomizedSearchCV\n",
    "from rolling import RollingWindowSplit\n",
    "from joblib import dump, load\n",
    "\n",
    "rlcv = RollingWindowSplit(n_splits=5, compatible=True)\n",
    "for inc, (train_index, valid_index) in enumerate(rlcv.split(X), 1):\n",
    "    x_train, x_valid = X[train_index], X[valid_index]\n",
    "    y_train, y_valid = y[train_index], y[valid_index]\n",
    "    print(\"TRAIN:\", (train_index[0], train_index[-1]),\n",
    "          \"VALID:\", (valid_index[0], valid_index[-1]),\n",
    "          \"SIZES:\", (len(x_train), len(x_valid)))"
   ]
  },
  {
   "cell_type": "code",
   "execution_count": 108,
   "metadata": {
    "ExecuteTime": {
     "end_time": "2019-09-14T03:14:03.785660Z",
     "start_time": "2019-09-14T03:13:59.293849Z"
    }
   },
   "outputs": [
    {
     "name": "stdout",
     "output_type": "stream",
     "text": [
      "TRAIN: (2, 428572) VALID: (428573, 857143) SIZES: (428571, 428571)\n",
      "TRAIN: (428573, 857143) VALID: (857144, 1285714) SIZES: (428571, 428571)\n",
      "TRAIN: (857144, 1285714) VALID: (1285715, 1714285) SIZES: (428571, 428571)\n",
      "TRAIN: (1285715, 1714285) VALID: (1714286, 2142856) SIZES: (428571, 428571)\n",
      "TRAIN: (1714286, 2142856) VALID: (2142857, 2571427) SIZES: (428571, 428571)\n"
     ]
    }
   ],
   "source": [
    "lasso = LassoLarsCV(cv=rlcv, n_jobs=-1).fit(X, y)\n",
    "dump(lasso, f'lasso_rlcv_114ft_0.0175_0.0187.joblib')"
   ]
  },
  {
   "cell_type": "code",
   "execution_count": 108,
   "metadata": {
    "ExecuteTime": {
     "end_time": "2019-09-14T03:14:03.785660Z",
     "start_time": "2019-09-14T03:13:59.293849Z"
    }
   },
   "outputs": [
    {
     "name": "stdout",
     "output_type": "stream",
     "text": [
      "TRAIN: (2, 428572) VALID: (428573, 857143) SIZES: (428571, 428571)\n",
      "TRAIN: (428573, 857143) VALID: (857144, 1285714) SIZES: (428571, 428571)\n",
      "TRAIN: (857144, 1285714) VALID: (1285715, 1714285) SIZES: (428571, 428571)\n",
      "TRAIN: (1285715, 1714285) VALID: (1714286, 2142856) SIZES: (428571, 428571)\n",
      "TRAIN: (1714286, 2142856) VALID: (2142857, 2571427) SIZES: (428571, 428571)\n"
     ]
    }
   ],
   "source": [
    "print(f'{lasso.score(x_train, y_train):.4f}, {lasso.score(x_valid, y_valid):.4f}')"
   ]
  },
  {
   "cell_type": "code",
   "execution_count": 7,
   "metadata": {
    "ExecuteTime": {
     "end_time": "2019-09-14T02:23:20.042517Z",
     "start_time": "2019-09-14T02:23:20.038516Z"
    }
   },
   "outputs": [],
   "source": [
    "# dump(lasso, 'lasso_rlcv_114ft_0.0175_0.0187.joblib')"
   ]
  },
  {
   "cell_type": "code",
   "execution_count": 104,
   "metadata": {
    "ExecuteTime": {
     "end_time": "2019-09-14T03:12:44.340346Z",
     "start_time": "2019-09-14T03:12:44.332099Z"
    }
   },
   "outputs": [],
   "source": [
    "lasso = load('lasso_rlcv_114ft_0.0175_0.0187.joblib') "
   ]
  },
  {
   "cell_type": "code",
   "execution_count": 109,
   "metadata": {
    "ExecuteTime": {
     "end_time": "2019-09-14T03:14:06.567032Z",
     "start_time": "2019-09-14T03:14:05.507013Z"
    }
   },
   "outputs": [
    {
     "name": "stdout",
     "output_type": "stream",
     "text": [
      "0.0175, 0.0187\n"
     ]
    }
   ],
   "source": []
  },
  {
   "cell_type": "code",
   "execution_count": 110,
   "metadata": {
    "ExecuteTime": {
     "end_time": "2019-09-14T03:14:27.942673Z",
     "start_time": "2019-09-14T03:14:27.486676Z"
    }
   },
   "outputs": [],
   "source": [
    "sigmoid = (1/(1+np.exp(-0.22*lasso.predict(x_valid)))-0.5)*20"
   ]
  },
  {
   "cell_type": "code",
   "execution_count": 111,
   "metadata": {
    "ExecuteTime": {
     "end_time": "2019-09-14T03:14:29.359511Z",
     "start_time": "2019-09-14T03:14:29.332511Z"
    }
   },
   "outputs": [
    {
     "data": {
      "text/plain": [
       "0.01894224448898718"
      ]
     },
     "execution_count": 111,
     "metadata": {},
     "output_type": "execute_result"
    }
   ],
   "source": [
    "r2d2(y_valid, sigmoid)"
   ]
  },
  {
   "cell_type": "code",
   "execution_count": 15,
   "metadata": {
    "ExecuteTime": {
     "end_time": "2019-09-14T02:25:37.441787Z",
     "start_time": "2019-09-14T02:25:37.437786Z"
    }
   },
   "outputs": [],
   "source": [
    "from sklearn.metrics import r2_score as r2d2"
   ]
  },
  {
   "cell_type": "code",
   "execution_count": 103,
   "metadata": {
    "ExecuteTime": {
     "end_time": "2019-09-14T03:12:36.372136Z",
     "start_time": "2019-09-14T03:12:35.670135Z"
    }
   },
   "outputs": [
    {
     "data": {
      "text/plain": [
       "0.02102596287515801"
      ]
     },
     "execution_count": 103,
     "metadata": {},
     "output_type": "execute_result"
    }
   ],
   "source": [
    "r2d2(y_valid, lasso.predict(x_valid))"
   ]
  },
  {
   "cell_type": "code",
   "execution_count": 81,
   "metadata": {
    "ExecuteTime": {
     "end_time": "2019-09-13T15:11:43.801413Z",
     "start_time": "2019-09-13T15:11:43.772450Z"
    }
   },
   "outputs": [
    {
     "data": {
      "text/plain": [
       "array([0.138818])"
      ]
     },
     "execution_count": 81,
     "metadata": {},
     "output_type": "execute_result"
    }
   ],
   "source": [
    "lasso.predict(np.atleast_2d(df.iloc[0].drop('y').to_list()))"
   ]
  },
  {
   "cell_type": "code",
   "execution_count": 26,
   "metadata": {
    "ExecuteTime": {
     "end_time": "2019-09-14T02:40:45.401441Z",
     "start_time": "2019-09-14T02:40:44.983156Z"
    }
   },
   "outputs": [
    {
     "data": {
      "text/plain": [
       "[<matplotlib.lines.Line2D at 0x1f061cb4518>]"
      ]
     },
     "execution_count": 26,
     "metadata": {},
     "output_type": "execute_result"
    },
    {
     "data": {
      "image/png": "[encoded data removed]",
      "text/plain": [
       "<Figure size 432x288 with 1 Axes>"
      ]
     },
     "metadata": {
      "needs_background": "light"
     },
     "output_type": "display_data"
    }
   ],
   "source": [
    "plt.plot(y_valid[:2000])\n",
    "plt.plot(sigmoid[:2000])"
   ]
  },
  {
   "cell_type": "markdown",
   "metadata": {},
   "source": [
    "# RF"
   ]
  },
  {
   "cell_type": "code",
   "execution_count": null,
   "metadata": {
    "ExecuteTime": {
     "end_time": "2019-09-12T14:09:41.226799Z",
     "start_time": "2019-09-12T14:09:41.216797Z"
    }
   },
   "outputs": [],
   "source": [
    "# Create the random grid\n",
    "random_grid = {'n_estimators': [int(x) for x in np.linspace(start = 10, stop = 500, num = 10)],\n",
    "               'max_features': ['auto', 'sqrt'],\n",
    "               'max_depth': [None, *[int(x) for x in np.linspace(10, 110, num = 11)]],\n",
    "               'min_samples_split': [2, 5, 10],\n",
    "               'min_samples_leaf': [1, 2, 4]}"
   ]
  },
  {
   "cell_type": "code",
   "execution_count": null,
   "metadata": {
    "ExecuteTime": {
     "end_time": "2019-09-12T14:09:55.386505Z",
     "start_time": "2019-09-12T14:09:55.380508Z"
    }
   },
   "outputs": [],
   "source": [
    "rf = RandomForestRegressor()\n",
    "rf_random = RandomizedSearchCV(estimator = rf, param_distributions = random_grid,\n",
    "                               n_iter = 30, cv = rlcv, verbose=2, random_state=42, n_jobs=-1)"
   ]
  },
  {
   "cell_type": "code",
   "execution_count": null,
   "metadata": {},
   "outputs": [],
   "source": [
    "rf_random.fit(X, y)"
   ]
  },
  {
   "cell_type": "code",
   "execution_count": null,
   "metadata": {
    "scrolled": true
   },
   "outputs": [],
   "source": [
    "importances = rf.feature_importances_\n",
    "std = np.std([tree.feature_importances_ for tree in rf.estimators_],\n",
    "             axis=0)\n",
    "indices = np.argsort(importances)[::-1]\n",
    "\n",
    "# Print the feature ranking\n",
    "print(\"Feature ranking:\")\n",
    "\n",
    "for f in range(X.shape[1]):\n",
    "    print(\"%d. feature %d (%f)\" % (f + 1, indices[f], importances[indices[f]]))\n",
    "\n",
    "# Plot the feature importances of the forest\n",
    "plt.figure(figsize=(15,8))\n",
    "plt.title(\"Feature importances\")\n",
    "plt.bar(range(X.shape[1]), importances[indices],\n",
    "       color=\"r\", yerr=std[indices], align=\"center\")\n",
    "plt.xticks(range(X.shape[1]), indices)\n",
    "plt.xlim([-1, X.shape[1]])\n",
    "plt.show()"
   ]
  },
  {
   "cell_type": "code",
   "execution_count": null,
   "metadata": {},
   "outputs": [],
   "source": [
    "# scores\n",
    "print(f'{rf.score(x_train, y_train):.3f}, {rf.score(x_valid, y_valid):.3f}')"
   ]
  },
  {
   "cell_type": "code",
   "execution_count": null,
   "metadata": {},
   "outputs": [],
   "source": [
    "# do some rounding of continuous values\n",
    "def rounding(number):\n",
    "    return np.round(number * 4, decimals=0) / 4\n",
    "rpredictions = rounding(predictions)"
   ]
  },
  {
   "cell_type": "code",
   "execution_count": null,
   "metadata": {},
   "outputs": [],
   "source": [
    "dump(importances, 'importances.joblib')"
   ]
  },
  {
   "cell_type": "code",
   "execution_count": null,
   "metadata": {},
   "outputs": [],
   "source": [
    "importances = load('importances.joblib')"
   ]
  },
  {
   "cell_type": "code",
   "execution_count": null,
   "metadata": {},
   "outputs": [],
   "source": [
    "# save model\n",
    "from joblib import dump, load\n",
    "dump(rf, 'model.joblib')"
   ]
  },
  {
   "cell_type": "code",
   "execution_count": null,
   "metadata": {},
   "outputs": [],
   "source": [
    "# load model\n",
    "rf2 = load('model.joblib')\n",
    "rf2.score(x_valid, y_valid)"
   ]
  },
  {
   "cell_type": "code",
   "execution_count": null,
   "metadata": {},
   "outputs": [],
   "source": []
  },
  {
   "cell_type": "code",
   "execution_count": null,
   "metadata": {},
   "outputs": [],
   "source": []
  }
 ],
 "metadata": {
  "kernelspec": {
   "display_name": "Python 3",
   "language": "python",
   "name": "python3"
  },
  "language_info": {
   "codemirror_mode": {
    "name": "ipython",
    "version": 3
   },
   "file_extension": ".py",
   "mimetype": "text/x-python",
   "name": "python",
   "nbconvert_exporter": "python",
   "pygments_lexer": "ipython3",
   "version": "3.6.9"
  }
 },
 "nbformat": 4,
 "nbformat_minor": 2
}
