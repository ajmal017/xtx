{
 "cells": [
  {
   "cell_type": "markdown",
   "metadata": {},
   "source": [
    "# Imports"
   ]
  },
  {
   "cell_type": "code",
   "execution_count": 1,
   "metadata": {
    "ExecuteTime": {
     "end_time": "2019-09-28T06:19:49.151098Z",
     "start_time": "2019-09-28T06:19:46.899640Z"
    }
   },
   "outputs": [],
   "source": [
    "import pandas as pd\n",
    "import numpy as np\n",
    "import matplotlib.pyplot as plt\n",
    "import seaborn as sns\n",
    "import ta\n",
    "import lightgbm as lgb\n",
    "# from fastai import *\n",
    "# from fastai.tabular import *\n",
    "from tqdm import tqdm_notebook\n",
    "from sklearn.model_selection import RandomizedSearchCV\n",
    "from sklearn.linear_model import LassoLarsCV\n",
    "from sklearn.linear_model import RidgeCV\n",
    "from sklearn.preprocessing import StandardScaler\n",
    "from rolling import RollingWindowSplit\n",
    "from sklearn.metrics import r2_score as r2d2\n",
    "from joblib import dump as dumper\n",
    "from joblib import load as loader\n",
    "from datetime import datetime, timedelta\n",
    "\n",
    "%matplotlib inline\n",
    "# %load_ext line_profiler\n",
    "sns.set(style = \"whitegrid\")\n",
    "pd.set_option('display.max_columns', 200)\n",
    "pd.set_option('display.max_rows', 200)"
   ]
  },
  {
   "cell_type": "code",
   "execution_count": 2,
   "metadata": {
    "ExecuteTime": {
     "end_time": "2019-09-28T06:19:56.804777Z",
     "start_time": "2019-09-28T06:19:49.153077Z"
    }
   },
   "outputs": [],
   "source": [
    "path = 'D://Coding//XTX Forecasting Challenge//data-training.file'\n",
    "df = pd.read_feather(path, use_threads=8)\n",
    "df = df.astype('float32')\n",
    "df.fillna(0, inplace=True)"
   ]
  },
  {
   "cell_type": "code",
   "execution_count": 3,
   "metadata": {
    "ExecuteTime": {
     "end_time": "2019-09-28T06:19:56.814781Z",
     "start_time": "2019-09-28T06:19:56.808778Z"
    }
   },
   "outputs": [],
   "source": [
    "askRateList = ['askRate' + str(i) for i in range(0,15)]\n",
    "askSizeList = ['askSize' + str(i) for i in range(0,15)]\n",
    "bidRateList = ['bidRate' + str(i) for i in range(0,15)]\n",
    "bidSizeList = ['bidSize' + str(i) for i in range(0,15)]"
   ]
  },
  {
   "cell_type": "code",
   "execution_count": 4,
   "metadata": {
    "ExecuteTime": {
     "end_time": "2019-09-28T06:19:57.228777Z",
     "start_time": "2019-09-28T06:19:56.817780Z"
    }
   },
   "outputs": [],
   "source": [
    "# 70-30 train-valid and test split\n",
    "def train_valid_test_split(df):\n",
    "    valid_start = int(0.80*len(df))\n",
    "    test_start = int(0.95*len(df))\n",
    "    train_df = df[:valid_start].copy()\n",
    "    valid_df = df[valid_start:test_start].copy()\n",
    "    test_df = df[test_start:].copy()\n",
    "    return train_df, valid_df, test_df\n",
    "train_df, valid_df, test_df = train_valid_test_split(df)"
   ]
  },
  {
   "cell_type": "code",
   "execution_count": 5,
   "metadata": {
    "ExecuteTime": {
     "end_time": "2019-09-28T06:19:57.234779Z",
     "start_time": "2019-09-28T06:19:57.230779Z"
    }
   },
   "outputs": [],
   "source": [
    "core = [*askRateList, *askSizeList, *bidRateList, *bidSizeList]"
   ]
  },
  {
   "cell_type": "markdown",
   "metadata": {},
   "source": [
    "# Exploratory Data Analysis"
   ]
  },
  {
   "cell_type": "code",
   "execution_count": 6,
   "metadata": {
    "ExecuteTime": {
     "end_time": "2019-09-28T06:19:57.243780Z",
     "start_time": "2019-09-28T06:19:57.237777Z"
    }
   },
   "outputs": [],
   "source": [
    "# # Figuring out what [y] is\n",
    "# # y(t) is midRate(t+87) - midRate(t), clipped to (-5.5)\n",
    "# df['expectedY'] = df.midRate.diff(87).shift(-87).clip(-5,5)"
   ]
  },
  {
   "cell_type": "markdown",
   "metadata": {},
   "source": [
    "# Batch prediction"
   ]
  },
  {
   "cell_type": "code",
   "execution_count": 7,
   "metadata": {
    "ExecuteTime": {
     "end_time": "2019-09-28T06:19:57.250780Z",
     "start_time": "2019-09-28T06:19:57.246778Z"
    }
   },
   "outputs": [],
   "source": [
    "# the public leaderboard set should have 150k observations: they check running time of 10k in 1h and max 15h"
   ]
  },
  {
   "cell_type": "code",
   "execution_count": 8,
   "metadata": {
    "ExecuteTime": {
     "end_time": "2019-09-28T06:19:57.273780Z",
     "start_time": "2019-09-28T06:19:57.254779Z"
    }
   },
   "outputs": [],
   "source": [
    "def create_limited_features_orig(df: pd.DataFrame):\n",
    "    # limited features\n",
    "    df['midRate'] = (df.bidRate0 + df.askRate0) / 2 # necessary for ohlc\n",
    "    df['OIR'] = (df.bidSize0 - df.askSize0)/(df.bidSize0 + df.askSize0)\n",
    "    df['totalAskVol'] = df[askSizeList].sum(axis=1)\n",
    "    df['totalBidVol'] = df[bidSizeList].sum(axis=1)\n",
    "    df['OIR_total'] = (df.totalBidVol - df.totalAskVol)/(df.totalBidVol + df.totalAskVol)\n",
    "    \n",
    "    df['spread'] = df.askRate0 - df.bidRate0\n",
    "    df['vwaBid'] = np.einsum('ij,ji->i', df[bidRateList], df[bidSizeList].T) / df[bidSizeList].sum(axis=1)\n",
    "    df['vwaAsk'] = np.einsum('ij,ji->i', df[askRateList], df[askSizeList].T) / df[askSizeList].sum(axis=1)\n",
    "    df['vwaBidDMid'] = df.midRate - df.vwaBid\n",
    "    df['vwaAskDMid'] = df.vwaAsk - df.midRate\n",
    "    df['diff_vwaBidAskDMid'] = df.vwaAskDMid - df.vwaBidDMid\n",
    "    \n",
    "    b1, a1 = (df.bidRate0 < df.bidRate0.shift(1)), (df.askRate0 < df.askRate0.shift(1))\n",
    "    b2, a2 = (df.bidRate0 == df.bidRate0.shift(1)), (df.askRate0 == df.askRate0.shift(1))\n",
    "    valsB, valsA = [0, (df.bidSize0 - df.bidSize0.shift(1))], [0, (df.askSize0 - df.askSize0.shift(1))]\n",
    "    df['deltaVBid'] = np.select([b1,b2], valsB, default=df.bidSize0)\n",
    "    df['deltaVAsk'] = np.select([a1,a2], valsA, default=df.askSize0)\n",
    "    df['VOI'] = df.deltaVBid - df.deltaVAsk\n",
    "    \n",
    "#     lasso = LassoLarsCV(cv=rlcv, n_jobs=-1).fit(x_scaled_train, y_train)\n",
    "#     df['lasso_pred'] = lasso.predict(x_scaled_train)\n",
    "    \n",
    "#     # time features\n",
    "#     tsi = [87, 261, 348, 435, 522]\n",
    "#     trix = [87, 174, 348, 435, 522]\n",
    "#     for t in tsi:        df['tsi' + str(t)] = ta.momentum.tsi(df.midRate, s=t, r=2.25*t)\n",
    "#     for t in trix:       df['trix' + str(t)] = ta.trend.trix(df.midRate, n=t)\n",
    "    return df"
   ]
  },
  {
   "cell_type": "code",
   "execution_count": 9,
   "metadata": {
    "ExecuteTime": {
     "end_time": "2019-09-28T06:19:57.281779Z",
     "start_time": "2019-09-28T06:19:57.276779Z"
    }
   },
   "outputs": [],
   "source": [
    "rlcv = RollingWindowSplit(n_splits=3, compatible=True)"
   ]
  },
  {
   "cell_type": "code",
   "execution_count": 10,
   "metadata": {
    "ExecuteTime": {
     "end_time": "2019-09-28T06:20:04.719777Z",
     "start_time": "2019-09-28T06:19:57.284787Z"
    },
    "scrolled": true
   },
   "outputs": [],
   "source": [
    "# takes 22s\n",
    "limited_train = create_limited_features_orig(train_df)\n",
    "limited_valid = create_limited_features_orig(valid_df)"
   ]
  },
  {
   "cell_type": "code",
   "execution_count": 11,
   "metadata": {
    "ExecuteTime": {
     "end_time": "2019-09-28T06:20:08.895776Z",
     "start_time": "2019-09-28T06:20:04.721777Z"
    }
   },
   "outputs": [],
   "source": [
    "def preprocess(limited_df):\n",
    "    x_train = limited_df.replace([np.inf, -np.inf], np.nan).fillna(0).drop('y', axis=1).values\n",
    "    y_train = limited_df.y.values\n",
    "    return x_train, y_train\n",
    "\n",
    "# takes 10s\n",
    "x_scaled_train, y_train = preprocess(limited_train)\n",
    "x_scaled_valid, y_valid = preprocess(limited_valid)"
   ]
  },
  {
   "cell_type": "code",
   "execution_count": 12,
   "metadata": {
    "ExecuteTime": {
     "end_time": "2019-09-28T06:20:08.903778Z",
     "start_time": "2019-09-28T06:20:08.897778Z"
    }
   },
   "outputs": [],
   "source": [
    "fixed_params = {'boosting_type': 'gbdt',\n",
    "                'nthread': 4,\n",
    "                'random_state': 42,\n",
    "                'metric': 'rmse'}"
   ]
  },
  {
   "cell_type": "code",
   "execution_count": 13,
   "metadata": {
    "ExecuteTime": {
     "end_time": "2019-09-28T06:20:08.913784Z",
     "start_time": "2019-09-28T06:20:08.908779Z"
    }
   },
   "outputs": [],
   "source": [
    "# ''' RandomSearch for optimal LGBM parameters '''\n",
    "# clf = lgb.LGBMRegressor(**fixed_params, eval_set=(x_scaled_valid, y_valid), eval_metric='l2')\n",
    "# grid = RandomizedSearchCV(clf, grid_params, verbose=1, cv=rlcv, n_jobs = -1, n_iter=100)\n",
    "# grid.fit(x_scaled_train, y_train)"
   ]
  },
  {
   "cell_type": "code",
   "execution_count": 14,
   "metadata": {
    "ExecuteTime": {
     "end_time": "2019-09-28T06:20:08.924778Z",
     "start_time": "2019-09-28T06:20:08.917779Z"
    }
   },
   "outputs": [],
   "source": [
    "# true best params\n",
    "best_params = {'subsample': 0.7, 'reg_lambda': 1, 'reg_alpha': 0.5, 'num_leaves': 160, 'min_split_gain': 0.75,\n",
    "               'min_data_in_leaf': 50, 'max_depth': 3, 'max_bin': 70, 'learning_rate': 0.03, 'colsample_bytree': 0.9}"
   ]
  },
  {
   "cell_type": "code",
   "execution_count": 15,
   "metadata": {
    "ExecuteTime": {
     "end_time": "2019-09-28T06:20:45.870778Z",
     "start_time": "2019-09-28T06:20:08.927780Z"
    }
   },
   "outputs": [],
   "source": [
    "# takes 1 min\n",
    "lgbm = lgb.LGBMRegressor(**fixed_params, **best_params, eval_set=(x_scaled_valid, y_valid), eval_metric='l2').fit(x_scaled_train, y_train)"
   ]
  },
  {
   "cell_type": "code",
   "execution_count": 33,
   "metadata": {
    "ExecuteTime": {
     "end_time": "2019-09-28T06:28:40.519507Z",
     "start_time": "2019-09-28T06:28:40.501506Z"
    }
   },
   "outputs": [
    {
     "data": {
      "text/plain": [
       "<lightgbm.basic.Booster at 0x24035a10a20>"
      ]
     },
     "execution_count": 33,
     "metadata": {},
     "output_type": "execute_result"
    }
   ],
   "source": [
    "lgbm.booster_.save_model('booster.txt')\n",
    "# bst = lgb.Booster(model_file='booster.txt')"
   ]
  },
  {
   "cell_type": "code",
   "execution_count": 17,
   "metadata": {
    "ExecuteTime": {
     "end_time": "2019-09-28T06:20:45.901778Z",
     "start_time": "2019-09-28T06:20:45.890778Z"
    }
   },
   "outputs": [],
   "source": [
    "def score(model, x_scaled_train, x_scaled_valid, y_train, y_valid):\n",
    "    predictions_train = model.predict(x_scaled_train)\n",
    "    train_score = r2d2(y_train, predictions_train)\n",
    "    \n",
    "    predictions_valid = model.predict(x_scaled_valid)\n",
    "    valid_score = r2d2(y_valid, predictions_valid)\n",
    "    \n",
    "    limited_test = create_limited_features_orig(test_df)\n",
    "    x_scaled_test, y_test = preprocess(limited_test)\n",
    "    predictions_test = model.predict(x_scaled_test)\n",
    "    test_score = r2d2(y_test, predictions_test)\n",
    "    print(f'{train_score:.4f}, {valid_score:.4f}, {test_score:.4f}')\n",
    "    return predictions_test, limited_test"
   ]
  },
  {
   "cell_type": "code",
   "execution_count": 18,
   "metadata": {
    "ExecuteTime": {
     "end_time": "2019-09-28T06:20:58.829780Z",
     "start_time": "2019-09-28T06:20:45.904779Z"
    }
   },
   "outputs": [
    {
     "name": "stdout",
     "output_type": "stream",
     "text": [
      "0.0232, 0.0218, 0.0199\n"
     ]
    }
   ],
   "source": [
    "'''0.0232, 0.0218, 0.0199'''\n",
    "predictions_test, limited_test = score(lgbm, x_scaled_train, x_scaled_valid, y_train, y_valid)"
   ]
  },
  {
   "cell_type": "code",
   "execution_count": null,
   "metadata": {
    "ExecuteTime": {
     "end_time": "2019-09-28T06:12:29.581426Z",
     "start_time": "2019-09-28T06:12:17.430427Z"
    }
   },
   "outputs": [],
   "source": [
    "'''0.0244, 0.0229, 0.0225'''\n",
    "predictions_test, limited_test = score(lgbm, x_scaled_train, x_scaled_valid, y_train, y_valid)"
   ]
  },
  {
   "cell_type": "code",
   "execution_count": null,
   "metadata": {},
   "outputs": [],
   "source": [
    "''' why not try chucking lasso predictions into the lgbm'''"
   ]
  },
  {
   "cell_type": "code",
   "execution_count": 19,
   "metadata": {
    "ExecuteTime": {
     "end_time": "2019-09-28T06:21:38.191874Z",
     "start_time": "2019-09-28T06:21:01.232862Z"
    }
   },
   "outputs": [
    {
     "name": "stdout",
     "output_type": "stream",
     "text": [
      "0.0066, 0.0110, 0.0101\n",
      "\t        0.0214\n"
     ]
    }
   ],
   "source": [
    "def blended_score():\n",
    "    lasso = LassoLarsCV(cv=rlcv, n_jobs=-1).fit(x_scaled_train, y_train)\n",
    "    predictions_test_lasso, limited_test_lasso = score(lasso, x_scaled_train, x_scaled_valid, y_train, y_valid)\n",
    "    x_scaled_test, y_test = preprocess(limited_test)\n",
    "    ridge = RidgeCV(cv=5).fit(np.stack([predictions_test_lasso, predictions_test]).T, y_test)\n",
    "    blended = np.vstack([predictions_test_lasso, predictions_test]).T @ ridge.coef_\n",
    "    print(f'\\t        {r2d2(y_test, blended):.4f}')\n",
    "    return ridge, lasso\n",
    "ridge, lasso = blended_score()"
   ]
  },
  {
   "cell_type": "code",
   "execution_count": 21,
   "metadata": {
    "ExecuteTime": {
     "end_time": "2019-09-28T06:21:52.085607Z",
     "start_time": "2019-09-28T06:21:52.071579Z"
    }
   },
   "outputs": [
    {
     "data": {
      "text/plain": [
       "['ridge.joblib']"
      ]
     },
     "execution_count": 21,
     "metadata": {},
     "output_type": "execute_result"
    }
   ],
   "source": [
    "dumper(lasso, 'lasso.joblib')\n",
    "dumper(ridge, 'ridge.joblib')\n",
    "# lasso = loader('lasso.joblib')\n",
    "# ridge = loader('ridge.joblib')"
   ]
  },
  {
   "cell_type": "code",
   "execution_count": null,
   "metadata": {
    "ExecuteTime": {
     "end_time": "2019-09-25T08:36:35.997132Z",
     "start_time": "2019-09-25T08:35:57.452Z"
    }
   },
   "outputs": [],
   "source": [
    "sns.set(style='whitegrid')"
   ]
  },
  {
   "cell_type": "code",
   "execution_count": null,
   "metadata": {
    "ExecuteTime": {
     "end_time": "2019-09-27T11:17:43.742506Z",
     "start_time": "2019-09-27T11:17:43.053507Z"
    }
   },
   "outputs": [],
   "source": [
    "plt.subplots(1,1,figsize=(15,8))\n",
    "limit = 1000\n",
    "plt.plot(predictions_test[:limit])\n",
    "plt.plot(limited_test.y.values[:limit])\n",
    "plt.legend(['predictions', 'y'])"
   ]
  },
  {
   "cell_type": "code",
   "execution_count": null,
   "metadata": {
    "ExecuteTime": {
     "end_time": "2019-09-27T13:08:52.476355Z",
     "start_time": "2019-09-27T13:08:52.464356Z"
    }
   },
   "outputs": [],
   "source": [
    "columns = limited_train.columns.drop('y')\n",
    "a = lgbm.feature_importances_; a"
   ]
  },
  {
   "cell_type": "code",
   "execution_count": null,
   "metadata": {
    "ExecuteTime": {
     "end_time": "2019-09-27T13:08:54.521970Z",
     "start_time": "2019-09-27T13:08:54.511968Z"
    },
    "scrolled": true
   },
   "outputs": [],
   "source": [
    "'''You should chuck the variables that meet this condition!'''\n",
    "columns.values[np.where(a>-1,1,0).astype(bool)]"
   ]
  },
  {
   "cell_type": "code",
   "execution_count": null,
   "metadata": {
    "ExecuteTime": {
     "end_time": "2019-09-27T13:00:05.491323Z",
     "start_time": "2019-09-27T13:00:05.484320Z"
    }
   },
   "outputs": [],
   "source": [
    "'''These are the variables that contribute to the lgbm!'''\n",
    "columns.values[np.where(a>20,1,0).astype(bool)]"
   ]
  },
  {
   "cell_type": "markdown",
   "metadata": {},
   "source": [
    "# Fast.ai"
   ]
  },
  {
   "cell_type": "code",
   "execution_count": null,
   "metadata": {
    "ExecuteTime": {
     "end_time": "2019-09-28T04:48:34.651278Z",
     "start_time": "2019-09-28T04:48:34.638270Z"
    }
   },
   "outputs": [],
   "source": [
    "import pandas as pd\n",
    "import numpy as np\n",
    "import matplotlib.pyplot as plt\n",
    "import seaborn as sns\n",
    "from fastai import *\n",
    "from fastai.tabular import *\n",
    "from tqdm import tqdm_notebook\n",
    "from sklearn.metrics import r2_score as r2d2\n",
    "from joblib import dump as dumper\n",
    "from joblib import load as loader\n",
    "\n",
    "%matplotlib inline\n",
    "# %load_ext line_profiler\n",
    "sns.set(style = \"whitegrid\")\n",
    "pd.set_option('display.max_columns', 200)\n",
    "pd.set_option('display.max_rows', 200)"
   ]
  },
  {
   "cell_type": "code",
   "execution_count": null,
   "metadata": {
    "ExecuteTime": {
     "end_time": "2019-09-28T04:47:59.237480Z",
     "start_time": "2019-09-28T04:47:57.151439Z"
    }
   },
   "outputs": [],
   "source": [
    "path = 'D://Coding//XTX Forecasting Challenge//data-training.file'\n",
    "df = pd.read_feather(path, use_threads=8)\n",
    "df = df.astype('float32')\n",
    "df.fillna(0, inplace=True)"
   ]
  },
  {
   "cell_type": "code",
   "execution_count": null,
   "metadata": {
    "ExecuteTime": {
     "end_time": "2019-09-28T04:47:59.250443Z",
     "start_time": "2019-09-28T04:47:59.241440Z"
    }
   },
   "outputs": [],
   "source": [
    "askRateList = ['askRate' + str(i) for i in range(0,15)]\n",
    "askSizeList = ['askSize' + str(i) for i in range(0,15)]\n",
    "bidRateList = ['bidRate' + str(i) for i in range(0,15)]\n",
    "bidSizeList = ['bidSize' + str(i) for i in range(0,15)]"
   ]
  },
  {
   "cell_type": "code",
   "execution_count": null,
   "metadata": {
    "ExecuteTime": {
     "end_time": "2019-09-28T04:47:59.628443Z",
     "start_time": "2019-09-28T04:47:59.254439Z"
    }
   },
   "outputs": [],
   "source": [
    "# 70-30 train-valid and test split\n",
    "def train_valid_test_split(df):\n",
    "    valid_start = int(0.80*len(df))\n",
    "    test_start = int(0.95*len(df))\n",
    "    train_df = df[:valid_start].copy()\n",
    "    valid_df = df[valid_start:test_start].copy()\n",
    "    test_df = df[test_start:].copy()\n",
    "    return train_df, valid_df, test_df\n",
    "train_df, valid_df, test_df = train_valid_test_split(df)"
   ]
  },
  {
   "cell_type": "code",
   "execution_count": null,
   "metadata": {
    "ExecuteTime": {
     "end_time": "2019-09-28T04:47:59.635445Z",
     "start_time": "2019-09-28T04:47:59.631440Z"
    }
   },
   "outputs": [],
   "source": [
    "core = [*askRateList, *askSizeList, *bidRateList, *bidSizeList]"
   ]
  },
  {
   "cell_type": "code",
   "execution_count": null,
   "metadata": {
    "ExecuteTime": {
     "end_time": "2019-09-28T04:52:36.540042Z",
     "start_time": "2019-09-28T04:52:36.528043Z"
    }
   },
   "outputs": [],
   "source": [
    "train_df = train_df.iloc[:int(2e6)]"
   ]
  },
  {
   "cell_type": "code",
   "execution_count": null,
   "metadata": {
    "ExecuteTime": {
     "end_time": "2019-09-28T04:48:01.355352Z",
     "start_time": "2019-09-28T04:48:01.351352Z"
    }
   },
   "outputs": [],
   "source": [
    "class MyFillMissing(FillMissing):\n",
    "    fill_strategy:FillStrategy=FillStrategy.CONSTANT\n",
    "    add_col:bool=True\n",
    "    fill_val:float=0.\n",
    "dep_var = 'y'\n",
    "procs = [FillMissing, Normalize]"
   ]
  },
  {
   "cell_type": "code",
   "execution_count": null,
   "metadata": {
    "ExecuteTime": {
     "end_time": "2019-09-28T04:53:25.489292Z",
     "start_time": "2019-09-28T04:52:50.394993Z"
    }
   },
   "outputs": [],
   "source": [
    "# takes 7s on 500k rows, 30s on full df\n",
    "test = TabularList.from_df(test_df, procs=procs)\n",
    "data = (TabularList.from_df(df = train_valid_df, path='.', cont_names = df.columns.drop('y'), procs=procs)\n",
    "                            .split_by_idx(valid_idx=range(int(0.5*len(train_df)),len(train_df)))\n",
    "                            .label_from_df(cols=dep_var)\n",
    "                            .add_test(test, label=0)\n",
    "                            .databunch())"
   ]
  },
  {
   "cell_type": "code",
   "execution_count": null,
   "metadata": {
    "ExecuteTime": {
     "end_time": "2019-09-28T04:53:36.780291Z",
     "start_time": "2019-09-28T04:53:25.493290Z"
    }
   },
   "outputs": [],
   "source": [
    "dumper(data, 'data.joblib')\n",
    "# data = loader('data.joblib')"
   ]
  },
  {
   "cell_type": "code",
   "execution_count": null,
   "metadata": {
    "ExecuteTime": {
     "end_time": "2019-09-28T05:02:29.723992Z",
     "start_time": "2019-09-28T05:02:29.688995Z"
    },
    "scrolled": true
   },
   "outputs": [],
   "source": [
    "learn = tabular_learner(data, layers=[500,500,500], metrics=[mean_absolute_error, r2_score],\n",
    "                        ps=[0.1,0.1,0.1])"
   ]
  },
  {
   "cell_type": "code",
   "execution_count": null,
   "metadata": {
    "ExecuteTime": {
     "end_time": "2019-09-28T04:50:31.751316Z",
     "start_time": "2019-09-28T04:50:31.748316Z"
    }
   },
   "outputs": [],
   "source": [
    "learn.model;"
   ]
  },
  {
   "cell_type": "code",
   "execution_count": null,
   "metadata": {
    "ExecuteTime": {
     "end_time": "2019-09-28T04:54:43.193549Z",
     "start_time": "2019-09-28T04:53:38.548289Z"
    }
   },
   "outputs": [],
   "source": [
    "learn.lr_find(end_lr=1e1)"
   ]
  },
  {
   "cell_type": "code",
   "execution_count": null,
   "metadata": {
    "ExecuteTime": {
     "end_time": "2019-09-28T04:54:43.209549Z",
     "start_time": "2019-09-28T04:54:43.198549Z"
    }
   },
   "outputs": [],
   "source": [
    "sns.set(style = \"whitegrid\")"
   ]
  },
  {
   "cell_type": "code",
   "execution_count": null,
   "metadata": {
    "ExecuteTime": {
     "end_time": "2019-09-28T04:54:44.858550Z",
     "start_time": "2019-09-28T04:54:43.212548Z"
    }
   },
   "outputs": [],
   "source": [
    "learn.recorder.plot()"
   ]
  },
  {
   "cell_type": "code",
   "execution_count": null,
   "metadata": {},
   "outputs": [],
   "source": [
    "# model above has already diverged, we will restart."
   ]
  },
  {
   "cell_type": "code",
   "execution_count": null,
   "metadata": {
    "ExecuteTime": {
     "end_time": "2019-09-28T05:58:27.157444Z",
     "start_time": "2019-09-28T05:02:34.419826Z"
    }
   },
   "outputs": [],
   "source": [
    "# 2m for 1 cycle\n",
    "learn.fit_one_cycle(3, 2e-4, wd=0.01)"
   ]
  },
  {
   "cell_type": "code",
   "execution_count": null,
   "metadata": {
    "ExecuteTime": {
     "end_time": "2019-09-28T05:58:27.176443Z",
     "start_time": "2019-09-28T05:02:37.667Z"
    }
   },
   "outputs": [],
   "source": [
    "learn.recorder.plot_lr(show_moms=True)"
   ]
  },
  {
   "cell_type": "code",
   "execution_count": null,
   "metadata": {
    "ExecuteTime": {
     "end_time": "2019-09-28T05:58:27.179447Z",
     "start_time": "2019-09-28T05:02:43.048Z"
    }
   },
   "outputs": [],
   "source": [
    "learn.save('new_fastai.joblib')"
   ]
  },
  {
   "cell_type": "code",
   "execution_count": null,
   "metadata": {
    "ExecuteTime": {
     "end_time": "2019-09-28T05:58:27.181444Z",
     "start_time": "2019-09-28T05:02:48.796Z"
    }
   },
   "outputs": [],
   "source": [
    "learn.recorder.plot_losses()"
   ]
  },
  {
   "cell_type": "code",
   "execution_count": null,
   "metadata": {
    "ExecuteTime": {
     "end_time": "2019-09-28T04:33:00.206646Z",
     "start_time": "2019-09-28T04:32:40.728647Z"
    }
   },
   "outputs": [],
   "source": [
    "# this takes 20s\n",
    "learn.show_results()"
   ]
  },
  {
   "cell_type": "code",
   "execution_count": null,
   "metadata": {
    "ExecuteTime": {
     "end_time": "2019-09-28T05:58:27.184446Z",
     "start_time": "2019-09-28T05:02:59.660Z"
    }
   },
   "outputs": [],
   "source": [
    "# this takes 30s\n",
    "preds, y = learn.get_preds(DatasetType.Test)"
   ]
  },
  {
   "cell_type": "code",
   "execution_count": null,
   "metadata": {
    "ExecuteTime": {
     "end_time": "2019-09-28T05:58:27.187446Z",
     "start_time": "2019-09-28T05:03:07.832Z"
    }
   },
   "outputs": [],
   "source": [
    "r2d2(test_df.y.values, preds)"
   ]
  },
  {
   "cell_type": "markdown",
   "metadata": {},
   "source": [
    "# Submission testing"
   ]
  },
  {
   "cell_type": "code",
   "execution_count": 23,
   "metadata": {
    "ExecuteTime": {
     "end_time": "2019-09-28T06:22:50.408289Z",
     "start_time": "2019-09-28T06:22:50.402284Z"
    }
   },
   "outputs": [],
   "source": [
    "def get_next_data_as_df(test_df, iteration, length):\n",
    "    return pd.DataFrame([test_df.head(length).iloc[iteration][:60].values])"
   ]
  },
  {
   "cell_type": "code",
   "execution_count": 24,
   "metadata": {
    "ExecuteTime": {
     "end_time": "2019-09-28T06:22:52.966329Z",
     "start_time": "2019-09-28T06:22:52.943325Z"
    }
   },
   "outputs": [],
   "source": [
    "'''\n",
    "This function takes in a DataFrame row [df] of shape (1,60) and adds 10 cross-sectional features.\n",
    "Returns a DataFrame of shape (1,70).\n",
    "'''\n",
    "def create_limited_features(df):\n",
    "    df.columns = [*askRateList, *askSizeList, *bidRateList, *bidSizeList]\n",
    "    # limited features\n",
    "    df['midRate'] = (df.bidRate0 + df.askRate0) / 2 # necessary for ohlc\n",
    "    df['OIR'] = (df.bidSize0 - df.askSize0)/(df.bidSize0 + df.askSize0)\n",
    "    df['totalAskVol'] = df[askSizeList].sum(axis=1)\n",
    "    df['totalBidVol'] = df[bidSizeList].sum(axis=1)\n",
    "    df['OIR_total'] = (df.totalBidVol - df.totalAskVol)/(df.totalBidVol + df.totalAskVol)\n",
    "    \n",
    "    df['spread'] = df.askRate0 - df.bidRate0\n",
    "    df['vwaBid'] = np.einsum('ij,ji->i', df[bidRateList], df[bidSizeList].T) / df[bidSizeList].sum(axis=1)\n",
    "    df['vwaAsk'] = np.einsum('ij,ji->i', df[askRateList], df[askSizeList].T) / df[askSizeList].sum(axis=1)\n",
    "    df['vwaBidDMid'] = df.midRate - df.vwaBid\n",
    "    df['vwaAskDMid'] = df.vwaAsk - df.midRate\n",
    "    df['diff_vwaBidAskDMid'] = df.vwaAskDMid - df.vwaBidDMid\n",
    "    \n",
    "    b1, a1 = (df.bidRate0 < df.bidRate0.shift(1)), (df.askRate0 < df.askRate0.shift(1))\n",
    "    b2, a2 = (df.bidRate0 == df.bidRate0.shift(1)), (df.askRate0 == df.askRate0.shift(1))\n",
    "    valsB, valsA = [0, (df.bidSize0 - df.bidSize0.shift(1))], [0, (df.askSize0 - df.askSize0.shift(1))]\n",
    "    df['deltaVBid'] = np.select([b1,b2], valsB, default=df.bidSize0)\n",
    "    df['deltaVAsk'] = np.select([a1,a2], valsA, default=df.askSize0)\n",
    "    df['VOI'] = df.deltaVBid - df.deltaVAsk\n",
    "    return df"
   ]
  },
  {
   "cell_type": "code",
   "execution_count": 25,
   "metadata": {
    "ExecuteTime": {
     "end_time": "2019-09-28T06:22:54.714346Z",
     "start_time": "2019-09-28T06:22:54.709346Z"
    }
   },
   "outputs": [],
   "source": [
    "''' Appends to [massive_df]=(many, >70) the DataFrame row [row]=(1,70). '''\n",
    "def append_to_df(massive_df, row):\n",
    "    return massive_df.append(row, sort=False)"
   ]
  },
  {
   "cell_type": "code",
   "execution_count": 26,
   "metadata": {
    "ExecuteTime": {
     "end_time": "2019-09-28T06:22:59.508058Z",
     "start_time": "2019-09-28T06:22:59.504041Z"
    }
   },
   "outputs": [],
   "source": [
    "''' Adds time-dependent features. All features that use shift/diff must come here. '''\n",
    "def add_time_features(df, massive_df_length):\n",
    "    return df[-massive_df_length:]"
   ]
  },
  {
   "cell_type": "code",
   "execution_count": 30,
   "metadata": {
    "ExecuteTime": {
     "end_time": "2019-09-28T06:24:21.160498Z",
     "start_time": "2019-09-28T06:24:21.151491Z"
    }
   },
   "outputs": [],
   "source": [
    "''' This function takes in all features and makes a bounded prediction. '''\n",
    "def get_prediction(data):\n",
    "    X = data.replace([np.inf, -np.inf], np.nan).values\n",
    "    lgbm_predictions = np.clip(lgbm.predict(np.atleast_2d(X)), -5, 5)[0]\n",
    "    X[np.isnan(X)] = 0\n",
    "    lasso_predictions = np.clip(lasso.predict(np.atleast_2d(X)), -5, 5)[0]\n",
    "    return (np.vstack([lgbm_predictions, lasso_predictions]).T @ ridge.coef_)[0]"
   ]
  },
  {
   "cell_type": "code",
   "execution_count": 28,
   "metadata": {
    "ExecuteTime": {
     "end_time": "2019-09-28T06:24:02.874081Z",
     "start_time": "2019-09-28T06:24:02.864076Z"
    },
    "scrolled": true
   },
   "outputs": [],
   "source": [
    "''' true_rlcvscore runs the submission functions on a test dataframe [test_df] taking the first [length] rows of [test_df].'''\n",
    "def true_rlcvscore(test_df, length):\n",
    "    massive_df_length = 3\n",
    "    massive_df, predictions = pd.DataFrame(), []\n",
    "    log_data = pd.DataFrame()  # for debug\n",
    "    for iteration in tqdm_notebook(range(length)):\n",
    "        base_row = get_next_data_as_df(test_df, iteration, length)\n",
    "        row = create_limited_features(base_row)\n",
    "        massive_df = append_to_df(massive_df, row)\n",
    "        massive_df = add_time_features(massive_df, massive_df_length)\n",
    "        data = pd.DataFrame([massive_df.iloc[-1]])\n",
    "        log_data_row = data.copy() # for debug\n",
    "        prediction = get_prediction(data)\n",
    "        predictions.append(prediction)\n",
    "        log_data = log_data.append(log_data_row, sort=False) # for debug\n",
    "    true_values = test_df.y.head(length)\n",
    "    score = r2d2(true_values, predictions)\n",
    "    print(f'{score:.4f}')\n",
    "    return predictions, score, log_data, true_values"
   ]
  },
  {
   "cell_type": "code",
   "execution_count": null,
   "metadata": {
    "ExecuteTime": {
     "end_time": "2019-09-27T16:37:27.022767Z",
     "start_time": "2019-09-27T16:37:27.009767Z"
    }
   },
   "outputs": [],
   "source": [
    "''' 7.93 it/s takes 8 hours'''\n",
    "''' 16.00 it/s should take 4h'''"
   ]
  },
  {
   "cell_type": "code",
   "execution_count": 31,
   "metadata": {
    "ExecuteTime": {
     "end_time": "2019-09-28T06:26:32.196036Z",
     "start_time": "2019-09-28T06:24:23.481038Z"
    }
   },
   "outputs": [
    {
     "data": {
      "application/vnd.jupyter.widget-view+json": {
       "model_id": "f9460eb2f6c4474d8b332a3782e1b6f5",
       "version_major": 2,
       "version_minor": 0
      },
      "text/plain": [
       "HBox(children=(IntProgress(value=0, max=2000), HTML(value='')))"
      ]
     },
     "metadata": {},
     "output_type": "display_data"
    },
    {
     "name": "stdout",
     "output_type": "stream",
     "text": [
      "\n",
      "-0.0478\n"
     ]
    }
   ],
   "source": [
    "# takes 2m30s for 1000\n",
    "# massive_d = true_rlcvscore(test_df, lgbm, 1000)\n",
    "test_predictions, test_score, log_data, true_values = true_rlcvscore(test_df, 2000)"
   ]
  },
  {
   "cell_type": "code",
   "execution_count": null,
   "metadata": {
    "ExecuteTime": {
     "end_time": "2019-09-26T15:29:29.190708Z",
     "start_time": "2019-09-26T15:29:28.663709Z"
    }
   },
   "outputs": [],
   "source": [
    "plt.subplots(1,1,figsize=(15,8))\n",
    "plt.plot(test_predictions)\n",
    "plt.plot(true_values.values)\n",
    "plt.legend(['predictions', 'y'])"
   ]
  },
  {
   "cell_type": "code",
   "execution_count": null,
   "metadata": {
    "ExecuteTime": {
     "end_time": "2019-09-21T15:40:24.416970Z",
     "start_time": "2019-09-21T15:40:24.413968Z"
    }
   },
   "outputs": [],
   "source": [
    "# %lprun -f true_rlcvscore test_predictions, test_score = true_rlcvscore(test_df, 100)"
   ]
  }
 ],
 "metadata": {
  "kernelspec": {
   "display_name": "Python 3",
   "language": "python",
   "name": "python3"
  },
  "language_info": {
   "codemirror_mode": {
    "name": "ipython",
    "version": 3
   },
   "file_extension": ".py",
   "mimetype": "text/x-python",
   "name": "python",
   "nbconvert_exporter": "python",
   "pygments_lexer": "ipython3",
   "version": "3.6.9"
  }
 },
 "nbformat": 4,
 "nbformat_minor": 2
}
