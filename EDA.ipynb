{
 "cells": [
  {
   "cell_type": "markdown",
   "metadata": {},
   "source": [
    "# Setting up"
   ]
  },
  {
   "cell_type": "code",
   "execution_count": 1,
   "metadata": {
    "ExecuteTime": {
     "end_time": "2019-09-21T16:25:57.552127Z",
     "start_time": "2019-09-21T16:25:55.392001Z"
    }
   },
   "outputs": [],
   "source": [
    "import pandas as pd\n",
    "import numpy as np\n",
    "import matplotlib.pyplot as plt\n",
    "import seaborn as sns\n",
    "import ta\n",
    "# from fastai import *\n",
    "# from fastai.tabular import *\n",
    "from tqdm import tqdm_notebook\n",
    "from sklearn.ensemble import RandomForestRegressor\n",
    "from sklearn.model_selection import RandomizedSearchCV\n",
    "from sklearn.preprocessing import StandardScaler\n",
    "from sklearn.decomposition import PCA\n",
    "from sklearn.linear_model import LassoLarsCV\n",
    "from rolling import RollingWindowSplit\n",
    "from sklearn.metrics import r2_score as r2d2\n",
    "from joblib import dump, load\n",
    "from datetime import datetime, timedelta\n",
    "\n",
    "%matplotlib inline\n",
    "%load_ext line_profiler\n",
    "sns.set(style = \"whitegrid\")\n",
    "pd.set_option('display.max_columns', 200)\n",
    "pd.set_option('display.max_rows', 200)"
   ]
  },
  {
   "cell_type": "code",
   "execution_count": null,
   "metadata": {
    "ExecuteTime": {
     "end_time": "2019-09-21T15:49:58.675266Z",
     "start_time": "2019-09-21T15:49:58.672266Z"
    }
   },
   "outputs": [],
   "source": [
    "# %%time\n",
    "# path = 'D://Coding//XTX Forecasting Challenge//data-training.csv'\n",
    "# df = pd.read_csv(path)"
   ]
  },
  {
   "cell_type": "code",
   "execution_count": 2,
   "metadata": {
    "ExecuteTime": {
     "end_time": "2019-09-21T16:26:01.121683Z",
     "start_time": "2019-09-21T16:25:57.862070Z"
    }
   },
   "outputs": [],
   "source": [
    "path = 'D://Coding//XTX Forecasting Challenge//data-training.file'\n",
    "df = pd.read_feather(path, use_threads=8)\n",
    "df = df.astype('float32')\n",
    "df.fillna(0, inplace=True)"
   ]
  },
  {
   "cell_type": "code",
   "execution_count": 3,
   "metadata": {
    "ExecuteTime": {
     "end_time": "2019-09-21T16:26:01.135683Z",
     "start_time": "2019-09-21T16:26:01.127688Z"
    }
   },
   "outputs": [],
   "source": [
    "askRateList = ['askRate' + str(i) for i in range(0,15)]\n",
    "askSizeList = ['askSize' + str(i) for i in range(0,15)]\n",
    "bidRateList = ['bidRate' + str(i) for i in range(0,15)]\n",
    "bidSizeList = ['bidSize' + str(i) for i in range(0,15)]"
   ]
  },
  {
   "cell_type": "code",
   "execution_count": 4,
   "metadata": {
    "ExecuteTime": {
     "end_time": "2019-09-21T16:26:01.150684Z",
     "start_time": "2019-09-21T16:26:01.138685Z"
    }
   },
   "outputs": [],
   "source": [
    "relevant = ['totalBidVol1', 'totalAskVol1', 'totalBidVol2', 'totalAskVol2',\n",
    "           'totalBidVol3', 'totalAskVol3', 'totalBidVol4', 'totalAskVol4',\n",
    "           'totalBidVol5', 'totalAskVol5', 'bidAskRatio4', 'bidAskRatio5', 'OIR',\n",
    "           'daskRate6', 'dbidRate6', 'daskRate7', 'dbidRate7', 'daskRate8',\n",
    "           'dbidRate8', 'daskRate9', 'dbidRate9', 'daskRate10', 'dbidRate10',\n",
    "           'daskRate20', 'midRate', 'bidAskVol', 'others_dlr']"
   ]
  },
  {
   "cell_type": "markdown",
   "metadata": {},
   "source": [
    "# Exploratory Data Analysis"
   ]
  },
  {
   "cell_type": "code",
   "execution_count": null,
   "metadata": {
    "ExecuteTime": {
     "end_time": "2019-09-18T03:01:58.506630Z",
     "start_time": "2019-09-18T03:01:58.500630Z"
    }
   },
   "outputs": [],
   "source": [
    "# # Figuring out what [y] is\n",
    "# # y(t) is midRate(t+87) - midRate(t), clipped to (-5.5)\n",
    "# df['expectedY'] = df.midRate.diff(87).shift(-87).clip(-5,5)"
   ]
  },
  {
   "cell_type": "markdown",
   "metadata": {},
   "source": [
    "# Feature engineering"
   ]
  },
  {
   "cell_type": "markdown",
   "metadata": {},
   "source": [
    "#### Cross-sectional features"
   ]
  },
  {
   "cell_type": "code",
   "execution_count": null,
   "metadata": {
    "ExecuteTime": {
     "end_time": "2019-09-21T13:23:42.549291Z",
     "start_time": "2019-09-21T13:23:42.531294Z"
    }
   },
   "outputs": [],
   "source": [
    "# different from submission\n",
    "def compute_cross_sectional(df):\n",
    "    # Cross-sectional features\n",
    "    df['spread'] = df.askRate0 - df.bidRate0\n",
    "    df['midRate'] = (df.askRate0 + df.bidRate0) / 2\n",
    "    df['bidAskVol'] = df.askSize0 + df.bidSize0\n",
    "    df['totalBidVol1'] = df.bidSize0 + df.bidSize1\n",
    "    df['totalAskVol1'] = df.askSize0 + df.askSize1\n",
    "    for i in range(2,15):\n",
    "        df['totalBidVol' + str(i)] = df['totalBidVol' + str(i-1)] + df['bidSize' + str(i)]\n",
    "        df['totalAskVol' + str(i)] = df['totalAskVol' + str(i-1)] + df['askSize' + str(i)]\n",
    "    for i in range(1,15):\n",
    "        df['bidAskRatio' + str(i)] = df['totalBidVol' + str(i)] / df['totalAskVol' + str(i)]\n",
    "    df['totalAvailVol'] = df.totalBidVol14 + df.totalAskVol14\n",
    "    df['vwaBid'] = np.einsum('ij,ji->i', df[bidRateList], df[bidSizeList].T) / df[bidSizeList].sum(axis=1)\n",
    "    df['vwaAsk'] = np.einsum('ij,ji->i', df[askRateList], df[askSizeList].T) / df[askSizeList].sum(axis=1)\n",
    "    df['vwaBidDMid'] = df.midRate - df.vwaBid\n",
    "    df['vwaAskDMid'] = df.vwaAsk - df.midRate\n",
    "    df['diff_vwaBidAskDMid'] = df.vwaAskDMid - df.vwaBidDMid\n",
    "    return df"
   ]
  },
  {
   "cell_type": "markdown",
   "metadata": {},
   "source": [
    "#### Time series features"
   ]
  },
  {
   "cell_type": "code",
   "execution_count": null,
   "metadata": {
    "ExecuteTime": {
     "end_time": "2019-09-21T13:23:44.272212Z",
     "start_time": "2019-09-21T13:23:44.259209Z"
    }
   },
   "outputs": [],
   "source": [
    "def add_time_features(df):\n",
    "    b1, a1 = (df.bidRate0 < df.bidRate0.shift(1)), (df.askRate0 < df.askRate0.shift(1))\n",
    "    b2, a2 = (df.bidRate0 == df.bidRate0.shift(1)), (df.askRate0 == df.askRate0.shift(1))\n",
    "    valsB, valsA = [0, (df.bidSize0 - df.bidSize0.shift(1))], [0, (df.askSize0 - df.askSize0.shift(1))]\n",
    "    defaultB, defaultA = df.bidSize0, df.askSize0\n",
    "    df.fillna(0, inplace=True)\n",
    "    df['deltaVBid'] = np.select([b1,b2], valsB, default=defaultB)\n",
    "    df['deltaVAsk'] = np.select([a1,a2], valsA, default=defaultA)\n",
    "    df['VOI'] = df.deltaVBid - df.deltaVAsk\n",
    "    df['OIR'] = (df.bidSize0 - df.askSize0)/(df.bidSize0 + df.askSize0)\n",
    "    return df"
   ]
  },
  {
   "cell_type": "markdown",
   "metadata": {},
   "source": [
    "#### Manual time features — can consider adding more to the lags list"
   ]
  },
  {
   "cell_type": "code",
   "execution_count": null,
   "metadata": {
    "ExecuteTime": {
     "end_time": "2019-09-21T13:23:46.288110Z",
     "start_time": "2019-09-21T13:23:46.282114Z"
    }
   },
   "outputs": [],
   "source": [
    "def add_manual_time_features(df):\n",
    "    lags = [*np.arange(1,10), *np.arange(10,100,10), *np.arange(100,1000,100)]\n",
    "    def addTimeFeatures(i):\n",
    "        df['daskRate' + str(i)] = df.askRate0.diff(i)\n",
    "        df['dbidRate' + str(i)] = df.bidRate0.diff(i)\n",
    "    for i in lags:\n",
    "        addTimeFeatures(i)\n",
    "    df.fillna(0, inplace=True)\n",
    "    return df"
   ]
  },
  {
   "cell_type": "code",
   "execution_count": null,
   "metadata": {
    "ExecuteTime": {
     "end_time": "2019-09-21T13:24:00.090801Z",
     "start_time": "2019-09-21T13:23:47.493179Z"
    }
   },
   "outputs": [],
   "source": [
    "df = compute_cross_sectional(df)\n",
    "df = add_time_features(df)\n",
    "df = add_manual_time_features(df)"
   ]
  },
  {
   "cell_type": "code",
   "execution_count": null,
   "metadata": {
    "ExecuteTime": {
     "end_time": "2019-09-21T13:24:18.714752Z",
     "start_time": "2019-09-21T13:24:12.684365Z"
    }
   },
   "outputs": [],
   "source": [
    "# df.to_feather('intermediate.file')\n",
    "df = pd.read_feather('intermediate.file', use_threads=8)"
   ]
  },
  {
   "cell_type": "markdown",
   "metadata": {},
   "source": [
    "#### Tick chart version with ffill"
   ]
  },
  {
   "cell_type": "code",
   "execution_count": null,
   "metadata": {
    "ExecuteTime": {
     "end_time": "2019-09-21T13:24:25.690199Z",
     "start_time": "2019-09-21T13:24:25.342191Z"
    }
   },
   "outputs": [],
   "source": [
    "# midrate version\n",
    "df['time'] = pd.date_range(start='1/1/1970', periods=2999999, freq='T')\n",
    "df.set_index('time', inplace=True)\n",
    "df_mid = df.midRate.resample('15Min').ohlc()\n",
    "df_mid['vol'] = df.bidAskVol.resample('15Min').mean()"
   ]
  },
  {
   "cell_type": "code",
   "execution_count": null,
   "metadata": {
    "ExecuteTime": {
     "end_time": "2019-09-21T13:29:55.923912Z",
     "start_time": "2019-09-21T13:25:51.474655Z"
    }
   },
   "outputs": [],
   "source": [
    "df_mid_ta = ta.add_all_ta_features(df_mid, \"open\", \"high\", \"low\", \"close\", \"vol\", fillna=True)"
   ]
  },
  {
   "cell_type": "code",
   "execution_count": null,
   "metadata": {
    "ExecuteTime": {
     "end_time": "2019-09-21T13:30:34.215790Z",
     "start_time": "2019-09-21T13:29:55.926793Z"
    }
   },
   "outputs": [],
   "source": [
    "# takes 30s\n",
    "new_df = df.join(df_mid_ta).ffill().astype('float32')"
   ]
  },
  {
   "cell_type": "code",
   "execution_count": null,
   "metadata": {
    "ExecuteTime": {
     "end_time": "2019-09-21T15:27:58.597082Z",
     "start_time": "2019-09-21T15:27:44.100232Z"
    }
   },
   "outputs": [],
   "source": [
    "# dump(new_df, 'new_df.joblib')\n",
    "new_df = load('new_df.joblib')"
   ]
  },
  {
   "cell_type": "markdown",
   "metadata": {},
   "source": [
    "# Cross-validation"
   ]
  },
  {
   "cell_type": "code",
   "execution_count": null,
   "metadata": {},
   "outputs": [],
   "source": [
    "# the leaderboard set should have 150k: they check running time of 10k in 1h and max 15h"
   ]
  },
  {
   "cell_type": "code",
   "execution_count": 13,
   "metadata": {
    "ExecuteTime": {
     "end_time": "2019-09-21T16:26:39.314835Z",
     "start_time": "2019-09-21T16:26:38.987837Z"
    }
   },
   "outputs": [],
   "source": [
    "# 70-30 train-valid and test split\n",
    "def train_test_split(df):\n",
    "#     test_start = int(0.95*len(df))\n",
    "    test_start = -100\n",
    "    train_df = df[:test_start].copy()\n",
    "    test_df = df[test_start:].copy()\n",
    "    return train_df, test_df\n",
    "train_df, test_df = train_test_split(df)\n",
    "# train_df, test_df = train_test_split(new_df)"
   ]
  },
  {
   "cell_type": "code",
   "execution_count": null,
   "metadata": {
    "ExecuteTime": {
     "end_time": "2019-09-21T16:09:34.367063Z",
     "start_time": "2019-09-21T16:09:34.350097Z"
    }
   },
   "outputs": [],
   "source": [
    "def create_limited_features_orig(df):\n",
    "    df['midRate'] = (df.bidRate0 + df.askRate0) / 2 # necessary for ohlc\n",
    "    df['bidAskVol'] = df.bidSize0 + df.askSize0 # necessary only for volume_adi\n",
    "    df['totalBidVol1'] = df.bidSize0 + df.bidSize1\n",
    "    df['totalAskVol1'] = df.askSize0 + df.askSize1\n",
    "    for i in range(2,6):\n",
    "        df['totalBidVol' + str(i)] = df['totalBidVol' + str(i-1)] + df['bidSize' + str(i)]\n",
    "        df['totalAskVol' + str(i)] = df['totalAskVol' + str(i-1)] + df['askSize' + str(i)]\n",
    "    for i in range(4,6):\n",
    "        df['bidAskRatio' + str(i)] = df['totalBidVol' + str(i)] / df['totalAskVol' + str(i)]\n",
    "    df['OIR'] = (df.bidSize0 - df.askSize0)/(df.bidSize0 + df.askSize0)\n",
    "    lags = [*np.arange(6,10), 10]\n",
    "    def addTimeFeatures(i):\n",
    "        df['daskRate' + str(i)] = df.askRate0.diff(i)\n",
    "        df['dbidRate' + str(i)] = df.bidRate0.diff(i)\n",
    "    for i in lags:\n",
    "        addTimeFeatures(i)\n",
    "    df['daskRate20'] = df.askRate0.diff(20)\n",
    "    df.fillna(0, inplace=True)\n",
    "\n",
    "    df['time'] = pd.date_range(start='1/1/1970', periods=len(df), freq='T')\n",
    "    df.set_index('time', inplace=True)\n",
    "    df_mid = df.midRate.resample('15Min').ohlc()\n",
    "    df_mid['others_dlr'] = ta.others.daily_log_return(df_mid.close, fillna=True)\n",
    "    df = df.join(df_mid['others_dlr']).ffill().astype('float32')\n",
    "    df.fillna(0, inplace=True)\n",
    "    return df, df_mid"
   ]
  },
  {
   "cell_type": "code",
   "execution_count": null,
   "metadata": {
    "ExecuteTime": {
     "end_time": "2019-09-21T15:50:47.782110Z",
     "start_time": "2019-09-21T15:50:47.778105Z"
    }
   },
   "outputs": [],
   "source": [
    "rlcv = RollingWindowSplit(n_splits=5, compatible=True)"
   ]
  },
  {
   "cell_type": "code",
   "execution_count": null,
   "metadata": {
    "ExecuteTime": {
     "end_time": "2019-09-21T16:09:48.438605Z",
     "start_time": "2019-09-21T16:09:43.248608Z"
    },
    "scrolled": true
   },
   "outputs": [],
   "source": [
    "limited_train, df_mid_train = create_limited_features_orig(train_df)"
   ]
  },
  {
   "cell_type": "code",
   "execution_count": null,
   "metadata": {
    "ExecuteTime": {
     "end_time": "2019-09-21T15:50:57.515581Z",
     "start_time": "2019-09-21T15:50:54.606263Z"
    }
   },
   "outputs": [],
   "source": [
    "# undropped\n",
    "x_train = limited_train.drop(limited_train.columns[:61], axis=1).values\n",
    "y_train = limited_train.y.values\n",
    "\n",
    "# standardise\n",
    "scaler = StandardScaler()\n",
    "scaler.fit(x_train)\n",
    "x_scaled_train = scaler.transform(x_train)"
   ]
  },
  {
   "cell_type": "code",
   "execution_count": null,
   "metadata": {
    "ExecuteTime": {
     "end_time": "2019-09-21T15:47:31.262650Z",
     "start_time": "2019-09-21T15:47:11.486646Z"
    }
   },
   "outputs": [],
   "source": [
    "# takes 11s on limited variables, 1 min on pca variables, 16m21s on 232 non-pca variables\n",
    "lasso = LassoLarsCV(cv=rlcv, n_jobs=-1).fit(x_scaled_train, y_train)"
   ]
  },
  {
   "cell_type": "code",
   "execution_count": 14,
   "metadata": {
    "ExecuteTime": {
     "end_time": "2019-09-21T16:26:43.548110Z",
     "start_time": "2019-09-21T16:26:43.541097Z"
    }
   },
   "outputs": [],
   "source": [
    "# dump(scaler, 'scaler_limited.joblib')\n",
    "# dump(lasso, 'lasso_limited.joblib')\n",
    "scaler = load('scaler_limited.joblib')\n",
    "lasso = load('lasso_limited.joblib')"
   ]
  },
  {
   "cell_type": "code",
   "execution_count": null,
   "metadata": {
    "ExecuteTime": {
     "end_time": "2019-09-21T16:11:21.817701Z",
     "start_time": "2019-09-21T16:11:21.811701Z"
    }
   },
   "outputs": [],
   "source": [
    "def score(model):\n",
    "    limited_test, df_mid_test = create_limited_features_orig(test_df)\n",
    "    x_test = limited_test.drop(limited_test.columns[:61], axis=1).values\n",
    "    y_test = limited_test.y.values\n",
    "    x_scaled_test = scaler.transform(x_test)\n",
    "    predictions = lasso.predict(x_scaled_test)\n",
    "    test_score = r2d2(y_test, predictions)\n",
    "    train_score = lasso.score(x_scaled_train, y_train)\n",
    "    print(f'{train_score:.4f}, {test_score:.4f}')\n",
    "    return predictions, limited_test, df_mid_test"
   ]
  },
  {
   "cell_type": "code",
   "execution_count": null,
   "metadata": {
    "ExecuteTime": {
     "end_time": "2019-09-21T16:11:27.889834Z",
     "start_time": "2019-09-21T16:11:27.085832Z"
    }
   },
   "outputs": [],
   "source": [
    "predictions, limited_test, df_mid_test = score(lasso)"
   ]
  },
  {
   "cell_type": "code",
   "execution_count": null,
   "metadata": {
    "ExecuteTime": {
     "end_time": "2019-09-21T15:28:31.898701Z",
     "start_time": "2019-09-21T15:28:31.891699Z"
    }
   },
   "outputs": [],
   "source": [
    "def manual_score(model):\n",
    "    x_test = test_df[test_df.columns[61:]].values\n",
    "    y_test = test_df.y.values\n",
    "    x_scaled_test = scaler.transform(x_test)\n",
    "    test_preds = x_scaled_test @ lasso.coef_\n",
    "    print(f'{r2d2(y_test, test_preds):.4f}')"
   ]
  },
  {
   "cell_type": "code",
   "execution_count": null,
   "metadata": {
    "ExecuteTime": {
     "end_time": "2019-09-21T15:28:33.476821Z",
     "start_time": "2019-09-21T15:28:32.996821Z"
    }
   },
   "outputs": [],
   "source": [
    "manual_score(lasso) # this is the score if i create the datasets first"
   ]
  },
  {
   "cell_type": "code",
   "execution_count": null,
   "metadata": {
    "ExecuteTime": {
     "end_time": "2019-09-21T15:28:12.007073Z",
     "start_time": "2019-09-21T15:28:11.998076Z"
    }
   },
   "outputs": [],
   "source": [
    "# dump(lasso, 'lasso_limited.joblib')\n",
    "scaler = load('scaler_full.joblib')\n",
    "lasso = load('lasso_full.joblib')"
   ]
  },
  {
   "cell_type": "code",
   "execution_count": null,
   "metadata": {
    "ExecuteTime": {
     "end_time": "2019-09-21T14:28:48.340460Z",
     "start_time": "2019-09-21T14:28:48.332434Z"
    }
   },
   "outputs": [],
   "source": [
    "lassocoef = lasso.coef_[np.where(lasso.coef_)]; lassocoef"
   ]
  },
  {
   "cell_type": "code",
   "execution_count": null,
   "metadata": {
    "ExecuteTime": {
     "end_time": "2019-09-21T14:32:33.455800Z",
     "start_time": "2019-09-21T14:32:33.449798Z"
    }
   },
   "outputs": [],
   "source": [
    "coefs = np.insert(np.insert(lassocoef,-2,np.zeros(2)),0,np.zeros(10))"
   ]
  },
  {
   "cell_type": "code",
   "execution_count": null,
   "metadata": {
    "ExecuteTime": {
     "end_time": "2019-09-21T14:19:53.089057Z",
     "start_time": "2019-09-21T14:19:53.074043Z"
    }
   },
   "outputs": [],
   "source": [
    "new_df.columns[61:][np.where(lasso.coef_)]"
   ]
  },
  {
   "cell_type": "markdown",
   "metadata": {},
   "source": [
    "# Fast.ai"
   ]
  },
  {
   "cell_type": "code",
   "execution_count": null,
   "metadata": {
    "ExecuteTime": {
     "end_time": "2019-09-13T08:34:27.199966Z",
     "start_time": "2019-09-13T08:34:27.194964Z"
    }
   },
   "outputs": [],
   "source": [
    "dep_var = 'y'\n",
    "procs = [FillMissing, Normalize]"
   ]
  },
  {
   "cell_type": "code",
   "execution_count": null,
   "metadata": {
    "ExecuteTime": {
     "end_time": "2019-09-13T08:34:46.357867Z",
     "start_time": "2019-09-13T08:34:29.653867Z"
    }
   },
   "outputs": [],
   "source": [
    "path = f'D:\\Coding\\XTX Forecasting Challenge'\n",
    "data = TabularDataBunch.from_df(path = path, df = df[:int(5e5)], dep_var = 'y', procs=procs,\n",
    "                                 valid_idx = list(range(int(4e5),int(5e5))))"
   ]
  },
  {
   "cell_type": "code",
   "execution_count": null,
   "metadata": {
    "ExecuteTime": {
     "end_time": "2019-09-13T08:26:47.618579Z",
     "start_time": "2019-09-13T08:26:17.525620Z"
    }
   },
   "outputs": [],
   "source": [
    "data.show_batch(rows=10)"
   ]
  },
  {
   "cell_type": "code",
   "execution_count": null,
   "metadata": {
    "ExecuteTime": {
     "end_time": "2019-09-13T06:27:39.484687Z",
     "start_time": "2019-09-13T06:27:21.410885Z"
    }
   },
   "outputs": [],
   "source": [
    "# data = (TabularList.from_df(df[:int(5e5)], cont_names=df.columns, procs=procs)\n",
    "#                            .split_by_idx(list(range(int(0.8*5e5),int(5e5))))\n",
    "#                            .label_from_df(cols=dep_var, label_cls=FloatList)\n",
    "#                            .databunch())"
   ]
  },
  {
   "cell_type": "code",
   "execution_count": null,
   "metadata": {
    "ExecuteTime": {
     "end_time": "2019-09-13T08:50:44.246393Z",
     "start_time": "2019-09-13T08:50:44.024206Z"
    }
   },
   "outputs": [],
   "source": [
    "learn = tabular_learner(data, layers=[500,200], metrics=r2_score, ps=[0.001,0.01], emb_drop=0.04)"
   ]
  },
  {
   "cell_type": "code",
   "execution_count": null,
   "metadata": {
    "ExecuteTime": {
     "end_time": "2019-09-13T08:50:45.534954Z",
     "start_time": "2019-09-13T08:50:45.527952Z"
    }
   },
   "outputs": [],
   "source": [
    "learn.model"
   ]
  },
  {
   "cell_type": "code",
   "execution_count": null,
   "metadata": {
    "ExecuteTime": {
     "end_time": "2019-09-13T08:37:03.605733Z",
     "start_time": "2019-09-13T08:36:35.900238Z"
    }
   },
   "outputs": [],
   "source": [
    "learn.lr_find(end_lr=1e1)"
   ]
  },
  {
   "cell_type": "code",
   "execution_count": null,
   "metadata": {
    "ExecuteTime": {
     "end_time": "2019-09-13T08:37:04.843812Z",
     "start_time": "2019-09-13T08:37:03.608733Z"
    }
   },
   "outputs": [],
   "source": [
    "learn.recorder.plot()"
   ]
  },
  {
   "cell_type": "code",
   "execution_count": null,
   "metadata": {},
   "outputs": [],
   "source": [
    "# model above has already diverged, we will restart."
   ]
  },
  {
   "cell_type": "code",
   "execution_count": null,
   "metadata": {
    "ExecuteTime": {
     "end_time": "2019-09-13T09:03:36.738452Z",
     "start_time": "2019-09-13T08:50:49.724470Z"
    }
   },
   "outputs": [],
   "source": [
    "learn.fit_one_cycle(3, 1e-4, wd=0.1)"
   ]
  },
  {
   "cell_type": "code",
   "execution_count": null,
   "metadata": {
    "ExecuteTime": {
     "end_time": "2019-09-13T08:41:02.673928Z",
     "start_time": "2019-09-13T08:41:01.868908Z"
    }
   },
   "outputs": [],
   "source": [
    "learn.recorder.plot_lr(show_moms=True)"
   ]
  },
  {
   "cell_type": "code",
   "execution_count": null,
   "metadata": {
    "ExecuteTime": {
     "end_time": "2019-09-13T09:04:03.690828Z",
     "start_time": "2019-09-13T09:04:03.447302Z"
    }
   },
   "outputs": [],
   "source": [
    "learn.save('new_fastai')"
   ]
  },
  {
   "cell_type": "code",
   "execution_count": null,
   "metadata": {
    "ExecuteTime": {
     "end_time": "2019-09-13T09:04:07.023062Z",
     "start_time": "2019-09-13T09:04:06.385055Z"
    }
   },
   "outputs": [],
   "source": [
    "learn.recorder.plot_losses()"
   ]
  },
  {
   "cell_type": "code",
   "execution_count": null,
   "metadata": {
    "ExecuteTime": {
     "end_time": "2019-09-13T09:05:00.282946Z",
     "start_time": "2019-09-13T09:05:00.098945Z"
    }
   },
   "outputs": [],
   "source": [
    "learn.predict(df.iloc[int(8.1e5)])"
   ]
  },
  {
   "cell_type": "code",
   "execution_count": null,
   "metadata": {
    "ExecuteTime": {
     "end_time": "2019-09-13T09:05:02.937494Z",
     "start_time": "2019-09-13T09:05:02.932488Z"
    }
   },
   "outputs": [],
   "source": [
    "df.y.iloc[int(8.1e5)]"
   ]
  },
  {
   "cell_type": "code",
   "execution_count": null,
   "metadata": {
    "ExecuteTime": {
     "end_time": "2019-09-13T09:05:38.921082Z",
     "start_time": "2019-09-13T09:05:08.529113Z"
    }
   },
   "outputs": [],
   "source": [
    "preds = learn.get_preds()"
   ]
  },
  {
   "cell_type": "markdown",
   "metadata": {},
   "source": [
    "# Submission testing"
   ]
  },
  {
   "cell_type": "code",
   "execution_count": 5,
   "metadata": {
    "ExecuteTime": {
     "end_time": "2019-09-21T16:26:04.357117Z",
     "start_time": "2019-09-21T16:26:04.353113Z"
    }
   },
   "outputs": [],
   "source": [
    "def get_next_data_as_df(iteration):\n",
    "    return pd.DataFrame([df.tail(100).iloc[iteration][:60].values])\n",
    "#     return pd.DataFrame([test_df.iloc[iteration][:60].values])"
   ]
  },
  {
   "cell_type": "code",
   "execution_count": 6,
   "metadata": {
    "ExecuteTime": {
     "end_time": "2019-09-21T16:26:04.784122Z",
     "start_time": "2019-09-21T16:26:04.773123Z"
    }
   },
   "outputs": [],
   "source": [
    "def create_limited_features(df):\n",
    "    df.columns = [*askRateList, *askSizeList, *bidRateList, *bidSizeList]\n",
    "    df['midRate'] = (df.bidRate0 + df.askRate0) / 2 # necessary for ohlc\n",
    "    df['bidAskVol'] = df.bidSize0 + df.askSize0 # necessary only for volume_adi\n",
    "    df['totalBidVol1'] = df.bidSize0 + df.bidSize1\n",
    "    df['totalAskVol1'] = df.askSize0 + df.askSize1\n",
    "    for i in range(2,6):\n",
    "        df['totalBidVol' + str(i)] = df['totalBidVol' + str(i-1)] + df['bidSize' + str(i)]\n",
    "        df['totalAskVol' + str(i)] = df['totalAskVol' + str(i-1)] + df['askSize' + str(i)]\n",
    "    for i in range(4,6):\n",
    "        df['bidAskRatio' + str(i)] = df['totalBidVol' + str(i)] / df['totalAskVol' + str(i)]\n",
    "    return df"
   ]
  },
  {
   "cell_type": "code",
   "execution_count": 7,
   "metadata": {
    "ExecuteTime": {
     "end_time": "2019-09-21T16:26:05.572736Z",
     "start_time": "2019-09-21T16:26:05.567736Z"
    }
   },
   "outputs": [],
   "source": [
    "def append_to_df(massive_df, row):\n",
    "    try: row.index = [massive_df.index[-1] + timedelta(minutes=1)]\n",
    "    except IndexError: row.index = [datetime(1970,1,1)]\n",
    "    return massive_df.append(row, sort=False)"
   ]
  },
  {
   "cell_type": "code",
   "execution_count": 8,
   "metadata": {
    "ExecuteTime": {
     "end_time": "2019-09-21T16:26:05.933731Z",
     "start_time": "2019-09-21T16:26:05.924726Z"
    }
   },
   "outputs": [],
   "source": [
    "def add_time_features(df):\n",
    "    df['OIR'] = (df.bidSize0 - df.askSize0)/(df.bidSize0 + df.askSize0)\n",
    "    lags = [*np.arange(6,10), 10]\n",
    "    def addManualTimeFeatures(i):\n",
    "        df['daskRate' + str(i)] = df.askRate0.diff(i)\n",
    "        df['dbidRate' + str(i)] = df.bidRate0.diff(i)\n",
    "    for i in lags:\n",
    "        addManualTimeFeatures(i)\n",
    "    df['daskRate20'] = df.askRate0.diff(20)\n",
    "    df.fillna(0, inplace=True)\n",
    "    return df[-25:]"
   ]
  },
  {
   "cell_type": "code",
   "execution_count": 9,
   "metadata": {
    "ExecuteTime": {
     "end_time": "2019-09-21T16:26:06.743014Z",
     "start_time": "2019-09-21T16:26:06.732016Z"
    }
   },
   "outputs": [],
   "source": [
    "def add_resample_features(massive_df, resampled_df):\n",
    "    leftovers = (massive_df.index[-1].to_pydatetime().minute+1) % 15\n",
    "    def pad_history():\n",
    "        full_resampled = resampled_df.append(row_ohlcv, sort=False)\n",
    "        a = pd.DataFrame([full_resampled.iloc[0] for j in range(1+1-len(full_resampled))])\n",
    "        a = a.append(full_resampled, sort=False)\n",
    "        a.index = pd.date_range(start=row_ohlcv.index[-1], periods=len(a), freq='-15Min').sort_values()\n",
    "        full_resampled['others_dlr'] = ta.others.daily_log_return(a.close, fillna=True)\n",
    "        return full_resampled\n",
    "    if leftovers == 0:\n",
    "        row_ohlcv = massive_df.tail(15).midRate.resample('15Min').ohlc().tail(1)\n",
    "        full_resampled = pad_history()\n",
    "        resampled_df = resampled_df.append(full_resampled, sort=False).tail(2) # take last 2 only\n",
    "    else:\n",
    "        row_ohlcv = massive_df.tail(leftovers).midRate.resample('15Min').ohlc().tail(1)\n",
    "        full_resampled = pad_history()\n",
    "    try: massive_df.drop('others_dlr', axis=1, inplace=True)\n",
    "    except KeyError: pass\n",
    "    massive_df = massive_df.join(full_resampled['others_dlr'])\n",
    "    massive_df = massive_df.ffill().astype('float32')\n",
    "    return massive_df, resampled_df"
   ]
  },
  {
   "cell_type": "code",
   "execution_count": 10,
   "metadata": {
    "ExecuteTime": {
     "end_time": "2019-09-21T16:26:07.593679Z",
     "start_time": "2019-09-21T16:26:07.589680Z"
    }
   },
   "outputs": [],
   "source": [
    "def get_prediction(data):\n",
    "    X = data.values\n",
    "    X_scaled = scaler.transform(X)\n",
    "    return np.clip(lasso.predict(np.atleast_2d(X_scaled)), -5, 5)[0]"
   ]
  },
  {
   "cell_type": "code",
   "execution_count": null,
   "metadata": {
    "ExecuteTime": {
     "end_time": "2019-09-21T16:22:22.050260Z",
     "start_time": "2019-09-21T16:22:22.044243Z"
    }
   },
   "outputs": [],
   "source": [
    "massive_df, resampled_df, log_data = pd.DataFrame(), pd.DataFrame(), pd.DataFrame()\n",
    "predictions = []"
   ]
  },
  {
   "cell_type": "code",
   "execution_count": null,
   "metadata": {
    "ExecuteTime": {
     "end_time": "2019-09-21T16:22:24.532880Z",
     "start_time": "2019-09-21T16:22:22.641881Z"
    }
   },
   "outputs": [],
   "source": [
    "for iteration in tqdm_notebook(range(30)):    \n",
    "    base_row = get_next_data_as_df(iteration)\n",
    "    row = create_limited_features(base_row)\n",
    "    massive_df = append_to_df(massive_df, row)\n",
    "    massive_df = add_time_features(massive_df)\n",
    "    massive_df, resampled_df = add_resample_features(massive_df, resampled_df)\n",
    "    log_data_row = pd.DataFrame([massive_df.iloc[-1]]) # for debug\n",
    "    data = pd.DataFrame([massive_df.iloc[-1][relevant]])\n",
    "    prediction = get_prediction(data)\n",
    "    predictions.append(prediction)\n",
    "    log_data = log_data.append(log_data_row, sort=False)  # for debug"
   ]
  },
  {
   "cell_type": "code",
   "execution_count": null,
   "metadata": {
    "ExecuteTime": {
     "end_time": "2019-09-21T16:22:27.587353Z",
     "start_time": "2019-09-21T16:22:27.377358Z"
    },
    "scrolled": true
   },
   "outputs": [],
   "source": [
    "log_data"
   ]
  },
  {
   "cell_type": "code",
   "execution_count": null,
   "metadata": {
    "ExecuteTime": {
     "end_time": "2019-09-21T16:14:18.337241Z",
     "start_time": "2019-09-21T16:14:18.122246Z"
    }
   },
   "outputs": [],
   "source": [
    "massive_df"
   ]
  },
  {
   "cell_type": "code",
   "execution_count": 11,
   "metadata": {
    "ExecuteTime": {
     "end_time": "2019-09-21T16:26:23.642388Z",
     "start_time": "2019-09-21T16:26:23.630405Z"
    },
    "scrolled": true
   },
   "outputs": [],
   "source": [
    "def true_rlcvscore(test_df, length):\n",
    "    massive_df, resampled_df = pd.DataFrame(), pd.DataFrame()\n",
    "    predictions = []\n",
    "    log_data = pd.DataFrame()  # for debug\n",
    "    for iteration in tqdm_notebook(range(length)):    \n",
    "#     for iteration in tqdm_notebook(range(len(test_df))):\n",
    "        base_row = get_next_data_as_df(iteration)\n",
    "        row = create_limited_features(base_row)\n",
    "        massive_df = append_to_df(massive_df, row)\n",
    "        massive_df = add_time_features(massive_df)\n",
    "        massive_df, resampled_df = add_resample_features(massive_df, resampled_df)\n",
    "        log_data_row = pd.DataFrame([massive_df.iloc[-1]]) # for debug\n",
    "        data = pd.DataFrame([massive_df.iloc[-1][relevant]])\n",
    "        prediction = get_prediction(data)\n",
    "        predictions.append(prediction)\n",
    "        log_data = log_data.append(log_data_row, sort=False)  # for debug\n",
    "    score = r2d2(test_df.y.head(length), predictions)\n",
    "    print(score)\n",
    "    return predictions, score, log_data"
   ]
  },
  {
   "cell_type": "code",
   "execution_count": 15,
   "metadata": {
    "ExecuteTime": {
     "end_time": "2019-09-21T16:26:52.237831Z",
     "start_time": "2019-09-21T16:26:47.375828Z"
    },
    "scrolled": false
   },
   "outputs": [
    {
     "data": {
      "application/vnd.jupyter.widget-view+json": {
       "model_id": "eb1c5919527244b19fd4bf8e9cbe2d8d",
       "version_major": 2,
       "version_minor": 0
      },
      "text/plain": [
       "HBox(children=(IntProgress(value=0), HTML(value='')))"
      ]
     },
     "metadata": {},
     "output_type": "display_data"
    },
    {
     "name": "stdout",
     "output_type": "stream",
     "text": [
      "\n",
      "-0.08460555600257247\n"
     ]
    }
   ],
   "source": [
    "test_predictions, test_score, log_data = true_rlcvscore(test_df, 100)"
   ]
  },
  {
   "cell_type": "code",
   "execution_count": null,
   "metadata": {
    "ExecuteTime": {
     "end_time": "2019-09-21T16:22:59.260933Z",
     "start_time": "2019-09-21T16:22:59.246936Z"
    },
    "scrolled": true
   },
   "outputs": [],
   "source": [
    "log_data[['midRate', 'others_dlr']]"
   ]
  },
  {
   "cell_type": "code",
   "execution_count": null,
   "metadata": {
    "ExecuteTime": {
     "end_time": "2019-09-21T16:15:23.673918Z",
     "start_time": "2019-09-21T16:15:23.648918Z"
    }
   },
   "outputs": [],
   "source": [
    "limited_test.drop('y', axis=1)[['midRate', 'others_dlr']]"
   ]
  },
  {
   "cell_type": "code",
   "execution_count": null,
   "metadata": {
    "ExecuteTime": {
     "end_time": "2019-09-21T16:04:48.309200Z",
     "start_time": "2019-09-21T16:04:47.815202Z"
    }
   },
   "outputs": [],
   "source": [
    "log_data == limited_test.drop('y', axis=1)"
   ]
  },
  {
   "cell_type": "code",
   "execution_count": null,
   "metadata": {},
   "outputs": [],
   "source": [
    "# why is logdata.others_dlr only change at row 22, but limited_test changes only at row 18?\n",
    "# most probably because others_dlr uses closing price, and closing price at 22 drops to 1583.75 probably"
   ]
  },
  {
   "cell_type": "code",
   "execution_count": null,
   "metadata": {},
   "outputs": [],
   "source": [
    "# consider changing the ohlc window length, increasing it will reduce the number of mistakes\n",
    "# but increasing it also reduces the speed of reaction\n",
    "# try with different values"
   ]
  },
  {
   "cell_type": "code",
   "execution_count": null,
   "metadata": {
    "ExecuteTime": {
     "end_time": "2019-09-21T16:11:38.934903Z",
     "start_time": "2019-09-21T16:11:38.919931Z"
    }
   },
   "outputs": [],
   "source": [
    "df_mid_test"
   ]
  },
  {
   "cell_type": "code",
   "execution_count": null,
   "metadata": {
    "ExecuteTime": {
     "end_time": "2019-09-21T15:40:24.416970Z",
     "start_time": "2019-09-21T15:40:24.413968Z"
    }
   },
   "outputs": [],
   "source": [
    "# %lprun -f true_rlcvscore test_predictions, test_score = true_rlcvscore(test_df, 100)"
   ]
  }
 ],
 "metadata": {
  "kernelspec": {
   "display_name": "Python 3",
   "language": "python",
   "name": "python3"
  },
  "language_info": {
   "codemirror_mode": {
    "name": "ipython",
    "version": 3
   },
   "file_extension": ".py",
   "mimetype": "text/x-python",
   "name": "python",
   "nbconvert_exporter": "python",
   "pygments_lexer": "ipython3",
   "version": "3.6.9"
  }
 },
 "nbformat": 4,
 "nbformat_minor": 2
}
