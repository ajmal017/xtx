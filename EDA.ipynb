{
 "cells": [
  {
   "cell_type": "markdown",
   "metadata": {},
   "source": [
    "# Setting up"
   ]
  },
  {
   "cell_type": "code",
   "execution_count": 1,
   "metadata": {
    "ExecuteTime": {
     "end_time": "2019-09-15T04:27:38.968445Z",
     "start_time": "2019-09-15T04:27:36.067434Z"
    }
   },
   "outputs": [],
   "source": [
    "import pandas as pd\n",
    "import numpy as np\n",
    "import matplotlib.pyplot as plt\n",
    "import seaborn as sns\n",
    "# from fastai import *\n",
    "# from fastai.tabular import *\n",
    "from sklearn.preprocessing import LabelBinarizer\n",
    "from sklearn.ensemble import RandomForestRegressor\n",
    "from sklearn.ensemble import RandomForestClassifier\n",
    "from sklearn.model_selection import RandomizedSearchCV\n",
    "from rolling import RollingWindowSplit\n",
    "from sklearn.metrics import r2_score as r2d2\n",
    "\n",
    "%matplotlib inline\n",
    "sns.set(style = \"whitegrid\")\n",
    "pd.set_option('display.max_columns', 500)\n",
    "pd.set_option('display.max_rows', 100)"
   ]
  },
  {
   "cell_type": "code",
   "execution_count": null,
   "metadata": {},
   "outputs": [],
   "source": [
    "# %%time\n",
    "# path = 'D://Coding//XTX Forecasting Challenge//data-training.csv'\n",
    "# df = pd.read_csv(path)"
   ]
  },
  {
   "cell_type": "code",
   "execution_count": 5,
   "metadata": {
    "ExecuteTime": {
     "end_time": "2019-09-13T15:53:03.140457Z",
     "start_time": "2019-09-13T15:52:55.951312Z"
    }
   },
   "outputs": [
    {
     "name": "stdout",
     "output_type": "stream",
     "text": [
      "Wall time: 7.18 s\n"
     ]
    }
   ],
   "source": [
    "path = 'D://Coding//XTX Forecasting Challenge//data-training.file'\n",
    "df = pd.read_feather(path, use_threads=8)\n",
    "df = df.astype('float32')"
   ]
  },
  {
   "cell_type": "markdown",
   "metadata": {},
   "source": [
    "# Exploratory Data Analysis"
   ]
  },
  {
   "cell_type": "code",
   "execution_count": 117,
   "metadata": {
    "ExecuteTime": {
     "end_time": "2019-09-14T03:56:30.259562Z",
     "start_time": "2019-09-14T03:56:30.254563Z"
    }
   },
   "outputs": [],
   "source": [
    "# # Figuring out what [y] is\n",
    "# # y(t) is midRate(t+87) - midRate(t), clipped to (-5.5)\n",
    "# df['expectedY'] = df.midRate.diff(87).shift(-87).clip(-5,5)"
   ]
  },
  {
   "cell_type": "markdown",
   "metadata": {},
   "source": [
    "# Feature engineering"
   ]
  },
  {
   "cell_type": "markdown",
   "metadata": {},
   "source": [
    "### Basics"
   ]
  },
  {
   "cell_type": "code",
   "execution_count": null,
   "metadata": {
    "ExecuteTime": {
     "end_time": "2019-09-12T10:20:19.885549Z",
     "start_time": "2019-09-12T10:20:19.357550Z"
    }
   },
   "outputs": [],
   "source": [
    "df.fillna(0, inplace=True)\n",
    "df['spread'] = df.askRate0 - df.bidRate0\n",
    "df['midRate'] = (df.askRate0 + df.bidRate0) / 2"
   ]
  },
  {
   "cell_type": "code",
   "execution_count": 9,
   "metadata": {
    "ExecuteTime": {
     "end_time": "2019-09-15T03:22:24.598915Z",
     "start_time": "2019-09-15T03:22:24.592910Z"
    }
   },
   "outputs": [],
   "source": [
    "bidSizeList = ['bidSize' + str(i) for i in range(0,15)]\n",
    "askSizeList = ['askSize' + str(i) for i in range(0,15)]\n",
    "bidRateList = ['bidRate' + str(i) for i in range(0,15)]\n",
    "askRateList = ['askRate' + str(i) for i in range(0,15)]"
   ]
  },
  {
   "cell_type": "code",
   "execution_count": null,
   "metadata": {
    "ExecuteTime": {
     "end_time": "2019-09-12T10:20:31.718546Z",
     "start_time": "2019-09-12T10:20:31.136524Z"
    }
   },
   "outputs": [],
   "source": [
    "df['totalBidVol1'] = df.bidSize0 + df.bidSize1\n",
    "df['totalAskVol1'] = df.askSize0 + df.askSize1\n",
    "for i in range(2,15):\n",
    "    df['totalBidVol' + str(i)] = df['totalBidVol' + str(i-1)] + df['bidSize' + str(i)]\n",
    "    df['totalAskVol' + str(i)] = df['totalAskVol' + str(i-1)] + df['askSize' + str(i)]\n",
    "for i in range(1,15):\n",
    "    df['bidAskRatio' + str(i)] = df['totalBidVol' + str(i)] / df['totalAskVol' + str(i)]\n",
    "df['totalAvailVol'] = df.totalBidVol14 + df.totalAskVol14"
   ]
  },
  {
   "cell_type": "code",
   "execution_count": null,
   "metadata": {
    "ExecuteTime": {
     "end_time": "2019-09-12T10:20:40.573451Z",
     "start_time": "2019-09-12T10:20:34.278453Z"
    }
   },
   "outputs": [],
   "source": [
    "df['vwaBid'] = np.einsum('ij,ji->i', df[bidRateList], df[bidSizeList].T) / df[bidSizeList].sum(axis=1)\n",
    "df['vwaAsk'] = np.einsum('ij,ji->i', df[askRateList], df[askSizeList].T) / df[askSizeList].sum(axis=1)\n",
    "df['vwaBidDMid'] = df.midRate - df.vwaBid\n",
    "df['vwaAskDMid'] = df.vwaAsk - df.midRate\n",
    "df['diff_vwaBidAskDMid'] = df.vwaAskDMid - df.vwaBidDMid"
   ]
  },
  {
   "cell_type": "markdown",
   "metadata": {},
   "source": [
    "# Ideas from papers"
   ]
  },
  {
   "cell_type": "code",
   "execution_count": null,
   "metadata": {
    "ExecuteTime": {
     "end_time": "2019-09-12T10:20:45.643265Z",
     "start_time": "2019-09-12T10:20:45.607265Z"
    }
   },
   "outputs": [],
   "source": [
    "# Volume Order Imbalance\n",
    "b1, a1 = (df.bidRate0 < df.bidRate0.shift(-1)), (df.askRate0 < df.askRate0.shift(-1))\n",
    "b2, a2 = (df.bidRate0 == df.bidRate0.shift(-1)), (df.askRate0 == df.askRate0.shift(-1))\n",
    "valsB, valsA = [0, (df.bidSize0 - df.bidSize0.shift(-1))], [0, (df.askSize0 - df.askSize0.shift(-1))]\n",
    "defaultB, defaultA = df.bidSize0, df.askSize0\n",
    "df['deltaVBid'] = np.select([b1,b2], valsB, default=defaultB)\n",
    "df['deltaVAsk'] = np.select([a1,a2], valsA, default=defaultA)\n",
    "df['VOI'] = df.deltaVBid - df.deltaVAsk\n",
    "\n",
    "# Order Imbalance Ratio: when OIR is small, suggests that signal from VOI is weak\n",
    "df['OIR'] = (df.bidSize0 - df.askSize0)/(df.bidSize0 + df.askSize0)"
   ]
  },
  {
   "cell_type": "code",
   "execution_count": null,
   "metadata": {
    "ExecuteTime": {
     "end_time": "2019-09-12T10:20:49.824610Z",
     "start_time": "2019-09-12T10:20:47.151601Z"
    }
   },
   "outputs": [],
   "source": [
    "df.to_feather('intermediate.file')"
   ]
  },
  {
   "cell_type": "code",
   "execution_count": null,
   "metadata": {},
   "outputs": [],
   "source": [
    "# drop original features\n",
    "df.drop(df.columns[:60], axis=1, inplace=True)"
   ]
  },
  {
   "cell_type": "code",
   "execution_count": 2,
   "metadata": {
    "ExecuteTime": {
     "end_time": "2019-09-15T04:28:01.631910Z",
     "start_time": "2019-09-15T04:27:55.863073Z"
    }
   },
   "outputs": [],
   "source": [
    "df = pd.read_feather('intermediate.file')"
   ]
  },
  {
   "cell_type": "markdown",
   "metadata": {},
   "source": [
    "# TA"
   ]
  },
  {
   "cell_type": "markdown",
   "metadata": {},
   "source": [
    "#### Manual time features"
   ]
  },
  {
   "cell_type": "code",
   "execution_count": 3,
   "metadata": {
    "ExecuteTime": {
     "end_time": "2019-09-15T04:28:06.610166Z",
     "start_time": "2019-09-15T04:28:01.633910Z"
    },
    "scrolled": true
   },
   "outputs": [],
   "source": [
    "# adding time-related features\n",
    "lags = [*np.arange(1,10), *np.arange(10,100,10), *np.arange(100,1000,100)]\n",
    "def addTimeFeatures(i):\n",
    "    df['daskRate' + str(i)] = df.askRate0.diff(i)\n",
    "    df['dbidRate' + str(i)] = df.bidRate0.diff(i)\n",
    "for i in lags:\n",
    "    addTimeFeatures(i)\n",
    "df.fillna(0, inplace=True)"
   ]
  },
  {
   "cell_type": "markdown",
   "metadata": {},
   "source": [
    "#### Line-by-line OHLC using TA library"
   ]
  },
  {
   "cell_type": "code",
   "execution_count": 4,
   "metadata": {
    "ExecuteTime": {
     "end_time": "2019-09-15T04:28:08.124490Z",
     "start_time": "2019-09-15T04:28:06.613129Z"
    },
    "scrolled": true
   },
   "outputs": [],
   "source": [
    "# Rolling ohlc\n",
    "window_length = 1000\n",
    "df_ask = df.askRate0.to_frame()\n",
    "df_ask['openAsk'] = df_ask.askRate0.shift(window_length-1)\n",
    "df_ask['highAsk'] = df_ask.askRate0.rolling(window=window_length).max().fillna(0)\n",
    "df_ask['lowAsk'] = df_ask.askRate0.rolling(window=window_length).min().fillna(0)\n",
    "df_ask = df_ask[['openAsk','highAsk','lowAsk','askRate0']].join(df.askSize0)\n",
    "\n",
    "df_bid = df.bidRate0.to_frame()\n",
    "df_bid['openBid'] = df_bid.bidRate0.shift(window_length-1)\n",
    "df_bid['highBid'] = df_bid.bidRate0.rolling(window=window_length).max().fillna(0)\n",
    "df_bid['lowBid'] = df_bid.bidRate0.rolling(window=window_length).min().fillna(0)\n",
    "df_bid = df_bid[['openBid','highBid','lowBid','bidRate0']].join(df.bidSize0)"
   ]
  },
  {
   "cell_type": "code",
   "execution_count": 15,
   "metadata": {
    "ExecuteTime": {
     "end_time": "2019-09-15T04:51:21.891227Z",
     "start_time": "2019-09-15T04:49:09.410220Z"
    }
   },
   "outputs": [],
   "source": [
    "import ta\n",
    "df_ask_ta = ta.add_all_ta_features(df_ask.head(100000), \"openAsk\", \"highAsk\", \"lowAsk\", \"askRate0\", \"askSize0\", fillna=True)"
   ]
  },
  {
   "cell_type": "markdown",
   "metadata": {},
   "source": [
    "#### Tick chart version with ffill"
   ]
  },
  {
   "cell_type": "code",
   "execution_count": 21,
   "metadata": {
    "ExecuteTime": {
     "end_time": "2019-09-15T04:55:39.480991Z",
     "start_time": "2019-09-15T04:55:39.447992Z"
    }
   },
   "outputs": [],
   "source": [
    "df['time'] = pd.date_range(start='1/1/1970', periods=2999999, freq='T')"
   ]
  },
  {
   "cell_type": "code",
   "execution_count": 23,
   "metadata": {
    "ExecuteTime": {
     "end_time": "2019-09-15T04:55:54.547975Z",
     "start_time": "2019-09-15T04:55:54.543978Z"
    }
   },
   "outputs": [],
   "source": [
    "df.set_index('time', inplace=True)"
   ]
  },
  {
   "cell_type": "code",
   "execution_count": 27,
   "metadata": {
    "ExecuteTime": {
     "end_time": "2019-09-15T04:58:51.062972Z",
     "start_time": "2019-09-15T04:58:50.878764Z"
    }
   },
   "outputs": [],
   "source": [
    "df_ask = df.askRate0.resample('15Min').ohlc()"
   ]
  },
  {
   "cell_type": "code",
   "execution_count": 39,
   "metadata": {
    "ExecuteTime": {
     "end_time": "2019-09-15T05:03:53.989988Z",
     "start_time": "2019-09-15T05:03:53.796985Z"
    }
   },
   "outputs": [],
   "source": [
    "df_ask['vol'] = df.askSize0.resample('15Min').mean()"
   ]
  },
  {
   "cell_type": "code",
   "execution_count": null,
   "metadata": {
    "ExecuteTime": {
     "start_time": "2019-09-15T05:04:28.193Z"
    }
   },
   "outputs": [],
   "source": [
    "df_ask_ta = ta.add_all_ta_features(df_ask, \"open\", \"high\", \"low\", \"close\", \"vol\", fillna=True)"
   ]
  },
  {
   "cell_type": "code",
   "execution_count": 34,
   "metadata": {
    "ExecuteTime": {
     "end_time": "2019-09-15T05:00:59.214081Z",
     "start_time": "2019-09-15T05:00:38.522084Z"
    }
   },
   "outputs": [],
   "source": [
    "new_df = df.join(df_ask).ffill()"
   ]
  },
  {
   "cell_type": "code",
   "execution_count": 36,
   "metadata": {
    "ExecuteTime": {
     "end_time": "2019-09-15T05:01:29.021559Z",
     "start_time": "2019-09-15T05:01:29.014555Z"
    }
   },
   "outputs": [
    {
     "data": {
      "text/plain": [
       "(2999999, 173)"
      ]
     },
     "execution_count": 36,
     "metadata": {},
     "output_type": "execute_result"
    }
   ],
   "source": [
    "new_df.shape"
   ]
  },
  {
   "cell_type": "markdown",
   "metadata": {},
   "source": [
    "# Feature Selection"
   ]
  },
  {
   "cell_type": "code",
   "execution_count": 55,
   "metadata": {
    "ExecuteTime": {
     "end_time": "2019-09-13T14:48:44.264193Z",
     "start_time": "2019-09-13T14:47:55.721005Z"
    }
   },
   "outputs": [],
   "source": [
    "# normalise\n",
    "from sklearn.preprocessing import StandardScaler\n",
    "scaler = StandardScaler()\n",
    "X_scaled = scaler.fit_transform(X)\n",
    "\n",
    "# pca\n",
    "from sklearn.decomposition import PCA\n",
    "pca = PCA(n_components=30)\n",
    "X_pca = pca.fit_transform(X_scaled)"
   ]
  },
  {
   "cell_type": "code",
   "execution_count": 57,
   "metadata": {
    "ExecuteTime": {
     "end_time": "2019-09-13T14:48:45.018194Z",
     "start_time": "2019-09-13T14:48:44.991191Z"
    }
   },
   "outputs": [
    {
     "name": "stdout",
     "output_type": "stream",
     "text": [
      "[0.339363 0.148498 0.112511 0.038578 0.030945 0.02155  0.02029  0.019281 0.018302 0.0176   0.015209 0.014452 0.01338\n",
      " 0.011426 0.009937 0.00914  0.00901  0.008673 0.008383 0.008    0.007726 0.007239 0.007173 0.00712  0.006848 0.006796\n",
      " 0.006497 0.006261 0.006212 0.006134]\n"
     ]
    }
   ],
   "source": [
    "print(pca.explained_variance_ratio_)"
   ]
  },
  {
   "cell_type": "markdown",
   "metadata": {},
   "source": [
    "# Cross-validation"
   ]
  },
  {
   "cell_type": "code",
   "execution_count": 5,
   "metadata": {
    "ExecuteTime": {
     "end_time": "2019-09-14T06:56:50.495536Z",
     "start_time": "2019-09-14T06:56:49.564560Z"
    }
   },
   "outputs": [
    {
     "name": "stdout",
     "output_type": "stream",
     "text": [
      "Wall time: 918 ms\n"
     ]
    }
   ],
   "source": [
    "X = df.drop('y', axis=1).values\n",
    "y = df.y.values"
   ]
  },
  {
   "cell_type": "code",
   "execution_count": 6,
   "metadata": {
    "ExecuteTime": {
     "end_time": "2019-09-14T06:56:57.107495Z",
     "start_time": "2019-09-14T06:56:54.020854Z"
    },
    "scrolled": true
   },
   "outputs": [
    {
     "name": "stdout",
     "output_type": "stream",
     "text": [
      "TRAIN: (2, 428572) VALID: (428573, 857143) SIZES: (428571, 428571)\n",
      "TRAIN: (428573, 857143) VALID: (857144, 1285714) SIZES: (428571, 428571)\n",
      "TRAIN: (857144, 1285714) VALID: (1285715, 1714285) SIZES: (428571, 428571)\n",
      "TRAIN: (1285715, 1714285) VALID: (1714286, 2142856) SIZES: (428571, 428571)\n",
      "TRAIN: (1714286, 2142856) VALID: (2142857, 2571427) SIZES: (428571, 428571)\n"
     ]
    }
   ],
   "source": [
    "rlcv = RollingWindowSplit(n_splits=5, compatible=True)\n",
    "for inc, (train_index, valid_index) in enumerate(rlcv.split(X), 1):\n",
    "    x_train, x_valid = X[train_index], X[valid_index]\n",
    "    y_train, y_valid = y[train_index], y[valid_index]\n",
    "    print(\"TRAIN:\", (train_index[0], train_index[-1]),\n",
    "          \"VALID:\", (valid_index[0], valid_index[-1]),\n",
    "          \"SIZES:\", (len(x_train), len(x_valid)))"
   ]
  },
  {
   "cell_type": "markdown",
   "metadata": {},
   "source": [
    "# Lasso"
   ]
  },
  {
   "cell_type": "code",
   "execution_count": null,
   "metadata": {
    "ExecuteTime": {
     "end_time": "2019-09-12T14:22:16.648196Z",
     "start_time": "2019-09-12T14:20:46.926739Z"
    }
   },
   "outputs": [],
   "source": [
    "from sklearn.linear_model import LassoLarsCV\n",
    "lasso = LassoLarsCV(cv=rlcv, n_jobs=-1).fit(X, y)\n",
    "print(f'{lasso.score(x_train, y_train):.4f}, {lasso.score(x_valid, y_valid):.4f}')"
   ]
  },
  {
   "cell_type": "code",
   "execution_count": 108,
   "metadata": {
    "ExecuteTime": {
     "end_time": "2019-09-14T03:14:03.785660Z",
     "start_time": "2019-09-14T03:13:59.293849Z"
    }
   },
   "outputs": [
    {
     "name": "stdout",
     "output_type": "stream",
     "text": [
      "TRAIN: (2, 428572) VALID: (428573, 857143) SIZES: (428571, 428571)\n",
      "TRAIN: (428573, 857143) VALID: (857144, 1285714) SIZES: (428571, 428571)\n",
      "TRAIN: (857144, 1285714) VALID: (1285715, 1714285) SIZES: (428571, 428571)\n",
      "TRAIN: (1285715, 1714285) VALID: (1714286, 2142856) SIZES: (428571, 428571)\n",
      "TRAIN: (1714286, 2142856) VALID: (2142857, 2571427) SIZES: (428571, 428571)\n"
     ]
    }
   ],
   "source": [
    "dump(lasso, f'lasso_rlcv_114ft_0.0175_0.0187.joblib')"
   ]
  },
  {
   "cell_type": "code",
   "execution_count": 104,
   "metadata": {
    "ExecuteTime": {
     "end_time": "2019-09-14T03:12:44.340346Z",
     "start_time": "2019-09-14T03:12:44.332099Z"
    }
   },
   "outputs": [],
   "source": [
    "lasso = load('lasso_rlcv_114ft_0.0175_0.0187.joblib') "
   ]
  },
  {
   "cell_type": "code",
   "execution_count": 110,
   "metadata": {
    "ExecuteTime": {
     "end_time": "2019-09-14T03:14:27.942673Z",
     "start_time": "2019-09-14T03:14:27.486676Z"
    }
   },
   "outputs": [],
   "source": [
    "# add a sigmoid to bound values\n",
    "sigmoid = (1/(1+np.exp(-0.22*lasso.predict(x_valid)))-0.5)*20"
   ]
  },
  {
   "cell_type": "code",
   "execution_count": 111,
   "metadata": {
    "ExecuteTime": {
     "end_time": "2019-09-14T03:14:29.359511Z",
     "start_time": "2019-09-14T03:14:29.332511Z"
    }
   },
   "outputs": [
    {
     "data": {
      "text/plain": [
       "0.01894224448898718"
      ]
     },
     "execution_count": 111,
     "metadata": {},
     "output_type": "execute_result"
    }
   ],
   "source": [
    "r2d2(y_valid, sigmoid)"
   ]
  },
  {
   "cell_type": "code",
   "execution_count": 103,
   "metadata": {
    "ExecuteTime": {
     "end_time": "2019-09-14T03:12:36.372136Z",
     "start_time": "2019-09-14T03:12:35.670135Z"
    }
   },
   "outputs": [
    {
     "data": {
      "text/plain": [
       "0.02102596287515801"
      ]
     },
     "execution_count": 103,
     "metadata": {},
     "output_type": "execute_result"
    }
   ],
   "source": [
    "r2d2(y_valid, lasso.predict(x_valid))"
   ]
  },
  {
   "cell_type": "markdown",
   "metadata": {},
   "source": [
    "# RF"
   ]
  },
  {
   "cell_type": "code",
   "execution_count": 134,
   "metadata": {
    "ExecuteTime": {
     "end_time": "2019-09-15T02:20:04.542604Z",
     "start_time": "2019-09-15T02:20:04.536601Z"
    }
   },
   "outputs": [],
   "source": [
    "def rlcvscore(model):\n",
    "    cvtrain, cvvalid = [], []\n",
    "    for inc, (train_index, valid_index) in enumerate(rlcv.split(X), 1):\n",
    "        x_train, x_valid = X[train_index], X[valid_index]\n",
    "        y_train, y_valid = y[train_index], y[valid_index]\n",
    "        cvtrain.append(model.score(x_train, y_train))\n",
    "        cvvalid.append(model.score(x_valid, y_valid))\n",
    "    print(f'{np.array(cvtrain).round(4)}')\n",
    "    print(f'{np.array(cvvalid).round(4)}')\n",
    "    print(f'{np.mean(cvtrain):.4f}, {np.mean(cvvalid):.4f}')"
   ]
  },
  {
   "cell_type": "code",
   "execution_count": 139,
   "metadata": {
    "ExecuteTime": {
     "end_time": "2019-09-15T02:41:51.898791Z",
     "start_time": "2019-09-15T02:41:46.090168Z"
    }
   },
   "outputs": [],
   "source": [
    "rf_model = RandomForestRegressor(n_estimators=10, max_depth=6, min_samples_split=1000, min_samples_leaf=1000,\n",
    "                                 max_features='auto', n_jobs=-1, random_state=41)"
   ]
  },
  {
   "cell_type": "code",
   "execution_count": 191,
   "metadata": {
    "ExecuteTime": {
     "end_time": "2019-09-15T02:41:51.898791Z",
     "start_time": "2019-09-15T02:41:46.090168Z"
    }
   },
   "outputs": [],
   "source": [
    "rf_model.fit(x_train, y_train);"
   ]
  },
  {
   "cell_type": "code",
   "execution_count": 141,
   "metadata": {
    "ExecuteTime": {
     "end_time": "2019-09-15T02:23:41.727016Z",
     "start_time": "2019-09-15T02:23:36.056348Z"
    }
   },
   "outputs": [
    {
     "name": "stdout",
     "output_type": "stream",
     "text": [
      "[ 0.0561  0.0039 -0.0016  0.0003  0.0088]\n",
      "[ 0.0039 -0.0016  0.0003  0.0088  0.0044]\n",
      "0.0135, 0.0032\n"
     ]
    }
   ],
   "source": [
    "rlcvscore(rf_model) # realistic cv"
   ]
  },
  {
   "cell_type": "code",
   "execution_count": 152,
   "metadata": {
    "ExecuteTime": {
     "end_time": "2019-09-15T02:29:21.674236Z",
     "start_time": "2019-09-15T02:29:20.651235Z"
    }
   },
   "outputs": [],
   "source": [
    "a = df.drop('y', axis=1).columns[indices]"
   ]
  },
  {
   "cell_type": "code",
   "execution_count": 195,
   "metadata": {
    "ExecuteTime": {
     "end_time": "2019-09-15T02:42:44.365273Z",
     "start_time": "2019-09-15T02:42:43.164275Z"
    }
   },
   "outputs": [],
   "source": [
    "# create X with important variables only\n",
    "X = df.drop('y', axis=1)[a[:20]].values\n",
    "y = df.y.values"
   ]
  },
  {
   "cell_type": "code",
   "execution_count": 196,
   "metadata": {
    "ExecuteTime": {
     "end_time": "2019-09-15T02:42:45.220885Z",
     "start_time": "2019-09-15T02:42:45.104914Z"
    }
   },
   "outputs": [
    {
     "name": "stdout",
     "output_type": "stream",
     "text": [
      "TRAIN: (2, 428572) VALID: (428573, 857143) SIZES: (428571, 428571)\n"
     ]
    }
   ],
   "source": [
    "from sklearn.preprocessing import LabelBinarizer\n",
    "from sklearn.ensemble import RandomForestRegressor\n",
    "from sklearn.ensemble import RandomForestClassifier\n",
    "from sklearn.model_selection import RandomizedSearchCV\n",
    "from rolling import RollingWindowSplit\n",
    "from joblib import dump, load\n",
    "\n",
    "rlcv = RollingWindowSplit(n_splits=5, compatible=True)\n",
    "for inc, (train_index, valid_index) in enumerate(rlcv.split(X), 1):\n",
    "    x_train, x_valid = X[train_index], X[valid_index]\n",
    "    y_train, y_valid = y[train_index], y[valid_index]\n",
    "    print(\"TRAIN:\", (train_index[0], train_index[-1]),\n",
    "          \"VALID:\", (valid_index[0], valid_index[-1]),\n",
    "          \"SIZES:\", (len(x_train), len(x_valid)))\n",
    "    if inc: break"
   ]
  },
  {
   "cell_type": "code",
   "execution_count": 224,
   "metadata": {
    "ExecuteTime": {
     "end_time": "2019-09-15T02:47:05.341074Z",
     "start_time": "2019-09-15T02:47:05.336062Z"
    }
   },
   "outputs": [],
   "source": [
    "rf_model = RandomForestRegressor(n_estimators=10, max_depth=2, min_samples_split=2, min_samples_leaf=5000,\n",
    "                                 max_features='auto', n_jobs=-1, random_state=41)\n",
    "rf_model.fit(x_train, y_train);"
   ]
  },
  {
   "cell_type": "code",
   "execution_count": 226,
   "metadata": {
    "ExecuteTime": {
     "end_time": "2019-09-15T02:47:12.600562Z",
     "start_time": "2019-09-15T02:47:10.741562Z"
    }
   },
   "outputs": [
    {
     "name": "stdout",
     "output_type": "stream",
     "text": [
      "[0.014  0.0081 0.0072 0.0047 0.0098]\n",
      "[0.0081 0.0072 0.0047 0.0098 0.0068]\n",
      "0.0088, 0.0073\n"
     ]
    }
   ],
   "source": [
    "rlcvscore(rf_model) #n_est 10, depth 2, samples_split 2, samples_leaf 1000, 30 most importantvariables"
   ]
  },
  {
   "cell_type": "code",
   "execution_count": 143,
   "metadata": {
    "ExecuteTime": {
     "end_time": "2019-09-15T02:24:45.787782Z",
     "start_time": "2019-09-15T02:24:41.788297Z"
    },
    "scrolled": true
   },
   "outputs": [
    {
     "name": "stdout",
     "output_type": "stream",
     "text": [
      "Feature ranking:\n",
      "1. feature 60 (0.187222)\n",
      "2. feature 113 (0.137414)\n",
      "3. feature 90 (0.062060)\n",
      "4. feature 87 (0.061551)\n",
      "5. feature 101 (0.057842)\n",
      "6. feature 86 (0.044337)\n",
      "7. feature 91 (0.040228)\n",
      "8. feature 102 (0.031975)\n",
      "9. feature 110 (0.025626)\n",
      "10. feature 105 (0.025411)\n",
      "11. feature 109 (0.021539)\n",
      "12. feature 92 (0.021490)\n",
      "13. feature 84 (0.020808)\n",
      "14. feature 74 (0.016204)\n",
      "15. feature 76 (0.015854)\n",
      "16. feature 96 (0.015558)\n",
      "17. feature 73 (0.015418)\n",
      "18. feature 47 (0.015032)\n",
      "19. feature 103 (0.014706)\n",
      "20. feature 70 (0.014339)\n",
      "21. feature 94 (0.012646)\n",
      "22. feature 72 (0.012472)\n",
      "23. feature 112 (0.010613)\n",
      "24. feature 67 (0.008538)\n",
      "25. feature 95 (0.008353)\n",
      "26. feature 100 (0.007845)\n",
      "27. feature 27 (0.007749)\n",
      "28. feature 58 (0.007206)\n",
      "29. feature 66 (0.005776)\n",
      "30. feature 53 (0.005330)\n",
      "31. feature 65 (0.004836)\n",
      "32. feature 106 (0.004814)\n",
      "33. feature 75 (0.004757)\n",
      "34. feature 104 (0.004420)\n",
      "35. feature 52 (0.003651)\n",
      "36. feature 89 (0.003611)\n",
      "37. feature 97 (0.002936)\n",
      "38. feature 19 (0.002854)\n",
      "39. feature 98 (0.002840)\n",
      "40. feature 78 (0.002834)\n",
      "41. feature 21 (0.002545)\n",
      "42. feature 71 (0.002539)\n",
      "43. feature 28 (0.002516)\n",
      "44. feature 99 (0.002413)\n",
      "45. feature 85 (0.002408)\n",
      "46. feature 15 (0.002385)\n",
      "47. feature 16 (0.002383)\n",
      "48. feature 17 (0.002309)\n",
      "49. feature 14 (0.001927)\n",
      "50. feature 83 (0.001924)\n",
      "51. feature 23 (0.001626)\n",
      "52. feature 20 (0.001611)\n",
      "53. feature 22 (0.001022)\n",
      "54. feature 45 (0.001020)\n",
      "55. feature 93 (0.000853)\n",
      "56. feature 59 (0.000699)\n",
      "57. feature 26 (0.000686)\n",
      "58. feature 62 (0.000438)\n",
      "59. feature 4 (0.000000)\n",
      "60. feature 25 (0.000000)\n",
      "61. feature 24 (0.000000)\n",
      "62. feature 29 (0.000000)\n",
      "63. feature 30 (0.000000)\n",
      "64. feature 31 (0.000000)\n",
      "65. feature 3 (0.000000)\n",
      "66. feature 10 (0.000000)\n",
      "67. feature 2 (0.000000)\n",
      "68. feature 18 (0.000000)\n",
      "69. feature 11 (0.000000)\n",
      "70. feature 5 (0.000000)\n",
      "71. feature 6 (0.000000)\n",
      "72. feature 7 (0.000000)\n",
      "73. feature 1 (0.000000)\n",
      "74. feature 13 (0.000000)\n",
      "75. feature 12 (0.000000)\n",
      "76. feature 8 (0.000000)\n",
      "77. feature 9 (0.000000)\n",
      "78. feature 33 (0.000000)\n",
      "79. feature 32 (0.000000)\n",
      "80. feature 56 (0.000000)\n",
      "81. feature 34 (0.000000)\n",
      "82. feature 79 (0.000000)\n",
      "83. feature 61 (0.000000)\n",
      "84. feature 63 (0.000000)\n",
      "85. feature 64 (0.000000)\n",
      "86. feature 68 (0.000000)\n",
      "87. feature 69 (0.000000)\n",
      "88. feature 77 (0.000000)\n",
      "89. feature 80 (0.000000)\n",
      "90. feature 35 (0.000000)\n",
      "91. feature 81 (0.000000)\n",
      "92. feature 82 (0.000000)\n",
      "93. feature 88 (0.000000)\n",
      "94. feature 107 (0.000000)\n",
      "95. feature 108 (0.000000)\n",
      "96. feature 111 (0.000000)\n",
      "97. feature 57 (0.000000)\n",
      "98. feature 55 (0.000000)\n",
      "99. feature 54 (0.000000)\n",
      "100. feature 51 (0.000000)\n",
      "101. feature 50 (0.000000)\n",
      "102. feature 49 (0.000000)\n",
      "103. feature 48 (0.000000)\n",
      "104. feature 46 (0.000000)\n",
      "105. feature 44 (0.000000)\n",
      "106. feature 43 (0.000000)\n",
      "107. feature 42 (0.000000)\n",
      "108. feature 41 (0.000000)\n",
      "109. feature 40 (0.000000)\n",
      "110. feature 39 (0.000000)\n",
      "111. feature 38 (0.000000)\n",
      "112. feature 37 (0.000000)\n",
      "113. feature 36 (0.000000)\n",
      "114. feature 0 (0.000000)\n"
     ]
    },
    {
     "data": {
      "image/png": "[encoded data removed]",
      "text/plain": [
       "<Figure size 1080x576 with 1 Axes>"
      ]
     },
     "metadata": {},
     "output_type": "display_data"
    }
   ],
   "source": [
    "importances = rf_model.feature_importances_\n",
    "std = np.std([tree.feature_importances_ for tree in rf_model.estimators_],\n",
    "             axis=0)\n",
    "indices = np.argsort(importances)[::-1]\n",
    "# Plot the feature importances of the forest\n",
    "plt.figure(figsize=(15,8))\n",
    "plt.title(\"Feature importances\")\n",
    "plt.bar(range(X.shape[1]), importances[indices],\n",
    "       color=\"r\", yerr=std[indices], align=\"center\")\n",
    "plt.xticks(range(X.shape[1]), indices)\n",
    "plt.xlim([-1, X.shape[1]])\n",
    "plt.show()"
   ]
  },
  {
   "cell_type": "code",
   "execution_count": null,
   "metadata": {},
   "outputs": [],
   "source": [
    "# save model\n",
    "from joblib import dump, load\n",
    "dump(rf, 'model.joblib')"
   ]
  },
  {
   "cell_type": "code",
   "execution_count": null,
   "metadata": {},
   "outputs": [],
   "source": [
    "# load model\n",
    "rf2 = load('model.joblib')"
   ]
  },
  {
   "cell_type": "markdown",
   "metadata": {},
   "source": [
    "# Fast.ai"
   ]
  },
  {
   "cell_type": "code",
   "execution_count": 3,
   "metadata": {
    "ExecuteTime": {
     "end_time": "2019-09-13T08:34:27.199966Z",
     "start_time": "2019-09-13T08:34:27.194964Z"
    }
   },
   "outputs": [],
   "source": [
    "dep_var = 'y'\n",
    "procs = [FillMissing, Normalize]"
   ]
  },
  {
   "cell_type": "code",
   "execution_count": 4,
   "metadata": {
    "ExecuteTime": {
     "end_time": "2019-09-13T08:34:46.357867Z",
     "start_time": "2019-09-13T08:34:29.653867Z"
    }
   },
   "outputs": [],
   "source": [
    "path = f'D:\\Coding\\XTX Forecasting Challenge'\n",
    "data = TabularDataBunch.from_df(path = path, df = df[:int(5e5)], dep_var = 'y', procs=procs,\n",
    "                                 valid_idx = list(range(int(4e5),int(5e5))))"
   ]
  },
  {
   "cell_type": "code",
   "execution_count": null,
   "metadata": {
    "ExecuteTime": {
     "end_time": "2019-09-13T08:26:47.618579Z",
     "start_time": "2019-09-13T08:26:17.525620Z"
    }
   },
   "outputs": [],
   "source": [
    "data.show_batch(rows=10)"
   ]
  },
  {
   "cell_type": "code",
   "execution_count": null,
   "metadata": {
    "ExecuteTime": {
     "end_time": "2019-09-13T06:27:39.484687Z",
     "start_time": "2019-09-13T06:27:21.410885Z"
    }
   },
   "outputs": [],
   "source": [
    "# data = (TabularList.from_df(df[:int(5e5)], cont_names=df.columns, procs=procs)\n",
    "#                            .split_by_idx(list(range(int(0.8*5e5),int(5e5))))\n",
    "#                            .label_from_df(cols=dep_var, label_cls=FloatList)\n",
    "#                            .databunch())"
   ]
  },
  {
   "cell_type": "code",
   "execution_count": 29,
   "metadata": {
    "ExecuteTime": {
     "end_time": "2019-09-13T08:50:44.246393Z",
     "start_time": "2019-09-13T08:50:44.024206Z"
    }
   },
   "outputs": [],
   "source": [
    "learn = tabular_learner(data, layers=[500,200], metrics=r2_score, ps=[0.001,0.01], emb_drop=0.04)"
   ]
  },
  {
   "cell_type": "code",
   "execution_count": 30,
   "metadata": {
    "ExecuteTime": {
     "end_time": "2019-09-13T08:50:45.534954Z",
     "start_time": "2019-09-13T08:50:45.527952Z"
    }
   },
   "outputs": [
    {
     "data": {
      "text/plain": [
       "TabularModel(\n",
       "  (embeds): ModuleList()\n",
       "  (emb_drop): Dropout(p=0.04, inplace=False)\n",
       "  (bn_cont): BatchNorm1d(114, eps=1e-05, momentum=0.1, affine=True, track_running_stats=True)\n",
       "  (layers): Sequential(\n",
       "    (0): Linear(in_features=114, out_features=500, bias=True)\n",
       "    (1): ReLU(inplace=True)\n",
       "    (2): BatchNorm1d(500, eps=1e-05, momentum=0.1, affine=True, track_running_stats=True)\n",
       "    (3): Dropout(p=0.001, inplace=False)\n",
       "    (4): Linear(in_features=500, out_features=200, bias=True)\n",
       "    (5): ReLU(inplace=True)\n",
       "    (6): BatchNorm1d(200, eps=1e-05, momentum=0.1, affine=True, track_running_stats=True)\n",
       "    (7): Dropout(p=0.01, inplace=False)\n",
       "    (8): Linear(in_features=200, out_features=1, bias=True)\n",
       "  )\n",
       ")"
      ]
     },
     "execution_count": 30,
     "metadata": {},
     "output_type": "execute_result"
    }
   ],
   "source": [
    "learn.model"
   ]
  },
  {
   "cell_type": "code",
   "execution_count": 11,
   "metadata": {
    "ExecuteTime": {
     "end_time": "2019-09-13T08:37:03.605733Z",
     "start_time": "2019-09-13T08:36:35.900238Z"
    }
   },
   "outputs": [
    {
     "data": {
      "text/html": [],
      "text/plain": [
       "<IPython.core.display.HTML object>"
      ]
     },
     "metadata": {},
     "output_type": "display_data"
    },
    {
     "name": "stdout",
     "output_type": "stream",
     "text": [
      "LR Finder is complete, type {learner_name}.recorder.plot() to see the graph.\n"
     ]
    }
   ],
   "source": [
    "learn.lr_find(end_lr=1e1)"
   ]
  },
  {
   "cell_type": "code",
   "execution_count": 12,
   "metadata": {
    "ExecuteTime": {
     "end_time": "2019-09-13T08:37:04.843812Z",
     "start_time": "2019-09-13T08:37:03.608733Z"
    }
   },
   "outputs": [
    {
     "data": {
      "image/png": "[encoded data removed]",
      "text/plain": [
       "<Figure size 432x288 with 1 Axes>"
      ]
     },
     "metadata": {},
     "output_type": "display_data"
    }
   ],
   "source": [
    "learn.recorder.plot()"
   ]
  },
  {
   "cell_type": "code",
   "execution_count": null,
   "metadata": {},
   "outputs": [],
   "source": [
    "# model above has already diverged, we will restart."
   ]
  },
  {
   "cell_type": "code",
   "execution_count": 31,
   "metadata": {
    "ExecuteTime": {
     "end_time": "2019-09-13T09:03:36.738452Z",
     "start_time": "2019-09-13T08:50:49.724470Z"
    }
   },
   "outputs": [
    {
     "data": {
      "text/html": [
       "<table border=\"1\" class=\"dataframe\">\n",
       "  <thead>\n",
       "    <tr style=\"text-align: left;\">\n",
       "      <th>epoch</th>\n",
       "      <th>train_loss</th>\n",
       "      <th>valid_loss</th>\n",
       "      <th>r2_score</th>\n",
       "      <th>time</th>\n",
       "    </tr>\n",
       "  </thead>\n",
       "  <tbody>\n",
       "    <tr>\n",
       "      <td>0</td>\n",
       "      <td>0.568406</td>\n",
       "      <td>0.641813</td>\n",
       "      <td>-inf</td>\n",
       "      <td>04:21</td>\n",
       "    </tr>\n",
       "    <tr>\n",
       "      <td>1</td>\n",
       "      <td>0.488415</td>\n",
       "      <td>0.786832</td>\n",
       "      <td>-inf</td>\n",
       "      <td>04:18</td>\n",
       "    </tr>\n",
       "    <tr>\n",
       "      <td>2</td>\n",
       "      <td>0.479876</td>\n",
       "      <td>0.695911</td>\n",
       "      <td>-inf</td>\n",
       "      <td>04:06</td>\n",
       "    </tr>\n",
       "  </tbody>\n",
       "</table>"
      ],
      "text/plain": [
       "<IPython.core.display.HTML object>"
      ]
     },
     "metadata": {},
     "output_type": "display_data"
    }
   ],
   "source": [
    "learn.fit_one_cycle(3, 1e-4, wd=0.1)"
   ]
  },
  {
   "cell_type": "code",
   "execution_count": 14,
   "metadata": {
    "ExecuteTime": {
     "end_time": "2019-09-13T08:41:02.673928Z",
     "start_time": "2019-09-13T08:41:01.868908Z"
    }
   },
   "outputs": [
    {
     "data": {
      "image/png": "[encoded data removed]",
      "text/plain": [
       "<Figure size 864x288 with 2 Axes>"
      ]
     },
     "metadata": {},
     "output_type": "display_data"
    }
   ],
   "source": [
    "learn.recorder.plot_lr(show_moms=True)"
   ]
  },
  {
   "cell_type": "code",
   "execution_count": 32,
   "metadata": {
    "ExecuteTime": {
     "end_time": "2019-09-13T09:04:03.690828Z",
     "start_time": "2019-09-13T09:04:03.447302Z"
    }
   },
   "outputs": [],
   "source": [
    "learn.save('new_fastai')"
   ]
  },
  {
   "cell_type": "code",
   "execution_count": 33,
   "metadata": {
    "ExecuteTime": {
     "end_time": "2019-09-13T09:04:07.023062Z",
     "start_time": "2019-09-13T09:04:06.385055Z"
    }
   },
   "outputs": [
    {
     "data": {
      "image/png": "[encoded data removed]",
      "text/plain": [
       "<Figure size 432x288 with 1 Axes>"
      ]
     },
     "metadata": {},
     "output_type": "display_data"
    }
   ],
   "source": [
    "learn.recorder.plot_losses()"
   ]
  },
  {
   "cell_type": "code",
   "execution_count": 38,
   "metadata": {
    "ExecuteTime": {
     "end_time": "2019-09-13T09:05:00.282946Z",
     "start_time": "2019-09-13T09:05:00.098945Z"
    }
   },
   "outputs": [
    {
     "data": {
      "text/plain": [
       "(FloatItem [0.449099], tensor([0.4491]), tensor([0.4491]))"
      ]
     },
     "execution_count": 38,
     "metadata": {},
     "output_type": "execute_result"
    }
   ],
   "source": [
    "learn.predict(df.iloc[int(8.1e5)])"
   ]
  },
  {
   "cell_type": "code",
   "execution_count": 39,
   "metadata": {
    "ExecuteTime": {
     "end_time": "2019-09-13T09:05:02.937494Z",
     "start_time": "2019-09-13T09:05:02.932488Z"
    }
   },
   "outputs": [
    {
     "data": {
      "text/plain": [
       "0.25"
      ]
     },
     "execution_count": 39,
     "metadata": {},
     "output_type": "execute_result"
    }
   ],
   "source": [
    "df.y.iloc[int(8.1e5)]"
   ]
  },
  {
   "cell_type": "code",
   "execution_count": 40,
   "metadata": {
    "ExecuteTime": {
     "end_time": "2019-09-13T09:05:38.921082Z",
     "start_time": "2019-09-13T09:05:08.529113Z"
    }
   },
   "outputs": [],
   "source": [
    "preds = learn.get_preds()"
   ]
  }
 ],
 "metadata": {
  "kernelspec": {
   "display_name": "Python 3",
   "language": "python",
   "name": "python3"
  },
  "language_info": {
   "codemirror_mode": {
    "name": "ipython",
    "version": 3
   },
   "file_extension": ".py",
   "mimetype": "text/x-python",
   "name": "python",
   "nbconvert_exporter": "python",
   "pygments_lexer": "ipython3",
   "version": "3.6.9"
  }
 },
 "nbformat": 4,
 "nbformat_minor": 2
}
