{
 "cells": [
  {
   "cell_type": "markdown",
   "metadata": {},
   "source": [
    "# Setting up"
   ]
  },
  {
   "cell_type": "code",
   "execution_count": 6,
   "metadata": {
    "ExecuteTime": {
     "end_time": "2019-09-15T03:19:47.463593Z",
     "start_time": "2019-09-15T03:19:47.445590Z"
    }
   },
   "outputs": [],
   "source": [
    "import pandas as pd\n",
    "import numpy as np\n",
    "import matplotlib.pyplot as plt\n",
    "import seaborn as sns\n",
    "from fastai import *\n",
    "from fastai.tabular import *\n",
    "\n",
    "%matplotlib inline\n",
    "sns.set(style = \"whitegrid\")\n",
    "pd.set_option('display.max_columns', 500)\n",
    "pd.set_option('display.max_rows', 100)"
   ]
  },
  {
   "cell_type": "code",
   "execution_count": null,
   "metadata": {},
   "outputs": [],
   "source": [
    "# %%time\n",
    "# path = 'D://Coding//XTX Forecasting Challenge//data-training.csv'\n",
    "# df = pd.read_csv(path)"
   ]
  },
  {
   "cell_type": "code",
   "execution_count": 5,
   "metadata": {
    "ExecuteTime": {
     "end_time": "2019-09-13T15:53:03.140457Z",
     "start_time": "2019-09-13T15:52:55.951312Z"
    }
   },
   "outputs": [
    {
     "name": "stdout",
     "output_type": "stream",
     "text": [
      "Wall time: 7.18 s\n"
     ]
    }
   ],
   "source": [
    "%%time\n",
    "path = 'D://Coding//XTX Forecasting Challenge//data-training.file'\n",
    "df = pd.read_feather(path, use_threads=8)\n",
    "df = df.astype('float32')"
   ]
  },
  {
   "cell_type": "code",
   "execution_count": 6,
   "metadata": {
    "ExecuteTime": {
     "end_time": "2019-09-13T15:53:03.152452Z",
     "start_time": "2019-09-13T15:53:03.143452Z"
    }
   },
   "outputs": [
    {
     "data": {
      "text/plain": [
       "Index(['askRate0', 'askRate1', 'askRate2', 'askRate3', 'askRate4', 'askRate5',\n",
       "       'askRate6', 'askRate7', 'askRate8', 'askRate9', 'askRate10',\n",
       "       'askRate11', 'askRate12', 'askRate13', 'askRate14', 'askSize0',\n",
       "       'askSize1', 'askSize2', 'askSize3', 'askSize4', 'askSize5', 'askSize6',\n",
       "       'askSize7', 'askSize8', 'askSize9', 'askSize10', 'askSize11',\n",
       "       'askSize12', 'askSize13', 'askSize14', 'bidRate0', 'bidRate1',\n",
       "       'bidRate2', 'bidRate3', 'bidRate4', 'bidRate5', 'bidRate6', 'bidRate7',\n",
       "       'bidRate8', 'bidRate9', 'bidRate10', 'bidRate11', 'bidRate12',\n",
       "       'bidRate13', 'bidRate14', 'bidSize0', 'bidSize1', 'bidSize2',\n",
       "       'bidSize3', 'bidSize4', 'bidSize5', 'bidSize6', 'bidSize7', 'bidSize8',\n",
       "       'bidSize9', 'bidSize10', 'bidSize11', 'bidSize12', 'bidSize13',\n",
       "       'bidSize14', 'y'],\n",
       "      dtype='object')"
      ]
     },
     "execution_count": 6,
     "metadata": {},
     "output_type": "execute_result"
    }
   ],
   "source": [
    "df.columns"
   ]
  },
  {
   "cell_type": "markdown",
   "metadata": {},
   "source": [
    "# Exploratory Data Analysis"
   ]
  },
  {
   "cell_type": "code",
   "execution_count": null,
   "metadata": {},
   "outputs": [],
   "source": [
    "# # Plot of [y] distribution\n",
    "# fig, ax = plt.subplots(figsize=(15,8))\n",
    "# sns.kdeplot(df.y, bw=0.01)"
   ]
  },
  {
   "cell_type": "code",
   "execution_count": null,
   "metadata": {
    "ExecuteTime": {
     "end_time": "2019-09-12T10:20:19.885549Z",
     "start_time": "2019-09-12T10:20:19.357550Z"
    }
   },
   "outputs": [],
   "source": [
    "# Some feature engineering\n",
    "df.fillna(0, inplace=True)\n",
    "df['spread'] = df.askRate0 - df.bidRate0\n",
    "df['midRate'] = (df.askRate0 + df.bidRate0) / 2\n"
   ]
  },
  {
   "cell_type": "code",
   "execution_count": 117,
   "metadata": {
    "ExecuteTime": {
     "end_time": "2019-09-14T03:56:30.259562Z",
     "start_time": "2019-09-14T03:56:30.254563Z"
    }
   },
   "outputs": [],
   "source": [
    "# # Figuring out what [y] is\n",
    "# # y(t) is midRate(t+87) - midRate(t), clipped to (-5.5)\n",
    "# df['expectedY'] = df.midRate.diff(87).shift(-87).clip(-5,5)\n",
    "# print(sum(df.y == df.expectedY))\n",
    "# df.loc[df.y != df.expectedY]\n",
    "\n",
    "# fig, ax = plt.subplots(figsize=(15,8))\n",
    "# i = 500\n",
    "# shift = 87\n",
    "# # plt.plot(df.index[0:i], df.midRate[0:i].diff(shift).shift(-shift+14))\n",
    "# plt.plot(df.index[-i:], df.midRate[-i:].diff(shift).shift(-shift))\n",
    "# plt.plot(df.index[-i:], df.y[-i:])\n",
    "# plt.legend(('midRate', 'y'))"
   ]
  },
  {
   "cell_type": "markdown",
   "metadata": {},
   "source": [
    "# Feature engineering"
   ]
  },
  {
   "cell_type": "markdown",
   "metadata": {},
   "source": [
    "### Basics"
   ]
  },
  {
   "cell_type": "code",
   "execution_count": 9,
   "metadata": {
    "ExecuteTime": {
     "end_time": "2019-09-15T03:22:24.598915Z",
     "start_time": "2019-09-15T03:22:24.592910Z"
    }
   },
   "outputs": [],
   "source": [
    "bidSizeList = ['bidSize' + str(i) for i in range(0,15)]\n",
    "askSizeList = ['askSize' + str(i) for i in range(0,15)]\n",
    "bidRateList = ['bidRate' + str(i) for i in range(0,15)]\n",
    "askRateList = ['askRate' + str(i) for i in range(0,15)]"
   ]
  },
  {
   "cell_type": "code",
   "execution_count": null,
   "metadata": {
    "ExecuteTime": {
     "end_time": "2019-09-12T10:20:31.718546Z",
     "start_time": "2019-09-12T10:20:31.136524Z"
    }
   },
   "outputs": [],
   "source": [
    "df['totalBidVol1'] = df.bidSize0 + df.bidSize1\n",
    "df['totalAskVol1'] = df.askSize0 + df.askSize1\n",
    "for i in range(2,15):\n",
    "    df['totalBidVol' + str(i)] = df['totalBidVol' + str(i-1)] + df['bidSize' + str(i)]\n",
    "    df['totalAskVol' + str(i)] = df['totalAskVol' + str(i-1)] + df['askSize' + str(i)]\n",
    "\n",
    "for i in range(1,15):\n",
    "    df['bidAskRatio' + str(i)] = df['totalBidVol' + str(i)] / df['totalAskVol' + str(i)]\n",
    "\n",
    "df['totalAvailVol'] = df.totalBidVol14 + df.totalAskVol14"
   ]
  },
  {
   "cell_type": "code",
   "execution_count": null,
   "metadata": {
    "ExecuteTime": {
     "end_time": "2019-09-12T10:20:40.573451Z",
     "start_time": "2019-09-12T10:20:34.278453Z"
    }
   },
   "outputs": [],
   "source": [
    "df['vwaBid'] = np.einsum('ij,ji->i', df[bidRateList], df[bidSizeList].T) / df[bidSizeList].sum(axis=1)\n",
    "df['vwaAsk'] = np.einsum('ij,ji->i', df[askRateList], df[askSizeList].T) / df[askSizeList].sum(axis=1)\n",
    "df['vwaBidDMid'] = df.midRate - df.vwaBid\n",
    "df['vwaAskDMid'] = df.vwaAsk - df.midRate\n",
    "df['diff_vwaBidAskDMid'] = df.vwaAskDMid - df.vwaBidDMid"
   ]
  },
  {
   "cell_type": "markdown",
   "metadata": {},
   "source": [
    "# Ideas from papers"
   ]
  },
  {
   "cell_type": "code",
   "execution_count": null,
   "metadata": {
    "ExecuteTime": {
     "end_time": "2019-09-12T10:20:45.643265Z",
     "start_time": "2019-09-12T10:20:45.607265Z"
    }
   },
   "outputs": [],
   "source": [
    "# Volume Order Imbalance\n",
    "b1, a1 = (df.bidRate0 < df.bidRate0.shift(-1)), (df.askRate0 < df.askRate0.shift(-1))\n",
    "b2, a2 = (df.bidRate0 == df.bidRate0.shift(-1)), (df.askRate0 == df.askRate0.shift(-1))\n",
    "valsB, valsA = [0, (df.bidSize0 - df.bidSize0.shift(-1))], [0, (df.askSize0 - df.askSize0.shift(-1))]\n",
    "defaultB, defaultA = df.bidSize0, df.askSize0\n",
    "\n",
    "df['deltaVBid'] = np.select([b1,b2], valsB, default=defaultB)\n",
    "df['deltaVAsk'] = np.select([a1,a2], valsA, default=defaultA)\n",
    "df['VOI'] = df.deltaVBid - df.deltaVAsk\n",
    "\n",
    "# Order Imbalance Ratio: when OIR is small, suggests that signal from VOI is weak\n",
    "df['OIR'] = (df.bidSize0 - df.askSize0)/(df.bidSize0 + df.askSize0)"
   ]
  },
  {
   "cell_type": "code",
   "execution_count": null,
   "metadata": {
    "ExecuteTime": {
     "end_time": "2019-09-12T10:20:49.824610Z",
     "start_time": "2019-09-12T10:20:47.151601Z"
    }
   },
   "outputs": [],
   "source": [
    "df.to_feather('intermediate.file')"
   ]
  },
  {
   "cell_type": "code",
   "execution_count": null,
   "metadata": {},
   "outputs": [],
   "source": [
    "# drop original features\n",
    "df.drop(df.columns[:60], axis=1, inplace=True)"
   ]
  },
  {
   "cell_type": "code",
   "execution_count": 16,
   "metadata": {
    "ExecuteTime": {
     "end_time": "2019-09-15T03:27:05.741534Z",
     "start_time": "2019-09-15T03:26:59.926979Z"
    }
   },
   "outputs": [],
   "source": [
    "df = pd.read_feather('intermediate.file')"
   ]
  },
  {
   "cell_type": "markdown",
   "metadata": {},
   "source": [
    "# Fast.ai"
   ]
  },
  {
   "cell_type": "code",
   "execution_count": 3,
   "metadata": {
    "ExecuteTime": {
     "end_time": "2019-09-13T08:34:27.199966Z",
     "start_time": "2019-09-13T08:34:27.194964Z"
    }
   },
   "outputs": [],
   "source": [
    "dep_var = 'y'\n",
    "procs = [FillMissing, Normalize]"
   ]
  },
  {
   "cell_type": "code",
   "execution_count": 4,
   "metadata": {
    "ExecuteTime": {
     "end_time": "2019-09-13T08:34:46.357867Z",
     "start_time": "2019-09-13T08:34:29.653867Z"
    }
   },
   "outputs": [],
   "source": [
    "path = f'D:\\Coding\\XTX Forecasting Challenge'\n",
    "data = TabularDataBunch.from_df(path = path, df = df[:int(5e5)], dep_var = 'y', procs=procs,\n",
    "                                 valid_idx = list(range(int(4e5),int(5e5))))"
   ]
  },
  {
   "cell_type": "code",
   "execution_count": null,
   "metadata": {
    "ExecuteTime": {
     "end_time": "2019-09-13T08:26:47.618579Z",
     "start_time": "2019-09-13T08:26:17.525620Z"
    }
   },
   "outputs": [],
   "source": [
    "data.show_batch(rows=10)"
   ]
  },
  {
   "cell_type": "code",
   "execution_count": null,
   "metadata": {
    "ExecuteTime": {
     "end_time": "2019-09-13T06:27:39.484687Z",
     "start_time": "2019-09-13T06:27:21.410885Z"
    }
   },
   "outputs": [],
   "source": [
    "# data = (TabularList.from_df(df[:int(5e5)], cont_names=df.columns, procs=procs)\n",
    "#                            .split_by_idx(list(range(int(0.8*5e5),int(5e5))))\n",
    "#                            .label_from_df(cols=dep_var, label_cls=FloatList)\n",
    "#                            .databunch())"
   ]
  },
  {
   "cell_type": "code",
   "execution_count": 29,
   "metadata": {
    "ExecuteTime": {
     "end_time": "2019-09-13T08:50:44.246393Z",
     "start_time": "2019-09-13T08:50:44.024206Z"
    }
   },
   "outputs": [],
   "source": [
    "learn = tabular_learner(data, layers=[500,200], metrics=r2_score, ps=[0.001,0.01], emb_drop=0.04)"
   ]
  },
  {
   "cell_type": "code",
   "execution_count": 30,
   "metadata": {
    "ExecuteTime": {
     "end_time": "2019-09-13T08:50:45.534954Z",
     "start_time": "2019-09-13T08:50:45.527952Z"
    }
   },
   "outputs": [
    {
     "data": {
      "text/plain": [
       "TabularModel(\n",
       "  (embeds): ModuleList()\n",
       "  (emb_drop): Dropout(p=0.04, inplace=False)\n",
       "  (bn_cont): BatchNorm1d(114, eps=1e-05, momentum=0.1, affine=True, track_running_stats=True)\n",
       "  (layers): Sequential(\n",
       "    (0): Linear(in_features=114, out_features=500, bias=True)\n",
       "    (1): ReLU(inplace=True)\n",
       "    (2): BatchNorm1d(500, eps=1e-05, momentum=0.1, affine=True, track_running_stats=True)\n",
       "    (3): Dropout(p=0.001, inplace=False)\n",
       "    (4): Linear(in_features=500, out_features=200, bias=True)\n",
       "    (5): ReLU(inplace=True)\n",
       "    (6): BatchNorm1d(200, eps=1e-05, momentum=0.1, affine=True, track_running_stats=True)\n",
       "    (7): Dropout(p=0.01, inplace=False)\n",
       "    (8): Linear(in_features=200, out_features=1, bias=True)\n",
       "  )\n",
       ")"
      ]
     },
     "execution_count": 30,
     "metadata": {},
     "output_type": "execute_result"
    }
   ],
   "source": [
    "learn.model"
   ]
  },
  {
   "cell_type": "code",
   "execution_count": 11,
   "metadata": {
    "ExecuteTime": {
     "end_time": "2019-09-13T08:37:03.605733Z",
     "start_time": "2019-09-13T08:36:35.900238Z"
    }
   },
   "outputs": [
    {
     "data": {
      "text/html": [],
      "text/plain": [
       "<IPython.core.display.HTML object>"
      ]
     },
     "metadata": {},
     "output_type": "display_data"
    },
    {
     "name": "stdout",
     "output_type": "stream",
     "text": [
      "LR Finder is complete, type {learner_name}.recorder.plot() to see the graph.\n"
     ]
    }
   ],
   "source": [
    "learn.lr_find(end_lr=1e1)"
   ]
  },
  {
   "cell_type": "code",
   "execution_count": 12,
   "metadata": {
    "ExecuteTime": {
     "end_time": "2019-09-13T08:37:04.843812Z",
     "start_time": "2019-09-13T08:37:03.608733Z"
    }
   },
   "outputs": [
    {
     "data": {
      "image/png": "[encoded data removed]",
      "text/plain": [
       "<Figure size 432x288 with 1 Axes>"
      ]
     },
     "metadata": {},
     "output_type": "display_data"
    }
   ],
   "source": [
    "learn.recorder.plot()"
   ]
  },
  {
   "cell_type": "code",
   "execution_count": null,
   "metadata": {},
   "outputs": [],
   "source": [
    "# model above has already diverged, we will restart."
   ]
  },
  {
   "cell_type": "code",
   "execution_count": 31,
   "metadata": {
    "ExecuteTime": {
     "end_time": "2019-09-13T09:03:36.738452Z",
     "start_time": "2019-09-13T08:50:49.724470Z"
    }
   },
   "outputs": [
    {
     "data": {
      "text/html": [
       "<table border=\"1\" class=\"dataframe\">\n",
       "  <thead>\n",
       "    <tr style=\"text-align: left;\">\n",
       "      <th>epoch</th>\n",
       "      <th>train_loss</th>\n",
       "      <th>valid_loss</th>\n",
       "      <th>r2_score</th>\n",
       "      <th>time</th>\n",
       "    </tr>\n",
       "  </thead>\n",
       "  <tbody>\n",
       "    <tr>\n",
       "      <td>0</td>\n",
       "      <td>0.568406</td>\n",
       "      <td>0.641813</td>\n",
       "      <td>-inf</td>\n",
       "      <td>04:21</td>\n",
       "    </tr>\n",
       "    <tr>\n",
       "      <td>1</td>\n",
       "      <td>0.488415</td>\n",
       "      <td>0.786832</td>\n",
       "      <td>-inf</td>\n",
       "      <td>04:18</td>\n",
       "    </tr>\n",
       "    <tr>\n",
       "      <td>2</td>\n",
       "      <td>0.479876</td>\n",
       "      <td>0.695911</td>\n",
       "      <td>-inf</td>\n",
       "      <td>04:06</td>\n",
       "    </tr>\n",
       "  </tbody>\n",
       "</table>"
      ],
      "text/plain": [
       "<IPython.core.display.HTML object>"
      ]
     },
     "metadata": {},
     "output_type": "display_data"
    }
   ],
   "source": [
    "learn.fit_one_cycle(3, 1e-4, wd=0.1)"
   ]
  },
  {
   "cell_type": "code",
   "execution_count": 14,
   "metadata": {
    "ExecuteTime": {
     "end_time": "2019-09-13T08:41:02.673928Z",
     "start_time": "2019-09-13T08:41:01.868908Z"
    }
   },
   "outputs": [
    {
     "data": {
      "image/png": "[encoded data removed]",
      "text/plain": [
       "<Figure size 864x288 with 2 Axes>"
      ]
     },
     "metadata": {},
     "output_type": "display_data"
    }
   ],
   "source": [
    "learn.recorder.plot_lr(show_moms=True)"
   ]
  },
  {
   "cell_type": "code",
   "execution_count": 32,
   "metadata": {
    "ExecuteTime": {
     "end_time": "2019-09-13T09:04:03.690828Z",
     "start_time": "2019-09-13T09:04:03.447302Z"
    }
   },
   "outputs": [],
   "source": [
    "learn.save('new_fastai')"
   ]
  },
  {
   "cell_type": "code",
   "execution_count": 33,
   "metadata": {
    "ExecuteTime": {
     "end_time": "2019-09-13T09:04:07.023062Z",
     "start_time": "2019-09-13T09:04:06.385055Z"
    }
   },
   "outputs": [
    {
     "data": {
      "image/png": "[encoded data removed]",
      "text/plain": [
       "<Figure size 432x288 with 1 Axes>"
      ]
     },
     "metadata": {},
     "output_type": "display_data"
    }
   ],
   "source": [
    "learn.recorder.plot_losses()"
   ]
  },
  {
   "cell_type": "code",
   "execution_count": 38,
   "metadata": {
    "ExecuteTime": {
     "end_time": "2019-09-13T09:05:00.282946Z",
     "start_time": "2019-09-13T09:05:00.098945Z"
    }
   },
   "outputs": [
    {
     "data": {
      "text/plain": [
       "(FloatItem [0.449099], tensor([0.4491]), tensor([0.4491]))"
      ]
     },
     "execution_count": 38,
     "metadata": {},
     "output_type": "execute_result"
    }
   ],
   "source": [
    "learn.predict(df.iloc[int(8.1e5)])"
   ]
  },
  {
   "cell_type": "code",
   "execution_count": 39,
   "metadata": {
    "ExecuteTime": {
     "end_time": "2019-09-13T09:05:02.937494Z",
     "start_time": "2019-09-13T09:05:02.932488Z"
    }
   },
   "outputs": [
    {
     "data": {
      "text/plain": [
       "0.25"
      ]
     },
     "execution_count": 39,
     "metadata": {},
     "output_type": "execute_result"
    }
   ],
   "source": [
    "df.y.iloc[int(8.1e5)]"
   ]
  },
  {
   "cell_type": "code",
   "execution_count": 40,
   "metadata": {
    "ExecuteTime": {
     "end_time": "2019-09-13T09:05:38.921082Z",
     "start_time": "2019-09-13T09:05:08.529113Z"
    }
   },
   "outputs": [],
   "source": [
    "preds = learn.get_preds()"
   ]
  },
  {
   "cell_type": "markdown",
   "metadata": {},
   "source": [
    "# TA"
   ]
  },
  {
   "cell_type": "code",
   "execution_count": null,
   "metadata": {
    "ExecuteTime": {
     "end_time": "2019-09-12T15:21:47.040152Z",
     "start_time": "2019-09-12T15:21:45.439153Z"
    },
    "scrolled": true
   },
   "outputs": [],
   "source": [
    "# Rolling ohlc\n",
    "df_ask = df.askRate0.to_frame()\n",
    "df_ask['openAsk'] = df_ask.askRate0.shift(15-1)\n",
    "df_ask['highAsk'] = df_ask.askRate0.rolling(window=15).max().fillna(0)\n",
    "df_ask['lowAsk'] = df_ask.askRate0.rolling(window=15).min().fillna(0)\n",
    "df_ask = df_ask[['openAsk','highAsk','lowAsk','askRate0']].join(df.askSize0)\n",
    "\n",
    "df_bid = df.bidRate0.to_frame()\n",
    "df_bid['openBid'] = df_bid.bidRate0.shift(15-1)\n",
    "df_bid['highBid'] = df_bid.bidRate0.rolling(window=15).max().fillna(0)\n",
    "df_bid['lowBid'] = df_bid.bidRate0.rolling(window=15).min().fillna(0)\n",
    "df_bid = df_bid[['openBid','highBid','lowBid','bidRate0']].join(df.bidSize0)"
   ]
  },
  {
   "cell_type": "code",
   "execution_count": null,
   "metadata": {
    "ExecuteTime": {
     "end_time": "2019-09-12T15:28:19.436501Z",
     "start_time": "2019-09-12T15:22:43.519599Z"
    }
   },
   "outputs": [],
   "source": [
    "import ta\n",
    "df_ask_ta = ta.add_all_ta_features(df_ask, \"openAsk\", \"highAsk\", \"lowAsk\", \"askRate0\", \"askSize0\", fillna=True)\n"
   ]
  },
  {
   "cell_type": "code",
   "execution_count": null,
   "metadata": {},
   "outputs": [],
   "source": [
    "df_bid_ta = ta.add_all_ta_features(df_ask, \"openBid\", \"highBid\", \"lowBid\", \"askRate0\", \"bidRate0\", fillna=True)"
   ]
  },
  {
   "cell_type": "markdown",
   "metadata": {},
   "source": [
    "# Feature Selection"
   ]
  },
  {
   "cell_type": "code",
   "execution_count": 4,
   "metadata": {
    "ExecuteTime": {
     "end_time": "2019-09-14T05:47:45.836798Z",
     "start_time": "2019-09-14T05:47:44.867802Z"
    }
   },
   "outputs": [
    {
     "name": "stdout",
     "output_type": "stream",
     "text": [
      "Wall time: 961 ms\n"
     ]
    }
   ],
   "source": [
    "%%time\n",
    "X = df.drop('y', axis=1).values\n",
    "y = df.y.values"
   ]
  },
  {
   "cell_type": "code",
   "execution_count": 55,
   "metadata": {
    "ExecuteTime": {
     "end_time": "2019-09-13T14:48:44.264193Z",
     "start_time": "2019-09-13T14:47:55.721005Z"
    }
   },
   "outputs": [],
   "source": [
    "# normalise\n",
    "from sklearn.preprocessing import StandardScaler\n",
    "scaler = StandardScaler()\n",
    "X_scaled = scaler.fit_transform(X)\n",
    "\n",
    "# pca\n",
    "from sklearn.decomposition import PCA\n",
    "pca = PCA(n_components=30)\n",
    "X_pca = pca.fit_transform(X_scaled)"
   ]
  },
  {
   "cell_type": "markdown",
   "metadata": {},
   "source": [
    "# Cross-validation"
   ]
  },
  {
   "cell_type": "code",
   "execution_count": 5,
   "metadata": {
    "ExecuteTime": {
     "end_time": "2019-09-14T06:56:50.495536Z",
     "start_time": "2019-09-14T06:56:49.564560Z"
    }
   },
   "outputs": [
    {
     "name": "stdout",
     "output_type": "stream",
     "text": [
      "Wall time: 918 ms\n"
     ]
    }
   ],
   "source": [
    "%%time\n",
    "# for regression\n",
    "X = df.drop('y', axis=1).values\n",
    "y = df.y.values"
   ]
  },
  {
   "cell_type": "code",
   "execution_count": 6,
   "metadata": {
    "ExecuteTime": {
     "end_time": "2019-09-14T06:56:57.107495Z",
     "start_time": "2019-09-14T06:56:54.020854Z"
    }
   },
   "outputs": [
    {
     "name": "stdout",
     "output_type": "stream",
     "text": [
      "TRAIN: (2, 428572) VALID: (428573, 857143) SIZES: (428571, 428571)\n",
      "TRAIN: (428573, 857143) VALID: (857144, 1285714) SIZES: (428571, 428571)\n",
      "TRAIN: (857144, 1285714) VALID: (1285715, 1714285) SIZES: (428571, 428571)\n",
      "TRAIN: (1285715, 1714285) VALID: (1714286, 2142856) SIZES: (428571, 428571)\n",
      "TRAIN: (1714286, 2142856) VALID: (2142857, 2571427) SIZES: (428571, 428571)\n"
     ]
    }
   ],
   "source": [
    "from sklearn.preprocessing import LabelBinarizer\n",
    "from sklearn.ensemble import RandomForestRegressor\n",
    "from sklearn.ensemble import RandomForestClassifier\n",
    "from sklearn.model_selection import RandomizedSearchCV\n",
    "from rolling import RollingWindowSplit\n",
    "\n",
    "rlcv = RollingWindowSplit(n_splits=5, compatible=True)\n",
    "for inc, (train_index, valid_index) in enumerate(rlcv.split(X), 1):\n",
    "    x_train, x_valid = X[train_index], X[valid_index]\n",
    "    y_train, y_valid = y[train_index], y[valid_index]\n",
    "    print(\"TRAIN:\", (train_index[0], train_index[-1]),\n",
    "          \"VALID:\", (valid_index[0], valid_index[-1]),\n",
    "          \"SIZES:\", (len(x_train), len(x_valid)))"
   ]
  },
  {
   "cell_type": "code",
   "execution_count": 108,
   "metadata": {
    "ExecuteTime": {
     "end_time": "2019-09-14T03:14:03.785660Z",
     "start_time": "2019-09-14T03:13:59.293849Z"
    }
   },
   "outputs": [
    {
     "name": "stdout",
     "output_type": "stream",
     "text": [
      "TRAIN: (2, 428572) VALID: (428573, 857143) SIZES: (428571, 428571)\n",
      "TRAIN: (428573, 857143) VALID: (857144, 1285714) SIZES: (428571, 428571)\n",
      "TRAIN: (857144, 1285714) VALID: (1285715, 1714285) SIZES: (428571, 428571)\n",
      "TRAIN: (1285715, 1714285) VALID: (1714286, 2142856) SIZES: (428571, 428571)\n",
      "TRAIN: (1714286, 2142856) VALID: (2142857, 2571427) SIZES: (428571, 428571)\n"
     ]
    }
   ],
   "source": [
    "lasso = LassoLarsCV(cv=rlcv, n_jobs=-1).fit(X, y)"
   ]
  },
  {
   "cell_type": "code",
   "execution_count": 57,
   "metadata": {
    "ExecuteTime": {
     "end_time": "2019-09-13T14:48:45.018194Z",
     "start_time": "2019-09-13T14:48:44.991191Z"
    }
   },
   "outputs": [
    {
     "name": "stdout",
     "output_type": "stream",
     "text": [
      "[0.339363 0.148498 0.112511 0.038578 0.030945 0.02155  0.02029  0.019281 0.018302 0.0176   0.015209 0.014452 0.01338\n",
      " 0.011426 0.009937 0.00914  0.00901  0.008673 0.008383 0.008    0.007726 0.007239 0.007173 0.00712  0.006848 0.006796\n",
      " 0.006497 0.006261 0.006212 0.006134]\n"
     ]
    }
   ],
   "source": [
    "print(pca.explained_variance_ratio_)"
   ]
  },
  {
   "cell_type": "markdown",
   "metadata": {},
   "source": [
    "# Lasso"
   ]
  },
  {
   "cell_type": "code",
   "execution_count": null,
   "metadata": {
    "ExecuteTime": {
     "end_time": "2019-09-12T14:22:16.648196Z",
     "start_time": "2019-09-12T14:20:46.926739Z"
    }
   },
   "outputs": [],
   "source": [
    "# LASSO regression\n",
    "from sklearn.linear_model import LassoLarsCV\n",
    "lasso = LassoLarsCV(cv=rlcv, n_jobs=-1).fit(X, y)\n",
    "print(f'{lasso.score(x_train, y_train):.3f}, {lasso.score(x_valid, y_valid):.3f}')"
   ]
  },
  {
   "cell_type": "code",
   "execution_count": 108,
   "metadata": {
    "ExecuteTime": {
     "end_time": "2019-09-14T03:14:03.785660Z",
     "start_time": "2019-09-14T03:13:59.293849Z"
    }
   },
   "outputs": [
    {
     "name": "stdout",
     "output_type": "stream",
     "text": [
      "TRAIN: (2, 428572) VALID: (428573, 857143) SIZES: (428571, 428571)\n",
      "TRAIN: (428573, 857143) VALID: (857144, 1285714) SIZES: (428571, 428571)\n",
      "TRAIN: (857144, 1285714) VALID: (1285715, 1714285) SIZES: (428571, 428571)\n",
      "TRAIN: (1285715, 1714285) VALID: (1714286, 2142856) SIZES: (428571, 428571)\n",
      "TRAIN: (1714286, 2142856) VALID: (2142857, 2571427) SIZES: (428571, 428571)\n"
     ]
    }
   ],
   "source": [
    "lasso = LassoLarsCV(cv=rlcv, n_jobs=-1).fit(X, y)\n",
    "dump(lasso, f'lasso_rlcv_114ft_0.0175_0.0187.joblib')"
   ]
  },
  {
   "cell_type": "code",
   "execution_count": 108,
   "metadata": {
    "ExecuteTime": {
     "end_time": "2019-09-14T03:14:03.785660Z",
     "start_time": "2019-09-14T03:13:59.293849Z"
    }
   },
   "outputs": [
    {
     "name": "stdout",
     "output_type": "stream",
     "text": [
      "TRAIN: (2, 428572) VALID: (428573, 857143) SIZES: (428571, 428571)\n",
      "TRAIN: (428573, 857143) VALID: (857144, 1285714) SIZES: (428571, 428571)\n",
      "TRAIN: (857144, 1285714) VALID: (1285715, 1714285) SIZES: (428571, 428571)\n",
      "TRAIN: (1285715, 1714285) VALID: (1714286, 2142856) SIZES: (428571, 428571)\n",
      "TRAIN: (1714286, 2142856) VALID: (2142857, 2571427) SIZES: (428571, 428571)\n"
     ]
    }
   ],
   "source": [
    "print(f'{lasso.score(x_train, y_train):.4f}, {lasso.score(x_valid, y_valid):.4f}')"
   ]
  },
  {
   "cell_type": "code",
   "execution_count": 7,
   "metadata": {
    "ExecuteTime": {
     "end_time": "2019-09-14T02:23:20.042517Z",
     "start_time": "2019-09-14T02:23:20.038516Z"
    }
   },
   "outputs": [],
   "source": [
    "# dump(lasso, 'lasso_rlcv_114ft_0.0175_0.0187.joblib')"
   ]
  },
  {
   "cell_type": "code",
   "execution_count": 104,
   "metadata": {
    "ExecuteTime": {
     "end_time": "2019-09-14T03:12:44.340346Z",
     "start_time": "2019-09-14T03:12:44.332099Z"
    }
   },
   "outputs": [],
   "source": [
    "lasso = load('lasso_rlcv_114ft_0.0175_0.0187.joblib') "
   ]
  },
  {
   "cell_type": "code",
   "execution_count": 110,
   "metadata": {
    "ExecuteTime": {
     "end_time": "2019-09-14T03:14:27.942673Z",
     "start_time": "2019-09-14T03:14:27.486676Z"
    }
   },
   "outputs": [],
   "source": [
    "sigmoid = (1/(1+np.exp(-0.22*lasso.predict(x_valid)))-0.5)*20"
   ]
  },
  {
   "cell_type": "code",
   "execution_count": 111,
   "metadata": {
    "ExecuteTime": {
     "end_time": "2019-09-14T03:14:29.359511Z",
     "start_time": "2019-09-14T03:14:29.332511Z"
    }
   },
   "outputs": [
    {
     "data": {
      "text/plain": [
       "0.01894224448898718"
      ]
     },
     "execution_count": 111,
     "metadata": {},
     "output_type": "execute_result"
    }
   ],
   "source": [
    "r2d2(y_valid, sigmoid)"
   ]
  },
  {
   "cell_type": "code",
   "execution_count": 15,
   "metadata": {
    "ExecuteTime": {
     "end_time": "2019-09-14T02:25:37.441787Z",
     "start_time": "2019-09-14T02:25:37.437786Z"
    }
   },
   "outputs": [],
   "source": [
    "from sklearn.metrics import r2_score as r2d2"
   ]
  },
  {
   "cell_type": "code",
   "execution_count": 103,
   "metadata": {
    "ExecuteTime": {
     "end_time": "2019-09-14T03:12:36.372136Z",
     "start_time": "2019-09-14T03:12:35.670135Z"
    }
   },
   "outputs": [
    {
     "data": {
      "text/plain": [
       "0.02102596287515801"
      ]
     },
     "execution_count": 103,
     "metadata": {},
     "output_type": "execute_result"
    }
   ],
   "source": [
    "r2d2(y_valid, lasso.predict(x_valid))"
   ]
  },
  {
   "cell_type": "code",
   "execution_count": 81,
   "metadata": {
    "ExecuteTime": {
     "end_time": "2019-09-13T15:11:43.801413Z",
     "start_time": "2019-09-13T15:11:43.772450Z"
    }
   },
   "outputs": [
    {
     "data": {
      "text/plain": [
       "array([0.138818])"
      ]
     },
     "execution_count": 81,
     "metadata": {},
     "output_type": "execute_result"
    }
   ],
   "source": [
    "lasso.predict(np.atleast_2d(df.iloc[0].drop('y').to_list()))"
   ]
  },
  {
   "cell_type": "markdown",
   "metadata": {},
   "source": [
    "# RF"
   ]
  },
  {
   "cell_type": "code",
   "execution_count": 134,
   "metadata": {
    "ExecuteTime": {
     "end_time": "2019-09-15T02:20:04.542604Z",
     "start_time": "2019-09-15T02:20:04.536601Z"
    }
   },
   "outputs": [],
   "source": [
    "def rlcvscore(model):\n",
    "    cvtrain, cvvalid = [], []\n",
    "    for inc, (train_index, valid_index) in enumerate(rlcv.split(X), 1):\n",
    "        x_train, x_valid = X[train_index], X[valid_index]\n",
    "        y_train, y_valid = y[train_index], y[valid_index]\n",
    "        cvtrain.append(model.score(x_train, y_train))\n",
    "        cvvalid.append(model.score(x_valid, y_valid))\n",
    "    print(f'{np.array(cvtrain).round(4)}')\n",
    "    print(f'{np.array(cvvalid).round(4)}')\n",
    "    print(f'{np.mean(cvtrain):.4f}, {np.mean(cvvalid):.4f}')"
   ]
  },
  {
   "cell_type": "code",
   "execution_count": 139,
   "metadata": {
    "ExecuteTime": {
     "end_time": "2019-09-15T02:41:51.898791Z",
     "start_time": "2019-09-15T02:41:46.090168Z"
    }
   },
   "outputs": [],
   "source": [
    "rf_model = RandomForestRegressor(n_estimators=10, max_depth=6, min_samples_split=1000, min_samples_leaf=1000,\n",
    "                                 max_features='auto', n_jobs=-1, random_state=41)"
   ]
  },
  {
   "cell_type": "code",
   "execution_count": 15,
   "metadata": {
    "ExecuteTime": {
     "end_time": "2019-09-15T03:25:48.701638Z",
     "start_time": "2019-09-15T03:25:48.680638Z"
    }
   },
   "outputs": [
    {
     "ename": "NameError",
     "evalue": "name 'df' is not defined",
     "output_type": "error",
     "traceback": [
      "\u001b[1;31m---------------------------------------------------------------------------\u001b[0m",
      "\u001b[1;31mNameError\u001b[0m                                 Traceback (most recent call last)",
      "\u001b[1;32m<ipython-input-15-f9de427f5465>\u001b[0m in \u001b[0;36m<module>\u001b[1;34m\u001b[0m\n\u001b[0;32m      1\u001b[0m \u001b[1;32mfor\u001b[0m \u001b[0mi\u001b[0m \u001b[1;32min\u001b[0m \u001b[0mrange\u001b[0m\u001b[1;33m(\u001b[0m\u001b[1;36m1\u001b[0m\u001b[1;33m,\u001b[0m\u001b[1;36m15\u001b[0m\u001b[1;33m)\u001b[0m\u001b[1;33m:\u001b[0m\u001b[1;33m\u001b[0m\u001b[1;33m\u001b[0m\u001b[0m\n\u001b[1;32m----> 2\u001b[1;33m     \u001b[0mdf\u001b[0m\u001b[1;33m[\u001b[0m\u001b[1;34m'dAskRate'\u001b[0m \u001b[1;33m+\u001b[0m \u001b[0mstr\u001b[0m\u001b[1;33m(\u001b[0m\u001b[0mi\u001b[0m\u001b[1;33m)\u001b[0m\u001b[1;33m]\u001b[0m \u001b[1;33m=\u001b[0m \u001b[0mdf\u001b[0m\u001b[1;33m.\u001b[0m\u001b[0maskRate0\u001b[0m\u001b[1;33m.\u001b[0m\u001b[0mdiff\u001b[0m\u001b[1;33m(\u001b[0m\u001b[0mi\u001b[0m\u001b[1;33m)\u001b[0m\u001b[1;33m\u001b[0m\u001b[1;33m\u001b[0m\u001b[0m\n\u001b[0m",
      "\u001b[1;31mNameError\u001b[0m: name 'df' is not defined"
     ]
    }
   ],
   "source": [
    "for i in range(1,15):\n",
    "    df['dAskRate' + str(i)] = df.askRate0.diff(i)"
   ]
  },
  {
   "cell_type": "code",
   "execution_count": 7,
   "metadata": {
    "ExecuteTime": {
     "end_time": "2019-09-15T03:19:57.663572Z",
     "start_time": "2019-09-15T03:19:57.618570Z"
    }
   },
   "outputs": [
    {
     "data": {
      "text/html": [
       "<div>\n",
       "<style scoped>\n",
       "    .dataframe tbody tr th:only-of-type {\n",
       "        vertical-align: middle;\n",
       "    }\n",
       "\n",
       "    .dataframe tbody tr th {\n",
       "        vertical-align: top;\n",
       "    }\n",
       "\n",
       "    .dataframe thead th {\n",
       "        text-align: right;\n",
       "    }\n",
       "</style>\n",
       "<table border=\"1\" class=\"dataframe\">\n",
       "  <thead>\n",
       "    <tr style=\"text-align: right;\">\n",
       "      <th></th>\n",
       "      <th>askRate0</th>\n",
       "      <th>dAskRate0</th>\n",
       "    </tr>\n",
       "  </thead>\n",
       "  <tbody>\n",
       "    <tr>\n",
       "      <td>2999899</td>\n",
       "      <td>1584.5</td>\n",
       "      <td>0.0</td>\n",
       "    </tr>\n",
       "    <tr>\n",
       "      <td>2999900</td>\n",
       "      <td>1584.5</td>\n",
       "      <td>0.0</td>\n",
       "    </tr>\n",
       "    <tr>\n",
       "      <td>2999901</td>\n",
       "      <td>1584.5</td>\n",
       "      <td>0.0</td>\n",
       "    </tr>\n",
       "    <tr>\n",
       "      <td>2999902</td>\n",
       "      <td>1584.5</td>\n",
       "      <td>0.0</td>\n",
       "    </tr>\n",
       "    <tr>\n",
       "      <td>2999903</td>\n",
       "      <td>1584.5</td>\n",
       "      <td>0.0</td>\n",
       "    </tr>\n",
       "    <tr>\n",
       "      <td>2999904</td>\n",
       "      <td>1584.5</td>\n",
       "      <td>0.0</td>\n",
       "    </tr>\n",
       "    <tr>\n",
       "      <td>2999905</td>\n",
       "      <td>1584.5</td>\n",
       "      <td>0.0</td>\n",
       "    </tr>\n",
       "    <tr>\n",
       "      <td>2999906</td>\n",
       "      <td>1584.5</td>\n",
       "      <td>0.0</td>\n",
       "    </tr>\n",
       "    <tr>\n",
       "      <td>2999907</td>\n",
       "      <td>1584.5</td>\n",
       "      <td>0.0</td>\n",
       "    </tr>\n",
       "    <tr>\n",
       "      <td>2999908</td>\n",
       "      <td>1584.5</td>\n",
       "      <td>0.0</td>\n",
       "    </tr>\n",
       "    <tr>\n",
       "      <td>2999909</td>\n",
       "      <td>1584.5</td>\n",
       "      <td>0.0</td>\n",
       "    </tr>\n",
       "    <tr>\n",
       "      <td>2999910</td>\n",
       "      <td>1584.5</td>\n",
       "      <td>0.0</td>\n",
       "    </tr>\n",
       "    <tr>\n",
       "      <td>2999911</td>\n",
       "      <td>1584.5</td>\n",
       "      <td>0.0</td>\n",
       "    </tr>\n",
       "    <tr>\n",
       "      <td>2999912</td>\n",
       "      <td>1584.5</td>\n",
       "      <td>0.0</td>\n",
       "    </tr>\n",
       "    <tr>\n",
       "      <td>2999913</td>\n",
       "      <td>1584.5</td>\n",
       "      <td>0.0</td>\n",
       "    </tr>\n",
       "    <tr>\n",
       "      <td>2999914</td>\n",
       "      <td>1584.5</td>\n",
       "      <td>0.0</td>\n",
       "    </tr>\n",
       "    <tr>\n",
       "      <td>2999915</td>\n",
       "      <td>1584.5</td>\n",
       "      <td>0.0</td>\n",
       "    </tr>\n",
       "    <tr>\n",
       "      <td>2999916</td>\n",
       "      <td>1584.5</td>\n",
       "      <td>0.0</td>\n",
       "    </tr>\n",
       "    <tr>\n",
       "      <td>2999917</td>\n",
       "      <td>1584.5</td>\n",
       "      <td>0.0</td>\n",
       "    </tr>\n",
       "    <tr>\n",
       "      <td>2999918</td>\n",
       "      <td>1584.5</td>\n",
       "      <td>0.0</td>\n",
       "    </tr>\n",
       "    <tr>\n",
       "      <td>2999919</td>\n",
       "      <td>1584.5</td>\n",
       "      <td>0.0</td>\n",
       "    </tr>\n",
       "    <tr>\n",
       "      <td>2999920</td>\n",
       "      <td>1584.5</td>\n",
       "      <td>0.0</td>\n",
       "    </tr>\n",
       "    <tr>\n",
       "      <td>2999921</td>\n",
       "      <td>1584.0</td>\n",
       "      <td>-0.5</td>\n",
       "    </tr>\n",
       "    <tr>\n",
       "      <td>2999922</td>\n",
       "      <td>1584.0</td>\n",
       "      <td>0.0</td>\n",
       "    </tr>\n",
       "    <tr>\n",
       "      <td>2999923</td>\n",
       "      <td>1584.0</td>\n",
       "      <td>0.0</td>\n",
       "    </tr>\n",
       "    <tr>\n",
       "      <td>2999924</td>\n",
       "      <td>1584.0</td>\n",
       "      <td>0.0</td>\n",
       "    </tr>\n",
       "    <tr>\n",
       "      <td>2999925</td>\n",
       "      <td>1584.0</td>\n",
       "      <td>0.0</td>\n",
       "    </tr>\n",
       "    <tr>\n",
       "      <td>2999926</td>\n",
       "      <td>1584.0</td>\n",
       "      <td>0.0</td>\n",
       "    </tr>\n",
       "    <tr>\n",
       "      <td>2999927</td>\n",
       "      <td>1584.0</td>\n",
       "      <td>0.0</td>\n",
       "    </tr>\n",
       "    <tr>\n",
       "      <td>2999928</td>\n",
       "      <td>1584.0</td>\n",
       "      <td>0.0</td>\n",
       "    </tr>\n",
       "    <tr>\n",
       "      <td>2999929</td>\n",
       "      <td>1584.0</td>\n",
       "      <td>0.0</td>\n",
       "    </tr>\n",
       "    <tr>\n",
       "      <td>2999930</td>\n",
       "      <td>1584.0</td>\n",
       "      <td>0.0</td>\n",
       "    </tr>\n",
       "    <tr>\n",
       "      <td>2999931</td>\n",
       "      <td>1584.0</td>\n",
       "      <td>0.0</td>\n",
       "    </tr>\n",
       "    <tr>\n",
       "      <td>2999932</td>\n",
       "      <td>1584.0</td>\n",
       "      <td>0.0</td>\n",
       "    </tr>\n",
       "    <tr>\n",
       "      <td>2999933</td>\n",
       "      <td>1584.0</td>\n",
       "      <td>0.0</td>\n",
       "    </tr>\n",
       "    <tr>\n",
       "      <td>2999934</td>\n",
       "      <td>1584.0</td>\n",
       "      <td>0.0</td>\n",
       "    </tr>\n",
       "    <tr>\n",
       "      <td>2999935</td>\n",
       "      <td>1584.0</td>\n",
       "      <td>0.0</td>\n",
       "    </tr>\n",
       "    <tr>\n",
       "      <td>2999936</td>\n",
       "      <td>1584.0</td>\n",
       "      <td>0.0</td>\n",
       "    </tr>\n",
       "    <tr>\n",
       "      <td>2999937</td>\n",
       "      <td>1584.0</td>\n",
       "      <td>0.0</td>\n",
       "    </tr>\n",
       "    <tr>\n",
       "      <td>2999938</td>\n",
       "      <td>1584.0</td>\n",
       "      <td>0.0</td>\n",
       "    </tr>\n",
       "    <tr>\n",
       "      <td>2999939</td>\n",
       "      <td>1584.0</td>\n",
       "      <td>0.0</td>\n",
       "    </tr>\n",
       "    <tr>\n",
       "      <td>2999940</td>\n",
       "      <td>1584.0</td>\n",
       "      <td>0.0</td>\n",
       "    </tr>\n",
       "    <tr>\n",
       "      <td>2999941</td>\n",
       "      <td>1584.0</td>\n",
       "      <td>0.0</td>\n",
       "    </tr>\n",
       "    <tr>\n",
       "      <td>2999942</td>\n",
       "      <td>1584.0</td>\n",
       "      <td>0.0</td>\n",
       "    </tr>\n",
       "    <tr>\n",
       "      <td>2999943</td>\n",
       "      <td>1584.0</td>\n",
       "      <td>0.0</td>\n",
       "    </tr>\n",
       "    <tr>\n",
       "      <td>2999944</td>\n",
       "      <td>1584.0</td>\n",
       "      <td>0.0</td>\n",
       "    </tr>\n",
       "    <tr>\n",
       "      <td>2999945</td>\n",
       "      <td>1584.0</td>\n",
       "      <td>0.0</td>\n",
       "    </tr>\n",
       "    <tr>\n",
       "      <td>2999946</td>\n",
       "      <td>1584.0</td>\n",
       "      <td>0.0</td>\n",
       "    </tr>\n",
       "    <tr>\n",
       "      <td>2999947</td>\n",
       "      <td>1584.0</td>\n",
       "      <td>0.0</td>\n",
       "    </tr>\n",
       "    <tr>\n",
       "      <td>2999948</td>\n",
       "      <td>1584.0</td>\n",
       "      <td>0.0</td>\n",
       "    </tr>\n",
       "    <tr>\n",
       "      <td>2999949</td>\n",
       "      <td>1583.5</td>\n",
       "      <td>-0.5</td>\n",
       "    </tr>\n",
       "    <tr>\n",
       "      <td>2999950</td>\n",
       "      <td>1583.5</td>\n",
       "      <td>0.0</td>\n",
       "    </tr>\n",
       "    <tr>\n",
       "      <td>2999951</td>\n",
       "      <td>1584.0</td>\n",
       "      <td>0.5</td>\n",
       "    </tr>\n",
       "    <tr>\n",
       "      <td>2999952</td>\n",
       "      <td>1584.0</td>\n",
       "      <td>0.0</td>\n",
       "    </tr>\n",
       "    <tr>\n",
       "      <td>2999953</td>\n",
       "      <td>1584.0</td>\n",
       "      <td>0.0</td>\n",
       "    </tr>\n",
       "    <tr>\n",
       "      <td>2999954</td>\n",
       "      <td>1584.0</td>\n",
       "      <td>0.0</td>\n",
       "    </tr>\n",
       "    <tr>\n",
       "      <td>2999955</td>\n",
       "      <td>1584.0</td>\n",
       "      <td>0.0</td>\n",
       "    </tr>\n",
       "    <tr>\n",
       "      <td>2999956</td>\n",
       "      <td>1584.0</td>\n",
       "      <td>0.0</td>\n",
       "    </tr>\n",
       "    <tr>\n",
       "      <td>2999957</td>\n",
       "      <td>1584.0</td>\n",
       "      <td>0.0</td>\n",
       "    </tr>\n",
       "    <tr>\n",
       "      <td>2999958</td>\n",
       "      <td>1584.0</td>\n",
       "      <td>0.0</td>\n",
       "    </tr>\n",
       "    <tr>\n",
       "      <td>2999959</td>\n",
       "      <td>1584.0</td>\n",
       "      <td>0.0</td>\n",
       "    </tr>\n",
       "    <tr>\n",
       "      <td>2999960</td>\n",
       "      <td>1584.0</td>\n",
       "      <td>0.0</td>\n",
       "    </tr>\n",
       "    <tr>\n",
       "      <td>2999961</td>\n",
       "      <td>1584.0</td>\n",
       "      <td>0.0</td>\n",
       "    </tr>\n",
       "    <tr>\n",
       "      <td>2999962</td>\n",
       "      <td>1584.0</td>\n",
       "      <td>0.0</td>\n",
       "    </tr>\n",
       "    <tr>\n",
       "      <td>2999963</td>\n",
       "      <td>1584.0</td>\n",
       "      <td>0.0</td>\n",
       "    </tr>\n",
       "    <tr>\n",
       "      <td>2999964</td>\n",
       "      <td>1583.5</td>\n",
       "      <td>-0.5</td>\n",
       "    </tr>\n",
       "    <tr>\n",
       "      <td>2999965</td>\n",
       "      <td>1583.5</td>\n",
       "      <td>0.0</td>\n",
       "    </tr>\n",
       "    <tr>\n",
       "      <td>2999966</td>\n",
       "      <td>1583.5</td>\n",
       "      <td>0.0</td>\n",
       "    </tr>\n",
       "    <tr>\n",
       "      <td>2999967</td>\n",
       "      <td>1583.5</td>\n",
       "      <td>0.0</td>\n",
       "    </tr>\n",
       "    <tr>\n",
       "      <td>2999968</td>\n",
       "      <td>1583.5</td>\n",
       "      <td>0.0</td>\n",
       "    </tr>\n",
       "    <tr>\n",
       "      <td>2999969</td>\n",
       "      <td>1583.5</td>\n",
       "      <td>0.0</td>\n",
       "    </tr>\n",
       "    <tr>\n",
       "      <td>2999970</td>\n",
       "      <td>1583.5</td>\n",
       "      <td>0.0</td>\n",
       "    </tr>\n",
       "    <tr>\n",
       "      <td>2999971</td>\n",
       "      <td>1583.5</td>\n",
       "      <td>0.0</td>\n",
       "    </tr>\n",
       "    <tr>\n",
       "      <td>2999972</td>\n",
       "      <td>1583.5</td>\n",
       "      <td>0.0</td>\n",
       "    </tr>\n",
       "    <tr>\n",
       "      <td>2999973</td>\n",
       "      <td>1583.5</td>\n",
       "      <td>0.0</td>\n",
       "    </tr>\n",
       "    <tr>\n",
       "      <td>2999974</td>\n",
       "      <td>1583.5</td>\n",
       "      <td>0.0</td>\n",
       "    </tr>\n",
       "    <tr>\n",
       "      <td>2999975</td>\n",
       "      <td>1583.5</td>\n",
       "      <td>0.0</td>\n",
       "    </tr>\n",
       "    <tr>\n",
       "      <td>2999976</td>\n",
       "      <td>1583.5</td>\n",
       "      <td>0.0</td>\n",
       "    </tr>\n",
       "    <tr>\n",
       "      <td>2999977</td>\n",
       "      <td>1583.5</td>\n",
       "      <td>0.0</td>\n",
       "    </tr>\n",
       "    <tr>\n",
       "      <td>2999978</td>\n",
       "      <td>1583.5</td>\n",
       "      <td>0.0</td>\n",
       "    </tr>\n",
       "    <tr>\n",
       "      <td>2999979</td>\n",
       "      <td>1583.5</td>\n",
       "      <td>0.0</td>\n",
       "    </tr>\n",
       "    <tr>\n",
       "      <td>2999980</td>\n",
       "      <td>1583.5</td>\n",
       "      <td>0.0</td>\n",
       "    </tr>\n",
       "    <tr>\n",
       "      <td>2999981</td>\n",
       "      <td>1583.5</td>\n",
       "      <td>0.0</td>\n",
       "    </tr>\n",
       "    <tr>\n",
       "      <td>2999982</td>\n",
       "      <td>1583.5</td>\n",
       "      <td>0.0</td>\n",
       "    </tr>\n",
       "    <tr>\n",
       "      <td>2999983</td>\n",
       "      <td>1583.5</td>\n",
       "      <td>0.0</td>\n",
       "    </tr>\n",
       "    <tr>\n",
       "      <td>2999984</td>\n",
       "      <td>1583.5</td>\n",
       "      <td>0.0</td>\n",
       "    </tr>\n",
       "    <tr>\n",
       "      <td>2999985</td>\n",
       "      <td>1583.5</td>\n",
       "      <td>0.0</td>\n",
       "    </tr>\n",
       "    <tr>\n",
       "      <td>2999986</td>\n",
       "      <td>1583.5</td>\n",
       "      <td>0.0</td>\n",
       "    </tr>\n",
       "    <tr>\n",
       "      <td>2999987</td>\n",
       "      <td>1583.5</td>\n",
       "      <td>0.0</td>\n",
       "    </tr>\n",
       "    <tr>\n",
       "      <td>2999988</td>\n",
       "      <td>1583.5</td>\n",
       "      <td>0.0</td>\n",
       "    </tr>\n",
       "    <tr>\n",
       "      <td>2999989</td>\n",
       "      <td>1583.5</td>\n",
       "      <td>0.0</td>\n",
       "    </tr>\n",
       "    <tr>\n",
       "      <td>2999990</td>\n",
       "      <td>1583.5</td>\n",
       "      <td>0.0</td>\n",
       "    </tr>\n",
       "    <tr>\n",
       "      <td>2999991</td>\n",
       "      <td>1583.5</td>\n",
       "      <td>0.0</td>\n",
       "    </tr>\n",
       "    <tr>\n",
       "      <td>2999992</td>\n",
       "      <td>1583.5</td>\n",
       "      <td>0.0</td>\n",
       "    </tr>\n",
       "    <tr>\n",
       "      <td>2999993</td>\n",
       "      <td>1583.5</td>\n",
       "      <td>0.0</td>\n",
       "    </tr>\n",
       "    <tr>\n",
       "      <td>2999994</td>\n",
       "      <td>1583.5</td>\n",
       "      <td>0.0</td>\n",
       "    </tr>\n",
       "    <tr>\n",
       "      <td>2999995</td>\n",
       "      <td>1583.5</td>\n",
       "      <td>0.0</td>\n",
       "    </tr>\n",
       "    <tr>\n",
       "      <td>2999996</td>\n",
       "      <td>1583.5</td>\n",
       "      <td>0.0</td>\n",
       "    </tr>\n",
       "    <tr>\n",
       "      <td>2999997</td>\n",
       "      <td>1583.5</td>\n",
       "      <td>0.0</td>\n",
       "    </tr>\n",
       "    <tr>\n",
       "      <td>2999998</td>\n",
       "      <td>1583.5</td>\n",
       "      <td>0.0</td>\n",
       "    </tr>\n",
       "  </tbody>\n",
       "</table>\n",
       "</div>"
      ],
      "text/plain": [
       "         askRate0  dAskRate0\n",
       "2999899    1584.5        0.0\n",
       "2999900    1584.5        0.0\n",
       "2999901    1584.5        0.0\n",
       "2999902    1584.5        0.0\n",
       "2999903    1584.5        0.0\n",
       "2999904    1584.5        0.0\n",
       "2999905    1584.5        0.0\n",
       "2999906    1584.5        0.0\n",
       "2999907    1584.5        0.0\n",
       "2999908    1584.5        0.0\n",
       "2999909    1584.5        0.0\n",
       "2999910    1584.5        0.0\n",
       "2999911    1584.5        0.0\n",
       "2999912    1584.5        0.0\n",
       "2999913    1584.5        0.0\n",
       "2999914    1584.5        0.0\n",
       "2999915    1584.5        0.0\n",
       "2999916    1584.5        0.0\n",
       "2999917    1584.5        0.0\n",
       "2999918    1584.5        0.0\n",
       "2999919    1584.5        0.0\n",
       "2999920    1584.5        0.0\n",
       "2999921    1584.0       -0.5\n",
       "2999922    1584.0        0.0\n",
       "2999923    1584.0        0.0\n",
       "2999924    1584.0        0.0\n",
       "2999925    1584.0        0.0\n",
       "2999926    1584.0        0.0\n",
       "2999927    1584.0        0.0\n",
       "2999928    1584.0        0.0\n",
       "2999929    1584.0        0.0\n",
       "2999930    1584.0        0.0\n",
       "2999931    1584.0        0.0\n",
       "2999932    1584.0        0.0\n",
       "2999933    1584.0        0.0\n",
       "2999934    1584.0        0.0\n",
       "2999935    1584.0        0.0\n",
       "2999936    1584.0        0.0\n",
       "2999937    1584.0        0.0\n",
       "2999938    1584.0        0.0\n",
       "2999939    1584.0        0.0\n",
       "2999940    1584.0        0.0\n",
       "2999941    1584.0        0.0\n",
       "2999942    1584.0        0.0\n",
       "2999943    1584.0        0.0\n",
       "2999944    1584.0        0.0\n",
       "2999945    1584.0        0.0\n",
       "2999946    1584.0        0.0\n",
       "2999947    1584.0        0.0\n",
       "2999948    1584.0        0.0\n",
       "2999949    1583.5       -0.5\n",
       "2999950    1583.5        0.0\n",
       "2999951    1584.0        0.5\n",
       "2999952    1584.0        0.0\n",
       "2999953    1584.0        0.0\n",
       "2999954    1584.0        0.0\n",
       "2999955    1584.0        0.0\n",
       "2999956    1584.0        0.0\n",
       "2999957    1584.0        0.0\n",
       "2999958    1584.0        0.0\n",
       "2999959    1584.0        0.0\n",
       "2999960    1584.0        0.0\n",
       "2999961    1584.0        0.0\n",
       "2999962    1584.0        0.0\n",
       "2999963    1584.0        0.0\n",
       "2999964    1583.5       -0.5\n",
       "2999965    1583.5        0.0\n",
       "2999966    1583.5        0.0\n",
       "2999967    1583.5        0.0\n",
       "2999968    1583.5        0.0\n",
       "2999969    1583.5        0.0\n",
       "2999970    1583.5        0.0\n",
       "2999971    1583.5        0.0\n",
       "2999972    1583.5        0.0\n",
       "2999973    1583.5        0.0\n",
       "2999974    1583.5        0.0\n",
       "2999975    1583.5        0.0\n",
       "2999976    1583.5        0.0\n",
       "2999977    1583.5        0.0\n",
       "2999978    1583.5        0.0\n",
       "2999979    1583.5        0.0\n",
       "2999980    1583.5        0.0\n",
       "2999981    1583.5        0.0\n",
       "2999982    1583.5        0.0\n",
       "2999983    1583.5        0.0\n",
       "2999984    1583.5        0.0\n",
       "2999985    1583.5        0.0\n",
       "2999986    1583.5        0.0\n",
       "2999987    1583.5        0.0\n",
       "2999988    1583.5        0.0\n",
       "2999989    1583.5        0.0\n",
       "2999990    1583.5        0.0\n",
       "2999991    1583.5        0.0\n",
       "2999992    1583.5        0.0\n",
       "2999993    1583.5        0.0\n",
       "2999994    1583.5        0.0\n",
       "2999995    1583.5        0.0\n",
       "2999996    1583.5        0.0\n",
       "2999997    1583.5        0.0\n",
       "2999998    1583.5        0.0"
      ]
     },
     "execution_count": 7,
     "metadata": {},
     "output_type": "execute_result"
    }
   ],
   "source": [
    "df[['askRate0', 'dAskRate0']].tail(100)"
   ]
  },
  {
   "cell_type": "code",
   "execution_count": 284,
   "metadata": {
    "ExecuteTime": {
     "end_time": "2019-09-15T03:13:38.609096Z",
     "start_time": "2019-09-15T03:13:38.450095Z"
    }
   },
   "outputs": [
    {
     "data": {
      "text/plain": [
       "-0.014467340775302278"
      ]
     },
     "execution_count": 284,
     "metadata": {},
     "output_type": "execute_result"
    }
   ],
   "source": [
    "(df.askRate0.diff(87)).corr(df.y)"
   ]
  },
  {
   "cell_type": "code",
   "execution_count": 292,
   "metadata": {
    "ExecuteTime": {
     "end_time": "2019-09-15T03:15:42.053045Z",
     "start_time": "2019-09-15T03:15:42.022046Z"
    }
   },
   "outputs": [
    {
     "data": {
      "text/plain": [
       "-0.016979444501644472"
      ]
     },
     "execution_count": 292,
     "metadata": {},
     "output_type": "execute_result"
    }
   ],
   "source": [
    "(df.askRate0.diff(87)[:100000]).corr(df.y[:100000])"
   ]
  },
  {
   "cell_type": "code",
   "execution_count": 285,
   "metadata": {
    "ExecuteTime": {
     "end_time": "2019-09-15T03:13:53.481652Z",
     "start_time": "2019-09-15T03:13:53.303650Z"
    }
   },
   "outputs": [
    {
     "data": {
      "text/plain": [
       "-0.014179611964623053"
      ]
     },
     "execution_count": 285,
     "metadata": {},
     "output_type": "execute_result"
    }
   ],
   "source": [
    "(df.midRate.diff(87)).corr(df.y)"
   ]
  },
  {
   "cell_type": "code",
   "execution_count": 191,
   "metadata": {
    "ExecuteTime": {
     "end_time": "2019-09-15T02:41:51.898791Z",
     "start_time": "2019-09-15T02:41:46.090168Z"
    }
   },
   "outputs": [],
   "source": [
    "rf_model.fit(x_train, y_train);"
   ]
  },
  {
   "cell_type": "code",
   "execution_count": 141,
   "metadata": {
    "ExecuteTime": {
     "end_time": "2019-09-15T02:23:41.727016Z",
     "start_time": "2019-09-15T02:23:36.056348Z"
    }
   },
   "outputs": [
    {
     "name": "stdout",
     "output_type": "stream",
     "text": [
      "[ 0.0561  0.0039 -0.0016  0.0003  0.0088]\n",
      "[ 0.0039 -0.0016  0.0003  0.0088  0.0044]\n",
      "0.0135, 0.0032\n"
     ]
    }
   ],
   "source": [
    "rlcvscore(rf_model) # realistic cv"
   ]
  },
  {
   "cell_type": "code",
   "execution_count": 152,
   "metadata": {
    "ExecuteTime": {
     "end_time": "2019-09-15T02:29:21.674236Z",
     "start_time": "2019-09-15T02:29:20.651235Z"
    }
   },
   "outputs": [],
   "source": [
    "a = df.drop('y', axis=1).columns[indices]"
   ]
  },
  {
   "cell_type": "code",
   "execution_count": 157,
   "metadata": {
    "ExecuteTime": {
     "end_time": "2019-09-15T02:31:36.791589Z",
     "start_time": "2019-09-15T02:31:36.784628Z"
    }
   },
   "outputs": [
    {
     "data": {
      "text/plain": [
       "Index(['spread', 'OIR', 'bidAskRatio1', 'totalAskVol12', 'bidAskRatio12',\n",
       "       'totalAskVol11', 'bidAskRatio2', 'bidAskRatio13', 'deltaVBid', 'vwaBid',\n",
       "       'diff_vwaBidAskDMid', 'bidAskRatio3', 'totalAskVol9', 'totalBidVol13',\n",
       "       'totalAskVol1', 'bidAskRatio7', 'totalBidVol12', 'bidSize2',\n",
       "       'bidAskRatio14', 'totalBidVol9', 'bidAskRatio5', 'totalBidVol11', 'VOI',\n",
       "       'totalBidVol6', 'bidAskRatio6', 'bidAskRatio11', 'askSize12',\n",
       "       'bidSize13', 'totalBidVol5', 'bidSize8'],\n",
       "      dtype='object')"
      ]
     },
     "execution_count": 157,
     "metadata": {},
     "output_type": "execute_result"
    }
   ],
   "source": [
    "a[:30] # these are the important variables"
   ]
  },
  {
   "cell_type": "code",
   "execution_count": 195,
   "metadata": {
    "ExecuteTime": {
     "end_time": "2019-09-15T02:42:44.365273Z",
     "start_time": "2019-09-15T02:42:43.164275Z"
    }
   },
   "outputs": [],
   "source": [
    "# create X with important variables only\n",
    "X = df.drop('y', axis=1)[a[:20]].values\n",
    "y = df.y.values"
   ]
  },
  {
   "cell_type": "code",
   "execution_count": 196,
   "metadata": {
    "ExecuteTime": {
     "end_time": "2019-09-15T02:42:45.220885Z",
     "start_time": "2019-09-15T02:42:45.104914Z"
    }
   },
   "outputs": [
    {
     "name": "stdout",
     "output_type": "stream",
     "text": [
      "TRAIN: (2, 428572) VALID: (428573, 857143) SIZES: (428571, 428571)\n"
     ]
    }
   ],
   "source": [
    "from sklearn.preprocessing import LabelBinarizer\n",
    "from sklearn.ensemble import RandomForestRegressor\n",
    "from sklearn.ensemble import RandomForestClassifier\n",
    "from sklearn.model_selection import RandomizedSearchCV\n",
    "from rolling import RollingWindowSplit\n",
    "from joblib import dump, load\n",
    "\n",
    "rlcv = RollingWindowSplit(n_splits=5, compatible=True)\n",
    "for inc, (train_index, valid_index) in enumerate(rlcv.split(X), 1):\n",
    "    x_train, x_valid = X[train_index], X[valid_index]\n",
    "    y_train, y_valid = y[train_index], y[valid_index]\n",
    "    print(\"TRAIN:\", (train_index[0], train_index[-1]),\n",
    "          \"VALID:\", (valid_index[0], valid_index[-1]),\n",
    "          \"SIZES:\", (len(x_train), len(x_valid)))\n",
    "    if inc: break"
   ]
  },
  {
   "cell_type": "code",
   "execution_count": 224,
   "metadata": {
    "ExecuteTime": {
     "end_time": "2019-09-15T02:47:05.341074Z",
     "start_time": "2019-09-15T02:47:05.336062Z"
    }
   },
   "outputs": [],
   "source": [
    "rf_model = RandomForestRegressor(n_estimators=10, max_depth=2, min_samples_split=2, min_samples_leaf=5000,\n",
    "                                 max_features='auto', n_jobs=-1, random_state=41)"
   ]
  },
  {
   "cell_type": "code",
   "execution_count": 225,
   "metadata": {
    "ExecuteTime": {
     "end_time": "2019-09-15T02:47:10.739560Z",
     "start_time": "2019-09-15T02:47:05.920590Z"
    }
   },
   "outputs": [],
   "source": [
    "rf_model.fit(x_train, y_train);"
   ]
  },
  {
   "cell_type": "code",
   "execution_count": 226,
   "metadata": {
    "ExecuteTime": {
     "end_time": "2019-09-15T02:47:12.600562Z",
     "start_time": "2019-09-15T02:47:10.741562Z"
    }
   },
   "outputs": [
    {
     "name": "stdout",
     "output_type": "stream",
     "text": [
      "[0.014  0.0081 0.0072 0.0047 0.0098]\n",
      "[0.0081 0.0072 0.0047 0.0098 0.0068]\n",
      "0.0088, 0.0073\n"
     ]
    }
   ],
   "source": [
    "rlcvscore(rf_model)"
   ]
  },
  {
   "cell_type": "code",
   "execution_count": 233,
   "metadata": {
    "ExecuteTime": {
     "end_time": "2019-09-15T02:49:53.322616Z",
     "start_time": "2019-09-15T02:49:52.857607Z"
    }
   },
   "outputs": [
    {
     "data": {
      "text/plain": [
       "<matplotlib.legend.Legend at 0x22518a77e10>"
      ]
     },
     "execution_count": 233,
     "metadata": {},
     "output_type": "execute_result"
    },
    {
     "data": {
      "image/png": "[encoded data removed]",
      "text/plain": [
       "<Figure size 432x288 with 1 Axes>"
      ]
     },
     "metadata": {},
     "output_type": "display_data"
    }
   ],
   "source": [
    "plt.plot(rf_model.predict(x_valid)[:2000])\n",
    "plt.plot(y_valid[:2000])\n",
    "plt.legend(('prediction', 'y'))"
   ]
  },
  {
   "cell_type": "code",
   "execution_count": 167,
   "metadata": {
    "ExecuteTime": {
     "end_time": "2019-09-15T02:35:47.216166Z",
     "start_time": "2019-09-15T02:35:44.969165Z"
    }
   },
   "outputs": [
    {
     "name": "stdout",
     "output_type": "stream",
     "text": [
      "[ 0.0554  0.0033 -0.0017  0.0015  0.0089]\n",
      "[ 0.0033 -0.0017  0.0015  0.0089  0.0047]\n",
      "0.0135, 0.0033\n"
     ]
    }
   ],
   "source": [
    "rlcvscore(rf_model) #n_est 10, depth 6, 1000, 1000, 30 most importantvariables"
   ]
  },
  {
   "cell_type": "code",
   "execution_count": 143,
   "metadata": {
    "ExecuteTime": {
     "end_time": "2019-09-15T02:24:45.787782Z",
     "start_time": "2019-09-15T02:24:41.788297Z"
    },
    "scrolled": false
   },
   "outputs": [
    {
     "name": "stdout",
     "output_type": "stream",
     "text": [
      "Feature ranking:\n",
      "1. feature 60 (0.187222)\n",
      "2. feature 113 (0.137414)\n",
      "3. feature 90 (0.062060)\n",
      "4. feature 87 (0.061551)\n",
      "5. feature 101 (0.057842)\n",
      "6. feature 86 (0.044337)\n",
      "7. feature 91 (0.040228)\n",
      "8. feature 102 (0.031975)\n",
      "9. feature 110 (0.025626)\n",
      "10. feature 105 (0.025411)\n",
      "11. feature 109 (0.021539)\n",
      "12. feature 92 (0.021490)\n",
      "13. feature 84 (0.020808)\n",
      "14. feature 74 (0.016204)\n",
      "15. feature 76 (0.015854)\n",
      "16. feature 96 (0.015558)\n",
      "17. feature 73 (0.015418)\n",
      "18. feature 47 (0.015032)\n",
      "19. feature 103 (0.014706)\n",
      "20. feature 70 (0.014339)\n",
      "21. feature 94 (0.012646)\n",
      "22. feature 72 (0.012472)\n",
      "23. feature 112 (0.010613)\n",
      "24. feature 67 (0.008538)\n",
      "25. feature 95 (0.008353)\n",
      "26. feature 100 (0.007845)\n",
      "27. feature 27 (0.007749)\n",
      "28. feature 58 (0.007206)\n",
      "29. feature 66 (0.005776)\n",
      "30. feature 53 (0.005330)\n",
      "31. feature 65 (0.004836)\n",
      "32. feature 106 (0.004814)\n",
      "33. feature 75 (0.004757)\n",
      "34. feature 104 (0.004420)\n",
      "35. feature 52 (0.003651)\n",
      "36. feature 89 (0.003611)\n",
      "37. feature 97 (0.002936)\n",
      "38. feature 19 (0.002854)\n",
      "39. feature 98 (0.002840)\n",
      "40. feature 78 (0.002834)\n",
      "41. feature 21 (0.002545)\n",
      "42. feature 71 (0.002539)\n",
      "43. feature 28 (0.002516)\n",
      "44. feature 99 (0.002413)\n",
      "45. feature 85 (0.002408)\n",
      "46. feature 15 (0.002385)\n",
      "47. feature 16 (0.002383)\n",
      "48. feature 17 (0.002309)\n",
      "49. feature 14 (0.001927)\n",
      "50. feature 83 (0.001924)\n",
      "51. feature 23 (0.001626)\n",
      "52. feature 20 (0.001611)\n",
      "53. feature 22 (0.001022)\n",
      "54. feature 45 (0.001020)\n",
      "55. feature 93 (0.000853)\n",
      "56. feature 59 (0.000699)\n",
      "57. feature 26 (0.000686)\n",
      "58. feature 62 (0.000438)\n",
      "59. feature 4 (0.000000)\n",
      "60. feature 25 (0.000000)\n",
      "61. feature 24 (0.000000)\n",
      "62. feature 29 (0.000000)\n",
      "63. feature 30 (0.000000)\n",
      "64. feature 31 (0.000000)\n",
      "65. feature 3 (0.000000)\n",
      "66. feature 10 (0.000000)\n",
      "67. feature 2 (0.000000)\n",
      "68. feature 18 (0.000000)\n",
      "69. feature 11 (0.000000)\n",
      "70. feature 5 (0.000000)\n",
      "71. feature 6 (0.000000)\n",
      "72. feature 7 (0.000000)\n",
      "73. feature 1 (0.000000)\n",
      "74. feature 13 (0.000000)\n",
      "75. feature 12 (0.000000)\n",
      "76. feature 8 (0.000000)\n",
      "77. feature 9 (0.000000)\n",
      "78. feature 33 (0.000000)\n",
      "79. feature 32 (0.000000)\n",
      "80. feature 56 (0.000000)\n",
      "81. feature 34 (0.000000)\n",
      "82. feature 79 (0.000000)\n",
      "83. feature 61 (0.000000)\n",
      "84. feature 63 (0.000000)\n",
      "85. feature 64 (0.000000)\n",
      "86. feature 68 (0.000000)\n",
      "87. feature 69 (0.000000)\n",
      "88. feature 77 (0.000000)\n",
      "89. feature 80 (0.000000)\n",
      "90. feature 35 (0.000000)\n",
      "91. feature 81 (0.000000)\n",
      "92. feature 82 (0.000000)\n",
      "93. feature 88 (0.000000)\n",
      "94. feature 107 (0.000000)\n",
      "95. feature 108 (0.000000)\n",
      "96. feature 111 (0.000000)\n",
      "97. feature 57 (0.000000)\n",
      "98. feature 55 (0.000000)\n",
      "99. feature 54 (0.000000)\n",
      "100. feature 51 (0.000000)\n",
      "101. feature 50 (0.000000)\n",
      "102. feature 49 (0.000000)\n",
      "103. feature 48 (0.000000)\n",
      "104. feature 46 (0.000000)\n",
      "105. feature 44 (0.000000)\n",
      "106. feature 43 (0.000000)\n",
      "107. feature 42 (0.000000)\n",
      "108. feature 41 (0.000000)\n",
      "109. feature 40 (0.000000)\n",
      "110. feature 39 (0.000000)\n",
      "111. feature 38 (0.000000)\n",
      "112. feature 37 (0.000000)\n",
      "113. feature 36 (0.000000)\n",
      "114. feature 0 (0.000000)\n"
     ]
    },
    {
     "data": {
      "image/png": "[encoded data removed]",
      "text/plain": [
       "<Figure size 1080x576 with 1 Axes>"
      ]
     },
     "metadata": {},
     "output_type": "display_data"
    }
   ],
   "source": [
    "importances = rf_model.feature_importances_\n",
    "std = np.std([tree.feature_importances_ for tree in rf_model.estimators_],\n",
    "             axis=0)\n",
    "indices = np.argsort(importances)[::-1]\n",
    "\n",
    "# Print the feature ranking\n",
    "print(\"Feature ranking:\")\n",
    "\n",
    "for f in range(X.shape[1]):\n",
    "    print(\"%d. feature %d (%f)\" % (f + 1, indices[f], importances[indices[f]]))\n",
    "\n",
    "# Plot the feature importances of the forest\n",
    "plt.figure(figsize=(15,8))\n",
    "plt.title(\"Feature importances\")\n",
    "plt.bar(range(X.shape[1]), importances[indices],\n",
    "       color=\"r\", yerr=std[indices], align=\"center\")\n",
    "plt.xticks(range(X.shape[1]), indices)\n",
    "plt.xlim([-1, X.shape[1]])\n",
    "plt.show()"
   ]
  },
  {
   "cell_type": "code",
   "execution_count": null,
   "metadata": {},
   "outputs": [],
   "source": [
    "# save model\n",
    "from joblib import dump, load\n",
    "dump(rf, 'model.joblib')"
   ]
  },
  {
   "cell_type": "code",
   "execution_count": null,
   "metadata": {},
   "outputs": [],
   "source": [
    "# load model\n",
    "rf2 = load('model.joblib')"
   ]
  },
  {
   "cell_type": "code",
   "execution_count": null,
   "metadata": {},
   "outputs": [],
   "source": []
  },
  {
   "cell_type": "code",
   "execution_count": null,
   "metadata": {},
   "outputs": [],
   "source": []
  }
 ],
 "metadata": {
  "kernelspec": {
   "display_name": "Python 3",
   "language": "python",
   "name": "python3"
  },
  "language_info": {
   "codemirror_mode": {
    "name": "ipython",
    "version": 3
   },
   "file_extension": ".py",
   "mimetype": "text/x-python",
   "name": "python",
   "nbconvert_exporter": "python",
   "pygments_lexer": "ipython3",
   "version": "3.6.9"
  }
 },
 "nbformat": 4,
 "nbformat_minor": 2
}
