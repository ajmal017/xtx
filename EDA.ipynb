{
 "cells": [
  {
   "cell_type": "markdown",
   "metadata": {},
   "source": [
    "# Imports"
   ]
  },
  {
   "cell_type": "code",
   "execution_count": 1,
   "metadata": {
    "ExecuteTime": {
     "end_time": "2019-09-29T08:47:40.429878Z",
     "start_time": "2019-09-29T08:47:37.597837Z"
    }
   },
   "outputs": [],
   "source": [
    "import pandas as pd\n",
    "import numpy as np\n",
    "import matplotlib.pyplot as plt\n",
    "import seaborn as sns\n",
    "import ta\n",
    "import lightgbm as lgb\n",
    "import xgboost as xgb\n",
    "# from fastai import *\n",
    "# from fastai.tabular import *\n",
    "from tqdm import tqdm_notebook\n",
    "from sklearn.model_selection import RandomizedSearchCV\n",
    "from sklearn.linear_model import LassoLarsCV\n",
    "from sklearn.linear_model import RidgeCV\n",
    "from sklearn.preprocessing import StandardScaler\n",
    "from rolling import RollingWindowSplit\n",
    "from sklearn.metrics import r2_score as r2d2\n",
    "from joblib import dump as dumper\n",
    "from joblib import load as loader\n",
    "from datetime import datetime, timedelta\n",
    "\n",
    "%matplotlib inline\n",
    "# %load_ext line_profiler\n",
    "sns.set(style = \"whitegrid\")\n",
    "pd.set_option('display.max_columns', 200)\n",
    "pd.set_option('display.max_rows', 200)"
   ]
  },
  {
   "cell_type": "code",
   "execution_count": 2,
   "metadata": {
    "ExecuteTime": {
     "end_time": "2019-09-29T08:47:48.383933Z",
     "start_time": "2019-09-29T08:47:40.432879Z"
    }
   },
   "outputs": [],
   "source": [
    "path = 'D://Coding//XTX Forecasting Challenge//data-training.file'\n",
    "df = pd.read_feather(path, use_threads=8)\n",
    "df = df.astype('float32')\n",
    "df.fillna(0, inplace=True)"
   ]
  },
  {
   "cell_type": "code",
   "execution_count": 3,
   "metadata": {
    "ExecuteTime": {
     "end_time": "2019-09-29T08:47:48.393933Z",
     "start_time": "2019-09-29T08:47:48.386932Z"
    }
   },
   "outputs": [],
   "source": [
    "askRateList = ['askRate' + str(i) for i in range(0,15)]\n",
    "askSizeList = ['askSize' + str(i) for i in range(0,15)]\n",
    "bidRateList = ['bidRate' + str(i) for i in range(0,15)]\n",
    "bidSizeList = ['bidSize' + str(i) for i in range(0,15)]"
   ]
  },
  {
   "cell_type": "code",
   "execution_count": 4,
   "metadata": {
    "ExecuteTime": {
     "end_time": "2019-09-29T08:47:48.769952Z",
     "start_time": "2019-09-29T08:47:48.397933Z"
    }
   },
   "outputs": [],
   "source": [
    "# 70-30 train-valid and test split\n",
    "def train_valid_test_split(df):\n",
    "    valid_start = int(0.80*len(df))\n",
    "    test_start = int(0.95*len(df))\n",
    "    train_df = df[:valid_start].copy()\n",
    "    valid_df = df[valid_start:test_start].copy()\n",
    "    test_df = df[test_start:].copy()\n",
    "    return train_df, valid_df, test_df\n",
    "train_df, valid_df, test_df = train_valid_test_split(df)"
   ]
  },
  {
   "cell_type": "code",
   "execution_count": 5,
   "metadata": {
    "ExecuteTime": {
     "end_time": "2019-09-29T08:47:48.775952Z",
     "start_time": "2019-09-29T08:47:48.771952Z"
    }
   },
   "outputs": [],
   "source": [
    "core = [*askRateList, *askSizeList, *bidRateList, *bidSizeList]"
   ]
  },
  {
   "cell_type": "markdown",
   "metadata": {},
   "source": [
    "# Exploratory Data Analysis"
   ]
  },
  {
   "cell_type": "code",
   "execution_count": 6,
   "metadata": {
    "ExecuteTime": {
     "end_time": "2019-09-29T08:47:48.790951Z",
     "start_time": "2019-09-29T08:47:48.778952Z"
    }
   },
   "outputs": [],
   "source": [
    "# # Figuring out what [y] is\n",
    "# # y(t) is midRate(t+87) - midRate(t), clipped to (-5.5)\n",
    "# df['expectedY'] = df.midRate.diff(87).shift(-87).clip(-5,5)"
   ]
  },
  {
   "cell_type": "markdown",
   "metadata": {},
   "source": [
    "# Batch prediction"
   ]
  },
  {
   "cell_type": "code",
   "execution_count": 7,
   "metadata": {
    "ExecuteTime": {
     "end_time": "2019-09-29T08:47:48.801952Z",
     "start_time": "2019-09-29T08:47:48.793951Z"
    }
   },
   "outputs": [],
   "source": [
    "# the public leaderboard set should have 150k observations: they check running time of 10k in 1h and max 15h"
   ]
  },
  {
   "cell_type": "code",
   "execution_count": 8,
   "metadata": {
    "ExecuteTime": {
     "end_time": "2019-09-29T08:47:48.826964Z",
     "start_time": "2019-09-29T08:47:48.805951Z"
    }
   },
   "outputs": [],
   "source": [
    "def create_limited_features_orig(df: pd.DataFrame):\n",
    "    # limited features\n",
    "    df['midRate'] = (df.bidRate0 + df.askRate0) / 2 # necessary for ohlc\n",
    "    df['OIR'] = (df.bidSize0 - df.askSize0)/(df.bidSize0 + df.askSize0)\n",
    "    df['totalAskVol'] = df[askSizeList].sum(axis=1)\n",
    "    df['totalBidVol'] = df[bidSizeList].sum(axis=1)\n",
    "    df['OIR_total'] = (df.totalBidVol - df.totalAskVol)/(df.totalBidVol + df.totalAskVol)\n",
    "    \n",
    "    df['spread'] = df.askRate0 - df.bidRate0\n",
    "    df['vwaBid'] = np.einsum('ij,ji->i', df[bidRateList], df[bidSizeList].T) / df[bidSizeList].sum(axis=1)\n",
    "    df['vwaAsk'] = np.einsum('ij,ji->i', df[askRateList], df[askSizeList].T) / df[askSizeList].sum(axis=1)\n",
    "    df['vwaBidDMid'] = df.midRate - df.vwaBid\n",
    "    df['vwaAskDMid'] = df.vwaAsk - df.midRate\n",
    "    df['diff_vwaBidAskDMid'] = df.vwaAskDMid - df.vwaBidDMid\n",
    "    \n",
    "    b1, a1 = (df.bidRate0 < df.bidRate0.shift(1)), (df.askRate0 < df.askRate0.shift(1))\n",
    "    b2, a2 = (df.bidRate0 == df.bidRate0.shift(1)), (df.askRate0 == df.askRate0.shift(1))\n",
    "    valsB, valsA = [0, (df.bidSize0 - df.bidSize0.shift(1))], [0, (df.askSize0 - df.askSize0.shift(1))]\n",
    "    df['deltaVBid'] = np.select([b1,b2], valsB, default=df.bidSize0)\n",
    "    df['deltaVAsk'] = np.select([a1,a2], valsA, default=df.askSize0)\n",
    "    df['VOI'] = df.deltaVBid - df.deltaVAsk\n",
    "    \n",
    "#     time features\n",
    "    tsi = [87, 261, 348, 435, 522]\n",
    "    trix = [87, 174, 348, 435, 522]\n",
    "    for t in tsi:        df['tsi' + str(t)] = ta.momentum.tsi(df.midRate, s=t, r=2.25*t)\n",
    "    for t in trix:       df['trix' + str(t)] = ta.trend.trix(df.midRate, n=t)\n",
    "    return df"
   ]
  },
  {
   "cell_type": "code",
   "execution_count": 9,
   "metadata": {
    "ExecuteTime": {
     "end_time": "2019-09-29T08:47:48.839949Z",
     "start_time": "2019-09-29T08:47:48.829951Z"
    }
   },
   "outputs": [],
   "source": [
    "rlcv = RollingWindowSplit(n_splits=3, compatible=True)"
   ]
  },
  {
   "cell_type": "code",
   "execution_count": 10,
   "metadata": {
    "ExecuteTime": {
     "end_time": "2019-09-29T08:48:30.388513Z",
     "start_time": "2019-09-29T08:47:48.842951Z"
    },
    "scrolled": true
   },
   "outputs": [],
   "source": [
    "# takes 22s\n",
    "limited_train = create_limited_features_orig(train_df)\n",
    "limited_valid = create_limited_features_orig(valid_df)"
   ]
  },
  {
   "cell_type": "code",
   "execution_count": 11,
   "metadata": {
    "ExecuteTime": {
     "end_time": "2019-09-29T08:48:30.398471Z",
     "start_time": "2019-09-29T08:48:30.390469Z"
    }
   },
   "outputs": [],
   "source": [
    "sns.set(style = \"whitegrid\")"
   ]
  },
  {
   "cell_type": "code",
   "execution_count": 12,
   "metadata": {
    "ExecuteTime": {
     "end_time": "2019-09-29T08:48:37.487467Z",
     "start_time": "2019-09-29T08:48:30.401478Z"
    }
   },
   "outputs": [],
   "source": [
    "def preprocess(limited_df):\n",
    "    x_train = limited_df.replace([np.inf, -np.inf], np.nan).fillna(0).drop('y', axis=1).values\n",
    "    y_train = limited_df.y.values\n",
    "    return x_train, y_train\n",
    "\n",
    "# takes 10s\n",
    "x_scaled_train, y_train = preprocess(limited_train)\n",
    "x_scaled_valid, y_valid = preprocess(limited_valid)"
   ]
  },
  {
   "cell_type": "code",
   "execution_count": null,
   "metadata": {
    "ExecuteTime": {
     "end_time": "2019-09-29T08:24:49.868881Z",
     "start_time": "2019-09-29T08:24:49.860880Z"
    }
   },
   "outputs": [],
   "source": [
    "# # true best params\n",
    "# fixed_params = {'boosting_type': 'gbdt', 'nthread': 4, 'random_state': 42, 'metric': 'rmse'}\n",
    "# best_params = {'subsample': 0.7, 'reg_lambda': 1, 'reg_alpha': 0.5, 'num_leaves': 160, 'min_split_gain': 0.75,\n",
    "#                'min_data_in_leaf': 50, 'max_depth': 3, 'max_bin': 70, 'learning_rate': 0.03, 'colsample_bytree': 0.9}"
   ]
  },
  {
   "cell_type": "code",
   "execution_count": null,
   "metadata": {},
   "outputs": [],
   "source": [
    "# '''0.0330, 0.0235, 0.0230'''\n",
    "# fixed_params = {'boosting_type': 'gbdt', 'nthread': 4, 'random_state': 42, 'metric': 'rmse'}\n",
    "# best_params = {'subsample': 0.7, 'reg_lambda': 1, 'reg_alpha': 0.5, 'num_leaves': 80, 'min_split_gain': 0.75,\n",
    "#                'min_data_in_leaf': 50, 'max_depth': 4, 'max_bin': 70, 'learning_rate': 0.03, 'colsample_bytree': 0.9}"
   ]
  },
  {
   "cell_type": "code",
   "execution_count": null,
   "metadata": {},
   "outputs": [],
   "source": [
    "# '''0.0411, 0.0242, 0.0234'''\n",
    "fixed_params = {'boosting_type': 'gbdt', 'nthread': 4, 'random_state': 42, 'metric': 'rmse'}\n",
    "best_params = {'subsample': 0.7, 'reg_lambda': 1, 'reg_alpha': 0.5, 'num_leaves': 40, 'min_split_gain': 0.75,\n",
    "               'min_data_in_leaf': 500, 'max_depth': 5, 'max_bin': 70, 'learning_rate': 0.03, 'colsample_bytree': 0.9}"
   ]
  },
  {
   "cell_type": "code",
   "execution_count": 30,
   "metadata": {
    "ExecuteTime": {
     "end_time": "2019-09-29T08:54:42.556180Z",
     "start_time": "2019-09-29T08:53:40.235670Z"
    }
   },
   "outputs": [],
   "source": [
    "fixed_params = {'boosting_type': 'gbdt', 'nthread': 4, 'random_state': 42, 'metric': 'rmse'}\n",
    "best_params = {'subsample': 0.7, 'reg_lambda': 1, 'reg_alpha': 0.5, 'num_leaves': 40, 'min_split_gain': 0.75,\n",
    "               'min_data_in_leaf': 100, 'max_depth': 5, 'max_bin': 70, 'learning_rate': 0.03, 'colsample_bytree': 0.9}\n",
    "\n",
    "# takes 1 min\n",
    "lgbm = lgb.LGBMRegressor(**fixed_params, **best_params, eval_set=(x_scaled_valid, y_valid), eval_metric='l2').fit(x_scaled_train, y_train)"
   ]
  },
  {
   "cell_type": "code",
   "execution_count": 32,
   "metadata": {
    "ExecuteTime": {
     "end_time": "2019-09-29T08:56:15.416396Z",
     "start_time": "2019-09-29T08:56:15.359396Z"
    }
   },
   "outputs": [],
   "source": [
    "# lgbm.booster_.save_model('lgbm.txt')\n",
    "bst = lgb.Booster(model_file='lgbm.txt')"
   ]
  },
  {
   "cell_type": "code",
   "execution_count": 15,
   "metadata": {
    "ExecuteTime": {
     "end_time": "2019-09-29T08:49:46.177183Z",
     "start_time": "2019-09-29T08:49:46.167186Z"
    }
   },
   "outputs": [],
   "source": [
    "def score(model, x_scaled_train, x_scaled_valid, y_train, y_valid):\n",
    "    predictions_train = model.predict(x_scaled_train)\n",
    "    train_score = r2d2(y_train, predictions_train)\n",
    "    predictions_valid = model.predict(x_scaled_valid)\n",
    "    valid_score = r2d2(y_valid, predictions_valid)\n",
    "    limited_test = create_limited_features_orig(test_df)\n",
    "    x_scaled_test, y_test = preprocess(limited_test)\n",
    "    predictions_test = model.predict(x_scaled_test)\n",
    "    test_score = r2d2(y_test, predictions_test)\n",
    "    print(f'{train_score:.4f}, {valid_score:.4f}, {test_score:.4f}')\n",
    "    return predictions_test, limited_test"
   ]
  },
  {
   "cell_type": "code",
   "execution_count": 34,
   "metadata": {
    "ExecuteTime": {
     "end_time": "2019-09-29T08:57:00.666187Z",
     "start_time": "2019-09-29T08:56:31.505213Z"
    }
   },
   "outputs": [
    {
     "name": "stdout",
     "output_type": "stream",
     "text": [
      "0.0411, 0.0242, 0.0234\n"
     ]
    }
   ],
   "source": [
    "predictions_test, limited_test = score(bst, x_scaled_train, x_scaled_valid, y_train, y_valid)"
   ]
  },
  {
   "cell_type": "code",
   "execution_count": null,
   "metadata": {
    "ExecuteTime": {
     "end_time": "2019-09-29T08:13:40.634034Z",
     "start_time": "2019-09-29T08:13:27.851034Z"
    }
   },
   "outputs": [],
   "source": [
    "'''0.0244, 0.0229, 0.0225 original'''\n",
    "predictions_test, limited_test = score(lgbm, x_scaled_train, x_scaled_valid, y_train, y_valid)"
   ]
  },
  {
   "cell_type": "code",
   "execution_count": null,
   "metadata": {
    "ExecuteTime": {
     "end_time": "2019-09-29T06:11:41.438792Z",
     "start_time": "2019-09-29T06:11:41.434792Z"
    }
   },
   "outputs": [],
   "source": [
    "# dumper(lasso, 'lasso.joblib')\n",
    "# dumper(ridge, 'ridge.joblib')\n",
    "# lasso = loader('lasso.joblib')\n",
    "# ridge = loader('ridge.joblib')"
   ]
  },
  {
   "cell_type": "code",
   "execution_count": null,
   "metadata": {
    "ExecuteTime": {
     "end_time": "2019-09-27T11:17:43.742506Z",
     "start_time": "2019-09-27T11:17:43.053507Z"
    }
   },
   "outputs": [],
   "source": [
    "plt.subplots(1,1,figsize=(15,8))\n",
    "limit = 1000\n",
    "plt.plot(predictions_test[:limit])\n",
    "plt.plot(limited_test.y.values[:limit])\n",
    "plt.legend(['predictions', 'y'])"
   ]
  },
  {
   "cell_type": "code",
   "execution_count": null,
   "metadata": {
    "ExecuteTime": {
     "end_time": "2019-09-29T06:32:22.256172Z",
     "start_time": "2019-09-29T06:32:22.242174Z"
    }
   },
   "outputs": [],
   "source": [
    "columns = limited_train.columns.drop('y')\n",
    "a = lgbm.feature_importances_; a"
   ]
  },
  {
   "cell_type": "code",
   "execution_count": null,
   "metadata": {
    "ExecuteTime": {
     "end_time": "2019-09-29T06:32:24.030473Z",
     "start_time": "2019-09-29T06:32:24.018469Z"
    },
    "scrolled": true
   },
   "outputs": [],
   "source": [
    "'''You should chuck the variables that meet this condition!'''\n",
    "columns.values[np.where(a>-1,1,0).astype(bool)]"
   ]
  },
  {
   "cell_type": "code",
   "execution_count": null,
   "metadata": {
    "ExecuteTime": {
     "end_time": "2019-09-29T06:11:41.492793Z",
     "start_time": "2019-09-29T06:11:41.482793Z"
    }
   },
   "outputs": [],
   "source": [
    "'''These are the variables that contribute to the lgbm!'''\n",
    "columns.values[np.where(a>20,1,0).astype(bool)]"
   ]
  },
  {
   "cell_type": "markdown",
   "metadata": {},
   "source": [
    "# Fast.ai"
   ]
  },
  {
   "cell_type": "code",
   "execution_count": null,
   "metadata": {
    "ExecuteTime": {
     "end_time": "2019-09-29T00:36:44.931279Z",
     "start_time": "2019-09-29T00:36:38.694991Z"
    }
   },
   "outputs": [],
   "source": [
    "import pandas as pd\n",
    "import numpy as np\n",
    "import matplotlib.pyplot as plt\n",
    "import seaborn as sns\n",
    "from fastai import *\n",
    "from fastai.tabular import *\n",
    "from tqdm import tqdm_notebook\n",
    "from sklearn.metrics import r2_score as r2d2\n",
    "from joblib import dump as dumper\n",
    "from joblib import load as loader\n",
    "\n",
    "%matplotlib inline\n",
    "# %load_ext line_profiler\n",
    "sns.set(style = \"whitegrid\")\n",
    "pd.set_option('display.max_columns', 200)\n",
    "pd.set_option('display.max_rows', 200)"
   ]
  },
  {
   "cell_type": "code",
   "execution_count": null,
   "metadata": {
    "ExecuteTime": {
     "end_time": "2019-09-29T00:36:52.804285Z",
     "start_time": "2019-09-29T00:36:44.934262Z"
    }
   },
   "outputs": [],
   "source": [
    "path = 'D://Coding//XTX Forecasting Challenge//data-training.file'\n",
    "df = pd.read_feather(path, use_threads=8)\n",
    "df = df.astype('float32')\n",
    "df.fillna(0, inplace=True)"
   ]
  },
  {
   "cell_type": "code",
   "execution_count": null,
   "metadata": {
    "ExecuteTime": {
     "end_time": "2019-09-29T00:36:52.814290Z",
     "start_time": "2019-09-29T00:36:52.807288Z"
    }
   },
   "outputs": [],
   "source": [
    "askRateList = ['askRate' + str(i) for i in range(0,15)]\n",
    "askSizeList = ['askSize' + str(i) for i in range(0,15)]\n",
    "bidRateList = ['bidRate' + str(i) for i in range(0,15)]\n",
    "bidSizeList = ['bidSize' + str(i) for i in range(0,15)]"
   ]
  },
  {
   "cell_type": "code",
   "execution_count": null,
   "metadata": {
    "ExecuteTime": {
     "end_time": "2019-09-29T00:36:53.198287Z",
     "start_time": "2019-09-29T00:36:52.819287Z"
    }
   },
   "outputs": [],
   "source": [
    "# 70-30 train-valid and test split\n",
    "def train_valid_test_split(df):\n",
    "    valid_start = int(0.80*len(df))\n",
    "    test_start = int(0.95*len(df))\n",
    "    train_df = df[:valid_start].copy()\n",
    "    valid_df = df[valid_start:test_start].copy()\n",
    "    test_df = df[test_start:].copy()\n",
    "    return train_df, valid_df, test_df\n",
    "train_df, valid_df, test_df = train_valid_test_split(df)"
   ]
  },
  {
   "cell_type": "code",
   "execution_count": null,
   "metadata": {
    "ExecuteTime": {
     "end_time": "2019-09-29T00:36:53.225288Z",
     "start_time": "2019-09-29T00:36:53.202287Z"
    }
   },
   "outputs": [],
   "source": [
    "def create_limited_features_orig(df: pd.DataFrame):\n",
    "    # limited features\n",
    "    df['midRate'] = (df.bidRate0 + df.askRate0) / 2 # necessary for ohlc\n",
    "    df['OIR'] = (df.bidSize0 - df.askSize0)/(df.bidSize0 + df.askSize0)\n",
    "    df['totalAskVol'] = df[askSizeList].sum(axis=1)\n",
    "    df['totalBidVol'] = df[bidSizeList].sum(axis=1)\n",
    "    df['OIR_total'] = (df.totalBidVol - df.totalAskVol)/(df.totalBidVol + df.totalAskVol)\n",
    "    \n",
    "    df['spread'] = df.askRate0 - df.bidRate0\n",
    "    df['vwaBid'] = np.einsum('ij,ji->i', df[bidRateList], df[bidSizeList].T) / df[bidSizeList].sum(axis=1)\n",
    "    df['vwaAsk'] = np.einsum('ij,ji->i', df[askRateList], df[askSizeList].T) / df[askSizeList].sum(axis=1)\n",
    "    df['vwaBidDMid'] = df.midRate - df.vwaBid\n",
    "    df['vwaAskDMid'] = df.vwaAsk - df.midRate\n",
    "    df['diff_vwaBidAskDMid'] = df.vwaAskDMid - df.vwaBidDMid\n",
    "    \n",
    "    b1, a1 = (df.bidRate0 < df.bidRate0.shift(1)), (df.askRate0 < df.askRate0.shift(1))\n",
    "    b2, a2 = (df.bidRate0 == df.bidRate0.shift(1)), (df.askRate0 == df.askRate0.shift(1))\n",
    "    valsB, valsA = [0, (df.bidSize0 - df.bidSize0.shift(1))], [0, (df.askSize0 - df.askSize0.shift(1))]\n",
    "    df['deltaVBid'] = np.select([b1,b2], valsB, default=df.bidSize0)\n",
    "    df['deltaVAsk'] = np.select([a1,a2], valsA, default=df.askSize0)\n",
    "    df['VOI'] = df.deltaVBid - df.deltaVAsk\n",
    "    return df"
   ]
  },
  {
   "cell_type": "code",
   "execution_count": null,
   "metadata": {
    "ExecuteTime": {
     "end_time": "2019-09-29T00:37:00.146287Z",
     "start_time": "2019-09-29T00:36:53.228292Z"
    },
    "scrolled": true
   },
   "outputs": [],
   "source": [
    "# takes 22s\n",
    "limited_train = create_limited_features_orig(train_df)\n",
    "limited_valid = create_limited_features_orig(valid_df)"
   ]
  },
  {
   "cell_type": "code",
   "execution_count": null,
   "metadata": {
    "ExecuteTime": {
     "end_time": "2019-09-29T00:37:00.152288Z",
     "start_time": "2019-09-29T00:37:00.148287Z"
    }
   },
   "outputs": [],
   "source": [
    "core = [*askRateList, *askSizeList, *bidRateList, *bidSizeList]"
   ]
  },
  {
   "cell_type": "code",
   "execution_count": null,
   "metadata": {
    "ExecuteTime": {
     "end_time": "2019-09-29T00:37:00.807285Z",
     "start_time": "2019-09-29T00:37:00.156288Z"
    }
   },
   "outputs": [],
   "source": [
    "limited_train = limited_train.iloc[:int(2e6)]"
   ]
  },
  {
   "cell_type": "code",
   "execution_count": null,
   "metadata": {
    "ExecuteTime": {
     "end_time": "2019-09-29T00:37:00.816290Z",
     "start_time": "2019-09-29T00:37:00.810290Z"
    }
   },
   "outputs": [],
   "source": [
    "dep_var = 'y'\n",
    "procs = [FillMissing, Normalize]"
   ]
  },
  {
   "cell_type": "code",
   "execution_count": null,
   "metadata": {
    "ExecuteTime": {
     "end_time": "2019-09-29T00:37:24.313285Z",
     "start_time": "2019-09-29T00:37:00.819290Z"
    }
   },
   "outputs": [],
   "source": [
    "# takes 7s on 500k rows, 30s on full df\n",
    "test = TabularList.from_df(test_df, procs=procs)\n",
    "data = (TabularList.from_df(df = limited_train, path='.', cont_names = df.columns.drop('y'), procs=procs)\n",
    "                            .split_by_idx(valid_idx=range(int(0.5*len(limited_train)),len(limited_train)))\n",
    "                            .label_from_df(cols=dep_var)\n",
    "                            .add_test(test, label=0)\n",
    "                            .databunch())"
   ]
  },
  {
   "cell_type": "code",
   "execution_count": null,
   "metadata": {
    "ExecuteTime": {
     "end_time": "2019-09-28T06:45:36.236247Z",
     "start_time": "2019-09-28T06:45:29.808325Z"
    }
   },
   "outputs": [],
   "source": [
    "dumper(data, 'data.joblib')\n",
    "# data = loader('data.joblib')"
   ]
  },
  {
   "cell_type": "code",
   "execution_count": null,
   "metadata": {
    "ExecuteTime": {
     "end_time": "2019-09-29T00:37:28.699007Z",
     "start_time": "2019-09-29T00:37:24.315287Z"
    },
    "scrolled": true
   },
   "outputs": [],
   "source": [
    "learn = tabular_learner(data, layers=[500,500,500], metrics=[mean_absolute_error, r2_score],\n",
    "                        ps=[0.5,0.5,0.5])"
   ]
  },
  {
   "cell_type": "code",
   "execution_count": null,
   "metadata": {
    "ExecuteTime": {
     "end_time": "2019-09-28T06:54:48.252019Z",
     "start_time": "2019-09-28T06:54:48.247007Z"
    }
   },
   "outputs": [],
   "source": [
    "learn.model;"
   ]
  },
  {
   "cell_type": "code",
   "execution_count": null,
   "metadata": {
    "ExecuteTime": {
     "end_time": "2019-09-28T09:04:54.808916Z",
     "start_time": "2019-09-28T09:04:16.928941Z"
    }
   },
   "outputs": [],
   "source": [
    "learn.lr_find(end_lr=1e1)"
   ]
  },
  {
   "cell_type": "code",
   "execution_count": null,
   "metadata": {
    "ExecuteTime": {
     "end_time": "2019-09-28T08:22:04.940581Z",
     "start_time": "2019-09-28T08:22:04.930580Z"
    }
   },
   "outputs": [],
   "source": [
    "sns.set(style = \"whitegrid\")"
   ]
  },
  {
   "cell_type": "code",
   "execution_count": null,
   "metadata": {
    "ExecuteTime": {
     "end_time": "2019-09-28T09:08:21.029321Z",
     "start_time": "2019-09-28T09:08:19.683282Z"
    }
   },
   "outputs": [],
   "source": [
    "learn.recorder.plot()"
   ]
  },
  {
   "cell_type": "code",
   "execution_count": null,
   "metadata": {},
   "outputs": [],
   "source": [
    "# model above has already diverged, we will restart."
   ]
  },
  {
   "cell_type": "code",
   "execution_count": null,
   "metadata": {
    "ExecuteTime": {
     "end_time": "2019-09-29T03:58:44.265210Z",
     "start_time": "2019-09-29T03:50:10.576528Z"
    }
   },
   "outputs": [],
   "source": [
    "# 9m for 1 cycle\n",
    "learn.fit_one_cycle(1, 1e-5, wd=1)"
   ]
  },
  {
   "cell_type": "code",
   "execution_count": null,
   "metadata": {
    "ExecuteTime": {
     "end_time": "2019-09-29T04:14:56.482605Z",
     "start_time": "2019-09-29T04:14:55.777605Z"
    }
   },
   "outputs": [],
   "source": [
    "learn.recorder.plot_lr(show_moms=True)"
   ]
  },
  {
   "cell_type": "code",
   "execution_count": null,
   "metadata": {
    "ExecuteTime": {
     "end_time": "2019-09-29T01:22:42.211412Z",
     "start_time": "2019-09-29T01:22:42.152402Z"
    }
   },
   "outputs": [],
   "source": [
    "learn.save('new_fastai.joblib')"
   ]
  },
  {
   "cell_type": "code",
   "execution_count": null,
   "metadata": {
    "ExecuteTime": {
     "end_time": "2019-09-29T04:14:44.836542Z",
     "start_time": "2019-09-29T04:14:44.265633Z"
    }
   },
   "outputs": [],
   "source": [
    "learn.recorder.plot_losses()"
   ]
  },
  {
   "cell_type": "code",
   "execution_count": null,
   "metadata": {
    "ExecuteTime": {
     "end_time": "2019-09-28T08:58:49.547196Z",
     "start_time": "2019-09-28T08:58:48.666199Z"
    }
   },
   "outputs": [],
   "source": [
    "learn.recorder.plot_losses()"
   ]
  },
  {
   "cell_type": "code",
   "execution_count": null,
   "metadata": {
    "ExecuteTime": {
     "end_time": "2019-09-29T01:23:11.750788Z",
     "start_time": "2019-09-29T01:22:43.688403Z"
    }
   },
   "outputs": [],
   "source": [
    "# this takes 20s\n",
    "learn.show_results()"
   ]
  },
  {
   "cell_type": "code",
   "execution_count": null,
   "metadata": {
    "ExecuteTime": {
     "end_time": "2019-09-29T04:14:10.117653Z",
     "start_time": "2019-09-29T04:13:39.099605Z"
    }
   },
   "outputs": [],
   "source": [
    "# this takes 30s\n",
    "preds, y = learn.get_preds(DatasetType.Test)"
   ]
  },
  {
   "cell_type": "code",
   "execution_count": null,
   "metadata": {
    "ExecuteTime": {
     "end_time": "2019-09-29T04:14:10.183656Z",
     "start_time": "2019-09-29T04:14:10.120654Z"
    }
   },
   "outputs": [],
   "source": [
    "r2d2(test_df.y.values, preds)"
   ]
  },
  {
   "cell_type": "code",
   "execution_count": null,
   "metadata": {
    "ExecuteTime": {
     "end_time": "2019-09-29T01:23:46.367788Z",
     "start_time": "2019-09-29T01:23:46.312785Z"
    }
   },
   "outputs": [],
   "source": [
    "r2d2(test_df.y.values, preds)"
   ]
  },
  {
   "cell_type": "code",
   "execution_count": null,
   "metadata": {
    "ExecuteTime": {
     "end_time": "2019-09-29T03:49:30.158603Z",
     "start_time": "2019-09-29T03:49:29.706586Z"
    }
   },
   "outputs": [],
   "source": [
    "plt.subplots(1,1,figsize=(15,8))\n",
    "plt.plot(test_df.y.values[:10000])\n",
    "plt.plot(preds[:10000])\n",
    "plt.legend('y', 'preds')"
   ]
  },
  {
   "cell_type": "markdown",
   "metadata": {},
   "source": [
    "# Submission testing"
   ]
  },
  {
   "cell_type": "code",
   "execution_count": 17,
   "metadata": {
    "ExecuteTime": {
     "end_time": "2019-09-29T08:50:06.742186Z",
     "start_time": "2019-09-29T08:50:06.736185Z"
    }
   },
   "outputs": [],
   "source": [
    "def get_next_data_as_df(test_df, iteration, length):\n",
    "    return pd.DataFrame([test_df.head(length).iloc[iteration][:60].values])"
   ]
  },
  {
   "cell_type": "code",
   "execution_count": 18,
   "metadata": {
    "ExecuteTime": {
     "end_time": "2019-09-29T08:50:06.805183Z",
     "start_time": "2019-09-29T08:50:06.745183Z"
    }
   },
   "outputs": [],
   "source": [
    "'''\n",
    "This function takes in a DataFrame row [df] of shape (1,60) and adds 10 cross-sectional features.\n",
    "Returns a DataFrame of shape (1,70).\n",
    "'''\n",
    "def create_limited_features(df):\n",
    "    df.columns = [*askRateList, *askSizeList, *bidRateList, *bidSizeList]\n",
    "    # limited features\n",
    "    df['midRate'] = (df.bidRate0 + df.askRate0) / 2 # necessary for ohlc\n",
    "    df['OIR'] = (df.bidSize0 - df.askSize0)/(df.bidSize0 + df.askSize0)\n",
    "    df['totalAskVol'] = df[askSizeList].sum(axis=1)\n",
    "    df['totalBidVol'] = df[bidSizeList].sum(axis=1)\n",
    "    df['OIR_total'] = (df.totalBidVol - df.totalAskVol)/(df.totalBidVol + df.totalAskVol)\n",
    "    \n",
    "    df['spread'] = df.askRate0 - df.bidRate0\n",
    "    df['vwaBid'] = np.einsum('ij,ji->i', df[bidRateList], df[bidSizeList].T) / df[bidSizeList].sum(axis=1)\n",
    "    df['vwaAsk'] = np.einsum('ij,ji->i', df[askRateList], df[askSizeList].T) / df[askSizeList].sum(axis=1)\n",
    "    df['vwaBidDMid'] = df.midRate - df.vwaBid\n",
    "    df['vwaAskDMid'] = df.vwaAsk - df.midRate\n",
    "    df['diff_vwaBidAskDMid'] = df.vwaAskDMid - df.vwaBidDMid\n",
    "    \n",
    "    b1, a1 = (df.bidRate0 < df.bidRate0.shift(1)), (df.askRate0 < df.askRate0.shift(1))\n",
    "    b2, a2 = (df.bidRate0 == df.bidRate0.shift(1)), (df.askRate0 == df.askRate0.shift(1))\n",
    "    valsB, valsA = [0, (df.bidSize0 - df.bidSize0.shift(1))], [0, (df.askSize0 - df.askSize0.shift(1))]\n",
    "    df['deltaVBid'] = np.select([b1,b2], valsB, default=df.bidSize0)\n",
    "    df['deltaVAsk'] = np.select([a1,a2], valsA, default=df.askSize0)\n",
    "    df['VOI'] = df.deltaVBid - df.deltaVAsk\n",
    "    return df"
   ]
  },
  {
   "cell_type": "code",
   "execution_count": 19,
   "metadata": {
    "ExecuteTime": {
     "end_time": "2019-09-29T08:50:06.819187Z",
     "start_time": "2019-09-29T08:50:06.812185Z"
    }
   },
   "outputs": [],
   "source": [
    "''' Appends to [massive_df]=(many, >70) the DataFrame row [row]=(1,70). '''\n",
    "def append_to_df(massive_df, row):\n",
    "    return massive_df.append(row, sort=False)"
   ]
  },
  {
   "cell_type": "code",
   "execution_count": 20,
   "metadata": {
    "ExecuteTime": {
     "end_time": "2019-09-29T08:50:06.840185Z",
     "start_time": "2019-09-29T08:50:06.825186Z"
    }
   },
   "outputs": [],
   "source": [
    "''' Adds time-dependent features. All features that use shift/diff must come here. '''\n",
    "def add_time_features(df, massive_df_length):\n",
    "    tsi = [87, 261, 348, 435, 522]\n",
    "    trix = [87, 174, 348, 435, 522]\n",
    "    for t in tsi:        df['tsi' + str(t)] = ta.momentum.tsi(df.midRate, s=t, r=2.25*t)\n",
    "    for t in trix:       df['trix' + str(t)] = ta.trend.trix(df.midRate, n=t)\n",
    "    return df[-massive_df_length:]"
   ]
  },
  {
   "cell_type": "code",
   "execution_count": 21,
   "metadata": {
    "ExecuteTime": {
     "end_time": "2019-09-29T08:50:06.853183Z",
     "start_time": "2019-09-29T08:50:06.845187Z"
    }
   },
   "outputs": [],
   "source": [
    "''' This function takes in all features and makes a bounded prediction. '''\n",
    "def get_prediction(data):\n",
    "    X = data.replace([np.inf, -np.inf], np.nan).values\n",
    "    return np.clip(lgbm.predict(np.atleast_2d(X)), -5, 5)[0]"
   ]
  },
  {
   "cell_type": "code",
   "execution_count": 22,
   "metadata": {
    "ExecuteTime": {
     "end_time": "2019-09-29T08:50:06.874185Z",
     "start_time": "2019-09-29T08:50:06.856183Z"
    },
    "scrolled": true
   },
   "outputs": [],
   "source": [
    "''' true_rlcvscore runs the submission functions on a test dataframe [test_df] taking the first [length] rows of [test_df].'''\n",
    "def true_rlcvscore(test_df, length):\n",
    "    massive_df_length = 1565\n",
    "    massive_df, predictions = pd.DataFrame(), []\n",
    "    log_data = pd.DataFrame()  # for debug\n",
    "    for iteration in tqdm_notebook(range(length)):\n",
    "        base_row = get_next_data_as_df(test_df, iteration, length)\n",
    "        row = create_limited_features(base_row)\n",
    "        massive_df = append_to_df(massive_df, row)\n",
    "        massive_df = add_time_features(massive_df, massive_df_length)\n",
    "        data = pd.DataFrame([massive_df.iloc[-1]])\n",
    "        log_data_row = data.copy() # for debug\n",
    "        prediction = get_prediction(data)\n",
    "        predictions.append(prediction)\n",
    "        log_data = log_data.append(log_data_row, sort=False) # for debug\n",
    "    true_values = test_df.y.head(length)\n",
    "    score = r2d2(true_values, predictions)\n",
    "    print(f'{score:.4f}')\n",
    "    return predictions, score, log_data, true_values"
   ]
  },
  {
   "cell_type": "code",
   "execution_count": 23,
   "metadata": {
    "ExecuteTime": {
     "end_time": "2019-09-29T08:50:06.884185Z",
     "start_time": "2019-09-29T08:50:06.878185Z"
    }
   },
   "outputs": [
    {
     "data": {
      "text/plain": [
       "' about 9 it/s should take 7h'"
      ]
     },
     "execution_count": 23,
     "metadata": {},
     "output_type": "execute_result"
    }
   ],
   "source": [
    "''' 7.93 it/s takes 8 hours'''\n",
    "''' 16.00 it/s should take 4h'''\n",
    "''' about 9 it/s should take 7h'''"
   ]
  },
  {
   "cell_type": "code",
   "execution_count": null,
   "metadata": {
    "ExecuteTime": {
     "start_time": "2019-09-29T08:57:12.118Z"
    }
   },
   "outputs": [
    {
     "data": {
      "application/vnd.jupyter.widget-view+json": {
       "model_id": "767d17abd6dc4cbb8b506e3dc3577f1c",
       "version_major": 2,
       "version_minor": 0
      },
      "text/plain": [
       "HBox(children=(IntProgress(value=0, max=2000), HTML(value='')))"
      ]
     },
     "metadata": {},
     "output_type": "display_data"
    }
   ],
   "source": [
    "# takes 2m30s for 1000\n",
    "# massive_d = true_rlcvscore(test_df, lgbm, 1000)\n",
    "test_predictions, test_score, log_data, true_values = true_rlcvscore(test_df, 2000)"
   ]
  },
  {
   "cell_type": "code",
   "execution_count": null,
   "metadata": {
    "ExecuteTime": {
     "start_time": "2019-09-29T08:57:51.580Z"
    }
   },
   "outputs": [],
   "source": [
    "log_data"
   ]
  },
  {
   "cell_type": "code",
   "execution_count": null,
   "metadata": {
    "ExecuteTime": {
     "end_time": "2019-09-26T15:29:29.190708Z",
     "start_time": "2019-09-26T15:29:28.663709Z"
    }
   },
   "outputs": [],
   "source": [
    "plt.subplots(1,1,figsize=(15,8))\n",
    "plt.plot(test_predictions)\n",
    "plt.plot(true_values.values)\n",
    "plt.legend(['predictions', 'y'])"
   ]
  },
  {
   "cell_type": "code",
   "execution_count": null,
   "metadata": {
    "ExecuteTime": {
     "end_time": "2019-09-21T15:40:24.416970Z",
     "start_time": "2019-09-21T15:40:24.413968Z"
    }
   },
   "outputs": [],
   "source": [
    "# %lprun -f true_rlcvscore test_predictions, test_score = true_rlcvscore(test_df, 100)"
   ]
  }
 ],
 "metadata": {
  "kernelspec": {
   "display_name": "Python 3",
   "language": "python",
   "name": "python3"
  },
  "language_info": {
   "codemirror_mode": {
    "name": "ipython",
    "version": 3
   },
   "file_extension": ".py",
   "mimetype": "text/x-python",
   "name": "python",
   "nbconvert_exporter": "python",
   "pygments_lexer": "ipython3",
   "version": "3.6.9"
  }
 },
 "nbformat": 4,
 "nbformat_minor": 2
}
