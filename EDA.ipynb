{
 "cells": [
  {
   "cell_type": "markdown",
   "metadata": {},
   "source": [
    "# Setting up"
   ]
  },
  {
   "cell_type": "code",
   "execution_count": 1,
   "metadata": {
    "ExecuteTime": {
     "end_time": "2019-09-18T03:01:50.937683Z",
     "start_time": "2019-09-18T03:01:48.614709Z"
    }
   },
   "outputs": [],
   "source": [
    "import pandas as pd\n",
    "import numpy as np\n",
    "import matplotlib.pyplot as plt\n",
    "import seaborn as sns\n",
    "import ta\n",
    "# from fastai import *\n",
    "# from fastai.tabular import *\n",
    "from sklearn.ensemble import RandomForestRegressor\n",
    "from rolling import RollingWindowSplit\n",
    "from sklearn.metrics import r2_score as r2d2\n",
    "from joblib import dump, load\n",
    "from datetime import datetime, timedelta\n",
    "\n",
    "%matplotlib inline\n",
    "sns.set(style = \"whitegrid\")\n",
    "pd.set_option('display.max_columns', 500)\n",
    "pd.set_option('display.max_rows', 100)"
   ]
  },
  {
   "cell_type": "code",
   "execution_count": 2,
   "metadata": {
    "ExecuteTime": {
     "end_time": "2019-09-18T03:01:50.944667Z",
     "start_time": "2019-09-18T03:01:50.939663Z"
    }
   },
   "outputs": [],
   "source": [
    "# %%time\n",
    "# path = 'D://Coding//XTX Forecasting Challenge//data-training.csv'\n",
    "# df = pd.read_csv(path)"
   ]
  },
  {
   "cell_type": "code",
   "execution_count": 55,
   "metadata": {
    "ExecuteTime": {
     "end_time": "2019-09-18T09:22:06.973414Z",
     "start_time": "2019-09-18T09:21:58.256479Z"
    }
   },
   "outputs": [],
   "source": [
    "path = 'D://Coding//XTX Forecasting Challenge//data-training.file'\n",
    "df = pd.read_feather(path, use_threads=8)\n",
    "df = df.astype('float32')\n",
    "df.fillna(0, inplace=True)"
   ]
  },
  {
   "cell_type": "code",
   "execution_count": 4,
   "metadata": {
    "ExecuteTime": {
     "end_time": "2019-09-18T03:01:58.496630Z",
     "start_time": "2019-09-18T03:01:58.489628Z"
    }
   },
   "outputs": [],
   "source": [
    "bidSizeList = ['bidSize' + str(i) for i in range(0,15)]\n",
    "askSizeList = ['askSize' + str(i) for i in range(0,15)]\n",
    "bidRateList = ['bidRate' + str(i) for i in range(0,15)]\n",
    "askRateList = ['askRate' + str(i) for i in range(0,15)]"
   ]
  },
  {
   "cell_type": "markdown",
   "metadata": {},
   "source": [
    "# Exploratory Data Analysis"
   ]
  },
  {
   "cell_type": "code",
   "execution_count": 5,
   "metadata": {
    "ExecuteTime": {
     "end_time": "2019-09-18T03:01:58.506630Z",
     "start_time": "2019-09-18T03:01:58.500630Z"
    }
   },
   "outputs": [],
   "source": [
    "# # Figuring out what [y] is\n",
    "# # y(t) is midRate(t+87) - midRate(t), clipped to (-5.5)\n",
    "# df['expectedY'] = df.midRate.diff(87).shift(-87).clip(-5,5)"
   ]
  },
  {
   "cell_type": "markdown",
   "metadata": {},
   "source": [
    "# Feature engineering"
   ]
  },
  {
   "cell_type": "markdown",
   "metadata": {},
   "source": [
    "### Basics"
   ]
  },
  {
   "cell_type": "markdown",
   "metadata": {},
   "source": [
    "#### Cross-sectional features"
   ]
  },
  {
   "cell_type": "code",
   "execution_count": 56,
   "metadata": {
    "ExecuteTime": {
     "end_time": "2019-09-18T09:22:15.171584Z",
     "start_time": "2019-09-18T09:22:09.201585Z"
    }
   },
   "outputs": [],
   "source": [
    "# different from submission\n",
    "def compute_cross_sectional(df):\n",
    "#     df = pd.DataFrame([base_row])\n",
    "#     df.columns = [*askRateList, *askSizeList, *bidRateList, *bidSizeList]\n",
    "\n",
    "    # Cross-sectional features\n",
    "    df['spread'] = df.askRate0 - df.bidRate0\n",
    "    df['midRate'] = (df.askRate0 + df.bidRate0) / 2\n",
    "    df['bidAskVol'] = df.askSize0 + df.bidSize0\n",
    "    df['totalBidVol1'] = df.bidSize0 + df.bidSize1\n",
    "    df['totalAskVol1'] = df.askSize0 + df.askSize1\n",
    "    for i in range(2,15):\n",
    "        df['totalBidVol' + str(i)] = df['totalBidVol' + str(i-1)] + df['bidSize' + str(i)]\n",
    "        df['totalAskVol' + str(i)] = df['totalAskVol' + str(i-1)] + df['askSize' + str(i)]\n",
    "    for i in range(1,15):\n",
    "        df['bidAskRatio' + str(i)] = df['totalBidVol' + str(i)] / df['totalAskVol' + str(i)]\n",
    "    df['totalAvailVol'] = df.totalBidVol14 + df.totalAskVol14\n",
    "    df['vwaBid'] = np.einsum('ij,ji->i', df[bidRateList], df[bidSizeList].T) / df[bidSizeList].sum(axis=1)\n",
    "    df['vwaAsk'] = np.einsum('ij,ji->i', df[askRateList], df[askSizeList].T) / df[askSizeList].sum(axis=1)\n",
    "    df['vwaBidDMid'] = df.midRate - df.vwaBid\n",
    "    df['vwaAskDMid'] = df.vwaAsk - df.midRate\n",
    "    df['diff_vwaBidAskDMid'] = df.vwaAskDMid - df.vwaBidDMid\n",
    "    return df\n",
    "df = compute_cross_sectional(df)"
   ]
  },
  {
   "cell_type": "markdown",
   "metadata": {},
   "source": [
    "# TA"
   ]
  },
  {
   "cell_type": "markdown",
   "metadata": {},
   "source": [
    "#### Time series features"
   ]
  },
  {
   "cell_type": "code",
   "execution_count": 59,
   "metadata": {
    "ExecuteTime": {
     "end_time": "2019-09-18T09:23:08.352461Z",
     "start_time": "2019-09-18T09:23:05.873467Z"
    }
   },
   "outputs": [],
   "source": [
    "def add_time_features(df):\n",
    "    b1, a1 = (df.bidRate0 < df.bidRate0.shift(1)), (df.askRate0 < df.askRate0.shift(1))\n",
    "    b2, a2 = (df.bidRate0 == df.bidRate0.shift(1)), (df.askRate0 == df.askRate0.shift(1))\n",
    "    valsB, valsA = [0, (df.bidSize0 - df.bidSize0.shift(1))], [0, (df.askSize0 - df.askSize0.shift(1))]\n",
    "    defaultB, defaultA = df.bidSize0, df.askSize0\n",
    "    df.fillna(0, inplace=True)\n",
    "    df['deltaVBid'] = np.select([b1,b2], valsB, default=defaultB)\n",
    "    df['deltaVAsk'] = np.select([a1,a2], valsA, default=defaultA)\n",
    "    df['VOI'] = df.deltaVBid - df.deltaVAsk\n",
    "    df['OIR'] = (df.bidSize0 - df.askSize0)/(df.bidSize0 + df.askSize0)\n",
    "    return df\n",
    "df = add_time_features(df)"
   ]
  },
  {
   "cell_type": "code",
   "execution_count": 8,
   "metadata": {
    "ExecuteTime": {
     "end_time": "2019-09-18T03:02:06.650630Z",
     "start_time": "2019-09-18T03:02:06.646626Z"
    }
   },
   "outputs": [],
   "source": [
    "# Requires a window of up to a 1000 past items"
   ]
  },
  {
   "cell_type": "markdown",
   "metadata": {},
   "source": [
    "#### Manual time features — can consider adding more to the lags list"
   ]
  },
  {
   "cell_type": "code",
   "execution_count": 61,
   "metadata": {
    "ExecuteTime": {
     "end_time": "2019-09-18T09:24:32.846650Z",
     "start_time": "2019-09-18T09:24:27.397616Z"
    }
   },
   "outputs": [],
   "source": [
    "def add_manual_time_features(df):\n",
    "    lags = [*np.arange(1,10), *np.arange(10,100,10), *np.arange(100,1000,100)]\n",
    "    def addTimeFeatures(i):\n",
    "        df['daskRate' + str(i)] = df.askRate0.diff(i)\n",
    "        df['dbidRate' + str(i)] = df.bidRate0.diff(i)\n",
    "    for i in lags:\n",
    "        addTimeFeatures(i)\n",
    "    df.fillna(0, inplace=True)\n",
    "    return df\n",
    "df = add_manual_time_features(df)"
   ]
  },
  {
   "cell_type": "code",
   "execution_count": 11,
   "metadata": {
    "ExecuteTime": {
     "end_time": "2019-09-18T03:02:19.677474Z",
     "start_time": "2019-09-18T03:02:14.847627Z"
    }
   },
   "outputs": [],
   "source": [
    "df.to_feather('intermediate.file')"
   ]
  },
  {
   "cell_type": "code",
   "execution_count": null,
   "metadata": {
    "ExecuteTime": {
     "end_time": "2019-09-18T03:00:23.211856Z",
     "start_time": "2019-09-18T03:00:22.137856Z"
    }
   },
   "outputs": [],
   "source": [
    "df = pd.read_feather('intermediate.file')"
   ]
  },
  {
   "cell_type": "markdown",
   "metadata": {},
   "source": [
    "#### Tick chart version with ffill"
   ]
  },
  {
   "cell_type": "code",
   "execution_count": 12,
   "metadata": {
    "ExecuteTime": {
     "end_time": "2019-09-18T03:02:20.113471Z",
     "start_time": "2019-09-18T03:02:19.680475Z"
    }
   },
   "outputs": [],
   "source": [
    "# midrate version\n",
    "df['time'] = pd.date_range(start='1/1/1970', periods=2999999, freq='T')\n",
    "df.set_index('time', inplace=True)\n",
    "df_mid = df.midRate.resample('15Min').ohlc()\n",
    "df_mid['vol'] = df.bidAskVol.resample('15Min').mean()"
   ]
  },
  {
   "cell_type": "code",
   "execution_count": 13,
   "metadata": {
    "ExecuteTime": {
     "end_time": "2019-09-18T03:06:35.616471Z",
     "start_time": "2019-09-18T03:02:24.330407Z"
    }
   },
   "outputs": [
    {
     "name": "stderr",
     "output_type": "stream",
     "text": [
      "C:\\Users\\Tym\\Miniconda3\\envs\\working\\lib\\site-packages\\ta\\trend.py:170: RuntimeWarning: divide by zero encountered in double_scalars\n",
      "  dip[i] = 100 * (dip_mio[i]/trs[i])\n",
      "C:\\Users\\Tym\\Miniconda3\\envs\\working\\lib\\site-packages\\ta\\trend.py:170: RuntimeWarning: invalid value encountered in double_scalars\n",
      "  dip[i] = 100 * (dip_mio[i]/trs[i])\n",
      "C:\\Users\\Tym\\Miniconda3\\envs\\working\\lib\\site-packages\\ta\\trend.py:174: RuntimeWarning: divide by zero encountered in double_scalars\n",
      "  din[i] = 100 * (din_mio[i]/trs[i])\n",
      "C:\\Users\\Tym\\Miniconda3\\envs\\working\\lib\\site-packages\\ta\\trend.py:174: RuntimeWarning: invalid value encountered in double_scalars\n",
      "  din[i] = 100 * (din_mio[i]/trs[i])\n",
      "C:\\Users\\Tym\\Miniconda3\\envs\\working\\lib\\site-packages\\ta\\trend.py:176: RuntimeWarning: invalid value encountered in subtract\n",
      "  dx = 100 * np.abs((dip - din) / (dip + din))\n"
     ]
    }
   ],
   "source": [
    "# takes 5 min\n",
    "df_mid_ta = ta.add_all_ta_features(df_mid, \"open\", \"high\", \"low\", \"close\", \"vol\", fillna=True)"
   ]
  },
  {
   "cell_type": "code",
   "execution_count": 63,
   "metadata": {
    "ExecuteTime": {
     "end_time": "2019-09-18T09:25:48.213817Z",
     "start_time": "2019-09-18T09:25:47.644693Z"
    }
   },
   "outputs": [],
   "source": [
    "# dump(df_mid_ta, 'df_mid_ta.joblib')\n",
    "df_mid_ta = load('df_mid_ta.joblib')"
   ]
  },
  {
   "cell_type": "code",
   "execution_count": 48,
   "metadata": {
    "ExecuteTime": {
     "end_time": "2019-09-18T09:15:36.003137Z",
     "start_time": "2019-09-18T09:15:35.994137Z"
    }
   },
   "outputs": [
    {
     "data": {
      "text/plain": [
       "array([[ 8.8970764e+01,  1.8328373e+01, -1.9263544e+01, -1.5587357e+01,\n",
       "        -4.7632145e+01,  5.3526089e+01,  1.2909327e+01, -1.8256685e+01,\n",
       "         3.6211021e+00, -1.5878495e+01,  2.5628702e+02, -2.4331863e+01,\n",
       "         4.8973980e+00,  1.8533689e-01,  2.0022793e+01,  3.3933430e+01,\n",
       "         9.8881996e+01, -3.3170212e+01,  1.0228539e+02,  4.5066171e+00,\n",
       "        -2.8165766e+01, -8.9614071e-02, -1.1391719e+01, -1.1329915e+01,\n",
       "         1.7320482e+01, -1.0655308e+01, -5.4672961e+00,  2.3649971e+01,\n",
       "        -2.2624979e+01, -2.9913643e+01, -5.1912155e+00,  3.9424671e+01,\n",
       "        -1.1298305e+01, -4.6017570e+00, -2.1380127e+01,  1.8141096e+01,\n",
       "        -5.3065324e+00,  1.2948828e+01, -1.2238501e+01,  6.9587070e-01,\n",
       "        -4.0120945e+00,  5.1201946e-01,  1.0402673e+01, -1.2824577e+01,\n",
       "         9.7495251e+00, -6.7554579e+00,  3.2993751e+00,  1.9961107e+01,\n",
       "         3.2359062e+01, -7.7225599e+00]], dtype=float32)"
      ]
     },
     "execution_count": 48,
     "metadata": {},
     "output_type": "execute_result"
    }
   ],
   "source": [
    "X_pca[:1]"
   ]
  },
  {
   "cell_type": "code",
   "execution_count": 15,
   "metadata": {
    "ExecuteTime": {
     "end_time": "2019-09-18T03:07:17.706451Z",
     "start_time": "2019-09-18T03:06:35.912455Z"
    }
   },
   "outputs": [],
   "source": [
    "# takes 30s\n",
    "new_df = df.join(df_mid_ta).ffill()\n",
    "new_df = new_df.astype('float32')"
   ]
  },
  {
   "cell_type": "code",
   "execution_count": 64,
   "metadata": {
    "ExecuteTime": {
     "end_time": "2019-09-18T09:26:31.324226Z",
     "start_time": "2019-09-18T09:26:12.577498Z"
    }
   },
   "outputs": [],
   "source": [
    "# dump(new_df, 'new_df.joblib')\n",
    "new_df = load('new_df.joblib')"
   ]
  },
  {
   "cell_type": "code",
   "execution_count": 65,
   "metadata": {
    "ExecuteTime": {
     "end_time": "2019-09-18T09:26:31.794225Z",
     "start_time": "2019-09-18T09:26:31.337228Z"
    }
   },
   "outputs": [
    {
     "data": {
      "text/html": [
       "<div>\n",
       "<style scoped>\n",
       "    .dataframe tbody tr th:only-of-type {\n",
       "        vertical-align: middle;\n",
       "    }\n",
       "\n",
       "    .dataframe tbody tr th {\n",
       "        vertical-align: top;\n",
       "    }\n",
       "\n",
       "    .dataframe thead th {\n",
       "        text-align: right;\n",
       "    }\n",
       "</style>\n",
       "<table border=\"1\" class=\"dataframe\">\n",
       "  <thead>\n",
       "    <tr style=\"text-align: right;\">\n",
       "      <th></th>\n",
       "      <th>askRate0</th>\n",
       "      <th>askRate1</th>\n",
       "      <th>askRate2</th>\n",
       "      <th>askRate3</th>\n",
       "      <th>askRate4</th>\n",
       "      <th>askRate5</th>\n",
       "      <th>askRate6</th>\n",
       "      <th>askRate7</th>\n",
       "      <th>askRate8</th>\n",
       "      <th>askRate9</th>\n",
       "      <th>askRate10</th>\n",
       "      <th>askRate11</th>\n",
       "      <th>askRate12</th>\n",
       "      <th>askRate13</th>\n",
       "      <th>askRate14</th>\n",
       "      <th>askSize0</th>\n",
       "      <th>askSize1</th>\n",
       "      <th>askSize2</th>\n",
       "      <th>askSize3</th>\n",
       "      <th>askSize4</th>\n",
       "      <th>askSize5</th>\n",
       "      <th>askSize6</th>\n",
       "      <th>askSize7</th>\n",
       "      <th>askSize8</th>\n",
       "      <th>askSize9</th>\n",
       "      <th>askSize10</th>\n",
       "      <th>askSize11</th>\n",
       "      <th>askSize12</th>\n",
       "      <th>askSize13</th>\n",
       "      <th>askSize14</th>\n",
       "      <th>bidRate0</th>\n",
       "      <th>bidRate1</th>\n",
       "      <th>bidRate2</th>\n",
       "      <th>bidRate3</th>\n",
       "      <th>bidRate4</th>\n",
       "      <th>bidRate5</th>\n",
       "      <th>bidRate6</th>\n",
       "      <th>bidRate7</th>\n",
       "      <th>bidRate8</th>\n",
       "      <th>bidRate9</th>\n",
       "      <th>bidRate10</th>\n",
       "      <th>bidRate11</th>\n",
       "      <th>bidRate12</th>\n",
       "      <th>bidRate13</th>\n",
       "      <th>bidRate14</th>\n",
       "      <th>bidSize0</th>\n",
       "      <th>bidSize1</th>\n",
       "      <th>bidSize2</th>\n",
       "      <th>bidSize3</th>\n",
       "      <th>bidSize4</th>\n",
       "      <th>bidSize5</th>\n",
       "      <th>bidSize6</th>\n",
       "      <th>bidSize7</th>\n",
       "      <th>bidSize8</th>\n",
       "      <th>bidSize9</th>\n",
       "      <th>bidSize10</th>\n",
       "      <th>bidSize11</th>\n",
       "      <th>bidSize12</th>\n",
       "      <th>bidSize13</th>\n",
       "      <th>bidSize14</th>\n",
       "      <th>y</th>\n",
       "      <th>spread</th>\n",
       "      <th>midRate</th>\n",
       "      <th>bidAskVol</th>\n",
       "      <th>totalBidVol1</th>\n",
       "      <th>totalAskVol1</th>\n",
       "      <th>totalBidVol2</th>\n",
       "      <th>totalAskVol2</th>\n",
       "      <th>totalBidVol3</th>\n",
       "      <th>totalAskVol3</th>\n",
       "      <th>totalBidVol4</th>\n",
       "      <th>totalAskVol4</th>\n",
       "      <th>totalBidVol5</th>\n",
       "      <th>totalAskVol5</th>\n",
       "      <th>totalBidVol6</th>\n",
       "      <th>totalAskVol6</th>\n",
       "      <th>totalBidVol7</th>\n",
       "      <th>totalAskVol7</th>\n",
       "      <th>totalBidVol8</th>\n",
       "      <th>totalAskVol8</th>\n",
       "      <th>totalBidVol9</th>\n",
       "      <th>totalAskVol9</th>\n",
       "      <th>totalBidVol10</th>\n",
       "      <th>totalAskVol10</th>\n",
       "      <th>totalBidVol11</th>\n",
       "      <th>totalAskVol11</th>\n",
       "      <th>totalBidVol12</th>\n",
       "      <th>totalAskVol12</th>\n",
       "      <th>totalBidVol13</th>\n",
       "      <th>totalAskVol13</th>\n",
       "      <th>totalBidVol14</th>\n",
       "      <th>totalAskVol14</th>\n",
       "      <th>bidAskRatio1</th>\n",
       "      <th>bidAskRatio2</th>\n",
       "      <th>bidAskRatio3</th>\n",
       "      <th>bidAskRatio4</th>\n",
       "      <th>bidAskRatio5</th>\n",
       "      <th>bidAskRatio6</th>\n",
       "      <th>bidAskRatio7</th>\n",
       "      <th>bidAskRatio8</th>\n",
       "      <th>bidAskRatio9</th>\n",
       "      <th>bidAskRatio10</th>\n",
       "      <th>bidAskRatio11</th>\n",
       "      <th>bidAskRatio12</th>\n",
       "      <th>bidAskRatio13</th>\n",
       "      <th>bidAskRatio14</th>\n",
       "      <th>totalAvailVol</th>\n",
       "      <th>vwaBid</th>\n",
       "      <th>vwaAsk</th>\n",
       "      <th>vwaBidDMid</th>\n",
       "      <th>vwaAskDMid</th>\n",
       "      <th>diff_vwaBidAskDMid</th>\n",
       "      <th>deltaVBid</th>\n",
       "      <th>deltaVAsk</th>\n",
       "      <th>VOI</th>\n",
       "      <th>OIR</th>\n",
       "      <th>daskRate1</th>\n",
       "      <th>dbidRate1</th>\n",
       "      <th>daskRate2</th>\n",
       "      <th>dbidRate2</th>\n",
       "      <th>daskRate3</th>\n",
       "      <th>dbidRate3</th>\n",
       "      <th>daskRate4</th>\n",
       "      <th>dbidRate4</th>\n",
       "      <th>daskRate5</th>\n",
       "      <th>dbidRate5</th>\n",
       "      <th>daskRate6</th>\n",
       "      <th>dbidRate6</th>\n",
       "      <th>daskRate7</th>\n",
       "      <th>dbidRate7</th>\n",
       "      <th>daskRate8</th>\n",
       "      <th>dbidRate8</th>\n",
       "      <th>daskRate9</th>\n",
       "      <th>dbidRate9</th>\n",
       "      <th>daskRate10</th>\n",
       "      <th>dbidRate10</th>\n",
       "      <th>daskRate20</th>\n",
       "      <th>dbidRate20</th>\n",
       "      <th>daskRate30</th>\n",
       "      <th>dbidRate30</th>\n",
       "      <th>daskRate40</th>\n",
       "      <th>dbidRate40</th>\n",
       "      <th>daskRate50</th>\n",
       "      <th>dbidRate50</th>\n",
       "      <th>daskRate60</th>\n",
       "      <th>dbidRate60</th>\n",
       "      <th>daskRate70</th>\n",
       "      <th>dbidRate70</th>\n",
       "      <th>daskRate80</th>\n",
       "      <th>dbidRate80</th>\n",
       "      <th>daskRate90</th>\n",
       "      <th>dbidRate90</th>\n",
       "      <th>daskRate100</th>\n",
       "      <th>dbidRate100</th>\n",
       "      <th>daskRate200</th>\n",
       "      <th>dbidRate200</th>\n",
       "      <th>daskRate300</th>\n",
       "      <th>dbidRate300</th>\n",
       "      <th>daskRate400</th>\n",
       "      <th>dbidRate400</th>\n",
       "      <th>daskRate500</th>\n",
       "      <th>dbidRate500</th>\n",
       "      <th>daskRate600</th>\n",
       "      <th>dbidRate600</th>\n",
       "      <th>daskRate700</th>\n",
       "      <th>dbidRate700</th>\n",
       "      <th>daskRate800</th>\n",
       "      <th>dbidRate800</th>\n",
       "      <th>daskRate900</th>\n",
       "      <th>dbidRate900</th>\n",
       "      <th>open</th>\n",
       "      <th>high</th>\n",
       "      <th>low</th>\n",
       "      <th>close</th>\n",
       "      <th>vol</th>\n",
       "      <th>volume_adi</th>\n",
       "      <th>volume_obv</th>\n",
       "      <th>volume_cmf</th>\n",
       "      <th>volume_fi</th>\n",
       "      <th>volume_em</th>\n",
       "      <th>volume_vpt</th>\n",
       "      <th>volume_nvi</th>\n",
       "      <th>volatility_atr</th>\n",
       "      <th>volatility_bbh</th>\n",
       "      <th>volatility_bbl</th>\n",
       "      <th>volatility_bbm</th>\n",
       "      <th>volatility_bbhi</th>\n",
       "      <th>volatility_bbli</th>\n",
       "      <th>volatility_kcc</th>\n",
       "      <th>volatility_kch</th>\n",
       "      <th>volatility_kcl</th>\n",
       "      <th>volatility_kchi</th>\n",
       "      <th>volatility_kcli</th>\n",
       "      <th>volatility_dch</th>\n",
       "      <th>volatility_dcl</th>\n",
       "      <th>volatility_dchi</th>\n",
       "      <th>volatility_dcli</th>\n",
       "      <th>trend_macd</th>\n",
       "      <th>trend_macd_signal</th>\n",
       "      <th>trend_macd_diff</th>\n",
       "      <th>trend_ema_fast</th>\n",
       "      <th>trend_ema_slow</th>\n",
       "      <th>trend_adx</th>\n",
       "      <th>trend_adx_pos</th>\n",
       "      <th>trend_adx_neg</th>\n",
       "      <th>trend_vortex_ind_pos</th>\n",
       "      <th>trend_vortex_ind_neg</th>\n",
       "      <th>trend_vortex_diff</th>\n",
       "      <th>trend_trix</th>\n",
       "      <th>trend_mass_index</th>\n",
       "      <th>trend_cci</th>\n",
       "      <th>trend_dpo</th>\n",
       "      <th>trend_kst</th>\n",
       "      <th>trend_kst_sig</th>\n",
       "      <th>trend_kst_diff</th>\n",
       "      <th>trend_ichimoku_a</th>\n",
       "      <th>trend_ichimoku_b</th>\n",
       "      <th>trend_visual_ichimoku_a</th>\n",
       "      <th>trend_visual_ichimoku_b</th>\n",
       "      <th>trend_aroon_up</th>\n",
       "      <th>trend_aroon_down</th>\n",
       "      <th>trend_aroon_ind</th>\n",
       "      <th>momentum_rsi</th>\n",
       "      <th>momentum_mfi</th>\n",
       "      <th>momentum_tsi</th>\n",
       "      <th>momentum_uo</th>\n",
       "      <th>momentum_stoch</th>\n",
       "      <th>momentum_stoch_signal</th>\n",
       "      <th>momentum_wr</th>\n",
       "      <th>momentum_ao</th>\n",
       "      <th>others_dr</th>\n",
       "      <th>others_dlr</th>\n",
       "      <th>others_cr</th>\n",
       "    </tr>\n",
       "    <tr>\n",
       "      <th>time</th>\n",
       "      <th></th>\n",
       "      <th></th>\n",
       "      <th></th>\n",
       "      <th></th>\n",
       "      <th></th>\n",
       "      <th></th>\n",
       "      <th></th>\n",
       "      <th></th>\n",
       "      <th></th>\n",
       "      <th></th>\n",
       "      <th></th>\n",
       "      <th></th>\n",
       "      <th></th>\n",
       "      <th></th>\n",
       "      <th></th>\n",
       "      <th></th>\n",
       "      <th></th>\n",
       "      <th></th>\n",
       "      <th></th>\n",
       "      <th></th>\n",
       "      <th></th>\n",
       "      <th></th>\n",
       "      <th></th>\n",
       "      <th></th>\n",
       "      <th></th>\n",
       "      <th></th>\n",
       "      <th></th>\n",
       "      <th></th>\n",
       "      <th></th>\n",
       "      <th></th>\n",
       "      <th></th>\n",
       "      <th></th>\n",
       "      <th></th>\n",
       "      <th></th>\n",
       "      <th></th>\n",
       "      <th></th>\n",
       "      <th></th>\n",
       "      <th></th>\n",
       "      <th></th>\n",
       "      <th></th>\n",
       "      <th></th>\n",
       "      <th></th>\n",
       "      <th></th>\n",
       "      <th></th>\n",
       "      <th></th>\n",
       "      <th></th>\n",
       "      <th></th>\n",
       "      <th></th>\n",
       "      <th></th>\n",
       "      <th></th>\n",
       "      <th></th>\n",
       "      <th></th>\n",
       "      <th></th>\n",
       "      <th></th>\n",
       "      <th></th>\n",
       "      <th></th>\n",
       "      <th></th>\n",
       "      <th></th>\n",
       "      <th></th>\n",
       "      <th></th>\n",
       "      <th></th>\n",
       "      <th></th>\n",
       "      <th></th>\n",
       "      <th></th>\n",
       "      <th></th>\n",
       "      <th></th>\n",
       "      <th></th>\n",
       "      <th></th>\n",
       "      <th></th>\n",
       "      <th></th>\n",
       "      <th></th>\n",
       "      <th></th>\n",
       "      <th></th>\n",
       "      <th></th>\n",
       "      <th></th>\n",
       "      <th></th>\n",
       "      <th></th>\n",
       "      <th></th>\n",
       "      <th></th>\n",
       "      <th></th>\n",
       "      <th></th>\n",
       "      <th></th>\n",
       "      <th></th>\n",
       "      <th></th>\n",
       "      <th></th>\n",
       "      <th></th>\n",
       "      <th></th>\n",
       "      <th></th>\n",
       "      <th></th>\n",
       "      <th></th>\n",
       "      <th></th>\n",
       "      <th></th>\n",
       "      <th></th>\n",
       "      <th></th>\n",
       "      <th></th>\n",
       "      <th></th>\n",
       "      <th></th>\n",
       "      <th></th>\n",
       "      <th></th>\n",
       "      <th></th>\n",
       "      <th></th>\n",
       "      <th></th>\n",
       "      <th></th>\n",
       "      <th></th>\n",
       "      <th></th>\n",
       "      <th></th>\n",
       "      <th></th>\n",
       "      <th></th>\n",
       "      <th></th>\n",
       "      <th></th>\n",
       "      <th></th>\n",
       "      <th></th>\n",
       "      <th></th>\n",
       "      <th></th>\n",
       "      <th></th>\n",
       "      <th></th>\n",
       "      <th></th>\n",
       "      <th></th>\n",
       "      <th></th>\n",
       "      <th></th>\n",
       "      <th></th>\n",
       "      <th></th>\n",
       "      <th></th>\n",
       "      <th></th>\n",
       "      <th></th>\n",
       "      <th></th>\n",
       "      <th></th>\n",
       "      <th></th>\n",
       "      <th></th>\n",
       "      <th></th>\n",
       "      <th></th>\n",
       "      <th></th>\n",
       "      <th></th>\n",
       "      <th></th>\n",
       "      <th></th>\n",
       "      <th></th>\n",
       "      <th></th>\n",
       "      <th></th>\n",
       "      <th></th>\n",
       "      <th></th>\n",
       "      <th></th>\n",
       "      <th></th>\n",
       "      <th></th>\n",
       "      <th></th>\n",
       "      <th></th>\n",
       "      <th></th>\n",
       "      <th></th>\n",
       "      <th></th>\n",
       "      <th></th>\n",
       "      <th></th>\n",
       "      <th></th>\n",
       "      <th></th>\n",
       "      <th></th>\n",
       "      <th></th>\n",
       "      <th></th>\n",
       "      <th></th>\n",
       "      <th></th>\n",
       "      <th></th>\n",
       "      <th></th>\n",
       "      <th></th>\n",
       "      <th></th>\n",
       "      <th></th>\n",
       "      <th></th>\n",
       "      <th></th>\n",
       "      <th></th>\n",
       "      <th></th>\n",
       "      <th></th>\n",
       "      <th></th>\n",
       "      <th></th>\n",
       "      <th></th>\n",
       "      <th></th>\n",
       "      <th></th>\n",
       "      <th></th>\n",
       "      <th></th>\n",
       "      <th></th>\n",
       "      <th></th>\n",
       "      <th></th>\n",
       "      <th></th>\n",
       "      <th></th>\n",
       "      <th></th>\n",
       "      <th></th>\n",
       "      <th></th>\n",
       "      <th></th>\n",
       "      <th></th>\n",
       "      <th></th>\n",
       "      <th></th>\n",
       "      <th></th>\n",
       "      <th></th>\n",
       "      <th></th>\n",
       "      <th></th>\n",
       "      <th></th>\n",
       "      <th></th>\n",
       "      <th></th>\n",
       "      <th></th>\n",
       "      <th></th>\n",
       "      <th></th>\n",
       "      <th></th>\n",
       "      <th></th>\n",
       "      <th></th>\n",
       "      <th></th>\n",
       "      <th></th>\n",
       "      <th></th>\n",
       "      <th></th>\n",
       "      <th></th>\n",
       "      <th></th>\n",
       "      <th></th>\n",
       "      <th></th>\n",
       "      <th></th>\n",
       "      <th></th>\n",
       "      <th></th>\n",
       "      <th></th>\n",
       "      <th></th>\n",
       "      <th></th>\n",
       "      <th></th>\n",
       "      <th></th>\n",
       "      <th></th>\n",
       "      <th></th>\n",
       "      <th></th>\n",
       "      <th></th>\n",
       "      <th></th>\n",
       "      <th></th>\n",
       "      <th></th>\n",
       "      <th></th>\n",
       "      <th></th>\n",
       "      <th></th>\n",
       "      <th></th>\n",
       "      <th></th>\n",
       "      <th></th>\n",
       "      <th></th>\n",
       "      <th></th>\n",
       "      <th></th>\n",
       "      <th></th>\n",
       "      <th></th>\n",
       "    </tr>\n",
       "  </thead>\n",
       "  <tbody>\n",
       "    <tr>\n",
       "      <td>1970-01-01</td>\n",
       "      <td>1619.5</td>\n",
       "      <td>1620.0</td>\n",
       "      <td>1621.0</td>\n",
       "      <td>0.0</td>\n",
       "      <td>0.0</td>\n",
       "      <td>0.0</td>\n",
       "      <td>0.0</td>\n",
       "      <td>0.0</td>\n",
       "      <td>0.0</td>\n",
       "      <td>0.0</td>\n",
       "      <td>0.0</td>\n",
       "      <td>0.0</td>\n",
       "      <td>0.0</td>\n",
       "      <td>0.0</td>\n",
       "      <td>0.0</td>\n",
       "      <td>1.0</td>\n",
       "      <td>10.0</td>\n",
       "      <td>24.0</td>\n",
       "      <td>0.0</td>\n",
       "      <td>0.0</td>\n",
       "      <td>0.0</td>\n",
       "      <td>0.0</td>\n",
       "      <td>0.0</td>\n",
       "      <td>0.0</td>\n",
       "      <td>0.0</td>\n",
       "      <td>0.0</td>\n",
       "      <td>0.0</td>\n",
       "      <td>0.0</td>\n",
       "      <td>0.0</td>\n",
       "      <td>0.0</td>\n",
       "      <td>1615.0</td>\n",
       "      <td>1614.0</td>\n",
       "      <td>1613.0</td>\n",
       "      <td>1612.0</td>\n",
       "      <td>1611.0</td>\n",
       "      <td>1610.0</td>\n",
       "      <td>1607.0</td>\n",
       "      <td>1606.0</td>\n",
       "      <td>1605.0</td>\n",
       "      <td>1604.0</td>\n",
       "      <td>1603.0</td>\n",
       "      <td>1602.0</td>\n",
       "      <td>1601.5</td>\n",
       "      <td>1601.0</td>\n",
       "      <td>1600.0</td>\n",
       "      <td>7.0</td>\n",
       "      <td>10.0</td>\n",
       "      <td>1.0</td>\n",
       "      <td>10.0</td>\n",
       "      <td>20.0</td>\n",
       "      <td>3.0</td>\n",
       "      <td>20.0</td>\n",
       "      <td>27.0</td>\n",
       "      <td>11.0</td>\n",
       "      <td>14.0</td>\n",
       "      <td>35.0</td>\n",
       "      <td>10.0</td>\n",
       "      <td>1.0</td>\n",
       "      <td>10.0</td>\n",
       "      <td>13.0</td>\n",
       "      <td>-0.5</td>\n",
       "      <td>4.5</td>\n",
       "      <td>1617.25</td>\n",
       "      <td>8.0</td>\n",
       "      <td>17.0</td>\n",
       "      <td>11.0</td>\n",
       "      <td>18.0</td>\n",
       "      <td>35.0</td>\n",
       "      <td>28.0</td>\n",
       "      <td>35.0</td>\n",
       "      <td>48.0</td>\n",
       "      <td>35.0</td>\n",
       "      <td>51.0</td>\n",
       "      <td>35.0</td>\n",
       "      <td>71.0</td>\n",
       "      <td>35.0</td>\n",
       "      <td>98.0</td>\n",
       "      <td>35.0</td>\n",
       "      <td>109.0</td>\n",
       "      <td>35.0</td>\n",
       "      <td>123.0</td>\n",
       "      <td>35.0</td>\n",
       "      <td>158.0</td>\n",
       "      <td>35.0</td>\n",
       "      <td>168.0</td>\n",
       "      <td>35.0</td>\n",
       "      <td>169.0</td>\n",
       "      <td>35.0</td>\n",
       "      <td>179.0</td>\n",
       "      <td>35.0</td>\n",
       "      <td>192.0</td>\n",
       "      <td>35.0</td>\n",
       "      <td>1.545455</td>\n",
       "      <td>0.514286</td>\n",
       "      <td>0.8</td>\n",
       "      <td>1.371429</td>\n",
       "      <td>1.457143</td>\n",
       "      <td>2.028571</td>\n",
       "      <td>2.8</td>\n",
       "      <td>3.114286</td>\n",
       "      <td>3.514286</td>\n",
       "      <td>4.514286</td>\n",
       "      <td>4.8</td>\n",
       "      <td>4.828571</td>\n",
       "      <td>5.114286</td>\n",
       "      <td>5.485714</td>\n",
       "      <td>227.0</td>\n",
       "      <td>1606.132812</td>\n",
       "      <td>1620.671387</td>\n",
       "      <td>11.117188</td>\n",
       "      <td>3.421387</td>\n",
       "      <td>-7.695801</td>\n",
       "      <td>7.0</td>\n",
       "      <td>1.0</td>\n",
       "      <td>6.0</td>\n",
       "      <td>0.75</td>\n",
       "      <td>0.0</td>\n",
       "      <td>0.0</td>\n",
       "      <td>0.0</td>\n",
       "      <td>0.0</td>\n",
       "      <td>0.0</td>\n",
       "      <td>0.0</td>\n",
       "      <td>0.0</td>\n",
       "      <td>0.0</td>\n",
       "      <td>0.0</td>\n",
       "      <td>0.0</td>\n",
       "      <td>0.0</td>\n",
       "      <td>0.0</td>\n",
       "      <td>0.0</td>\n",
       "      <td>0.0</td>\n",
       "      <td>0.0</td>\n",
       "      <td>0.0</td>\n",
       "      <td>0.0</td>\n",
       "      <td>0.0</td>\n",
       "      <td>0.0</td>\n",
       "      <td>0.0</td>\n",
       "      <td>0.0</td>\n",
       "      <td>0.0</td>\n",
       "      <td>0.0</td>\n",
       "      <td>0.0</td>\n",
       "      <td>0.0</td>\n",
       "      <td>0.0</td>\n",
       "      <td>0.0</td>\n",
       "      <td>0.0</td>\n",
       "      <td>0.0</td>\n",
       "      <td>0.0</td>\n",
       "      <td>0.0</td>\n",
       "      <td>0.0</td>\n",
       "      <td>0.0</td>\n",
       "      <td>0.0</td>\n",
       "      <td>0.0</td>\n",
       "      <td>0.0</td>\n",
       "      <td>0.0</td>\n",
       "      <td>0.0</td>\n",
       "      <td>0.0</td>\n",
       "      <td>0.0</td>\n",
       "      <td>0.0</td>\n",
       "      <td>0.0</td>\n",
       "      <td>0.0</td>\n",
       "      <td>0.0</td>\n",
       "      <td>0.0</td>\n",
       "      <td>0.0</td>\n",
       "      <td>0.0</td>\n",
       "      <td>0.0</td>\n",
       "      <td>0.0</td>\n",
       "      <td>0.0</td>\n",
       "      <td>0.0</td>\n",
       "      <td>0.0</td>\n",
       "      <td>0.0</td>\n",
       "      <td>0.0</td>\n",
       "      <td>1617.25</td>\n",
       "      <td>1617.25</td>\n",
       "      <td>1617.25</td>\n",
       "      <td>1617.25</td>\n",
       "      <td>8.0</td>\n",
       "      <td>-0.007724</td>\n",
       "      <td>0.0</td>\n",
       "      <td>0.0</td>\n",
       "      <td>0.0</td>\n",
       "      <td>0.0</td>\n",
       "      <td>-0.119901</td>\n",
       "      <td>1000.0</td>\n",
       "      <td>0.248556</td>\n",
       "      <td>1617.25</td>\n",
       "      <td>1617.25</td>\n",
       "      <td>1617.25</td>\n",
       "      <td>0.0</td>\n",
       "      <td>0.0</td>\n",
       "      <td>1617.25</td>\n",
       "      <td>1617.25</td>\n",
       "      <td>1617.25</td>\n",
       "      <td>0.0</td>\n",
       "      <td>0.0</td>\n",
       "      <td>1617.25</td>\n",
       "      <td>1617.25</td>\n",
       "      <td>0.0</td>\n",
       "      <td>0.0</td>\n",
       "      <td>0.0</td>\n",
       "      <td>0.0</td>\n",
       "      <td>0.0</td>\n",
       "      <td>1617.25</td>\n",
       "      <td>1617.25</td>\n",
       "      <td>0.0</td>\n",
       "      <td>0.0</td>\n",
       "      <td>0.0</td>\n",
       "      <td>1.0</td>\n",
       "      <td>1.0</td>\n",
       "      <td>0.0</td>\n",
       "      <td>-1.509016</td>\n",
       "      <td>0.0</td>\n",
       "      <td>0.0</td>\n",
       "      <td>24.60437</td>\n",
       "      <td>-14.98572</td>\n",
       "      <td>-14.98572</td>\n",
       "      <td>0.0</td>\n",
       "      <td>1617.25</td>\n",
       "      <td>1617.25</td>\n",
       "      <td>1642.025879</td>\n",
       "      <td>1642.023071</td>\n",
       "      <td>4.0</td>\n",
       "      <td>4.0</td>\n",
       "      <td>0.0</td>\n",
       "      <td>50.0</td>\n",
       "      <td>0.0</td>\n",
       "      <td>-100.0</td>\n",
       "      <td>0.0</td>\n",
       "      <td>50.0</td>\n",
       "      <td>50.0</td>\n",
       "      <td>-50.0</td>\n",
       "      <td>0.0</td>\n",
       "      <td>-1.498574</td>\n",
       "      <td>0.0</td>\n",
       "      <td>0.0</td>\n",
       "    </tr>\n",
       "  </tbody>\n",
       "</table>\n",
       "</div>"
      ],
      "text/plain": [
       "            askRate0  askRate1  askRate2  askRate3  askRate4  askRate5  \\\n",
       "time                                                                     \n",
       "1970-01-01    1619.5    1620.0    1621.0       0.0       0.0       0.0   \n",
       "\n",
       "            askRate6  askRate7  askRate8  askRate9  askRate10  askRate11  \\\n",
       "time                                                                       \n",
       "1970-01-01       0.0       0.0       0.0       0.0        0.0        0.0   \n",
       "\n",
       "            askRate12  askRate13  askRate14  askSize0  askSize1  askSize2  \\\n",
       "time                                                                        \n",
       "1970-01-01        0.0        0.0        0.0       1.0      10.0      24.0   \n",
       "\n",
       "            askSize3  askSize4  askSize5  askSize6  askSize7  askSize8  \\\n",
       "time                                                                     \n",
       "1970-01-01       0.0       0.0       0.0       0.0       0.0       0.0   \n",
       "\n",
       "            askSize9  askSize10  askSize11  askSize12  askSize13  askSize14  \\\n",
       "time                                                                          \n",
       "1970-01-01       0.0        0.0        0.0        0.0        0.0        0.0   \n",
       "\n",
       "            bidRate0  bidRate1  bidRate2  bidRate3  bidRate4  bidRate5  \\\n",
       "time                                                                     \n",
       "1970-01-01    1615.0    1614.0    1613.0    1612.0    1611.0    1610.0   \n",
       "\n",
       "            bidRate6  bidRate7  bidRate8  bidRate9  bidRate10  bidRate11  \\\n",
       "time                                                                       \n",
       "1970-01-01    1607.0    1606.0    1605.0    1604.0     1603.0     1602.0   \n",
       "\n",
       "            bidRate12  bidRate13  bidRate14  bidSize0  bidSize1  bidSize2  \\\n",
       "time                                                                        \n",
       "1970-01-01     1601.5     1601.0     1600.0       7.0      10.0       1.0   \n",
       "\n",
       "            bidSize3  bidSize4  bidSize5  bidSize6  bidSize7  bidSize8  \\\n",
       "time                                                                     \n",
       "1970-01-01      10.0      20.0       3.0      20.0      27.0      11.0   \n",
       "\n",
       "            bidSize9  bidSize10  bidSize11  bidSize12  bidSize13  bidSize14  \\\n",
       "time                                                                          \n",
       "1970-01-01      14.0       35.0       10.0        1.0       10.0       13.0   \n",
       "\n",
       "              y  spread  midRate  bidAskVol  totalBidVol1  totalAskVol1  \\\n",
       "time                                                                      \n",
       "1970-01-01 -0.5     4.5  1617.25        8.0          17.0          11.0   \n",
       "\n",
       "            totalBidVol2  totalAskVol2  totalBidVol3  totalAskVol3  \\\n",
       "time                                                                 \n",
       "1970-01-01          18.0          35.0          28.0          35.0   \n",
       "\n",
       "            totalBidVol4  totalAskVol4  totalBidVol5  totalAskVol5  \\\n",
       "time                                                                 \n",
       "1970-01-01          48.0          35.0          51.0          35.0   \n",
       "\n",
       "            totalBidVol6  totalAskVol6  totalBidVol7  totalAskVol7  \\\n",
       "time                                                                 \n",
       "1970-01-01          71.0          35.0          98.0          35.0   \n",
       "\n",
       "            totalBidVol8  totalAskVol8  totalBidVol9  totalAskVol9  \\\n",
       "time                                                                 \n",
       "1970-01-01         109.0          35.0         123.0          35.0   \n",
       "\n",
       "            totalBidVol10  totalAskVol10  totalBidVol11  totalAskVol11  \\\n",
       "time                                                                     \n",
       "1970-01-01          158.0           35.0          168.0           35.0   \n",
       "\n",
       "            totalBidVol12  totalAskVol12  totalBidVol13  totalAskVol13  \\\n",
       "time                                                                     \n",
       "1970-01-01          169.0           35.0          179.0           35.0   \n",
       "\n",
       "            totalBidVol14  totalAskVol14  bidAskRatio1  bidAskRatio2  \\\n",
       "time                                                                   \n",
       "1970-01-01          192.0           35.0      1.545455      0.514286   \n",
       "\n",
       "            bidAskRatio3  bidAskRatio4  bidAskRatio5  bidAskRatio6  \\\n",
       "time                                                                 \n",
       "1970-01-01           0.8      1.371429      1.457143      2.028571   \n",
       "\n",
       "            bidAskRatio7  bidAskRatio8  bidAskRatio9  bidAskRatio10  \\\n",
       "time                                                                  \n",
       "1970-01-01           2.8      3.114286      3.514286       4.514286   \n",
       "\n",
       "            bidAskRatio11  bidAskRatio12  bidAskRatio13  bidAskRatio14  \\\n",
       "time                                                                     \n",
       "1970-01-01            4.8       4.828571       5.114286       5.485714   \n",
       "\n",
       "            totalAvailVol       vwaBid       vwaAsk  vwaBidDMid  vwaAskDMid  \\\n",
       "time                                                                          \n",
       "1970-01-01          227.0  1606.132812  1620.671387   11.117188    3.421387   \n",
       "\n",
       "            diff_vwaBidAskDMid  deltaVBid  deltaVAsk  VOI   OIR  daskRate1  \\\n",
       "time                                                                         \n",
       "1970-01-01           -7.695801        7.0        1.0  6.0  0.75        0.0   \n",
       "\n",
       "            dbidRate1  daskRate2  dbidRate2  daskRate3  dbidRate3  daskRate4  \\\n",
       "time                                                                           \n",
       "1970-01-01        0.0        0.0        0.0        0.0        0.0        0.0   \n",
       "\n",
       "            dbidRate4  daskRate5  dbidRate5  daskRate6  dbidRate6  daskRate7  \\\n",
       "time                                                                           \n",
       "1970-01-01        0.0        0.0        0.0        0.0        0.0        0.0   \n",
       "\n",
       "            dbidRate7  daskRate8  dbidRate8  daskRate9  dbidRate9  daskRate10  \\\n",
       "time                                                                            \n",
       "1970-01-01        0.0        0.0        0.0        0.0        0.0         0.0   \n",
       "\n",
       "            dbidRate10  daskRate20  dbidRate20  daskRate30  dbidRate30  \\\n",
       "time                                                                     \n",
       "1970-01-01         0.0         0.0         0.0         0.0         0.0   \n",
       "\n",
       "            daskRate40  dbidRate40  daskRate50  dbidRate50  daskRate60  \\\n",
       "time                                                                     \n",
       "1970-01-01         0.0         0.0         0.0         0.0         0.0   \n",
       "\n",
       "            dbidRate60  daskRate70  dbidRate70  daskRate80  dbidRate80  \\\n",
       "time                                                                     \n",
       "1970-01-01         0.0         0.0         0.0         0.0         0.0   \n",
       "\n",
       "            daskRate90  dbidRate90  daskRate100  dbidRate100  daskRate200  \\\n",
       "time                                                                        \n",
       "1970-01-01         0.0         0.0          0.0          0.0          0.0   \n",
       "\n",
       "            dbidRate200  daskRate300  dbidRate300  daskRate400  dbidRate400  \\\n",
       "time                                                                          \n",
       "1970-01-01          0.0          0.0          0.0          0.0          0.0   \n",
       "\n",
       "            daskRate500  dbidRate500  daskRate600  dbidRate600  daskRate700  \\\n",
       "time                                                                          \n",
       "1970-01-01          0.0          0.0          0.0          0.0          0.0   \n",
       "\n",
       "            dbidRate700  daskRate800  dbidRate800  daskRate900  dbidRate900  \\\n",
       "time                                                                          \n",
       "1970-01-01          0.0          0.0          0.0          0.0          0.0   \n",
       "\n",
       "               open     high      low    close  vol  volume_adi  volume_obv  \\\n",
       "time                                                                          \n",
       "1970-01-01  1617.25  1617.25  1617.25  1617.25  8.0   -0.007724         0.0   \n",
       "\n",
       "            volume_cmf  volume_fi  volume_em  volume_vpt  volume_nvi  \\\n",
       "time                                                                   \n",
       "1970-01-01         0.0        0.0        0.0   -0.119901      1000.0   \n",
       "\n",
       "            volatility_atr  volatility_bbh  volatility_bbl  volatility_bbm  \\\n",
       "time                                                                         \n",
       "1970-01-01        0.248556         1617.25         1617.25         1617.25   \n",
       "\n",
       "            volatility_bbhi  volatility_bbli  volatility_kcc  volatility_kch  \\\n",
       "time                                                                           \n",
       "1970-01-01              0.0              0.0         1617.25         1617.25   \n",
       "\n",
       "            volatility_kcl  volatility_kchi  volatility_kcli  volatility_dch  \\\n",
       "time                                                                           \n",
       "1970-01-01         1617.25              0.0              0.0         1617.25   \n",
       "\n",
       "            volatility_dcl  volatility_dchi  volatility_dcli  trend_macd  \\\n",
       "time                                                                       \n",
       "1970-01-01         1617.25              0.0              0.0         0.0   \n",
       "\n",
       "            trend_macd_signal  trend_macd_diff  trend_ema_fast  \\\n",
       "time                                                             \n",
       "1970-01-01                0.0              0.0         1617.25   \n",
       "\n",
       "            trend_ema_slow  trend_adx  trend_adx_pos  trend_adx_neg  \\\n",
       "time                                                                  \n",
       "1970-01-01         1617.25        0.0            0.0            0.0   \n",
       "\n",
       "            trend_vortex_ind_pos  trend_vortex_ind_neg  trend_vortex_diff  \\\n",
       "time                                                                        \n",
       "1970-01-01                   1.0                   1.0                0.0   \n",
       "\n",
       "            trend_trix  trend_mass_index  trend_cci  trend_dpo  trend_kst  \\\n",
       "time                                                                        \n",
       "1970-01-01   -1.509016               0.0        0.0   24.60437  -14.98572   \n",
       "\n",
       "            trend_kst_sig  trend_kst_diff  trend_ichimoku_a  trend_ichimoku_b  \\\n",
       "time                                                                            \n",
       "1970-01-01      -14.98572             0.0           1617.25           1617.25   \n",
       "\n",
       "            trend_visual_ichimoku_a  trend_visual_ichimoku_b  trend_aroon_up  \\\n",
       "time                                                                           \n",
       "1970-01-01              1642.025879              1642.023071             4.0   \n",
       "\n",
       "            trend_aroon_down  trend_aroon_ind  momentum_rsi  momentum_mfi  \\\n",
       "time                                                                        \n",
       "1970-01-01               4.0              0.0          50.0           0.0   \n",
       "\n",
       "            momentum_tsi  momentum_uo  momentum_stoch  momentum_stoch_signal  \\\n",
       "time                                                                           \n",
       "1970-01-01        -100.0          0.0            50.0                   50.0   \n",
       "\n",
       "            momentum_wr  momentum_ao  others_dr  others_dlr  others_cr  \n",
       "time                                                                    \n",
       "1970-01-01        -50.0          0.0  -1.498574         0.0        0.0  "
      ]
     },
     "execution_count": 65,
     "metadata": {},
     "output_type": "execute_result"
    }
   ],
   "source": [
    "new_df[:1]"
   ]
  },
  {
   "cell_type": "markdown",
   "metadata": {},
   "source": [
    "# Feature Selection"
   ]
  },
  {
   "cell_type": "code",
   "execution_count": 19,
   "metadata": {
    "ExecuteTime": {
     "end_time": "2019-09-18T03:08:19.036803Z",
     "start_time": "2019-09-18T03:07:34.643920Z"
    }
   },
   "outputs": [],
   "source": [
    "# takes 40s\n",
    "X = new_df.drop('y', axis=1).values\n",
    "y = new_df.y.values\n",
    "\n",
    "# standardise\n",
    "from sklearn.preprocessing import StandardScaler\n",
    "scaler = StandardScaler()\n",
    "scaler.fit(X)\n",
    "X_scaled = scaler.transform(X)"
   ]
  },
  {
   "cell_type": "code",
   "execution_count": 42,
   "metadata": {
    "ExecuteTime": {
     "end_time": "2019-09-18T08:58:50.900651Z",
     "start_time": "2019-09-18T08:58:50.848654Z"
    }
   },
   "outputs": [
    {
     "data": {
      "text/plain": [
       "Index(['askRate0', 'askRate1', 'askRate2', 'askRate3', 'askRate4', 'askRate5',\n",
       "       'askRate6', 'askRate7', 'askRate8', 'askRate9',\n",
       "       ...\n",
       "       'momentum_mfi', 'momentum_tsi', 'momentum_uo', 'momentum_stoch',\n",
       "       'momentum_stoch_signal', 'momentum_wr', 'momentum_ao', 'others_dr',\n",
       "       'others_dlr', 'others_cr'],\n",
       "      dtype='object', length=233)"
      ]
     },
     "execution_count": 42,
     "metadata": {},
     "output_type": "execute_result"
    }
   ],
   "source": [
    "new_df.columns"
   ]
  },
  {
   "cell_type": "code",
   "execution_count": 41,
   "metadata": {
    "ExecuteTime": {
     "end_time": "2019-09-18T08:57:48.603152Z",
     "start_time": "2019-09-18T08:57:48.590150Z"
    }
   },
   "outputs": [
    {
     "data": {
      "text/plain": [
       "array([[ 1.61950000e+03,  1.62000000e+03,  1.62100000e+03,\n",
       "         0.00000000e+00,  0.00000000e+00,  0.00000000e+00,\n",
       "         0.00000000e+00,  0.00000000e+00,  0.00000000e+00,\n",
       "         0.00000000e+00,  0.00000000e+00,  0.00000000e+00,\n",
       "         0.00000000e+00,  0.00000000e+00,  0.00000000e+00,\n",
       "         1.00000000e+00,  1.00000000e+01,  2.40000000e+01,\n",
       "         0.00000000e+00,  0.00000000e+00,  0.00000000e+00,\n",
       "         0.00000000e+00,  0.00000000e+00,  0.00000000e+00,\n",
       "         0.00000000e+00,  0.00000000e+00,  0.00000000e+00,\n",
       "         0.00000000e+00,  0.00000000e+00,  0.00000000e+00,\n",
       "         1.61500000e+03,  1.61400000e+03,  1.61300000e+03,\n",
       "         1.61200000e+03,  1.61100000e+03,  1.61000000e+03,\n",
       "         1.60700000e+03,  1.60600000e+03,  1.60500000e+03,\n",
       "         1.60400000e+03,  1.60300000e+03,  1.60200000e+03,\n",
       "         1.60150000e+03,  1.60100000e+03,  1.60000000e+03,\n",
       "         7.00000000e+00,  1.00000000e+01,  1.00000000e+00,\n",
       "         1.00000000e+01,  2.00000000e+01,  3.00000000e+00,\n",
       "         2.00000000e+01,  2.70000000e+01,  1.10000000e+01,\n",
       "         1.40000000e+01,  3.50000000e+01,  1.00000000e+01,\n",
       "         1.00000000e+00,  1.00000000e+01,  1.30000000e+01,\n",
       "         4.50000000e+00,  1.61725000e+03,  8.00000000e+00,\n",
       "         1.70000000e+01,  1.10000000e+01,  1.80000000e+01,\n",
       "         3.50000000e+01,  2.80000000e+01,  3.50000000e+01,\n",
       "         4.80000000e+01,  3.50000000e+01,  5.10000000e+01,\n",
       "         3.50000000e+01,  7.10000000e+01,  3.50000000e+01,\n",
       "         9.80000000e+01,  3.50000000e+01,  1.09000000e+02,\n",
       "         3.50000000e+01,  1.23000000e+02,  3.50000000e+01,\n",
       "         1.58000000e+02,  3.50000000e+01,  1.68000000e+02,\n",
       "         3.50000000e+01,  1.69000000e+02,  3.50000000e+01,\n",
       "         1.79000000e+02,  3.50000000e+01,  1.92000000e+02,\n",
       "         3.50000000e+01,  1.54545450e+00,  5.14285743e-01,\n",
       "         8.00000012e-01,  1.37142861e+00,  1.45714283e+00,\n",
       "         2.02857137e+00,  2.79999995e+00,  3.11428571e+00,\n",
       "         3.51428580e+00,  4.51428556e+00,  4.80000019e+00,\n",
       "         4.82857132e+00,  5.11428595e+00,  5.48571444e+00,\n",
       "         2.27000000e+02,  1.60613281e+03,  1.62067139e+03,\n",
       "         1.11171875e+01,  3.42138672e+00, -7.69580078e+00,\n",
       "         7.00000000e+00,  1.00000000e+00,  6.00000000e+00,\n",
       "         7.50000000e-01,  0.00000000e+00,  0.00000000e+00,\n",
       "         0.00000000e+00,  0.00000000e+00,  0.00000000e+00,\n",
       "         0.00000000e+00,  0.00000000e+00,  0.00000000e+00,\n",
       "         0.00000000e+00,  0.00000000e+00,  0.00000000e+00,\n",
       "         0.00000000e+00,  0.00000000e+00,  0.00000000e+00,\n",
       "         0.00000000e+00,  0.00000000e+00,  0.00000000e+00,\n",
       "         0.00000000e+00,  0.00000000e+00,  0.00000000e+00,\n",
       "         0.00000000e+00,  0.00000000e+00,  0.00000000e+00,\n",
       "         0.00000000e+00,  0.00000000e+00,  0.00000000e+00,\n",
       "         0.00000000e+00,  0.00000000e+00,  0.00000000e+00,\n",
       "         0.00000000e+00,  0.00000000e+00,  0.00000000e+00,\n",
       "         0.00000000e+00,  0.00000000e+00,  0.00000000e+00,\n",
       "         0.00000000e+00,  0.00000000e+00,  0.00000000e+00,\n",
       "         0.00000000e+00,  0.00000000e+00,  0.00000000e+00,\n",
       "         0.00000000e+00,  0.00000000e+00,  0.00000000e+00,\n",
       "         0.00000000e+00,  0.00000000e+00,  0.00000000e+00,\n",
       "         0.00000000e+00,  0.00000000e+00,  0.00000000e+00,\n",
       "         0.00000000e+00,  0.00000000e+00,  0.00000000e+00,\n",
       "         0.00000000e+00,  1.61725000e+03,  1.61725000e+03,\n",
       "         1.61725000e+03,  1.61725000e+03,  8.00000000e+00,\n",
       "        -7.72356894e-03,  0.00000000e+00,  0.00000000e+00,\n",
       "         0.00000000e+00,  0.00000000e+00, -1.19900942e-01,\n",
       "         1.00000000e+03,  2.48556241e-01,  1.61725000e+03,\n",
       "         1.61725000e+03,  1.61725000e+03,  0.00000000e+00,\n",
       "         0.00000000e+00,  1.61725000e+03,  1.61725000e+03,\n",
       "         1.61725000e+03,  0.00000000e+00,  0.00000000e+00,\n",
       "         1.61725000e+03,  1.61725000e+03,  0.00000000e+00,\n",
       "         0.00000000e+00,  0.00000000e+00,  0.00000000e+00,\n",
       "         0.00000000e+00,  1.61725000e+03,  1.61725000e+03,\n",
       "         0.00000000e+00,  0.00000000e+00,  0.00000000e+00,\n",
       "         1.00000000e+00,  1.00000000e+00,  0.00000000e+00,\n",
       "        -1.50901639e+00,  0.00000000e+00,  0.00000000e+00,\n",
       "         2.46043701e+01, -1.49857197e+01, -1.49857197e+01,\n",
       "         0.00000000e+00,  1.61725000e+03,  1.61725000e+03,\n",
       "         1.64202588e+03,  1.64202307e+03,  4.00000000e+00,\n",
       "         4.00000000e+00,  0.00000000e+00,  5.00000000e+01,\n",
       "         0.00000000e+00, -1.00000000e+02,  0.00000000e+00,\n",
       "         5.00000000e+01,  5.00000000e+01, -5.00000000e+01,\n",
       "         0.00000000e+00, -1.49857402e+00,  0.00000000e+00,\n",
       "         0.00000000e+00]], dtype=float32)"
      ]
     },
     "execution_count": 41,
     "metadata": {},
     "output_type": "execute_result"
    }
   ],
   "source": [
    "X[:1]"
   ]
  },
  {
   "cell_type": "code",
   "execution_count": 39,
   "metadata": {
    "ExecuteTime": {
     "end_time": "2019-09-18T08:56:11.002770Z",
     "start_time": "2019-09-18T08:56:10.884760Z"
    }
   },
   "outputs": [
    {
     "data": {
      "text/plain": [
       "array([[-8.51030171e-01, -8.32115710e-01, -8.00245523e-01,\n",
       "        -5.77722549e+01, -5.65140533e+01, -5.55046234e+01,\n",
       "        -5.45748291e+01, -5.37677002e+01, -5.30957947e+01,\n",
       "        -5.24735527e+01, -5.16888542e+01, -5.09189415e+01,\n",
       "        -5.02083778e+01, -4.95083427e+01, -4.90881271e+01,\n",
       "        -4.98240352e-01, -1.77631497e-01,  3.48564297e-01,\n",
       "        -6.76704407e-01, -6.37844384e-01, -6.31431758e-01,\n",
       "        -5.51112056e-01, -4.97578442e-01, -4.66209471e-01,\n",
       "        -5.00656724e-01, -4.90353018e-01, -5.02407551e-01,\n",
       "        -5.23163736e-01, -5.55020273e-01, -5.55982649e-01,\n",
       "        -9.93078232e-01, -1.01142764e+00, -1.02989149e+00,\n",
       "        -1.04838479e+00, -1.06687796e+00, -1.08539236e+00,\n",
       "        -1.17833591e+00, -1.19674587e+00, -1.21503139e+00,\n",
       "        -1.23294032e+00, -1.25033188e+00, -1.26698756e+00,\n",
       "        -1.26424944e+00, -1.26069248e+00, -1.27509272e+00,\n",
       "         2.33293306e-02, -1.36479616e-01, -7.12609947e-01,\n",
       "        -2.12449953e-01,  1.84370860e-01, -5.08140147e-01,\n",
       "         1.30688339e-01,  4.21997279e-01, -1.83383808e-01,\n",
       "        -6.75978065e-02,  6.02838635e-01, -2.14645252e-01,\n",
       "        -5.05930841e-01, -2.43436217e-01, -1.80844367e-01,\n",
       "         1.10859499e+01, -9.22054768e-01, -3.54829460e-01,\n",
       "        -9.13355798e-02, -4.07061011e-01, -4.98516440e-01,\n",
       "        -4.29821946e-02, -4.74787056e-01, -3.75505924e-01,\n",
       "        -2.81463891e-01, -5.76268256e-01, -4.31808740e-01,\n",
       "        -7.06699908e-01, -3.21289778e-01, -7.67124593e-01,\n",
       "        -1.51914731e-01, -8.03714395e-01, -1.86084509e-01,\n",
       "        -8.19319129e-01, -1.84933871e-01, -8.65068078e-01,\n",
       "        -1.48683600e-02, -9.00646210e-01, -6.44881055e-02,\n",
       "        -9.38496292e-01, -1.75522596e-01, -9.69481528e-01,\n",
       "        -2.14835748e-01, -1.00637448e+00, -2.37068936e-01,\n",
       "        -1.03799546e+00,  2.20085509e-04, -5.03876626e-01,\n",
       "        -3.40486288e-01,  7.52575770e-02,  1.44165665e-01,\n",
       "         5.81722796e-01,  1.14373207e+00,  1.35682082e+00,\n",
       "         1.61335933e+00,  2.25989604e+00,  2.39644313e+00,\n",
       "         2.33371043e+00,  2.50019526e+00,  2.73271441e+00,\n",
       "        -1.07379675e+00, -1.17322350e+00, -9.48498785e-01,\n",
       "         7.53228378e+00, -8.40274096e-01, -6.90242958e+00,\n",
       "         5.37309313e+00,  2.05516070e-01,  1.69703233e+00,\n",
       "         1.48502111e+00,  9.83441569e-05,  9.10048257e-05,\n",
       "         1.45017562e-04,  1.33637775e-04,  1.83042474e-04,\n",
       "         1.68421087e-04,  2.18071888e-04,  1.99897462e-04,\n",
       "         2.49612145e-04,  2.28541277e-04,  2.79716303e-04,\n",
       "         2.55643768e-04,  3.08165851e-04,  2.81296787e-04,\n",
       "         3.35678080e-04,  3.06057511e-04,  3.61452490e-04,\n",
       "         3.29441478e-04,  3.86561267e-04,  3.51961178e-04,\n",
       "         5.98516956e-04,  5.42749651e-04,  7.64620549e-04,\n",
       "         6.92286994e-04,  9.03079461e-04,  8.17000982e-04,\n",
       "         1.02549570e-03,  9.28445195e-04,  1.13283528e-03,\n",
       "         1.03047141e-03,  1.22255855e-03,  1.11979165e-03,\n",
       "         1.30617071e-03,  1.20236247e-03,  1.38605351e-03,\n",
       "         1.27969752e-03,  1.46263558e-03,  1.35331415e-03,\n",
       "         2.05566711e-03,  1.93916284e-03,  2.51217396e-03,\n",
       "         2.39561289e-03,  2.91936146e-03,  2.80697970e-03,\n",
       "         3.27272248e-03,  3.16590979e-03,  3.60670313e-03,\n",
       "         3.50132841e-03,  3.94270383e-03,  3.83721502e-03,\n",
       "         4.25106566e-03,  4.14537592e-03,  4.53876099e-03,\n",
       "         4.43433737e-03, -9.22069073e-01, -9.26614344e-01,\n",
       "        -9.17524755e-01, -9.22064483e-01, -3.91657799e-01,\n",
       "         3.83165752e-04, -8.85246754e-01,  9.53789987e-03,\n",
       "        -2.26276973e-03, -7.90723413e-03, -2.31757030e+01,\n",
       "        -5.36471486e-01, -3.47264431e-05, -9.59346652e-01,\n",
       "        -8.85163665e-01, -9.22390819e-01, -2.26637214e-01,\n",
       "        -2.27647439e-01, -9.22227621e-01, -9.31310773e-01,\n",
       "        -9.13129210e-01,  0.00000000e+00,  0.00000000e+00,\n",
       "        -9.52220380e-01, -8.92575085e-01, -5.93457699e-01,\n",
       "        -5.89691162e-01,  3.48964264e-03,  3.70304473e-03,\n",
       "         3.16306068e-05, -9.22312200e-01, -9.22599494e-01,\n",
       "        -8.60604706e+01, -1.15465706e+02, -1.15465706e+02,\n",
       "         3.85618657e-02,  3.50591578e-02, -1.14802909e+00,\n",
       "        -3.45880981e+02, -1.14857597e+01, -5.50064677e-03,\n",
       "         5.61455269e+01, -2.16037617e+01, -2.19783669e+01,\n",
       "        -1.35179958e-03, -9.22510684e-01, -9.23063219e-01,\n",
       "        -2.78323685e-04, -2.80855107e-04, -1.11742616e+00,\n",
       "        -1.09762847e+00, -1.23019274e-02, -1.90729869e-03,\n",
       "        -1.94842970e+00, -6.19507980e+00, -2.44143581e+00,\n",
       "        -3.39637860e-03, -3.71303619e-03, -3.39638721e-03,\n",
       "         2.84068100e-03, -7.70960617e+01,  5.54854574e-04,\n",
       "        -9.22064424e-01]], dtype=float32)"
      ]
     },
     "execution_count": 39,
     "metadata": {},
     "output_type": "execute_result"
    }
   ],
   "source": [
    "X_scaled[:1]"
   ]
  },
  {
   "cell_type": "code",
   "execution_count": 20,
   "metadata": {
    "ExecuteTime": {
     "end_time": "2019-09-18T03:09:16.528914Z",
     "start_time": "2019-09-18T03:08:19.056805Z"
    }
   },
   "outputs": [],
   "source": [
    "# pca takes 1 min\n",
    "from sklearn.decomposition import PCA\n",
    "pca = PCA(n_components=50)\n",
    "X_pca = pca.fit_transform(X_scaled)"
   ]
  },
  {
   "cell_type": "code",
   "execution_count": 35,
   "metadata": {
    "ExecuteTime": {
     "end_time": "2019-09-18T08:48:07.567381Z",
     "start_time": "2019-09-18T08:48:07.558406Z"
    }
   },
   "outputs": [
    {
     "data": {
      "text/plain": [
       "array([[ 8.8970764e+01,  1.8328373e+01, -1.9263544e+01, -1.5587357e+01,\n",
       "        -4.7632145e+01,  5.3526089e+01,  1.2909327e+01, -1.8256685e+01,\n",
       "         3.6211021e+00, -1.5878495e+01,  2.5628702e+02, -2.4331863e+01,\n",
       "         4.8973980e+00,  1.8533689e-01,  2.0022793e+01,  3.3933430e+01,\n",
       "         9.8881996e+01, -3.3170212e+01,  1.0228539e+02,  4.5066171e+00,\n",
       "        -2.8165766e+01, -8.9614071e-02, -1.1391719e+01, -1.1329915e+01,\n",
       "         1.7320482e+01, -1.0655308e+01, -5.4672961e+00,  2.3649971e+01,\n",
       "        -2.2624979e+01, -2.9913643e+01, -5.1912155e+00,  3.9424671e+01,\n",
       "        -1.1298305e+01, -4.6017570e+00, -2.1380127e+01,  1.8141096e+01,\n",
       "        -5.3065324e+00,  1.2948828e+01, -1.2238501e+01,  6.9587070e-01,\n",
       "        -4.0120945e+00,  5.1201946e-01,  1.0402673e+01, -1.2824577e+01,\n",
       "         9.7495251e+00, -6.7554579e+00,  3.2993751e+00,  1.9961107e+01,\n",
       "         3.2359062e+01, -7.7225599e+00]], dtype=float32)"
      ]
     },
     "execution_count": 35,
     "metadata": {},
     "output_type": "execute_result"
    }
   ],
   "source": [
    "X_pca[:1]"
   ]
  },
  {
   "cell_type": "code",
   "execution_count": 27,
   "metadata": {
    "ExecuteTime": {
     "end_time": "2019-09-18T03:12:17.266556Z",
     "start_time": "2019-09-18T03:12:17.253593Z"
    }
   },
   "outputs": [
    {
     "data": {
      "text/plain": [
       "['pca.joblib']"
      ]
     },
     "execution_count": 27,
     "metadata": {},
     "output_type": "execute_result"
    }
   ],
   "source": [
    "dump(scaler, 'scaler.joblib')\n",
    "dump(pca, 'pca.joblib')\n",
    "# X_pca = load('X_pca.joblib')\n",
    "# y = load('y.joblib')"
   ]
  },
  {
   "cell_type": "code",
   "execution_count": null,
   "metadata": {
    "ExecuteTime": {
     "end_time": "2019-09-15T06:00:51.539564Z",
     "start_time": "2019-09-15T06:00:51.536553Z"
    }
   },
   "outputs": [],
   "source": [
    "# print(pca.explained_variance_ratio_)"
   ]
  },
  {
   "cell_type": "code",
   "execution_count": null,
   "metadata": {},
   "outputs": [],
   "source": [
    "# drop original features, only use if not using pca\n",
    "df.drop(df.columns[:60], axis=1, inplace=True)"
   ]
  },
  {
   "cell_type": "markdown",
   "metadata": {},
   "source": [
    "# Cross-validation"
   ]
  },
  {
   "cell_type": "markdown",
   "metadata": {},
   "source": [
    "# Lasso"
   ]
  },
  {
   "cell_type": "code",
   "execution_count": 22,
   "metadata": {
    "ExecuteTime": {
     "end_time": "2019-09-18T03:09:17.712542Z",
     "start_time": "2019-09-18T03:09:17.681546Z"
    }
   },
   "outputs": [],
   "source": [
    "rlcv = RollingWindowSplit(n_splits=5, compatible=True)"
   ]
  },
  {
   "cell_type": "code",
   "execution_count": 23,
   "metadata": {
    "ExecuteTime": {
     "end_time": "2019-09-18T03:10:10.392999Z",
     "start_time": "2019-09-18T03:09:17.715547Z"
    }
   },
   "outputs": [],
   "source": [
    "# takes at least 1 min on pca variables\n",
    "from sklearn.linear_model import LassoLarsCV\n",
    "lasso = LassoLarsCV(cv=rlcv, n_jobs=-1).fit(X_pca, y)"
   ]
  },
  {
   "cell_type": "code",
   "execution_count": null,
   "metadata": {},
   "outputs": [],
   "source": [
    "# actually the lasso above has seen the entire dataset...."
   ]
  },
  {
   "cell_type": "code",
   "execution_count": 28,
   "metadata": {
    "ExecuteTime": {
     "end_time": "2019-09-18T03:17:33.002135Z",
     "start_time": "2019-09-18T03:17:32.985125Z"
    }
   },
   "outputs": [],
   "source": [
    "# dump(lasso, 'lassocv.joblib')\n",
    "lasso = load('lassocv.joblib')"
   ]
  },
  {
   "cell_type": "code",
   "execution_count": 29,
   "metadata": {
    "ExecuteTime": {
     "end_time": "2019-09-18T03:17:35.966981Z",
     "start_time": "2019-09-18T03:17:35.929979Z"
    }
   },
   "outputs": [
    {
     "data": {
      "text/plain": [
       "LassoLarsCV(copy_X=True,\n",
       "            cv=RollingWindowSplit(compatible=True, max_train_size=None, n_splits=5),\n",
       "            eps=2.220446049250313e-16, fit_intercept=True, max_iter=500,\n",
       "            max_n_alphas=1000, n_jobs=-1, normalize=True, positive=False,\n",
       "            precompute='auto', verbose=False)"
      ]
     },
     "execution_count": 29,
     "metadata": {},
     "output_type": "execute_result"
    }
   ],
   "source": [
    "lasso"
   ]
  },
  {
   "cell_type": "code",
   "execution_count": 25,
   "metadata": {
    "ExecuteTime": {
     "end_time": "2019-09-18T03:10:10.477000Z",
     "start_time": "2019-09-18T03:10:10.439003Z"
    }
   },
   "outputs": [],
   "source": [
    "def rlcvscore(model):\n",
    "    cvtrain, cvvalid, cvvalidsig = [], [], []\n",
    "    for inc, (train_index, valid_index) in enumerate(rlcv.split(X_pca), 1):\n",
    "        x_train, x_valid = X_pca[train_index], X_pca[valid_index]\n",
    "        y_train, y_valid = y[train_index], y[valid_index]\n",
    "        cvtrain.append(model.score(x_train, y_train))\n",
    "        cvvalid.append(model.score(x_valid, y_valid))\n",
    "        sigmoid = (1/(1+np.exp(-0.22*model.predict(x_valid)))-0.5)*20  \n",
    "        cvvalidsig.append(r2d2(y_valid, sigmoid))\n",
    "    print(f'{np.array(cvtrain).round(4)}')\n",
    "    print(f'{np.array(cvvalid).round(4)}')\n",
    "    print(f'{np.array(cvvalidsig).round(4)}')\n",
    "    print(f'{np.mean(cvtrain):.4f}, {np.mean(cvvalid):.4f}, {np.mean(cvvalidsig):.4f}')"
   ]
  },
  {
   "cell_type": "code",
   "execution_count": 26,
   "metadata": {
    "ExecuteTime": {
     "end_time": "2019-09-18T03:10:15.772998Z",
     "start_time": "2019-09-18T03:10:10.483029Z"
    }
   },
   "outputs": [
    {
     "name": "stdout",
     "output_type": "stream",
     "text": [
      "[0.0304 0.0465 0.0495 0.05   0.0484]\n",
      "[0.0465 0.0495 0.05   0.0484 0.047 ]\n",
      "[0.049  0.0522 0.0526 0.0507 0.0485]\n",
      "0.0449, 0.0483, 0.0506\n"
     ]
    }
   ],
   "source": [
    "rlcvscore(lasso) # has all features"
   ]
  },
  {
   "cell_type": "code",
   "execution_count": null,
   "metadata": {
    "ExecuteTime": {
     "end_time": "2019-09-15T05:59:31.740319Z",
     "start_time": "2019-09-15T05:59:31.737316Z"
    }
   },
   "outputs": [],
   "source": [
    "# dump(lasso, f'lasso_rlcv_114ft_0.0175_0.0187.joblib')\n",
    "# lasso = load('lasso_rlcv_114ft_0.0175_0.0187.joblib') "
   ]
  },
  {
   "cell_type": "markdown",
   "metadata": {},
   "source": [
    "# RF"
   ]
  },
  {
   "cell_type": "code",
   "execution_count": null,
   "metadata": {
    "ExecuteTime": {
     "end_time": "2019-09-15T02:41:51.898791Z",
     "start_time": "2019-09-15T02:41:46.090168Z"
    }
   },
   "outputs": [],
   "source": [
    "rf_model = RandomForestRegressor(n_estimators=10, max_depth=6, min_samples_split=1000, min_samples_leaf=1000,\n",
    "                                 max_features='auto', n_jobs=-1, random_state=41)"
   ]
  },
  {
   "cell_type": "code",
   "execution_count": null,
   "metadata": {
    "ExecuteTime": {
     "end_time": "2019-09-15T02:41:51.898791Z",
     "start_time": "2019-09-15T02:41:46.090168Z"
    }
   },
   "outputs": [],
   "source": [
    "rf_model.fit(x_train, y_train);"
   ]
  },
  {
   "cell_type": "code",
   "execution_count": null,
   "metadata": {
    "ExecuteTime": {
     "end_time": "2019-09-15T02:23:41.727016Z",
     "start_time": "2019-09-15T02:23:36.056348Z"
    }
   },
   "outputs": [],
   "source": [
    "rlcvscore(rf_model) # realistic cv"
   ]
  },
  {
   "cell_type": "code",
   "execution_count": null,
   "metadata": {
    "ExecuteTime": {
     "end_time": "2019-09-15T02:29:21.674236Z",
     "start_time": "2019-09-15T02:29:20.651235Z"
    }
   },
   "outputs": [],
   "source": [
    "a = df.drop('y', axis=1).columns[indices]"
   ]
  },
  {
   "cell_type": "code",
   "execution_count": null,
   "metadata": {
    "ExecuteTime": {
     "end_time": "2019-09-15T02:42:44.365273Z",
     "start_time": "2019-09-15T02:42:43.164275Z"
    }
   },
   "outputs": [],
   "source": [
    "# create X with important variables only\n",
    "X = df.drop('y', axis=1)[a[:20]].values\n",
    "y = df.y.values"
   ]
  },
  {
   "cell_type": "code",
   "execution_count": null,
   "metadata": {
    "ExecuteTime": {
     "end_time": "2019-09-15T02:47:05.341074Z",
     "start_time": "2019-09-15T02:47:05.336062Z"
    }
   },
   "outputs": [],
   "source": [
    "rf_model = RandomForestRegressor(n_estimators=10, max_depth=2, min_samples_split=2, min_samples_leaf=5000,\n",
    "                                 max_features='auto', n_jobs=-1, random_state=41)\n",
    "rf_model.fit(x_train, y_train);"
   ]
  },
  {
   "cell_type": "code",
   "execution_count": null,
   "metadata": {
    "ExecuteTime": {
     "end_time": "2019-09-15T02:47:12.600562Z",
     "start_time": "2019-09-15T02:47:10.741562Z"
    }
   },
   "outputs": [],
   "source": [
    "rlcvscore(rf_model) #n_est 10, depth 2, samples_split 2, samples_leaf 1000, 30 most importantvariables"
   ]
  },
  {
   "cell_type": "code",
   "execution_count": null,
   "metadata": {
    "ExecuteTime": {
     "end_time": "2019-09-15T02:24:45.787782Z",
     "start_time": "2019-09-15T02:24:41.788297Z"
    },
    "scrolled": true
   },
   "outputs": [],
   "source": [
    "importances = rf_model.feature_importances_\n",
    "std = np.std([tree.feature_importances_ for tree in rf_model.estimators_],\n",
    "             axis=0)\n",
    "indices = np.argsort(importances)[::-1]\n",
    "# Plot the feature importances of the forest\n",
    "plt.figure(figsize=(15,8))\n",
    "plt.title(\"Feature importances\")\n",
    "plt.bar(range(X.shape[1]), importances[indices],\n",
    "       color=\"r\", yerr=std[indices], align=\"center\")\n",
    "plt.xticks(range(X.shape[1]), indices)\n",
    "plt.xlim([-1, X.shape[1]])\n",
    "plt.show()"
   ]
  },
  {
   "cell_type": "code",
   "execution_count": null,
   "metadata": {},
   "outputs": [],
   "source": [
    "# save model\n",
    "dump(rf, 'model.joblib')"
   ]
  },
  {
   "cell_type": "code",
   "execution_count": null,
   "metadata": {},
   "outputs": [],
   "source": [
    "# load model\n",
    "rf2 = load('model.joblib')"
   ]
  },
  {
   "cell_type": "markdown",
   "metadata": {},
   "source": [
    "# Fast.ai"
   ]
  },
  {
   "cell_type": "code",
   "execution_count": null,
   "metadata": {
    "ExecuteTime": {
     "end_time": "2019-09-13T08:34:27.199966Z",
     "start_time": "2019-09-13T08:34:27.194964Z"
    }
   },
   "outputs": [],
   "source": [
    "dep_var = 'y'\n",
    "procs = [FillMissing, Normalize]"
   ]
  },
  {
   "cell_type": "code",
   "execution_count": null,
   "metadata": {
    "ExecuteTime": {
     "end_time": "2019-09-13T08:34:46.357867Z",
     "start_time": "2019-09-13T08:34:29.653867Z"
    }
   },
   "outputs": [],
   "source": [
    "path = f'D:\\Coding\\XTX Forecasting Challenge'\n",
    "data = TabularDataBunch.from_df(path = path, df = df[:int(5e5)], dep_var = 'y', procs=procs,\n",
    "                                 valid_idx = list(range(int(4e5),int(5e5))))"
   ]
  },
  {
   "cell_type": "code",
   "execution_count": null,
   "metadata": {
    "ExecuteTime": {
     "end_time": "2019-09-13T08:26:47.618579Z",
     "start_time": "2019-09-13T08:26:17.525620Z"
    }
   },
   "outputs": [],
   "source": [
    "data.show_batch(rows=10)"
   ]
  },
  {
   "cell_type": "code",
   "execution_count": null,
   "metadata": {
    "ExecuteTime": {
     "end_time": "2019-09-13T06:27:39.484687Z",
     "start_time": "2019-09-13T06:27:21.410885Z"
    }
   },
   "outputs": [],
   "source": [
    "# data = (TabularList.from_df(df[:int(5e5)], cont_names=df.columns, procs=procs)\n",
    "#                            .split_by_idx(list(range(int(0.8*5e5),int(5e5))))\n",
    "#                            .label_from_df(cols=dep_var, label_cls=FloatList)\n",
    "#                            .databunch())"
   ]
  },
  {
   "cell_type": "code",
   "execution_count": null,
   "metadata": {
    "ExecuteTime": {
     "end_time": "2019-09-13T08:50:44.246393Z",
     "start_time": "2019-09-13T08:50:44.024206Z"
    }
   },
   "outputs": [],
   "source": [
    "learn = tabular_learner(data, layers=[500,200], metrics=r2_score, ps=[0.001,0.01], emb_drop=0.04)"
   ]
  },
  {
   "cell_type": "code",
   "execution_count": null,
   "metadata": {
    "ExecuteTime": {
     "end_time": "2019-09-13T08:50:45.534954Z",
     "start_time": "2019-09-13T08:50:45.527952Z"
    }
   },
   "outputs": [],
   "source": [
    "learn.model"
   ]
  },
  {
   "cell_type": "code",
   "execution_count": null,
   "metadata": {
    "ExecuteTime": {
     "end_time": "2019-09-13T08:37:03.605733Z",
     "start_time": "2019-09-13T08:36:35.900238Z"
    }
   },
   "outputs": [],
   "source": [
    "learn.lr_find(end_lr=1e1)"
   ]
  },
  {
   "cell_type": "code",
   "execution_count": null,
   "metadata": {
    "ExecuteTime": {
     "end_time": "2019-09-13T08:37:04.843812Z",
     "start_time": "2019-09-13T08:37:03.608733Z"
    }
   },
   "outputs": [],
   "source": [
    "learn.recorder.plot()"
   ]
  },
  {
   "cell_type": "code",
   "execution_count": null,
   "metadata": {},
   "outputs": [],
   "source": [
    "# model above has already diverged, we will restart."
   ]
  },
  {
   "cell_type": "code",
   "execution_count": null,
   "metadata": {
    "ExecuteTime": {
     "end_time": "2019-09-13T09:03:36.738452Z",
     "start_time": "2019-09-13T08:50:49.724470Z"
    }
   },
   "outputs": [],
   "source": [
    "learn.fit_one_cycle(3, 1e-4, wd=0.1)"
   ]
  },
  {
   "cell_type": "code",
   "execution_count": null,
   "metadata": {
    "ExecuteTime": {
     "end_time": "2019-09-13T08:41:02.673928Z",
     "start_time": "2019-09-13T08:41:01.868908Z"
    }
   },
   "outputs": [],
   "source": [
    "learn.recorder.plot_lr(show_moms=True)"
   ]
  },
  {
   "cell_type": "code",
   "execution_count": null,
   "metadata": {
    "ExecuteTime": {
     "end_time": "2019-09-13T09:04:03.690828Z",
     "start_time": "2019-09-13T09:04:03.447302Z"
    }
   },
   "outputs": [],
   "source": [
    "learn.save('new_fastai')"
   ]
  },
  {
   "cell_type": "code",
   "execution_count": null,
   "metadata": {
    "ExecuteTime": {
     "end_time": "2019-09-13T09:04:07.023062Z",
     "start_time": "2019-09-13T09:04:06.385055Z"
    }
   },
   "outputs": [],
   "source": [
    "learn.recorder.plot_losses()"
   ]
  },
  {
   "cell_type": "code",
   "execution_count": null,
   "metadata": {
    "ExecuteTime": {
     "end_time": "2019-09-13T09:05:00.282946Z",
     "start_time": "2019-09-13T09:05:00.098945Z"
    }
   },
   "outputs": [],
   "source": [
    "learn.predict(df.iloc[int(8.1e5)])"
   ]
  },
  {
   "cell_type": "code",
   "execution_count": null,
   "metadata": {
    "ExecuteTime": {
     "end_time": "2019-09-13T09:05:02.937494Z",
     "start_time": "2019-09-13T09:05:02.932488Z"
    }
   },
   "outputs": [],
   "source": [
    "df.y.iloc[int(8.1e5)]"
   ]
  },
  {
   "cell_type": "code",
   "execution_count": null,
   "metadata": {
    "ExecuteTime": {
     "end_time": "2019-09-13T09:05:38.921082Z",
     "start_time": "2019-09-13T09:05:08.529113Z"
    }
   },
   "outputs": [],
   "source": [
    "preds = learn.get_preds()"
   ]
  },
  {
   "cell_type": "markdown",
   "metadata": {},
   "source": [
    "# Submission testing"
   ]
  },
  {
   "cell_type": "code",
   "execution_count": null,
   "metadata": {
    "ExecuteTime": {
     "end_time": "2019-09-18T02:41:30.938305Z",
     "start_time": "2019-09-18T02:41:30.934301Z"
    }
   },
   "outputs": [],
   "source": [
    "def get_next_data_as_numpy_array(iteration):\n",
    "    return df.iloc[iteration][:60].values"
   ]
  },
  {
   "cell_type": "code",
   "execution_count": null,
   "metadata": {
    "ExecuteTime": {
     "end_time": "2019-09-18T01:06:52.643644Z",
     "start_time": "2019-09-18T01:06:52.637642Z"
    }
   },
   "outputs": [],
   "source": [
    "def append_to_df(massive_df, row):\n",
    "    try: row.index = [massive_df.index[-1] + timedelta(minutes=1)]\n",
    "    except: row.index = [datetime(1970,1,1)]\n",
    "    return massive_df.append(row)"
   ]
  },
  {
   "cell_type": "code",
   "execution_count": null,
   "metadata": {
    "ExecuteTime": {
     "end_time": "2019-09-18T01:54:23.276600Z",
     "start_time": "2019-09-18T01:54:23.264625Z"
    }
   },
   "outputs": [],
   "source": [
    "def add_resample_features(massive_df, resampled_df):\n",
    "    leftovers = len(massive_df) % 15\n",
    "    a = pd.DataFrame()\n",
    "    def pad_history():\n",
    "        full_resampled = resampled_df.append(df_mid)\n",
    "        a = pd.DataFrame([full_resampled.iloc[0] for j in range(30+1-len(full_resampled))])\n",
    "        a = a.append(full_resampled)\n",
    "        a.index = pd.date_range(start=df_mid.index[-1], periods=len(a), freq='-15Min').sort_values()\n",
    "        df_mid_ta = ta.add_all_ta_features(a, \"open\", \"high\", \"low\", \"close\", \"vol\", fillna=True)\n",
    "        return df_mid_ta\n",
    "    if leftovers == 0:\n",
    "        df_mid = massive_df.tail(15).midRate.resample('15Min').ohlc()\n",
    "        df_mid['vol'] = massive_df.tail(15).bidAskVol.resample('15Min').mean()\n",
    "        df_mid_ta = pad_history()\n",
    "        resampled_df = resampled_df.append(df_mid_ta)\n",
    "    else:\n",
    "        df_mid = massive_df.tail(leftovers).midRate.resample('15Min').ohlc()\n",
    "        df_mid['vol'] = massive_df.tail(leftovers).bidAskVol.resample('15Min').mean()\n",
    "        df_mid_ta = pad_history()\n",
    "    massive_df.update(df_mid_ta)\n",
    "    massive_df = massive_df.ffill().astype('float32')\n",
    "    return massive_df, resampled_df"
   ]
  },
  {
   "cell_type": "code",
   "execution_count": null,
   "metadata": {
    "ExecuteTime": {
     "end_time": "2019-09-18T02:44:37.474922Z",
     "start_time": "2019-09-18T02:44:37.470926Z"
    }
   },
   "outputs": [],
   "source": [
    "massive_df, resampled_df = pd.DataFrame(), pd.DataFrame()"
   ]
  },
  {
   "cell_type": "code",
   "execution_count": null,
   "metadata": {
    "ExecuteTime": {
     "end_time": "2019-09-18T00:45:54.723668Z",
     "start_time": "2019-09-18T00:45:54.702671Z"
    }
   },
   "outputs": [],
   "source": [
    "def compute_cross_sectional(base_row):\n",
    "    df = pd.DataFrame([base_row])\n",
    "    df.columns = [*askRateList, *askSizeList, *bidRateList, *bidSizeList]\n",
    "\n",
    "    # Cross-sectional features\n",
    "    df['spread'] = df.askRate0 - df.bidRate0\n",
    "    df['midRate'] = (df.askRate0 + df.bidRate0) / 2\n",
    "    df['bidAskVol'] = df.askSize0 + df.bidSize0\n",
    "    df['totalBidVol1'] = df.bidSize0 + df.bidSize1\n",
    "    df['totalAskVol1'] = df.askSize0 + df.askSize1\n",
    "    for i in range(2,15):\n",
    "        df['totalBidVol' + str(i)] = df['totalBidVol' + str(i-1)] + df['bidSize' + str(i)]\n",
    "        df['totalAskVol' + str(i)] = df['totalAskVol' + str(i-1)] + df['askSize' + str(i)]\n",
    "    for i in range(1,15):\n",
    "        df['bidAskRatio' + str(i)] = df['totalBidVol' + str(i)] / df['totalAskVol' + str(i)]\n",
    "    df['totalAvailVol'] = df.totalBidVol14 + df.totalAskVol14\n",
    "    df['vwaBid'] = np.einsum('ij,ji->i', df[bidRateList], df[bidSizeList].T) / df[bidSizeList].sum(axis=1)\n",
    "    df['vwaAsk'] = np.einsum('ij,ji->i', df[askRateList], df[askSizeList].T) / df[askSizeList].sum(axis=1)\n",
    "    df['vwaBidDMid'] = df.midRate - df.vwaBid\n",
    "    df['vwaAskDMid'] = df.vwaAsk - df.midRate\n",
    "    df['diff_vwaBidAskDMid'] = df.vwaAskDMid - df.vwaBidDMid\n",
    "    return df"
   ]
  },
  {
   "cell_type": "code",
   "execution_count": null,
   "metadata": {
    "ExecuteTime": {
     "end_time": "2019-09-18T02:44:49.748429Z",
     "start_time": "2019-09-18T02:44:38.351308Z"
    }
   },
   "outputs": [],
   "source": [
    "for iteration in range(30):\n",
    "    base_row = get_next_data_as_numpy_array(len(massive_df))\n",
    "    row = compute_cross_sectional(base_row)\n",
    "    massive_df = append_to_df(massive_df, row)\n",
    "    massive_df, resampled_df = add_resample_features(massive_df, resampled_df)\n",
    "    massive_df = add_time_features(massive_df)\n",
    "    massive_df = add_manual_time_features(massive_df)"
   ]
  },
  {
   "cell_type": "code",
   "execution_count": null,
   "metadata": {
    "ExecuteTime": {
     "end_time": "2019-09-18T02:31:40.456053Z",
     "start_time": "2019-09-18T02:31:40.441056Z"
    }
   },
   "outputs": [],
   "source": [
    "def add_time_features(df):\n",
    "    b1, a1 = (df.bidRate0 < df.bidRate0.shift(1)), (df.askRate0 < df.askRate0.shift(1))\n",
    "    b2, a2 = (df.bidRate0 == df.bidRate0.shift(1)), (df.askRate0 == df.askRate0.shift(1))\n",
    "#     print(b1,a1,b2,a2)\n",
    "    valsB, valsA = [0, (df.bidSize0 - df.bidSize0.shift(1))], [0, (df.askSize0 - df.askSize0.shift(1))]\n",
    "    defaultB, defaultA = df.bidSize0, df.askSize0\n",
    "    df.fillna(0, inplace=True)    \n",
    "    df['deltaVBid'] = np.select([b1,b2], valsB, default=defaultB)\n",
    "    df['deltaVAsk'] = np.select([a1,a2], valsA, default=defaultA)\n",
    "    df['VOI'] = df.deltaVBid - df.deltaVAsk\n",
    "    df['OIR'] = (df.bidSize0 - df.askSize0)/(df.bidSize0 + df.askSize0)\n",
    "    return df"
   ]
  },
  {
   "cell_type": "code",
   "execution_count": null,
   "metadata": {
    "ExecuteTime": {
     "end_time": "2019-09-18T01:06:55.989315Z",
     "start_time": "2019-09-18T01:06:55.979317Z"
    }
   },
   "outputs": [],
   "source": [
    "def add_manual_time_features(df):\n",
    "    lags = [*np.arange(1,10), *np.arange(10,100,10), *np.arange(100,1000,100)]\n",
    "    def addTimeFeatures(i):\n",
    "        df['daskRate' + str(i)] = df.askRate0.diff(i)\n",
    "        df['dbidRate' + str(i)] = df.bidRate0.diff(i)\n",
    "    for i in lags:\n",
    "        addTimeFeatures(i)\n",
    "    df.fillna(0, inplace=True)\n",
    "    return df"
   ]
  },
  {
   "cell_type": "code",
   "execution_count": null,
   "metadata": {
    "ExecuteTime": {
     "end_time": "2019-09-18T02:44:54.878665Z",
     "start_time": "2019-09-18T02:44:54.466653Z"
    }
   },
   "outputs": [],
   "source": [
    "massive_df"
   ]
  },
  {
   "cell_type": "code",
   "execution_count": null,
   "metadata": {},
   "outputs": [],
   "source": [
    "massive_df = add_manual_time_features(massive_df)"
   ]
  }
 ],
 "metadata": {
  "kernelspec": {
   "display_name": "Python 3",
   "language": "python",
   "name": "python3"
  },
  "language_info": {
   "codemirror_mode": {
    "name": "ipython",
    "version": 3
   },
   "file_extension": ".py",
   "mimetype": "text/x-python",
   "name": "python",
   "nbconvert_exporter": "python",
   "pygments_lexer": "ipython3",
   "version": "3.6.9"
  }
 },
 "nbformat": 4,
 "nbformat_minor": 2
}
